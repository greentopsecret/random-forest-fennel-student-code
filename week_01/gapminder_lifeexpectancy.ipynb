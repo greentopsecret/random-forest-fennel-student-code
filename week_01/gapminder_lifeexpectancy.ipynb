{
 "cells": [
  {
   "cell_type": "markdown",
   "id": "1879a9f4",
   "metadata": {},
   "source": [
    "# Gapminder lifeexpectancy"
   ]
  },
  {
   "cell_type": "code",
   "execution_count": 1,
   "id": "51dfc284",
   "metadata": {},
   "outputs": [],
   "source": [
    "import pandas as pd"
   ]
  },
  {
   "cell_type": "code",
   "execution_count": 3,
   "id": "06833bc9",
   "metadata": {},
   "outputs": [],
   "source": [
    "lifeexp = pd.read_excel(\"./data/gapminder_lifeexpectancy.xlsx\")"
   ]
  },
  {
   "cell_type": "code",
   "execution_count": 4,
   "id": "87a9bb68",
   "metadata": {},
   "outputs": [],
   "source": [
    "lifeexp = lifeexp[[1950, 1975, 2000, 2015]]"
   ]
  },
  {
   "cell_type": "code",
   "execution_count": 13,
   "id": "a4b543c1",
   "metadata": {},
   "outputs": [
    {
     "data": {
      "image/png": "[encoded data removed]",
      "text/plain": [
       "<Figure size 432x288 with 1 Axes>"
      ]
     },
     "metadata": {
      "needs_background": "light"
     },
     "output_type": "display_data"
    }
   ],
   "source": [
    "import matplotlib.pyplot as plt\n",
    "\n",
    "lifeexp[2015].hist()\n",
    "\n",
    "plt.savefig('histo.png')"
   ]
  },
  {
   "cell_type": "code",
   "execution_count": 20,
   "id": "9937f14b",
   "metadata": {},
   "outputs": [
    {
     "data": {
      "text/plain": [
       "Index([1950.0, 1975.0, 2000.0, 2015.0], dtype='object')"
      ]
     },
     "execution_count": 20,
     "metadata": {},
     "output_type": "execute_result"
    }
   ],
   "source": [
    "lifeexp.columns"
   ]
  },
  {
   "cell_type": "code",
   "execution_count": 18,
   "id": "ce28d3ba",
   "metadata": {},
   "outputs": [
    {
     "data": {
      "text/html": [
       "<div>\n",
       "<style scoped>\n",
       "    .dataframe tbody tr th:only-of-type {\n",
       "        vertical-align: middle;\n",
       "    }\n",
       "\n",
       "    .dataframe tbody tr th {\n",
       "        vertical-align: top;\n",
       "    }\n",
       "\n",
       "    .dataframe thead th {\n",
       "        text-align: right;\n",
       "    }\n",
       "</style>\n",
       "<table border=\"1\" class=\"dataframe\">\n",
       "  <thead>\n",
       "    <tr style=\"text-align: right;\">\n",
       "      <th></th>\n",
       "      <th>1950.0</th>\n",
       "      <th>1975.0</th>\n",
       "      <th>2000.0</th>\n",
       "      <th>2015.0</th>\n",
       "    </tr>\n",
       "  </thead>\n",
       "  <tbody>\n",
       "    <tr>\n",
       "      <th>0</th>\n",
       "      <td>NaN</td>\n",
       "      <td>NaN</td>\n",
       "      <td>NaN</td>\n",
       "      <td>NaN</td>\n",
       "    </tr>\n",
       "    <tr>\n",
       "      <th>1</th>\n",
       "      <td>26.85</td>\n",
       "      <td>39.61</td>\n",
       "      <td>50.1</td>\n",
       "      <td>53.8</td>\n",
       "    </tr>\n",
       "    <tr>\n",
       "      <th>2</th>\n",
       "      <td>NaN</td>\n",
       "      <td>NaN</td>\n",
       "      <td>NaN</td>\n",
       "      <td>NaN</td>\n",
       "    </tr>\n",
       "    <tr>\n",
       "      <th>3</th>\n",
       "      <td>54.48</td>\n",
       "      <td>69.77</td>\n",
       "      <td>74.7</td>\n",
       "      <td>78.0</td>\n",
       "    </tr>\n",
       "    <tr>\n",
       "      <th>4</th>\n",
       "      <td>42.77</td>\n",
       "      <td>55.24</td>\n",
       "      <td>73.3</td>\n",
       "      <td>76.4</td>\n",
       "    </tr>\n",
       "  </tbody>\n",
       "</table>\n",
       "</div>"
      ],
      "text/plain": [
       "   1950.0  1975.0  2000.0  2015.0\n",
       "0     NaN     NaN     NaN     NaN\n",
       "1   26.85   39.61    50.1    53.8\n",
       "2     NaN     NaN     NaN     NaN\n",
       "3   54.48   69.77    74.7    78.0\n",
       "4   42.77   55.24    73.3    76.4"
      ]
     },
     "execution_count": 18,
     "metadata": {},
     "output_type": "execute_result"
    }
   ],
   "source": [
    "lifeexp.head()"
   ]
  },
  {
   "cell_type": "code",
   "execution_count": 38,
   "id": "d265858c",
   "metadata": {},
   "outputs": [
    {
     "data": {
      "image/png": "[encoded data removed]",
      "text/plain": [
       "<Figure size 432x288 with 1 Axes>"
      ]
     },
     "metadata": {
      "needs_background": "light"
     },
     "output_type": "display_data"
    }
   ],
   "source": [
    "plt.title('life expectancy - 2015')\n",
    "plt.xlabel('years')\n",
    "plt.ylabel('rows')\n",
    "\n",
    "# plt.axis([0.0, 100.0, 0.0, 150.0])\n",
    "\n",
    "lifeexp[2015].hist(bins=5)\n",
    "lifeexp[2015].hist(bins=10)\n",
    "lifeexp[2015].hist(bins=20)\n",
    "\n",
    "plt.savefig('histo-ext.png', dpi=150)"
   ]
  },
  {
   "cell_type": "code",
   "execution_count": 37,
   "id": "faba7a48",
   "metadata": {},
   "outputs": [
    {
     "data": {
      "text/plain": [
       "<AxesSubplot:>"
      ]
     },
     "execution_count": 37,
     "metadata": {},
     "output_type": "execute_result"
    },
    {
     "data": {
      "image/png": "[encoded data removed]",
      "text/plain": [
       "<Figure size 432x288 with 1 Axes>"
      ]
     },
     "metadata": {
      "needs_background": "light"
     },
     "output_type": "display_data"
    }
   ],
   "source": [
    "lifeexp[2015].hist(bins=20, facecolor='#ff0000',\n",
    "alpha=0.75,\n",
    "histtype='bar')"
   ]
  }
 ],
 "metadata": {
  "kernelspec": {
   "display_name": "Python 3 (ipykernel)",
   "language": "python",
   "name": "python3"
  },
  "language_info": {
   "codemirror_mode": {
    "name": "ipython",
    "version": 3
   },
   "file_extension": ".py",
   "mimetype": "text/x-python",
   "name": "python",
   "nbconvert_exporter": "python",
   "pygments_lexer": "ipython3",
   "version": "3.8.8"
  }
 },
 "nbformat": 4,
 "nbformat_minor": 5
}
