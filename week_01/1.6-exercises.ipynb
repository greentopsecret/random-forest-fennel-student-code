{
 "cells": [
  {
   "cell_type": "code",
   "execution_count": 18,
   "id": "acbd09df",
   "metadata": {},
   "outputs": [],
   "source": [
    "import pandas as pd"
   ]
  },
  {
   "cell_type": "code",
   "execution_count": 13,
   "id": "e2d56280",
   "metadata": {},
   "outputs": [],
   "source": [
    "def mean(x):\n",
    "    sum = 0\n",
    "    cnt = 0\n",
    "    for val in x:\n",
    "        sum+= val\n",
    "        cnt = cnt+1\n",
    "    return sum / cnt"
   ]
  },
  {
   "cell_type": "code",
   "execution_count": 9,
   "id": "68f63ffb",
   "metadata": {},
   "outputs": [],
   "source": [
    "x = [2, 3, 4, 3, 5, 3, 1]"
   ]
  },
  {
   "cell_type": "code",
   "execution_count": 14,
   "id": "b9843c36",
   "metadata": {},
   "outputs": [],
   "source": [
    "result = mean(x)"
   ]
  },
  {
   "cell_type": "code",
   "execution_count": 17,
   "id": "263cbd82",
   "metadata": {},
   "outputs": [],
   "source": [
    "assert result == pd.Series(x).mean()"
   ]
  },
  {
   "cell_type": "code",
   "execution_count": null,
   "id": "cb171b83",
   "metadata": {},
   "outputs": [],
   "source": [
    "import seaborn as sns\n",
    "\n",
    "tips = sns.load_dataset('tips')\n",
    "tips.head()\n",
    "\n",
    "# total relative frequencies"
   ]
  },
  {
   "cell_type": "code",
   "execution_count": null,
   "id": "29a7274a",
   "metadata": {},
   "outputs": [],
   "source": [
    "pd.crosstab(tips['sex'], tips['day'], normalize='all', margins=True)\n",
    "\n",
    "# row-wise relative frequencies"
   ]
  },
  {
   "cell_type": "code",
   "execution_count": null,
   "id": "68908e4c",
   "metadata": {},
   "outputs": [],
   "source": [
    "import pandas as pd\n",
    "import seaborn as sns"
   ]
  },
  {
   "cell_type": "code",
   "execution_count": 23,
   "id": "30c818b4",
   "metadata": {},
   "outputs": [
    {
     "data": {
      "text/html": [
       "<div>\n",
       "<style scoped>\n",
       "    .dataframe tbody tr th:only-of-type {\n",
       "        vertical-align: middle;\n",
       "    }\n",
       "\n",
       "    .dataframe tbody tr th {\n",
       "        vertical-align: top;\n",
       "    }\n",
       "\n",
       "    .dataframe thead th {\n",
       "        text-align: right;\n",
       "    }\n",
       "</style>\n",
       "<table border=\"1\" class=\"dataframe\">\n",
       "  <thead>\n",
       "    <tr style=\"text-align: right;\">\n",
       "      <th></th>\n",
       "      <th>total_bill</th>\n",
       "      <th>tip</th>\n",
       "      <th>sex</th>\n",
       "      <th>smoker</th>\n",
       "      <th>day</th>\n",
       "      <th>time</th>\n",
       "      <th>size</th>\n",
       "    </tr>\n",
       "  </thead>\n",
       "  <tbody>\n",
       "    <tr>\n",
       "      <th>0</th>\n",
       "      <td>16.99</td>\n",
       "      <td>1.01</td>\n",
       "      <td>Female</td>\n",
       "      <td>No</td>\n",
       "      <td>Sun</td>\n",
       "      <td>Dinner</td>\n",
       "      <td>2</td>\n",
       "    </tr>\n",
       "    <tr>\n",
       "      <th>1</th>\n",
       "      <td>10.34</td>\n",
       "      <td>1.66</td>\n",
       "      <td>Male</td>\n",
       "      <td>No</td>\n",
       "      <td>Sun</td>\n",
       "      <td>Dinner</td>\n",
       "      <td>3</td>\n",
       "    </tr>\n",
       "    <tr>\n",
       "      <th>2</th>\n",
       "      <td>21.01</td>\n",
       "      <td>3.50</td>\n",
       "      <td>Male</td>\n",
       "      <td>No</td>\n",
       "      <td>Sun</td>\n",
       "      <td>Dinner</td>\n",
       "      <td>3</td>\n",
       "    </tr>\n",
       "    <tr>\n",
       "      <th>3</th>\n",
       "      <td>23.68</td>\n",
       "      <td>3.31</td>\n",
       "      <td>Male</td>\n",
       "      <td>No</td>\n",
       "      <td>Sun</td>\n",
       "      <td>Dinner</td>\n",
       "      <td>2</td>\n",
       "    </tr>\n",
       "    <tr>\n",
       "      <th>4</th>\n",
       "      <td>24.59</td>\n",
       "      <td>3.61</td>\n",
       "      <td>Female</td>\n",
       "      <td>No</td>\n",
       "      <td>Sun</td>\n",
       "      <td>Dinner</td>\n",
       "      <td>4</td>\n",
       "    </tr>\n",
       "  </tbody>\n",
       "</table>\n",
       "</div>"
      ],
      "text/plain": [
       "   total_bill   tip     sex smoker  day    time  size\n",
       "0       16.99  1.01  Female     No  Sun  Dinner     2\n",
       "1       10.34  1.66    Male     No  Sun  Dinner     3\n",
       "2       21.01  3.50    Male     No  Sun  Dinner     3\n",
       "3       23.68  3.31    Male     No  Sun  Dinner     2\n",
       "4       24.59  3.61  Female     No  Sun  Dinner     4"
      ]
     },
     "execution_count": 23,
     "metadata": {},
     "output_type": "execute_result"
    }
   ],
   "source": [
    "tips = sns.load_dataset('tips')\n",
    "tips.head()"
   ]
  },
  {
   "cell_type": "code",
   "execution_count": 24,
   "id": "260c3fa6",
   "metadata": {},
   "outputs": [
    {
     "data": {
      "text/html": [
       "<div>\n",
       "<style scoped>\n",
       "    .dataframe tbody tr th:only-of-type {\n",
       "        vertical-align: middle;\n",
       "    }\n",
       "\n",
       "    .dataframe tbody tr th {\n",
       "        vertical-align: top;\n",
       "    }\n",
       "\n",
       "    .dataframe thead th {\n",
       "        text-align: right;\n",
       "    }\n",
       "</style>\n",
       "<table border=\"1\" class=\"dataframe\">\n",
       "  <thead>\n",
       "    <tr style=\"text-align: right;\">\n",
       "      <th></th>\n",
       "      <th>total_bill</th>\n",
       "      <th>tip</th>\n",
       "      <th>sex</th>\n",
       "      <th>smoker</th>\n",
       "      <th>day</th>\n",
       "      <th>time</th>\n",
       "      <th>size</th>\n",
       "    </tr>\n",
       "  </thead>\n",
       "  <tbody>\n",
       "    <tr>\n",
       "      <th>0</th>\n",
       "      <td>16.99</td>\n",
       "      <td>1.01</td>\n",
       "      <td>Female</td>\n",
       "      <td>No</td>\n",
       "      <td>Sun</td>\n",
       "      <td>Dinner</td>\n",
       "      <td>2</td>\n",
       "    </tr>\n",
       "    <tr>\n",
       "      <th>1</th>\n",
       "      <td>10.34</td>\n",
       "      <td>1.66</td>\n",
       "      <td>Male</td>\n",
       "      <td>No</td>\n",
       "      <td>Sun</td>\n",
       "      <td>Dinner</td>\n",
       "      <td>3</td>\n",
       "    </tr>\n",
       "    <tr>\n",
       "      <th>2</th>\n",
       "      <td>21.01</td>\n",
       "      <td>3.50</td>\n",
       "      <td>Male</td>\n",
       "      <td>No</td>\n",
       "      <td>Sun</td>\n",
       "      <td>Dinner</td>\n",
       "      <td>3</td>\n",
       "    </tr>\n",
       "    <tr>\n",
       "      <th>3</th>\n",
       "      <td>23.68</td>\n",
       "      <td>3.31</td>\n",
       "      <td>Male</td>\n",
       "      <td>No</td>\n",
       "      <td>Sun</td>\n",
       "      <td>Dinner</td>\n",
       "      <td>2</td>\n",
       "    </tr>\n",
       "    <tr>\n",
       "      <th>4</th>\n",
       "      <td>24.59</td>\n",
       "      <td>3.61</td>\n",
       "      <td>Female</td>\n",
       "      <td>No</td>\n",
       "      <td>Sun</td>\n",
       "      <td>Dinner</td>\n",
       "      <td>4</td>\n",
       "    </tr>\n",
       "    <tr>\n",
       "      <th>...</th>\n",
       "      <td>...</td>\n",
       "      <td>...</td>\n",
       "      <td>...</td>\n",
       "      <td>...</td>\n",
       "      <td>...</td>\n",
       "      <td>...</td>\n",
       "      <td>...</td>\n",
       "    </tr>\n",
       "    <tr>\n",
       "      <th>239</th>\n",
       "      <td>29.03</td>\n",
       "      <td>5.92</td>\n",
       "      <td>Male</td>\n",
       "      <td>No</td>\n",
       "      <td>Sat</td>\n",
       "      <td>Dinner</td>\n",
       "      <td>3</td>\n",
       "    </tr>\n",
       "    <tr>\n",
       "      <th>240</th>\n",
       "      <td>27.18</td>\n",
       "      <td>2.00</td>\n",
       "      <td>Female</td>\n",
       "      <td>Yes</td>\n",
       "      <td>Sat</td>\n",
       "      <td>Dinner</td>\n",
       "      <td>2</td>\n",
       "    </tr>\n",
       "    <tr>\n",
       "      <th>241</th>\n",
       "      <td>22.67</td>\n",
       "      <td>2.00</td>\n",
       "      <td>Male</td>\n",
       "      <td>Yes</td>\n",
       "      <td>Sat</td>\n",
       "      <td>Dinner</td>\n",
       "      <td>2</td>\n",
       "    </tr>\n",
       "    <tr>\n",
       "      <th>242</th>\n",
       "      <td>17.82</td>\n",
       "      <td>1.75</td>\n",
       "      <td>Male</td>\n",
       "      <td>No</td>\n",
       "      <td>Sat</td>\n",
       "      <td>Dinner</td>\n",
       "      <td>2</td>\n",
       "    </tr>\n",
       "    <tr>\n",
       "      <th>243</th>\n",
       "      <td>18.78</td>\n",
       "      <td>3.00</td>\n",
       "      <td>Female</td>\n",
       "      <td>No</td>\n",
       "      <td>Thur</td>\n",
       "      <td>Dinner</td>\n",
       "      <td>2</td>\n",
       "    </tr>\n",
       "  </tbody>\n",
       "</table>\n",
       "<p>244 rows × 7 columns</p>\n",
       "</div>"
      ],
      "text/plain": [
       "     total_bill   tip     sex smoker   day    time  size\n",
       "0         16.99  1.01  Female     No   Sun  Dinner     2\n",
       "1         10.34  1.66    Male     No   Sun  Dinner     3\n",
       "2         21.01  3.50    Male     No   Sun  Dinner     3\n",
       "3         23.68  3.31    Male     No   Sun  Dinner     2\n",
       "4         24.59  3.61  Female     No   Sun  Dinner     4\n",
       "..          ...   ...     ...    ...   ...     ...   ...\n",
       "239       29.03  5.92    Male     No   Sat  Dinner     3\n",
       "240       27.18  2.00  Female    Yes   Sat  Dinner     2\n",
       "241       22.67  2.00    Male    Yes   Sat  Dinner     2\n",
       "242       17.82  1.75    Male     No   Sat  Dinner     2\n",
       "243       18.78  3.00  Female     No  Thur  Dinner     2\n",
       "\n",
       "[244 rows x 7 columns]"
      ]
     },
     "execution_count": 24,
     "metadata": {},
     "output_type": "execute_result"
    }
   ],
   "source": [
    "tips"
   ]
  },
  {
   "cell_type": "code",
   "execution_count": 21,
   "id": "c14afc44",
   "metadata": {},
   "outputs": [
    {
     "data": {
      "text/html": [
       "<div>\n",
       "<style scoped>\n",
       "    .dataframe tbody tr th:only-of-type {\n",
       "        vertical-align: middle;\n",
       "    }\n",
       "\n",
       "    .dataframe tbody tr th {\n",
       "        vertical-align: top;\n",
       "    }\n",
       "\n",
       "    .dataframe thead th {\n",
       "        text-align: right;\n",
       "    }\n",
       "</style>\n",
       "<table border=\"1\" class=\"dataframe\">\n",
       "  <thead>\n",
       "    <tr style=\"text-align: right;\">\n",
       "      <th>day</th>\n",
       "      <th>Thur</th>\n",
       "      <th>Fri</th>\n",
       "      <th>Sat</th>\n",
       "      <th>Sun</th>\n",
       "      <th>All</th>\n",
       "    </tr>\n",
       "    <tr>\n",
       "      <th>sex</th>\n",
       "      <th></th>\n",
       "      <th></th>\n",
       "      <th></th>\n",
       "      <th></th>\n",
       "      <th></th>\n",
       "    </tr>\n",
       "  </thead>\n",
       "  <tbody>\n",
       "    <tr>\n",
       "      <th>Male</th>\n",
       "      <td>0.122951</td>\n",
       "      <td>0.040984</td>\n",
       "      <td>0.241803</td>\n",
       "      <td>0.237705</td>\n",
       "      <td>0.643443</td>\n",
       "    </tr>\n",
       "    <tr>\n",
       "      <th>Female</th>\n",
       "      <td>0.131148</td>\n",
       "      <td>0.036885</td>\n",
       "      <td>0.114754</td>\n",
       "      <td>0.073770</td>\n",
       "      <td>0.356557</td>\n",
       "    </tr>\n",
       "    <tr>\n",
       "      <th>All</th>\n",
       "      <td>0.254098</td>\n",
       "      <td>0.077869</td>\n",
       "      <td>0.356557</td>\n",
       "      <td>0.311475</td>\n",
       "      <td>1.000000</td>\n",
       "    </tr>\n",
       "  </tbody>\n",
       "</table>\n",
       "</div>"
      ],
      "text/plain": [
       "day         Thur       Fri       Sat       Sun       All\n",
       "sex                                                     \n",
       "Male    0.122951  0.040984  0.241803  0.237705  0.643443\n",
       "Female  0.131148  0.036885  0.114754  0.073770  0.356557\n",
       "All     0.254098  0.077869  0.356557  0.311475  1.000000"
      ]
     },
     "execution_count": 21,
     "metadata": {},
     "output_type": "execute_result"
    }
   ],
   "source": [
    "# total relative frequencies\n",
    "pd.crosstab(tips['sex'], tips['day'], normalize='all', margins=True)"
   ]
  },
  {
   "cell_type": "code",
   "execution_count": 22,
   "id": "d6e2e7ba",
   "metadata": {},
   "outputs": [
    {
     "data": {
      "text/html": [
       "<div>\n",
       "<style scoped>\n",
       "    .dataframe tbody tr th:only-of-type {\n",
       "        vertical-align: middle;\n",
       "    }\n",
       "\n",
       "    .dataframe tbody tr th {\n",
       "        vertical-align: top;\n",
       "    }\n",
       "\n",
       "    .dataframe thead th {\n",
       "        text-align: right;\n",
       "    }\n",
       "</style>\n",
       "<table border=\"1\" class=\"dataframe\">\n",
       "  <thead>\n",
       "    <tr style=\"text-align: right;\">\n",
       "      <th>day</th>\n",
       "      <th>Thur</th>\n",
       "      <th>Fri</th>\n",
       "      <th>Sat</th>\n",
       "      <th>Sun</th>\n",
       "      <th>All</th>\n",
       "    </tr>\n",
       "    <tr>\n",
       "      <th>sex</th>\n",
       "      <th></th>\n",
       "      <th></th>\n",
       "      <th></th>\n",
       "      <th></th>\n",
       "      <th></th>\n",
       "    </tr>\n",
       "  </thead>\n",
       "  <tbody>\n",
       "    <tr>\n",
       "      <th>Male</th>\n",
       "      <td>0.483871</td>\n",
       "      <td>0.526316</td>\n",
       "      <td>0.678161</td>\n",
       "      <td>0.763158</td>\n",
       "      <td>0.643443</td>\n",
       "    </tr>\n",
       "    <tr>\n",
       "      <th>Female</th>\n",
       "      <td>0.516129</td>\n",
       "      <td>0.473684</td>\n",
       "      <td>0.321839</td>\n",
       "      <td>0.236842</td>\n",
       "      <td>0.356557</td>\n",
       "    </tr>\n",
       "  </tbody>\n",
       "</table>\n",
       "</div>"
      ],
      "text/plain": [
       "day         Thur       Fri       Sat       Sun       All\n",
       "sex                                                     \n",
       "Male    0.483871  0.526316  0.678161  0.763158  0.643443\n",
       "Female  0.516129  0.473684  0.321839  0.236842  0.356557"
      ]
     },
     "execution_count": 22,
     "metadata": {},
     "output_type": "execute_result"
    }
   ],
   "source": [
    "# row-wise relative frequencies\n",
    "pd.crosstab(tips['sex'], tips['day'], normalize=1, margins=True)"
   ]
  },
  {
   "cell_type": "markdown",
   "id": "2d177453",
   "metadata": {},
   "source": [
    "# Challenge"
   ]
  },
  {
   "cell_type": "code",
   "execution_count": 19,
   "id": "58d17a1a",
   "metadata": {},
   "outputs": [
    {
     "data": {
      "text/html": [
       "<div>\n",
       "<style scoped>\n",
       "    .dataframe tbody tr th:only-of-type {\n",
       "        vertical-align: middle;\n",
       "    }\n",
       "\n",
       "    .dataframe tbody tr th {\n",
       "        vertical-align: top;\n",
       "    }\n",
       "\n",
       "    .dataframe thead th {\n",
       "        text-align: right;\n",
       "    }\n",
       "</style>\n",
       "<table border=\"1\" class=\"dataframe\">\n",
       "  <thead>\n",
       "    <tr style=\"text-align: right;\">\n",
       "      <th>day</th>\n",
       "      <th>Thur</th>\n",
       "      <th>Fri</th>\n",
       "      <th>Sat</th>\n",
       "      <th>Sun</th>\n",
       "    </tr>\n",
       "    <tr>\n",
       "      <th>sex</th>\n",
       "      <th></th>\n",
       "      <th></th>\n",
       "      <th></th>\n",
       "      <th></th>\n",
       "    </tr>\n",
       "  </thead>\n",
       "  <tbody>\n",
       "    <tr>\n",
       "      <th>Male</th>\n",
       "      <td>0.191083</td>\n",
       "      <td>0.063694</td>\n",
       "      <td>0.375796</td>\n",
       "      <td>0.369427</td>\n",
       "    </tr>\n",
       "    <tr>\n",
       "      <th>Female</th>\n",
       "      <td>0.367816</td>\n",
       "      <td>0.103448</td>\n",
       "      <td>0.321839</td>\n",
       "      <td>0.206897</td>\n",
       "    </tr>\n",
       "    <tr>\n",
       "      <th>All</th>\n",
       "      <td>0.254098</td>\n",
       "      <td>0.077869</td>\n",
       "      <td>0.356557</td>\n",
       "      <td>0.311475</td>\n",
       "    </tr>\n",
       "  </tbody>\n",
       "</table>\n",
       "</div>"
      ],
      "text/plain": [
       "day         Thur       Fri       Sat       Sun\n",
       "sex                                           \n",
       "Male    0.191083  0.063694  0.375796  0.369427\n",
       "Female  0.367816  0.103448  0.321839  0.206897\n",
       "All     0.254098  0.077869  0.356557  0.311475"
      ]
     },
     "execution_count": 19,
     "metadata": {},
     "output_type": "execute_result"
    }
   ],
   "source": [
    "# column-wise relative frequencies\n",
    "pd.crosstab(tips['sex'], tips['day'], normalize=0, margins=True)"
   ]
  },
  {
   "cell_type": "code",
   "execution_count": 30,
   "id": "91016562",
   "metadata": {},
   "outputs": [
    {
     "data": {
      "text/html": [
       "<div>\n",
       "<style scoped>\n",
       "    .dataframe tbody tr th:only-of-type {\n",
       "        vertical-align: middle;\n",
       "    }\n",
       "\n",
       "    .dataframe tbody tr th {\n",
       "        vertical-align: top;\n",
       "    }\n",
       "\n",
       "    .dataframe thead th {\n",
       "        text-align: right;\n",
       "    }\n",
       "</style>\n",
       "<table border=\"1\" class=\"dataframe\">\n",
       "  <thead>\n",
       "    <tr style=\"text-align: right;\">\n",
       "      <th></th>\n",
       "      <th>Species</th>\n",
       "      <th>Culmen Length (mm)</th>\n",
       "      <th>Culmen Depth (mm)</th>\n",
       "      <th>Flipper Length (mm)</th>\n",
       "      <th>Body Mass (g)</th>\n",
       "      <th>Sex</th>\n",
       "    </tr>\n",
       "  </thead>\n",
       "  <tbody>\n",
       "    <tr>\n",
       "      <th>0</th>\n",
       "      <td>Adelie</td>\n",
       "      <td>39.1</td>\n",
       "      <td>18.7</td>\n",
       "      <td>181.0</td>\n",
       "      <td>3750.0</td>\n",
       "      <td>MALE</td>\n",
       "    </tr>\n",
       "    <tr>\n",
       "      <th>1</th>\n",
       "      <td>Adelie</td>\n",
       "      <td>39.5</td>\n",
       "      <td>17.4</td>\n",
       "      <td>186.0</td>\n",
       "      <td>3800.0</td>\n",
       "      <td>FEMALE</td>\n",
       "    </tr>\n",
       "    <tr>\n",
       "      <th>2</th>\n",
       "      <td>Adelie</td>\n",
       "      <td>40.3</td>\n",
       "      <td>18.0</td>\n",
       "      <td>195.0</td>\n",
       "      <td>3250.0</td>\n",
       "      <td>FEMALE</td>\n",
       "    </tr>\n",
       "    <tr>\n",
       "      <th>3</th>\n",
       "      <td>Adelie</td>\n",
       "      <td>36.7</td>\n",
       "      <td>19.3</td>\n",
       "      <td>193.0</td>\n",
       "      <td>3450.0</td>\n",
       "      <td>FEMALE</td>\n",
       "    </tr>\n",
       "    <tr>\n",
       "      <th>4</th>\n",
       "      <td>Adelie</td>\n",
       "      <td>39.3</td>\n",
       "      <td>20.6</td>\n",
       "      <td>190.0</td>\n",
       "      <td>3650.0</td>\n",
       "      <td>MALE</td>\n",
       "    </tr>\n",
       "    <tr>\n",
       "      <th>...</th>\n",
       "      <td>...</td>\n",
       "      <td>...</td>\n",
       "      <td>...</td>\n",
       "      <td>...</td>\n",
       "      <td>...</td>\n",
       "      <td>...</td>\n",
       "    </tr>\n",
       "    <tr>\n",
       "      <th>141</th>\n",
       "      <td>Adelie</td>\n",
       "      <td>36.6</td>\n",
       "      <td>18.4</td>\n",
       "      <td>184.0</td>\n",
       "      <td>3475.0</td>\n",
       "      <td>FEMALE</td>\n",
       "    </tr>\n",
       "    <tr>\n",
       "      <th>142</th>\n",
       "      <td>Adelie</td>\n",
       "      <td>36.0</td>\n",
       "      <td>17.8</td>\n",
       "      <td>195.0</td>\n",
       "      <td>3450.0</td>\n",
       "      <td>FEMALE</td>\n",
       "    </tr>\n",
       "    <tr>\n",
       "      <th>143</th>\n",
       "      <td>Adelie</td>\n",
       "      <td>37.8</td>\n",
       "      <td>18.1</td>\n",
       "      <td>193.0</td>\n",
       "      <td>3750.0</td>\n",
       "      <td>MALE</td>\n",
       "    </tr>\n",
       "    <tr>\n",
       "      <th>144</th>\n",
       "      <td>Adelie</td>\n",
       "      <td>36.0</td>\n",
       "      <td>17.1</td>\n",
       "      <td>187.0</td>\n",
       "      <td>3700.0</td>\n",
       "      <td>FEMALE</td>\n",
       "    </tr>\n",
       "    <tr>\n",
       "      <th>145</th>\n",
       "      <td>Adelie</td>\n",
       "      <td>41.5</td>\n",
       "      <td>18.5</td>\n",
       "      <td>201.0</td>\n",
       "      <td>4000.0</td>\n",
       "      <td>MALE</td>\n",
       "    </tr>\n",
       "  </tbody>\n",
       "</table>\n",
       "<p>146 rows × 6 columns</p>\n",
       "</div>"
      ],
      "text/plain": [
       "    Species  Culmen Length (mm)  Culmen Depth (mm)  Flipper Length (mm)  \\\n",
       "0    Adelie                39.1               18.7                181.0   \n",
       "1    Adelie                39.5               17.4                186.0   \n",
       "2    Adelie                40.3               18.0                195.0   \n",
       "3    Adelie                36.7               19.3                193.0   \n",
       "4    Adelie                39.3               20.6                190.0   \n",
       "..      ...                 ...                ...                  ...   \n",
       "141  Adelie                36.6               18.4                184.0   \n",
       "142  Adelie                36.0               17.8                195.0   \n",
       "143  Adelie                37.8               18.1                193.0   \n",
       "144  Adelie                36.0               17.1                187.0   \n",
       "145  Adelie                41.5               18.5                201.0   \n",
       "\n",
       "     Body Mass (g)     Sex  \n",
       "0           3750.0    MALE  \n",
       "1           3800.0  FEMALE  \n",
       "2           3250.0  FEMALE  \n",
       "3           3450.0  FEMALE  \n",
       "4           3650.0    MALE  \n",
       "..             ...     ...  \n",
       "141         3475.0  FEMALE  \n",
       "142         3450.0  FEMALE  \n",
       "143         3750.0    MALE  \n",
       "144         3700.0  FEMALE  \n",
       "145         4000.0    MALE  \n",
       "\n",
       "[146 rows x 6 columns]"
      ]
     },
     "execution_count": 30,
     "metadata": {},
     "output_type": "execute_result"
    }
   ],
   "source": [
    "penguins = pd.read_csv(\"./data/penguins_simple.csv\", delimiter=\";\")\n",
    "penguins[penguins['Species'] == \"Adelie\"]"
   ]
  },
  {
   "cell_type": "code",
   "execution_count": 29,
   "id": "278b06a3",
   "metadata": {},
   "outputs": [
    {
     "data": {
      "text/html": [
       "<div>\n",
       "<style scoped>\n",
       "    .dataframe tbody tr th:only-of-type {\n",
       "        vertical-align: middle;\n",
       "    }\n",
       "\n",
       "    .dataframe tbody tr th {\n",
       "        vertical-align: top;\n",
       "    }\n",
       "\n",
       "    .dataframe thead th {\n",
       "        text-align: right;\n",
       "    }\n",
       "</style>\n",
       "<table border=\"1\" class=\"dataframe\">\n",
       "  <thead>\n",
       "    <tr style=\"text-align: right;\">\n",
       "      <th></th>\n",
       "      <th>Culmen Length (mm)</th>\n",
       "      <th>Culmen Depth (mm)</th>\n",
       "      <th>Flipper Length (mm)</th>\n",
       "      <th>Body Mass (g)</th>\n",
       "    </tr>\n",
       "  </thead>\n",
       "  <tbody>\n",
       "    <tr>\n",
       "      <th>count</th>\n",
       "      <td>146.000000</td>\n",
       "      <td>146.000000</td>\n",
       "      <td>146.000000</td>\n",
       "      <td>146.000000</td>\n",
       "    </tr>\n",
       "    <tr>\n",
       "      <th>mean</th>\n",
       "      <td>38.823973</td>\n",
       "      <td>18.347260</td>\n",
       "      <td>190.102740</td>\n",
       "      <td>3706.164384</td>\n",
       "    </tr>\n",
       "    <tr>\n",
       "      <th>std</th>\n",
       "      <td>2.662597</td>\n",
       "      <td>1.219338</td>\n",
       "      <td>6.521825</td>\n",
       "      <td>458.620135</td>\n",
       "    </tr>\n",
       "    <tr>\n",
       "      <th>min</th>\n",
       "      <td>32.100000</td>\n",
       "      <td>15.500000</td>\n",
       "      <td>172.000000</td>\n",
       "      <td>2850.000000</td>\n",
       "    </tr>\n",
       "    <tr>\n",
       "      <th>25%</th>\n",
       "      <td>36.725000</td>\n",
       "      <td>17.500000</td>\n",
       "      <td>186.000000</td>\n",
       "      <td>3362.500000</td>\n",
       "    </tr>\n",
       "    <tr>\n",
       "      <th>50%</th>\n",
       "      <td>38.850000</td>\n",
       "      <td>18.400000</td>\n",
       "      <td>190.000000</td>\n",
       "      <td>3700.000000</td>\n",
       "    </tr>\n",
       "    <tr>\n",
       "      <th>75%</th>\n",
       "      <td>40.775000</td>\n",
       "      <td>19.000000</td>\n",
       "      <td>195.000000</td>\n",
       "      <td>4000.000000</td>\n",
       "    </tr>\n",
       "    <tr>\n",
       "      <th>max</th>\n",
       "      <td>46.000000</td>\n",
       "      <td>21.500000</td>\n",
       "      <td>210.000000</td>\n",
       "      <td>4775.000000</td>\n",
       "    </tr>\n",
       "  </tbody>\n",
       "</table>\n",
       "</div>"
      ],
      "text/plain": [
       "       Culmen Length (mm)  Culmen Depth (mm)  Flipper Length (mm)  \\\n",
       "count          146.000000         146.000000           146.000000   \n",
       "mean            38.823973          18.347260           190.102740   \n",
       "std              2.662597           1.219338             6.521825   \n",
       "min             32.100000          15.500000           172.000000   \n",
       "25%             36.725000          17.500000           186.000000   \n",
       "50%             38.850000          18.400000           190.000000   \n",
       "75%             40.775000          19.000000           195.000000   \n",
       "max             46.000000          21.500000           210.000000   \n",
       "\n",
       "       Body Mass (g)  \n",
       "count     146.000000  \n",
       "mean     3706.164384  \n",
       "std       458.620135  \n",
       "min      2850.000000  \n",
       "25%      3362.500000  \n",
       "50%      3700.000000  \n",
       "75%      4000.000000  \n",
       "max      4775.000000  "
      ]
     },
     "execution_count": 29,
     "metadata": {},
     "output_type": "execute_result"
    }
   ],
   "source": [
    "penguins[penguins['Species'] == \"Adelie\"].describe()"
   ]
  },
  {
   "cell_type": "code",
   "execution_count": 32,
   "id": "120388ae",
   "metadata": {},
   "outputs": [
    {
     "data": {
      "text/html": [
       "<div>\n",
       "<style scoped>\n",
       "    .dataframe tbody tr th:only-of-type {\n",
       "        vertical-align: middle;\n",
       "    }\n",
       "\n",
       "    .dataframe tbody tr th {\n",
       "        vertical-align: top;\n",
       "    }\n",
       "\n",
       "    .dataframe thead th {\n",
       "        text-align: right;\n",
       "    }\n",
       "</style>\n",
       "<table border=\"1\" class=\"dataframe\">\n",
       "  <thead>\n",
       "    <tr style=\"text-align: right;\">\n",
       "      <th></th>\n",
       "      <th>Culmen Length (mm)</th>\n",
       "      <th>Culmen Depth (mm)</th>\n",
       "      <th>Flipper Length (mm)</th>\n",
       "      <th>Body Mass (g)</th>\n",
       "    </tr>\n",
       "  </thead>\n",
       "  <tbody>\n",
       "    <tr>\n",
       "      <th>Culmen Length (mm)</th>\n",
       "      <td>1.000000</td>\n",
       "      <td>0.385813</td>\n",
       "      <td>0.332274</td>\n",
       "      <td>0.544276</td>\n",
       "    </tr>\n",
       "    <tr>\n",
       "      <th>Culmen Depth (mm)</th>\n",
       "      <td>0.385813</td>\n",
       "      <td>1.000000</td>\n",
       "      <td>0.310897</td>\n",
       "      <td>0.580156</td>\n",
       "    </tr>\n",
       "    <tr>\n",
       "      <th>Flipper Length (mm)</th>\n",
       "      <td>0.332274</td>\n",
       "      <td>0.310897</td>\n",
       "      <td>1.000000</td>\n",
       "      <td>0.464854</td>\n",
       "    </tr>\n",
       "    <tr>\n",
       "      <th>Body Mass (g)</th>\n",
       "      <td>0.544276</td>\n",
       "      <td>0.580156</td>\n",
       "      <td>0.464854</td>\n",
       "      <td>1.000000</td>\n",
       "    </tr>\n",
       "  </tbody>\n",
       "</table>\n",
       "</div>"
      ],
      "text/plain": [
       "                     Culmen Length (mm)  Culmen Depth (mm)  \\\n",
       "Culmen Length (mm)             1.000000           0.385813   \n",
       "Culmen Depth (mm)              0.385813           1.000000   \n",
       "Flipper Length (mm)            0.332274           0.310897   \n",
       "Body Mass (g)                  0.544276           0.580156   \n",
       "\n",
       "                     Flipper Length (mm)  Body Mass (g)  \n",
       "Culmen Length (mm)              0.332274       0.544276  \n",
       "Culmen Depth (mm)               0.310897       0.580156  \n",
       "Flipper Length (mm)             1.000000       0.464854  \n",
       "Body Mass (g)                   0.464854       1.000000  "
      ]
     },
     "execution_count": 32,
     "metadata": {},
     "output_type": "execute_result"
    }
   ],
   "source": [
    "penguins[penguins['Species'] == \"Adelie\"].corr()"
   ]
  },
  {
   "cell_type": "code",
   "execution_count": 38,
   "id": "d5bba91f",
   "metadata": {},
   "outputs": [
    {
     "data": {
      "text/plain": [
       "Adelie       146\n",
       "Gentoo       119\n",
       "Chinstrap     68\n",
       "Name: Species, dtype: int64"
      ]
     },
     "execution_count": 38,
     "metadata": {},
     "output_type": "execute_result"
    }
   ],
   "source": [
    "penguins['Species'].value_counts()"
   ]
  },
  {
   "cell_type": "markdown",
   "id": "7cb4ae4c",
   "metadata": {},
   "source": [
    "# Solve with one-liners"
   ]
  },
  {
   "cell_type": "code",
   "execution_count": 46,
   "id": "1d802e71",
   "metadata": {},
   "outputs": [
    {
     "data": {
      "text/plain": [
       "Life expectancy\n",
       "Afghanistan              31.94\n",
       "Albania                  62.87\n",
       "Algeria                  47.50\n",
       "Angola                   35.98\n",
       "Antigua and Barbuda      62.97\n",
       "                         ...  \n",
       "Virgin Islands (U.S.)    63.75\n",
       "Yemen                    32.64\n",
       "Zambia                   48.34\n",
       "Zimbabwe                 53.11\n",
       "South Sudan              34.61\n",
       "Name: 1960.0, Length: 202, dtype: float64"
      ]
     },
     "execution_count": 46,
     "metadata": {},
     "output_type": "execute_result"
    }
   ],
   "source": [
    "# 1. read the file into pandas\n",
    "import pandas as pd\n",
    "\n",
    "df = pd.read_excel('./data/gapminder_lifeexpectancy.xlsx', index_col=0)\n",
    "life = df[1960].dropna()\n",
    "life"
   ]
  },
  {
   "cell_type": "code",
   "execution_count": 47,
   "id": "9ec1134d",
   "metadata": {},
   "outputs": [
    {
     "data": {
      "text/plain": [
       "54.73282178217821"
      ]
     },
     "execution_count": 47,
     "metadata": {},
     "output_type": "execute_result"
    }
   ],
   "source": [
    "# 2. calculate the mean life expectancy\n",
    "life.mean()"
   ]
  },
  {
   "cell_type": "code",
   "execution_count": 49,
   "id": "cc1480fc",
   "metadata": {},
   "outputs": [
    {
     "data": {
      "text/plain": [
       "56.185"
      ]
     },
     "execution_count": 49,
     "metadata": {},
     "output_type": "execute_result"
    }
   ],
   "source": [
    "# 3. calculate the median\n",
    "life.median()"
   ]
  },
  {
   "cell_type": "code",
   "execution_count": 50,
   "id": "7648f33c",
   "metadata": {},
   "outputs": [
    {
     "data": {
      "text/plain": [
       "11.689637178760744"
      ]
     },
     "execution_count": 50,
     "metadata": {},
     "output_type": "execute_result"
    }
   ],
   "source": [
    "# 4. calculate the standard deviation\n",
    "life.std()"
   ]
  },
  {
   "cell_type": "code",
   "execution_count": 52,
   "id": "9742cea6",
   "metadata": {},
   "outputs": [
    {
     "data": {
      "text/plain": [
       "136.64761737106545"
      ]
     },
     "execution_count": 52,
     "metadata": {},
     "output_type": "execute_result"
    }
   ],
   "source": [
    "# 5. calculate the variance\n",
    "life.var()"
   ]
  },
  {
   "cell_type": "code",
   "execution_count": 54,
   "id": "4ac97605",
   "metadata": {},
   "outputs": [],
   "source": [
    "# 6. find the highest life expectancy"
   ]
  },
  {
   "cell_type": "code",
   "execution_count": 51,
   "id": "f3a4958f",
   "metadata": {},
   "outputs": [
    {
     "data": {
      "text/plain": [
       "Ellipsis"
      ]
     },
     "execution_count": 51,
     "metadata": {},
     "output_type": "execute_result"
    }
   ],
   "source": [
    "# 7. find the lowest life expectancy\n",
    "...\n",
    "\n",
    "# 8. find the 90% quantile\n",
    "...\n",
    "\n",
    "# 9. store the number of data points in a variable\n",
    "...\n",
    "\n",
    "# 10. calculate min, max, mean and range (and possibly other descriptors) with a single line\n",
    "..."
   ]
  }
 ],
 "metadata": {
  "kernelspec": {
   "display_name": "Python 3 (ipykernel)",
   "language": "python",
   "name": "python3"
  },
  "language_info": {
   "codemirror_mode": {
    "name": "ipython",
    "version": 3
   },
   "file_extension": ".py",
   "mimetype": "text/x-python",
   "name": "python",
   "nbconvert_exporter": "python",
   "pygments_lexer": "ipython3",
   "version": "3.8.8"
  }
 },
 "nbformat": 4,
 "nbformat_minor": 5
}
