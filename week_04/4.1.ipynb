{
 "cells": [
  {
   "cell_type": "code",
   "execution_count": 4,
   "metadata": {},
   "outputs": [
    {
     "name": "stdout",
     "output_type": "stream",
     "text": [
      "<?xml version=\"1.0\" encoding=\"UTF-8\" ?>\n",
      "<!DOCTYPE eSearchResult PUBLIC \"-//NLM//DTD esearch 20060628//EN\" \"https://eutils.ncbi.nlm.nih.gov/eutils/dtd/20060628/esearch.dtd\">\n",
      "<eSearchResult><Count>406406</Count><RetMax>20</RetMax><RetStart>0</RetStart><IdList>\n",
      "<Id>34648943</Id>\n",
      "<Id>34648918</Id>\n",
      "<Id>34648831</Id>\n",
      "<Id>34648268</Id>\n",
      "<Id>34648257</Id>\n",
      "<Id>34647819</Id>\n",
      "<Id>34647725</Id>\n",
      "<Id>34647384</Id>\n",
      "<Id>34647015</Id>\n",
      "<Id>34647006</Id>\n",
      "<Id>34646982</Id>\n",
      "<Id>34646837</Id>\n",
      "<Id>34646592</Id>\n",
      "<Id>34646522</Id>\n",
      "<Id>34646254</Id>\n",
      "<Id>34646253</Id>\n",
      "<Id>34646242</Id>\n",
      "<Id>34645923</Id>\n",
      "<Id>34645489</Id>\n",
      "<Id>34644597</Id>\n",
      "</IdList><TranslationSet><Translation>     <From>escherichia</From>     <To>\"escherichia\"[MeSH Terms] OR \"escherichia\"[All Fields]</To>    </Translation></TranslationSet><TranslationStack>   <TermSet>    <Term>\"escherichia\"[MeSH Terms]</Term>    <Field>MeSH Terms</Field>    <Count>290690</Count>    <Explode>Y</Explode>   </TermSet>   <TermSet>    <Term>\"escherichia\"[All Fields]</Term>    <Field>All Fields</Field>    <Count>406411</Count>    <Explode>N</Explode>   </TermSet>   <OP>OR</OP>   <OP>GROUP</OP>  </TranslationStack><QueryTranslation>\"escherichia\"[MeSH Terms] OR \"escherichia\"[All Fields]</QueryTranslation></eSearchResult>\n",
      "\n"
     ]
    }
   ],
   "source": [
    "import requests\n",
    "\n",
    "headers = {'User-Agent': 'Mozilla/5.0 (Macintosh; Intel Mac OS X 10_10_1) AppleWebKit/537.36 (KHTML, like Gecko) Chrome/39.0.2171.95 Safari/537.36'}\n",
    "\n",
    "url = \"http://eutils.ncbi.nlm.nih.gov/entrez/eutils/esearch.fcgi\"\n",
    "param_dict = {'db':'pubmed', 'term':'escherichia', 'rettype':'uilist'}\n",
    "\n",
    "r = requests.get(url, params=param_dict, headers=headers)\n",
    "print(r.text)"
   ]
  },
  {
   "cell_type": "code",
   "execution_count": null,
   "metadata": {},
   "outputs": [],
   "source": []
  }
 ],
 "metadata": {
  "interpreter": {
   "hash": "a36b59b37c4637ddb9c5034a0d11c20b9896a7105f0fa82c25b07f146a9279b2"
  },
  "kernelspec": {
   "display_name": "Python 3.7.11 64-bit ('jupyter_docs': conda)",
   "name": "python3"
  },
  "language_info": {
   "codemirror_mode": {
    "name": "ipython",
    "version": 3
   },
   "file_extension": ".py",
   "mimetype": "text/x-python",
   "name": "python",
   "nbconvert_exporter": "python",
   "pygments_lexer": "ipython3",
   "version": "3.7.11"
  },
  "orig_nbformat": 4
 },
 "nbformat": 4,
 "nbformat_minor": 2
}
