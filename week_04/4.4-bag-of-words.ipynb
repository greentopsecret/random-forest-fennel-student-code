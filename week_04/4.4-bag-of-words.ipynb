{
 "cells": [
  {
   "cell_type": "code",
   "execution_count": 37,
   "metadata": {},
   "outputs": [],
   "source": [
    "text = \"\"\"\n",
    "Winter's cityside, crystal bits of snowflakes\n",
    "All around my head and in the wind\n",
    "I had no illusions that I'd ever find\n",
    "A glimpse of summer's heatwaves in your eyes\n",
    "You did what you did to me\n",
    "Now it's history I see\n",
    "Here's my comeback on the road again\n",
    "Things will happen while they can\n",
    "I will wait here for my man tonight\n",
    "It's easy when you're big in Japan\n",
    "When you're big in Japan, tonight\n",
    "Big in Japan, be tight\n",
    "Big in Japan, where the Eastern sea's so blue\n",
    "Big in Japan, alright\n",
    "Pay, then I'll sleep by your side\n",
    "Things are easy when you're big in Japan\n",
    "When you're big in Japan...\n",
    "Neon on my naked skin\n",
    "Passing silhouettes\n",
    "Of strange illuminated mannequins\n",
    "Shall I stay here at the zoo\n",
    "Or shall I go and change my point of view\n",
    "For other ugly scenes\n",
    "You did what you did to me\n",
    "Now it's history I see\n",
    "Things will happen while they can\n",
    "I will wait here for my man tonight\n",
    "It's easy when you're big in Japan\n",
    "When you're big in Japan, tonight\n",
    "Big in Japan, be tight\n",
    "Big in Japan, oo the Eastern sea's so blue\n",
    "Big in Japan, alright\n",
    "Pay, then I'll sleep by your side\n",
    "Things are easy when you're big in Japan\n",
    "When you're big in Japan, tonight\n",
    "Big in Japan, be tight\n",
    "Big in Japan, oo the Eastern sea's so blue\n",
    "Big in Japan, alright\n",
    "Pay, then I'll sleep by your side\n",
    "Things are easy when you're big in Japan\n",
    "When you're big in Japan\n",
    "When you're big in Japan, tonight\n",
    "Big in Japan, be tight\n",
    "Big in Japan, oo the Eastern sea's so blue\n",
    "Big in Japan, alright\n",
    "Pay, then I'll sleep by your side\n",
    "Things are easy when you're big in Japan\n",
    "When you're big in Japan\n",
    "\"\"\"\n",
    "\n"
   ]
  },
  {
   "cell_type": "markdown",
   "metadata": {},
   "source": [
    "## Bag of Words from Scratch"
   ]
  },
  {
   "cell_type": "code",
   "execution_count": 67,
   "metadata": {},
   "outputs": [
    {
     "data": {
      "text/plain": [
       "[('japan,', 16),\n",
       " ('when', 13),\n",
       " (\"you're\", 13),\n",
       " ('japan', 8),\n",
       " ('things', 6),\n",
       " ('tonight', 6),\n",
       " ('easy', 6),\n",
       " ('your', 5),\n",
       " (\"it's\", 4),\n",
       " ('will', 4)]"
      ]
     },
     "execution_count": 67,
     "metadata": {},
     "output_type": "execute_result"
    }
   ],
   "source": [
    "from collections import Counter\n",
    "import pandas as pd\n",
    "\n",
    "lines = []\n",
    "all_words = []\n",
    "df = pd.DataFrame()\n",
    "for line in text.splitlines():\n",
    "    line = str.maketrans('', '', line.lower())\n",
    "    words = []\n",
    "    for word in line.split(' '):\n",
    "        if len(word) > 3 and not word.isnumeric():\n",
    "            words.append(word)\n",
    "            all_words.append(word)\n",
    "\n",
    "    if len(words):\n",
    "        lines.append(words)\n",
    "\n",
    "c = Counter(all_words)\n",
    "c.most_common()[:10]"
   ]
  },
  {
   "cell_type": "code",
   "execution_count": 68,
   "metadata": {},
   "outputs": [
    {
     "data": {
      "text/plain": [
       "dict_keys([\"winter's\", 'cityside,', 'crystal', 'bits', 'snowflakes', 'around', 'head', 'wind', 'illusions', 'that', 'ever', 'find', 'glimpse', \"summer's\", 'heatwaves', 'your', 'eyes', 'what', \"it's\", 'history', \"here's\", 'comeback', 'road', 'again', 'things', 'will', 'happen', 'while', 'they', 'wait', 'here', 'tonight', 'easy', 'when', \"you're\", 'japan', 'japan,', 'tight', 'where', 'eastern', \"sea's\", 'blue', 'alright', 'pay,', 'then', \"i'll\", 'sleep', 'side', 'japan...', 'neon', 'naked', 'skin', 'passing', 'silhouettes', 'strange', 'illuminated', 'mannequins', 'shall', 'stay', 'change', 'point', 'view', 'other', 'ugly', 'scenes'])"
      ]
     },
     "execution_count": 68,
     "metadata": {},
     "output_type": "execute_result"
    }
   ],
   "source": [
    "c.keys()"
   ]
  },
  {
   "cell_type": "code",
   "execution_count": 39,
   "metadata": {},
   "outputs": [
    {
     "data": {
      "text/html": [
       "<div>\n",
       "<style scoped>\n",
       "    .dataframe tbody tr th:only-of-type {\n",
       "        vertical-align: middle;\n",
       "    }\n",
       "\n",
       "    .dataframe tbody tr th {\n",
       "        vertical-align: top;\n",
       "    }\n",
       "\n",
       "    .dataframe thead th {\n",
       "        text-align: right;\n",
       "    }\n",
       "</style>\n",
       "<table border=\"1\" class=\"dataframe\">\n",
       "  <thead>\n",
       "    <tr style=\"text-align: right;\">\n",
       "      <th></th>\n",
       "      <th>winter's</th>\n",
       "      <th>cityside,</th>\n",
       "      <th>crystal</th>\n",
       "      <th>bits</th>\n",
       "      <th>snowflakes</th>\n",
       "      <th>around</th>\n",
       "      <th>head</th>\n",
       "      <th>wind</th>\n",
       "      <th>illusions</th>\n",
       "      <th>that</th>\n",
       "      <th>...</th>\n",
       "      <th>illuminated</th>\n",
       "      <th>mannequins</th>\n",
       "      <th>shall</th>\n",
       "      <th>stay</th>\n",
       "      <th>change</th>\n",
       "      <th>point</th>\n",
       "      <th>view</th>\n",
       "      <th>other</th>\n",
       "      <th>ugly</th>\n",
       "      <th>scenes</th>\n",
       "    </tr>\n",
       "  </thead>\n",
       "  <tbody>\n",
       "    <tr>\n",
       "      <th>Big in Japan</th>\n",
       "      <td>1</td>\n",
       "      <td>1</td>\n",
       "      <td>1</td>\n",
       "      <td>1</td>\n",
       "      <td>1</td>\n",
       "      <td>1</td>\n",
       "      <td>1</td>\n",
       "      <td>1</td>\n",
       "      <td>1</td>\n",
       "      <td>1</td>\n",
       "      <td>...</td>\n",
       "      <td>1</td>\n",
       "      <td>1</td>\n",
       "      <td>2</td>\n",
       "      <td>1</td>\n",
       "      <td>1</td>\n",
       "      <td>1</td>\n",
       "      <td>1</td>\n",
       "      <td>1</td>\n",
       "      <td>1</td>\n",
       "      <td>1</td>\n",
       "    </tr>\n",
       "  </tbody>\n",
       "</table>\n",
       "<p>1 rows × 65 columns</p>\n",
       "</div>"
      ],
      "text/plain": [
       "              winter's  cityside,  crystal  bits  snowflakes  around  head  \\\n",
       "Big in Japan         1          1        1     1           1       1     1   \n",
       "\n",
       "              wind  illusions  that  ...  illuminated  mannequins  shall  \\\n",
       "Big in Japan     1          1     1  ...            1           1      2   \n",
       "\n",
       "              stay  change  point  view  other  ugly  scenes  \n",
       "Big in Japan     1       1      1     1      1     1       1  \n",
       "\n",
       "[1 rows x 65 columns]"
      ]
     },
     "execution_count": 39,
     "metadata": {},
     "output_type": "execute_result"
    }
   ],
   "source": [
    "df = pd.DataFrame([c.values()], columns=c.keys(), index=['Big in Japan'])\n",
    "df"
   ]
  },
  {
   "cell_type": "markdown",
   "metadata": {},
   "source": [
    "## BoW in Scikit-Learn"
   ]
  },
  {
   "cell_type": "code",
   "execution_count": 69,
   "metadata": {},
   "outputs": [
    {
     "data": {
      "text/plain": [
       "array([ 0,  0,  0,  1,  1,  2,  2,  2,  2,  2,  3,  7, 12, 15, 18, 21, 21,\n",
       "       25, 29, 29, 29, 29, 29, 29, 29, 29, 29, 29, 30, 34, 39, 42, 45, 48,\n",
       "       48, 52, 57, 60, 63, 66, 66, 70, 74, 79, 82, 85, 88, 88, 92, 96],\n",
       "      dtype=int32)"
      ]
     },
     "execution_count": 69,
     "metadata": {},
     "output_type": "execute_result"
    }
   ],
   "source": [
    "# example from: https://scikit-learn.org/stable/modules/generated/sklearn.feature_extraction.text.TfidfTransformer.html\n",
    "\n",
    "from sklearn.feature_extraction.text import TfidfTransformer, CountVectorizer\n",
    "from sklearn.pipeline import Pipeline\n",
    "import numpy as np\n",
    "corpus = text.splitlines()\n",
    "vocabulary = ('when', 'youre', 'big', 'in', 'japan', 'tonight')\n",
    "stop_words = ('history', 'easy')\n",
    "pipe = Pipeline([('count', CountVectorizer(vocabulary=vocabulary, stop_words=stop_words, min_df=3)),\n",
    "                 ('tfid', TfidfTransformer())]).fit(corpus)\n",
    "transformed = pipe['count'].transform(corpus)\n",
    "transformed.toarray()\n",
    "\n",
    "transformed.indptr"
   ]
  },
  {
   "cell_type": "code",
   "execution_count": 70,
   "metadata": {},
   "outputs": [
    {
     "data": {
      "text/plain": [
       "array([2.27296568, 4.91202301, 1.65392647, 1.5798185 , 1.65392647,\n",
       "       2.96611286])"
      ]
     },
     "execution_count": 70,
     "metadata": {},
     "output_type": "execute_result"
    }
   ],
   "source": [
    "pipe['tfid'].idf_"
   ]
  },
  {
   "cell_type": "code",
   "execution_count": 71,
   "metadata": {},
   "outputs": [
    {
     "name": "stdout",
     "output_type": "stream",
     "text": [
      "  (2, 3)\t1.0\n",
      "  (4, 3)\t1.0\n",
      "  (9, 5)\t1.0\n",
      "  (10, 4)\t0.4563854898878564\n",
      "  (10, 3)\t0.43593609032718295\n",
      "  (10, 2)\t0.4563854898878564\n",
      "  (10, 0)\t0.6272035510022986\n",
      "  (11, 5)\t0.6333718341995496\n",
      "  (11, 4)\t0.35317281945015305\n",
      "  (11, 3)\t0.33734810052519254\n",
      "  (11, 2)\t0.35317281945015305\n",
      "  (11, 0)\t0.485359967362371\n",
      "  (12, 4)\t0.5859694888273796\n",
      "  (12, 3)\t0.5597137807190017\n",
      "  (12, 2)\t0.5859694888273796\n",
      "  (13, 4)\t0.5859694888273796\n",
      "  (13, 3)\t0.5597137807190017\n",
      "  (13, 2)\t0.5859694888273796\n",
      "  (14, 4)\t0.5859694888273796\n",
      "  (14, 3)\t0.5597137807190017\n",
      "  (14, 2)\t0.5859694888273796\n",
      "  (16, 4)\t0.4563854898878564\n",
      "  (16, 3)\t0.43593609032718295\n",
      "  (16, 2)\t0.4563854898878564\n",
      "  (16, 0)\t0.6272035510022986\n",
      "  :\t:\n",
      "  (41, 3)\t0.43593609032718295\n",
      "  (41, 2)\t0.4563854898878564\n",
      "  (41, 0)\t0.6272035510022986\n",
      "  (42, 5)\t0.6333718341995496\n",
      "  (42, 4)\t0.35317281945015305\n",
      "  (42, 3)\t0.33734810052519254\n",
      "  (42, 2)\t0.35317281945015305\n",
      "  (42, 0)\t0.485359967362371\n",
      "  (43, 4)\t0.5859694888273796\n",
      "  (43, 3)\t0.5597137807190017\n",
      "  (43, 2)\t0.5859694888273796\n",
      "  (44, 4)\t0.5859694888273796\n",
      "  (44, 3)\t0.5597137807190017\n",
      "  (44, 2)\t0.5859694888273796\n",
      "  (45, 4)\t0.5859694888273796\n",
      "  (45, 3)\t0.5597137807190017\n",
      "  (45, 2)\t0.5859694888273796\n",
      "  (47, 4)\t0.4563854898878564\n",
      "  (47, 3)\t0.43593609032718295\n",
      "  (47, 2)\t0.4563854898878564\n",
      "  (47, 0)\t0.6272035510022986\n",
      "  (48, 4)\t0.4563854898878564\n",
      "  (48, 3)\t0.43593609032718295\n",
      "  (48, 2)\t0.4563854898878564\n",
      "  (48, 0)\t0.6272035510022986\n"
     ]
    }
   ],
   "source": [
    "print(pipe.transform(corpus))"
   ]
  },
  {
   "cell_type": "markdown",
   "metadata": {},
   "source": [
    "## Topic Modeling"
   ]
  }
 ],
 "metadata": {
  "interpreter": {
   "hash": "a36b59b37c4637ddb9c5034a0d11c20b9896a7105f0fa82c25b07f146a9279b2"
  },
  "kernelspec": {
   "display_name": "Python 3.7.11 64-bit ('jupyter_docs': conda)",
   "name": "python3"
  },
  "language_info": {
   "codemirror_mode": {
    "name": "ipython",
    "version": 3
   },
   "file_extension": ".py",
   "mimetype": "text/x-python",
   "name": "python",
   "nbconvert_exporter": "python",
   "pygments_lexer": "ipython3",
   "version": "3.7.11"
  },
  "orig_nbformat": 4
 },
 "nbformat": 4,
 "nbformat_minor": 2
}
