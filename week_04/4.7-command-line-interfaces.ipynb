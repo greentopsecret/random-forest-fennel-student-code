{
 "cells": [
  {
   "cell_type": "code",
   "execution_count": 10,
   "metadata": {},
   "outputs": [
    {
     "name": "stdout",
     "output_type": "stream",
     "text": [
      "Artist search url https://www.lyrics.com/lyrics/asdas+das+d\n",
      "Artist search url https://www.lyrics.com/lyrics/aaaa\n",
      "Artist search url https://www.lyrics.com/lyrics/sdfsd+fsd+fsd+df\n",
      "Artist search url https://www.lyrics.com/lyrics/exit\n"
     ]
    }
   ],
   "source": [
    "import urllib.parse\n",
    "\n",
    "def artist_url(name):\n",
    "    return 'https://www.lyrics.com/artist/%s/' % urllib.parse.quote_plus(name)\n",
    "\n",
    "def artist_input():\n",
    "    while True:\n",
    "        artist_name = input('Input artst name: ')\n",
    "        print('Artist search url %s' % artist_url(artist_name))\n",
    "        if input('Continue? (\"exit\" to quit or \"enter\" to continue') == 'exit':\n",
    "            break\n",
    "\n",
    "artist_input()"
   ]
  },
  {
   "cell_type": "code",
   "execution_count": null,
   "metadata": {},
   "outputs": [],
   "source": []
  },
  {
   "cell_type": "code",
   "execution_count": null,
   "metadata": {},
   "outputs": [],
   "source": []
  }
 ],
 "metadata": {
  "interpreter": {
   "hash": "5e445448be17812a61d127c9fbf1cf23edb5c631dddc07340a806bc8d5af181a"
  },
  "kernelspec": {
   "display_name": "Python 3.9.7 64-bit ('ds': conda)",
   "name": "python3"
  },
  "language_info": {
   "codemirror_mode": {
    "name": "ipython",
    "version": 3
   },
   "file_extension": ".py",
   "mimetype": "text/x-python",
   "name": "python",
   "nbconvert_exporter": "python",
   "pygments_lexer": "ipython3",
   "version": "3.9.7"
  },
  "orig_nbformat": 4
 },
 "nbformat": 4,
 "nbformat_minor": 2
}
