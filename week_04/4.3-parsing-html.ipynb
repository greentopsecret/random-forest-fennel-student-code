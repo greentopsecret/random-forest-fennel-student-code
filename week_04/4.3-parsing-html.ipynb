{
 "cells": [
  {
   "cell_type": "code",
   "execution_count": 2,
   "metadata": {},
   "outputs": [
    {
     "name": "stdout",
     "output_type": "stream",
     "text": [
      "Hardcore High Halloween Party\n",
      "Berlin Tekk pres. Die Gebrüder Brett, Leigh Johnson, TSBiN and more\n",
      "King Kong Kicks • Indie Pop Party • Badehaus Berlin\n",
      "Kiezsalon w/ Anna von Hausswolff at Kaiser-Wilhelm-Gedächtniskirche\n",
      "HALLOWEEN K-POP PARTY - Freitag, 29.10.2021 @Club ASeven by Aigoo Music\n",
      "✦✦✦ Berlin Techno w/ Torsten Kanzler ✦✦✦\n",
      "Most Wanted: Music 2021\n",
      "Kiezsalon w/ Mabe Fratti and Lea Bertucci at Musikbrauerei\n",
      "Move iT! - die 90er Party\n",
      "Fisch sucht Fahrrad-Party in Berlin | 22. Oktober 2021\n",
      "Birgit´s Halloween Bambule (House, Techno, 80s 90s, Pop & Hip Hop)\n",
      "HOLI FESTIVAL OF COLOURS BERLIN 2021\n",
      "GOA TRIBE - MAYDAY MAYDAY\n",
      "Die XXL 90er Party / Mütze Katze DJ Team\n",
      "BERLIN INDIE NIGHT im Astra Kulturhaus\n",
      "Canto General (Der große Gesang)\n",
      "VDSIS-BERLIN LIVE KONZERT\n",
      "Mega 90er Rave XXL ARENA Verschoben\n",
      "The Weight of Light\n",
      "TWIN TRIBES\n"
     ]
    }
   ],
   "source": [
    "import requests\n",
    "from bs4 import BeautifulSoup\n",
    "\n",
    "response = requests.get('https://www.eventbrite.de/d/germany--berlin/music--events/')\n",
    "soup = BeautifulSoup(response.text, 'html.parser')\n",
    "list = soup.find('ul', class_='search-main-content__events-list')\n",
    "for item in list:\n",
    "    print(item.find('h3').find('div', class_='eds-is-hidden-accessible').text)"
   ]
  }
 ],
 "metadata": {
  "interpreter": {
   "hash": "a36b59b37c4637ddb9c5034a0d11c20b9896a7105f0fa82c25b07f146a9279b2"
  },
  "kernelspec": {
   "display_name": "Python 3.7.11 64-bit ('jupyter_docs': conda)",
   "name": "python3"
  },
  "language_info": {
   "codemirror_mode": {
    "name": "ipython",
    "version": 3
   },
   "file_extension": ".py",
   "mimetype": "text/x-python",
   "name": "python",
   "nbconvert_exporter": "python",
   "pygments_lexer": "ipython3",
   "version": "3.7.11"
  },
  "orig_nbformat": 4
 },
 "nbformat": 4,
 "nbformat_minor": 2
}
