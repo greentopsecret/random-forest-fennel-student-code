{
 "cells": [
  {
   "cell_type": "markdown",
   "id": "fdd9e739",
   "metadata": {},
   "source": [
    "# Artist predictor command"
   ]
  },
  {
   "cell_type": "markdown",
   "id": "70a8334b",
   "metadata": {},
   "source": [
    "## Description"
   ]
  },
  {
   "cell_type": "code",
   "execution_count": 1,
   "id": "46ae9a41",
   "metadata": {},
   "outputs": [],
   "source": [
    "# TODO"
   ]
  },
  {
   "cell_type": "markdown",
   "id": "4d8d5573",
   "metadata": {},
   "source": [
    "## Scrabing lyrics"
   ]
  },
  {
   "cell_type": "markdown",
   "id": "ccb7f8d2",
   "metadata": {},
   "source": [
    "``` \n",
    "\n",
    "cd week_04/project/\n",
    "python scraper_command.py --artist1=Madonna --artist2=Eminem --cnt=500\n",
    "\n",
    "...\n",
    "\n",
    "Lyrics data stored into /Users/maxim/codebase/python/spiced_projects/random-forest-fennel-student-code/week_04/project/data/madonna-eminem-500.csv\n",
    "\n",
    "\n",
    "```"
   ]
  },
  {
   "cell_type": "markdown",
   "id": "ac16a752",
   "metadata": {},
   "source": [
    "## Predict artist by song fragment"
   ]
  },
  {
   "cell_type": "markdown",
   "id": "288447c7",
   "metadata": {},
   "source": [
    "``` \n",
    "python artist_prediction_command.py --file=/Users/maxim/codebase/python/spiced_projects/random-forest-fennel-student-code/week_04/project/data/madonna-eminem-500.csv\n",
    "\n",
    "```"
   ]
  },
  {
   "cell_type": "markdown",
   "id": "866a9b1b",
   "metadata": {},
   "source": [
    "### TODO"
   ]
  },
  {
   "cell_type": "markdown",
   "id": "6381ddc2",
   "metadata": {},
   "source": [
    "- [ ] Try inbalanced sets and apply magic from `encounters-notes/class_imbalance.ipynb`\n",
    "- [ ] `artist_prediction_command` should scan folder and take data from different files"
   ]
  },
  {
   "cell_type": "code",
   "execution_count": null,
   "id": "a4b4eb8d",
   "metadata": {},
   "outputs": [],
   "source": []
  }
 ],
 "metadata": {
  "kernelspec": {
   "display_name": "Python 3 (ipykernel)",
   "language": "python",
   "name": "python3"
  },
  "language_info": {
   "codemirror_mode": {
    "name": "ipython",
    "version": 3
   },
   "file_extension": ".py",
   "mimetype": "text/x-python",
   "name": "python",
   "nbconvert_exporter": "python",
   "pygments_lexer": "ipython3",
   "version": "3.8.8"
  }
 },
 "nbformat": 4,
 "nbformat_minor": 5
}
