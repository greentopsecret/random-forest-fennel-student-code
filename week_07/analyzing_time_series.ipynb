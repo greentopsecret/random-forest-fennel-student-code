{
 "cells": [
  {
   "cell_type": "markdown",
   "metadata": {},
   "source": [
    "# Analyzing Time Series"
   ]
  },
  {
   "cell_type": "code",
   "execution_count": null,
   "metadata": {},
   "outputs": [],
   "source": [
    "import pandas as pd\n",
    "import numpy as np\n",
    "import plotly.express as px\n",
    "import matplotlib.pyplot as plt\n",
    "from sklearn.linear_model import LinearRegression\n",
    "plt.rcParams['figure.figsize'] = (18, 12)"
   ]
  },
  {
   "cell_type": "code",
   "execution_count": null,
   "metadata": {},
   "outputs": [],
   "source": [
    "df = pd.read_csv('./data/TG_STAID002759.txt', parse_dates=True, sep=',', skiprows=19, index_col=1)\n",
    "df.columns = [col.strip() for col in df.columns]\n",
    "df.index.freq = \"D\"\n",
    "df.rename(columns={'TG':'temp'}, inplace=True)\n",
    "# df.index = pd.to_datetime(df['DATE'], format='%Y%m%d')\n",
    "# df = df[df['Q_TG'] != 9]\n",
    "# df = df[df['SOUID'] == 111448]\n",
    "df = df['1950-01-01':]\n",
    "# df['Q_TG'].value_counts()"
   ]
  },
  {
   "cell_type": "code",
   "execution_count": null,
   "metadata": {},
   "outputs": [],
   "source": [
    "df = df.drop(columns=['SOUID', 'Q_TG'])\n",
    "df"
   ]
  },
  {
   "cell_type": "code",
   "execution_count": null,
   "metadata": {},
   "outputs": [],
   "source": [
    "# df[['TG']].plot()\n",
    "fig = px.line(df, y=\"temp\")\n",
    "fig.show()"
   ]
  },
  {
   "cell_type": "markdown",
   "metadata": {},
   "source": [
    "What do you in see in the data?\n",
    "* it's an additive time series 🤷‍♂️\n",
    "* **no** trend\n",
    "* pattern/seasonality\n",
    "* remainder — noise + time-dependance"
   ]
  },
  {
   "cell_type": "markdown",
   "metadata": {},
   "source": [
    "Our task for the day:\n",
    "* model the **trend**\n",
    "* model the **seasonality** (here we'll model trend-seasonality at once)\n",
    "* extract (and save) the **remainder** to look at it / work with it tomorrow"
   ]
  },
  {
   "cell_type": "markdown",
   "metadata": {},
   "source": [
    "### Warm-up: compose a time series"
   ]
  },
  {
   "cell_type": "code",
   "execution_count": null,
   "metadata": {},
   "outputs": [],
   "source": [
    "x = np.linspace(0, 10, 101)"
   ]
  },
  {
   "cell_type": "code",
   "execution_count": null,
   "metadata": {},
   "outputs": [],
   "source": [
    "y_trend = 0.01*x\n",
    "plt.plot(x, y_trend)"
   ]
  },
  {
   "cell_type": "code",
   "execution_count": null,
   "metadata": {},
   "outputs": [],
   "source": [
    "y_seasonal = 10*np.sin(20*x)\n",
    "plt.plot(x, y_trend+y_seasonal)"
   ]
  },
  {
   "cell_type": "code",
   "execution_count": null,
   "metadata": {},
   "outputs": [],
   "source": [
    "y_noise = np.random.normal(size=101, scale=3)"
   ]
  },
  {
   "cell_type": "code",
   "execution_count": null,
   "metadata": {},
   "outputs": [],
   "source": [
    "plt.plot(x, y_noise)"
   ]
  },
  {
   "cell_type": "code",
   "execution_count": null,
   "metadata": {},
   "outputs": [],
   "source": [
    "plt.plot(x, y_trend+y_seasonal+y_noise)"
   ]
  },
  {
   "cell_type": "markdown",
   "metadata": {},
   "source": [
    "## Trend"
   ]
  },
  {
   "cell_type": "markdown",
   "metadata": {},
   "source": [
    "Two approaches to modeling the trend:\n",
    "* moving/rolling average\n",
    "* timestep as variable"
   ]
  },
  {
   "cell_type": "code",
   "execution_count": null,
   "metadata": {},
   "outputs": [],
   "source": [
    "# df.plot()\n",
    "fig = px.line(df, y=\"temp\")\n",
    "fig.show()"
   ]
  },
  {
   "cell_type": "code",
   "execution_count": null,
   "metadata": {},
   "outputs": [],
   "source": [
    "df['timestep'] = range(len(df))\n",
    "df"
   ]
  },
  {
   "cell_type": "code",
   "execution_count": null,
   "metadata": {},
   "outputs": [],
   "source": [
    "X = df[['timestep']]\n",
    "y = df['temp']"
   ]
  },
  {
   "cell_type": "code",
   "execution_count": null,
   "metadata": {},
   "outputs": [],
   "source": [
    "m = LinearRegression()"
   ]
  },
  {
   "cell_type": "code",
   "execution_count": null,
   "metadata": {},
   "outputs": [],
   "source": [
    "m.fit(X, y)"
   ]
  },
  {
   "cell_type": "code",
   "execution_count": null,
   "metadata": {},
   "outputs": [],
   "source": [
    "df['trend'] = m.predict(X)"
   ]
  },
  {
   "cell_type": "code",
   "execution_count": null,
   "metadata": {
    "tags": []
   },
   "outputs": [],
   "source": [
    "[t for t in zip(y, m.predict(X))][-10:]"
   ]
  },
  {
   "cell_type": "code",
   "execution_count": null,
   "metadata": {},
   "outputs": [],
   "source": [
    "import plotly.graph_objects as go\n",
    "\n",
    "fig = go.Figure()\n",
    "fig.add_trace(go.Scatter(x=df.index.values, y=df['temp'], name='Temperature'))\n",
    "fig.add_trace(go.Scatter(x=df.index.values, y=df['trend'], name='Trend'))\n",
    "\n",
    "fig.show()"
   ]
  },
  {
   "cell_type": "markdown",
   "metadata": {},
   "source": [
    "## Seasonality"
   ]
  },
  {
   "cell_type": "code",
   "execution_count": null,
   "metadata": {},
   "outputs": [],
   "source": [
    "df.groupby(df.index.month)['temp'].mean().plot.bar()"
   ]
  },
  {
   "cell_type": "code",
   "execution_count": null,
   "metadata": {},
   "outputs": [],
   "source": [
    "pd.get_dummies(df.index.month, drop_first=True, prefix='month')"
   ]
  },
  {
   "cell_type": "code",
   "execution_count": null,
   "metadata": {},
   "outputs": [],
   "source": [
    "month_dummies = pd.get_dummies(df.index.month, drop_first=True, prefix='month').set_index(df.index)"
   ]
  },
  {
   "cell_type": "code",
   "execution_count": null,
   "metadata": {},
   "outputs": [],
   "source": [
    "df = df.join(month_dummies)\n",
    "df"
   ]
  },
  {
   "cell_type": "code",
   "execution_count": null,
   "metadata": {},
   "outputs": [],
   "source": [
    "X = df.drop(['temp', 'trend'], axis=1)\n",
    "X"
   ]
  },
  {
   "cell_type": "code",
   "execution_count": null,
   "metadata": {},
   "outputs": [],
   "source": [
    "m.fit(X, y)"
   ]
  },
  {
   "cell_type": "code",
   "execution_count": null,
   "metadata": {},
   "outputs": [],
   "source": [
    "df['trend_seasonal'] = m.predict(X)"
   ]
  },
  {
   "cell_type": "code",
   "execution_count": null,
   "metadata": {},
   "outputs": [],
   "source": [
    "# df[['temp', 'trend_seasonal']].plot()\n",
    "\n",
    "fig = go.Figure()\n",
    "fig.add_trace(go.Scatter(x=df.index.values, y=df['temp'], name='Temperature'))\n",
    "fig.add_trace(go.Scatter(x=df.index.values, y=df['trend_seasonal'], name='Seasonal trend'))\n",
    "\n",
    "fig.show()"
   ]
  },
  {
   "cell_type": "markdown",
   "metadata": {},
   "source": [
    "## Remainder"
   ]
  },
  {
   "cell_type": "code",
   "execution_count": null,
   "metadata": {},
   "outputs": [],
   "source": [
    "df['remainder'] = df['temp'] - df['trend_seasonal']\n",
    "df['remainder'].std()"
   ]
  },
  {
   "cell_type": "code",
   "execution_count": null,
   "metadata": {},
   "outputs": [],
   "source": [
    "# df['remainder'].plot()\n",
    "\n",
    "fig = go.Figure()\n",
    "fig.add_trace(go.Scatter(x=df.index.values, y=df['remainder'], name='Reminder'))\n",
    "\n",
    "fig.show()"
   ]
  },
  {
   "cell_type": "code",
   "execution_count": null,
   "metadata": {},
   "outputs": [],
   "source": [
    "# df['remainder'].to_csv('./data/temperature_remainder.csv')"
   ]
  },
  {
   "cell_type": "markdown",
   "metadata": {},
   "source": [
    "## 7.2. Autoregressive Model (AR)"
   ]
  },
  {
   "cell_type": "code",
   "execution_count": null,
   "metadata": {},
   "outputs": [],
   "source": [
    "# df = pd.read_csv('./data/temperature_remainder.csv')\n",
    "#\n",
    "# Shifting Rows\n",
    "# df = df[['remainder']].copy()\n",
    "\n",
    "df['lag1'] = df['remainder'].shift(1)\n",
    "df['lag2'] = df['remainder'].shift(2)\n",
    "df['lag3'] = df['remainder'].shift(3)\n",
    "\n",
    "corr = df[['remainder', 'lag1', 'lag2', 'lag3']].corr()\n",
    "corr"
   ]
  },
  {
   "cell_type": "code",
   "execution_count": null,
   "metadata": {},
   "outputs": [],
   "source": [
    "import seaborn as sns\n",
    "\n",
    "sns.heatmap(corr)"
   ]
  },
  {
   "cell_type": "code",
   "execution_count": null,
   "metadata": {},
   "outputs": [],
   "source": [
    "tmp = df[['remainder', 'lag1', 'lag2', 'lag3']].melt(id_vars=['remainder'])\n",
    "tmp"
   ]
  },
  {
   "cell_type": "code",
   "execution_count": null,
   "metadata": {},
   "outputs": [],
   "source": [
    "# Scatterplot with df['lag1'] on the x-axis and df['remainder'] on the y-axis (zoom in to see the trend line)\n",
    "import plotly.express as px\n",
    "import plotly.graph_objects as go\n",
    "\n",
    "scatter = px.scatter(df, y=\"lag1\", trendline=\"ols\")\n",
    "scatter.show()"
   ]
  },
  {
   "cell_type": "code",
   "execution_count": null,
   "metadata": {},
   "outputs": [],
   "source": [
    "traces = px.scatter(tmp, x=\"value\", y=\"remainder\", color='variable', trendline=\"ols\")\n",
    "\n",
    "traces.data[1]['showlegend']=True\n",
    "traces.data[3]['showlegend']=True\n",
    "traces.data[5]['showlegend']=True\n",
    "\n",
    "fig = go.Figure()\n",
    "fig.add_trace(traces.data[1])\n",
    "fig.add_trace(traces.data[3])\n",
    "fig.add_trace(traces.data[5])\n",
    "fig.show()\n",
    "\n",
    "# Note: this plot shows us correlation between previous value (lagN) and current remainder-value. \n",
    "# The strongest correlation is for lag1. Meaning that yesterday's weather has the biggest impact to today's weather."
   ]
  },
  {
   "cell_type": "code",
   "execution_count": null,
   "metadata": {},
   "outputs": [],
   "source": [
    "# correnation between remainder and lags (X is a lag level, y is correlation)\n",
    "# lag0 is correlates to remainder with corr=1 (because there is no lag and lag0=remainder)\n",
    "\n",
    "from statsmodels.graphics.tsaplots import plot_acf\n",
    "\n",
    "print(plot_acf(df['remainder']))"
   ]
  },
  {
   "cell_type": "code",
   "execution_count": null,
   "metadata": {},
   "outputs": [],
   "source": [
    "# partial (direct) correlation between lag level and remainder (that is not explained by previous lag with lower level)\n",
    "\n",
    "from statsmodels.graphics.tsaplots import plot_pacf\n",
    "\n",
    "print(plot_pacf(df['remainder'], method='ywm'))"
   ]
  },
  {
   "cell_type": "code",
   "execution_count": null,
   "metadata": {},
   "outputs": [],
   "source": [
    "from statsmodels.tsa.ar_model import AutoReg, ar_select_order\n",
    "selected_order = ar_select_order(df['remainder'], maxlag=12)\n",
    "selected_order.ar_lags # number of lags (previous days) that will be included into autoregression model"
   ]
  },
  {
   "cell_type": "code",
   "execution_count": null,
   "metadata": {},
   "outputs": [],
   "source": [
    "from statsmodels.tsa.ar_model import AutoReg\n",
    "ar_model = AutoReg(endog=df['remainder'], lags=1).fit()\n",
    "df['reminder_explained_by_lag'] = ar_model.predict()\n",
    "df['noise'] = df['remainder'] - df['reminder_explained_by_lag']"
   ]
  },
  {
   "cell_type": "code",
   "execution_count": null,
   "metadata": {},
   "outputs": [],
   "source": [
    "df['noise'].std()"
   ]
  },
  {
   "cell_type": "code",
   "execution_count": null,
   "metadata": {},
   "outputs": [],
   "source": [
    "tmp = df[['temp', 'noise']].copy()\n",
    "tmp['explained'] = df['trend_seasonal'] + df['reminder_explained_by_lag']\n",
    "# tmp[-365:].plot()\n",
    "\n",
    "tmp['date'] = tmp.index\n",
    "tmp = tmp.dropna().melt(id_vars=['date'])\n",
    "\n",
    "line = px.line(tmp, x=\"date\", y=\"value\", color='variable')\n",
    "line.show() # feel free to zoom in\n",
    "\n",
    "# note:\n",
    "# \"explained\" line is explained by trend + seasons + three previous days\n",
    "# \"noise\" line shows not explained fluctuations\n",
    "# \"temp\" shows actual value"
   ]
  },
  {
   "cell_type": "code",
   "execution_count": null,
   "metadata": {},
   "outputs": [],
   "source": [
    "# zoomed in plot\n",
    "line = px.line(tmp[tmp['date'] > '2021-08-01'], x=\"date\", y=\"value\", color='variable')\n",
    "line.show() # feel free to zoom in"
   ]
  },
  {
   "cell_type": "code",
   "execution_count": null,
   "metadata": {},
   "outputs": [],
   "source": []
  },
  {
   "cell_type": "code",
   "execution_count": null,
   "metadata": {},
   "outputs": [],
   "source": []
  },
  {
   "cell_type": "code",
   "execution_count": null,
   "metadata": {},
   "outputs": [],
   "source": []
  },
  {
   "cell_type": "code",
   "execution_count": null,
   "metadata": {},
   "outputs": [],
   "source": []
  },
  {
   "cell_type": "code",
   "execution_count": null,
   "metadata": {},
   "outputs": [],
   "source": []
  },
  {
   "cell_type": "code",
   "execution_count": null,
   "metadata": {},
   "outputs": [],
   "source": []
  },
  {
   "cell_type": "code",
   "execution_count": null,
   "metadata": {},
   "outputs": [],
   "source": []
  }
 ],
 "metadata": {
  "kernelspec": {
   "display_name": "PyCharm (random-forest-fennel-student-code)",
   "language": "python",
   "name": "pycharm-1d600196"
  },
  "language_info": {
   "codemirror_mode": {
    "name": "ipython",
    "version": 3
   },
   "file_extension": ".py",
   "mimetype": "text/x-python",
   "name": "python",
   "nbconvert_exporter": "python",
   "pygments_lexer": "ipython3",
   "version": "3.9.7"
  }
 },
 "nbformat": 4,
 "nbformat_minor": 4
}
