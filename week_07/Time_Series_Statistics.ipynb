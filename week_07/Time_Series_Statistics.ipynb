{
 "cells": [
  {
   "cell_type": "markdown",
   "metadata": {
    "slideshow": {
     "slide_type": "slide"
    }
   },
   "source": [
    "## Statistics 🎲 of Time Series ⏳ 📈\n",
    "                                          "
   ]
  },
  {
   "cell_type": "markdown",
   "metadata": {
    "slideshow": {
     "slide_type": "slide"
    }
   },
   "source": [
    "### Concepts (Learning Objectives)\n",
    "\n",
    "* Stochastic processes by which data has been created: Stationarity ↔️\n",
    "* Stochastic processes by which data has been created (examples):  White noise 💥 vs.  Random walk 🎲 🚶🏿‍♀️ \n",
    "* Test for stationarity (Dickey-Fuller Test) 🧐\n",
    "* Statsmodels output"
   ]
  },
  {
   "cell_type": "code",
   "execution_count": 1,
   "metadata": {
    "slideshow": {
     "slide_type": "skip"
    }
   },
   "outputs": [],
   "source": [
    "import numpy as np\n",
    "from matplotlib import pyplot as plt\n",
    "import statsmodels\n",
    "\n",
    "import numpy as np\n",
    "import matplotlib.pyplot as plt\n",
    "%matplotlib inline\n",
    "import pandas as pd\n",
    "\n",
    "import statsmodels\n",
    "from statsmodels.tsa.ar_model import AutoReg\n",
    "from statsmodels.tsa import stattools\n",
    "import seaborn as sns"
   ]
  },
  {
   "cell_type": "code",
   "execution_count": 2,
   "metadata": {
    "slideshow": {
     "slide_type": "skip"
    }
   },
   "outputs": [],
   "source": [
    "flights = sns.load_dataset('flights').drop('year', axis=1)\n",
    "df = pd.read_csv(\"flights_remainder.csv\", index_col=0, parse_dates=True)"
   ]
  },
  {
   "cell_type": "markdown",
   "metadata": {
    "slideshow": {
     "slide_type": "slide"
    }
   },
   "source": [
    "### Time Series and Distribution Functions\n",
    "\n",
    "Time series: Set of values for a variable that are sequenced in time. \n",
    "\n",
    "If there is no randomness and weak dependence in the process, the next data step can completely be determined using analytical solutions. \n",
    "\n",
    "But in most cases, there is some randomness or the underlying process is too complex to model analytically so you model it as a **stochastic process** and at every time step, the **value of the random variable is chosen from a distribution**."
   ]
  },
  {
   "cell_type": "markdown",
   "metadata": {
    "slideshow": {
     "slide_type": "slide"
    }
   },
   "source": [
    "### Autoregressive time series\n",
    "\n",
    "Time series: Set of values for a variable that are sequenced in time. \n",
    "\n",
    "If there is no randomness and weak dependence in the process, the next data step can completely be determined using analytical solutions. \n",
    "\n",
    "But in most cases, there is some randomness or the underlying process is too complex to model analytically so you model it as a **stochastic process** and at every time step, the **value of the random variable is chosen from a distribution**."
   ]
  },
  {
   "cell_type": "markdown",
   "metadata": {
    "slideshow": {
     "slide_type": "slide"
    }
   },
   "source": [
    "## Precondition for being able to model time series data: \"stationarity\"  ↔️"
   ]
  },
  {
   "cell_type": "markdown",
   "metadata": {
    "slideshow": {
     "slide_type": "slide"
    }
   },
   "source": [
    "In order to model your time series, you want it to be **stationary**. This ensures that every value is **drawn from the same distribution** so its **statistical properties don't change over time**. \n",
    "\n",
    "In other words:\n",
    "* constant mean \n",
    "* constant variance (and covariance)"
   ]
  },
  {
   "cell_type": "markdown",
   "metadata": {
    "slideshow": {
     "slide_type": "slide"
    }
   },
   "source": [
    "#### Types of stationarities we can encounter:\n",
    "\n",
    "\n",
    "* **Strict** stationarity: Your time series is **completely time invariant**. The meaning of the strongly stationarity is that the **distribution of a number of random variables of the stochastic process is the same as we shift them along the time** index axis.\n",
    "\n",
    "* **Weak** stationarity: The mean and variance do not change over time **but auto-covariance depends on the time distance n between the steps t-n and t, rather than their absolute positions**, so it can still be modelled as the same distribution (see also below).\n",
    "\n",
    "* **Trend** stationary: It has a **predictable trend**. In this case, the **overall mean trend equals the trend between consecutive steps**."
   ]
  },
  {
   "cell_type": "markdown",
   "metadata": {
    "slideshow": {
     "slide_type": "slide"
    }
   },
   "source": [
    "**Question**\n",
    "\n",
    "Are most time series in real life stationary? \n",
    "\n",
    "http://krspiced.pythonanywhere.com/chapters/project_temperature/statistics_of_time_series/statistics_of_time_series.html"
   ]
  },
  {
   "cell_type": "markdown",
   "metadata": {
    "slideshow": {
     "slide_type": "slide"
    }
   },
   "source": [
    "## Thinking about time series data as \"white noise\" 💥 "
   ]
  },
  {
   "cell_type": "markdown",
   "metadata": {
    "slideshow": {
     "slide_type": "slide"
    }
   },
   "source": [
    "Remember: a stochastic process is weakly stationary (also known as \"covariance-stationary\") if\n",
    "1. it has the **same mean value, μ, at all time points**;\n",
    "2. it has the **same variance, γ0, at all time points**; and\n",
    "3. the **covariance between the values at any two time points, t, t − n, depend only on n, the difference between the two times, and not on the location of the points along the time axis**."
   ]
  },
  {
   "cell_type": "markdown",
   "metadata": {
    "slideshow": {
     "slide_type": "slide"
    }
   },
   "source": [
    "An important **example of weakly stationary process** is the so-called **white noise process**.\n",
    "\n",
    "Definition . A stochastic process in which the random variables $$u_{t}, t = 0 ± 1, ±2...$$ are such that\n",
    "1. $$ E(u_{t}) = 0, ∀t $$\n",
    "2. $$ Var(u_{t}) = σ^2 <∞, ∀t$$\n",
    "3. $$ Cov(u_{t},u_{t}−n) = 0, ∀t,∀n $$"
   ]
  },
  {
   "cell_type": "markdown",
   "metadata": {
    "slideshow": {
     "slide_type": "slide"
    }
   },
   "source": [
    "## Thinking about time series data as \"random walk\" 🎲 🚶🏿‍♀️\n",
    "https://towardsdatascience.com/random-walks-with-restart-explained-77c3fe216bca"
   ]
  },
  {
   "cell_type": "markdown",
   "metadata": {
    "slideshow": {
     "slide_type": "slide"
    }
   },
   "source": [
    "The mean of $$y_{t}$$ is given by\n",
    "1. $$E(y_{t}) = δ$$\n",
    "and its variance is\n",
    "2. $$Var(y_{t}) = tσ^2$$\n",
    "Thus a **random walk** is **not** (weakly) **stationary process**."
   ]
  },
  {
   "cell_type": "markdown",
   "metadata": {
    "slideshow": {
     "slide_type": "slide"
    }
   },
   "source": [
    "#### Example (of white noise vs. random walk)"
   ]
  },
  {
   "cell_type": "code",
   "execution_count": 3,
   "metadata": {
    "slideshow": {
     "slide_type": "slide"
    }
   },
   "outputs": [],
   "source": [
    "def plotting_noise(x,y,label, text, position):\n",
    "    plt.subplot(position)    \n",
    "    plt.plot(x, y, color='k',linewidth = 0.5)\n",
    "    plt.xlabel('t')\n",
    "    plt.ylabel('value')\n",
    "    plt.text(5.5, min(y)*0.95 ,text, fontsize = 13, color = 'red')"
   ]
  },
  {
   "cell_type": "code",
   "execution_count": 4,
   "metadata": {
    "slideshow": {
     "slide_type": "slide"
    }
   },
   "outputs": [],
   "source": [
    "x = np.linspace(0, 10, 1000) \n",
    "gaussian_noise = np.random.normal(size=1000)"
   ]
  },
  {
   "cell_type": "code",
   "execution_count": 5,
   "metadata": {
    "slideshow": {
     "slide_type": "slide"
    }
   },
   "outputs": [],
   "source": [
    "np.random.seed(510)\n",
    "normal_y = np.random.normal(0,1,1000)\n",
    "random_walk_y = np.cumsum(normal_y)"
   ]
  },
  {
   "cell_type": "code",
   "execution_count": 6,
   "metadata": {
    "slideshow": {
     "slide_type": "slide"
    }
   },
   "outputs": [
    {
     "data": {
      "image/png": "[encoded data removed]",
      "text/plain": [
       "<Figure size 792x360 with 2 Axes>"
      ]
     },
     "metadata": {
      "needs_background": "light"
     },
     "output_type": "display_data"
    }
   ],
   "source": [
    "plt.figure(figsize=[11,5])\n",
    "plotting_noise(x,gaussian_noise,\"White Noise\",'Weakly stationary',121)\n",
    "plotting_noise(x,random_walk_y,\"Random Walk\",'Non-stationary',122)\n",
    "plt.savefig('whitenoise_randomwalk.png')"
   ]
  },
  {
   "cell_type": "markdown",
   "metadata": {
    "slideshow": {
     "slide_type": "slide"
    }
   },
   "source": [
    "## How to check for \"stationarity\"?  🧐"
   ]
  },
  {
   "cell_type": "markdown",
   "metadata": {
    "slideshow": {
     "slide_type": "slide"
    }
   },
   "source": [
    "- look at the plots (see above)\n",
    "- look for existence of any unit root(s)\n",
    "- apply the **augmented Dickey Fuller test**"
   ]
  },
  {
   "cell_type": "markdown",
   "metadata": {
    "slideshow": {
     "slide_type": "slide"
    }
   },
   "source": [
    "#### Unit Root\n",
    "\n",
    "A non-stationary time-series might have a unit root which means the solution to the characteristic equation that relates to the differential has at least one root that is equal to 1 (could also be larger).\n",
    "\n",
    "This results in an upredictable systematic pattern (as opposed to a stationary series we'd use to get some predictions from). For instance, if some extreme event happened and your equation has a root that is equal or larger than 1, the system is not able to just bounce back in next step as a stationary process should do, it will likely be affected by that event for many more steps after that as the underlying process is not dampening the effect. \n",
    "\n",
    "\n",
    "**For the basic concept** \n",
    "https://www.statisticshowto.com/unit-root/\n",
    "\n",
    "**Read the introduction of the following article on Wikipedia to Unit Root**\n",
    "https://en.wikipedia.org/wiki/Unit_root\n",
    "\n",
    "**Nice simple solution example**\n",
    "https://socialsciences.mcmaster.ca/magee/761_762/other%20material/unit%20and%20char%20roots.pdf\n",
    "\n",
    "**If you are more into maths, go ahead and check how the characteristic equation is solved too**\n",
    "https://en.wikipedia.org/wiki/Linear_difference_equation#Solution_of_homogeneous_case"
   ]
  },
  {
   "cell_type": "markdown",
   "metadata": {
    "slideshow": {
     "slide_type": "slide"
    }
   },
   "source": [
    "#### Augmented Dickey-Fuller Test\n",
    "\n",
    "Dickey - Fuller Test is a stationarity test for time series. It is measuring the \n",
    "- likelihood of the solutions to the **differenced** form of the characteristic equation. \n",
    "\n",
    "Based on the significance level it associates with its statistical measure, you decide whether it's stationary or not.\n",
    "\n",
    "https://www.machinelearningplus.com/time-series/augmented-dickey-fuller-test/\n",
    "\n",
    "https://www.statsmodels.org/0.6.1/generated/statsmodels.tsa.stattools.adfuller.html"
   ]
  },
  {
   "cell_type": "markdown",
   "metadata": {
    "slideshow": {
     "slide_type": "slide"
    }
   },
   "source": [
    "The null hypothesis is that the time series is NOT-stationary. So small p value means that you have a stationary series.\n",
    "\n",
    "(More about hypothesis testing: https://statisticsbyjim.com/hypothesis-testing/one-tailed-two-tailed-hypothesis-tests/)"
   ]
  },
  {
   "cell_type": "code",
   "execution_count": 7,
   "metadata": {
    "slideshow": {
     "slide_type": "slide"
    }
   },
   "outputs": [
    {
     "data": {
      "text/plain": [
       "(-30.524565721849534,\n",
       " 0.0,\n",
       " 0,\n",
       " 999,\n",
       " {'1%': -3.4369127451400474,\n",
       "  '5%': -2.864437475834273,\n",
       "  '10%': -2.568312754566378},\n",
       " 2730.184284800999)"
      ]
     },
     "execution_count": 7,
     "metadata": {},
     "output_type": "execute_result"
    }
   ],
   "source": [
    "statsmodels.tsa.stattools.adfuller(gaussian_noise)"
   ]
  },
  {
   "cell_type": "code",
   "execution_count": 8,
   "metadata": {
    "slideshow": {
     "slide_type": "skip"
    }
   },
   "outputs": [],
   "source": [
    "def print_adf(data):\n",
    "    \n",
    "    \"\"\" Prints the results of the augmented Dickey Fuller Test\"\"\"\n",
    "    \n",
    "    adf_stats, p, used_lag, n_obs, levels, information_criterion = \\\n",
    "            statsmodels.tsa.stattools.adfuller(data)\n",
    "    \n",
    "    print(f\"\"\"   \n",
    "            adf: {round(adf_stats,2)}\n",
    "            p: {p} \n",
    "            used lag: {used_lag} \n",
    "            number of observations: {n_obs}\n",
    "            {round(levels['1%'],2)} (p=1; CI=99%) \n",
    "            {round(levels['5%'],2)} (p=5; CI=95%)\n",
    "            {round(levels['10%'],2)} (p=10 CI=90%) \n",
    "            information criterion (AIC): {information_criterion}\n",
    "            \"\"\")"
   ]
  },
  {
   "cell_type": "code",
   "execution_count": 9,
   "metadata": {
    "slideshow": {
     "slide_type": "slide"
    }
   },
   "outputs": [
    {
     "name": "stdout",
     "output_type": "stream",
     "text": [
      "   \n",
      "            adf: -30.52\n",
      "            p: 0.0 \n",
      "            used lag: 0 \n",
      "            number of observations: 999\n",
      "            -3.44 (p=1; CI=99%) \n",
      "            -2.86 (p=5; CI=95%)\n",
      "            -2.57 (p=10 CI=90%) \n",
      "            information criterion (AIC): 2730.184284800999\n",
      "            \n"
     ]
    }
   ],
   "source": [
    "print_adf(gaussian_noise)"
   ]
  },
  {
   "cell_type": "markdown",
   "metadata": {
    "slideshow": {
     "slide_type": "slide"
    }
   },
   "source": [
    "* The first number is the ADF-Stats, the more negative it is, the more confident we are that we don't have a random walk.\n",
    "\n",
    "* In the lookup table (dictionary), the smallest value is -3.44 for the adf_stats. Hence from -30.52 < -3.4 we can reject the null hypothesis with a confidence level of more than 99% (p=0.01, highly significant result)."
   ]
  },
  {
   "cell_type": "markdown",
   "metadata": {
    "slideshow": {
     "slide_type": "slide"
    }
   },
   "source": [
    "Think about the possible values of the **ADF-Stats to be a random variable**. \n",
    "\n",
    "It has the **assumption that a time series is not stationary**. \n",
    "\n",
    "So **if the value you ge** from the test is **in the centre of the distribution that describes the ADF-Stats variable**, then **your time series is NOT stationary**. \n",
    "\n",
    "**Therefore, we would want our remainder's ADF-Stats value to be somewhere outside.**\n",
    "\n",
    "If you choose a confidence interval of 95%, you are saying you covered 95% of ADF outcomes inside the range and **any value outside of that is quite significantly different (meaning it's stationary).** \n",
    "\n",
    "If you chose 95%, then your **p-value is 0.05.** "
   ]
  },
  {
   "cell_type": "markdown",
   "metadata": {
    "slideshow": {
     "slide_type": "slide"
    }
   },
   "source": [
    "### Reading The Output Of The Statsmodels AutoReg"
   ]
  },
  {
   "cell_type": "code",
   "execution_count": 10,
   "metadata": {
    "slideshow": {
     "slide_type": "skip"
    }
   },
   "outputs": [],
   "source": [
    "###from statsmodels import **seasonal_decompose**"
   ]
  },
  {
   "cell_type": "code",
   "execution_count": 11,
   "metadata": {
    "slideshow": {
     "slide_type": "slide"
    }
   },
   "outputs": [
    {
     "name": "stderr",
     "output_type": "stream",
     "text": [
      "/Users/carlospumar/opt/anaconda3/lib/python3.8/site-packages/statsmodels/tsa/base/tsa_model.py:524: ValueWarning: No frequency information was provided, so inferred frequency MS will be used.\n",
      "  warnings.warn('No frequency information was'\n",
      "/Users/carlospumar/opt/anaconda3/lib/python3.8/site-packages/statsmodels/tsa/ar_model.py:248: FutureWarning: The parameter names will change after 0.12 is released. Set old_names to False to use the new names now. Set old_names to True to use the old names. \n",
      "  warnings.warn(\n"
     ]
    }
   ],
   "source": [
    "ar_model = AutoReg(endog=df['remainder'], lags=1).fit()"
   ]
  },
  {
   "cell_type": "code",
   "execution_count": 12,
   "metadata": {
    "slideshow": {
     "slide_type": "slide"
    }
   },
   "outputs": [
    {
     "name": "stderr",
     "output_type": "stream",
     "text": [
      "/Users/carlospumar/opt/anaconda3/lib/python3.8/site-packages/statsmodels/tsa/base/tsa_model.py:132: FutureWarning: The 'freq' argument in Timestamp is deprecated and will be removed in a future version.\n",
      "  date_key = Timestamp(key, freq=base_index.freq)\n"
     ]
    },
    {
     "data": {
      "text/html": [
       "<table class=\"simpletable\">\n",
       "<caption>AutoReg Model Results</caption>\n",
       "<tr>\n",
       "  <th>Dep. Variable:</th>     <td>remainder</td>    <th>  No. Observations:  </th>    <td>132</td>  \n",
       "</tr>\n",
       "<tr>\n",
       "  <th>Model:</th>            <td>AutoReg(1)</td>    <th>  Log Likelihood     </th> <td>-453.876</td>\n",
       "</tr>\n",
       "<tr>\n",
       "  <th>Method:</th>         <td>Conditional MLE</td> <th>  S.D. of innovations</th>   <td>7.735</td> \n",
       "</tr>\n",
       "<tr>\n",
       "  <th>Date:</th>          <td>Wed, 10 Nov 2021</td> <th>  AIC                </th>   <td>4.137</td> \n",
       "</tr>\n",
       "<tr>\n",
       "  <th>Time:</th>              <td>12:37:16</td>     <th>  BIC                </th>   <td>4.203</td> \n",
       "</tr>\n",
       "<tr>\n",
       "  <th>Sample:</th>           <td>02-01-1949</td>    <th>  HQIC               </th>   <td>4.164</td> \n",
       "</tr>\n",
       "<tr>\n",
       "  <th></th>                 <td>- 12-01-1959</td>   <th>                     </th>     <td> </td>   \n",
       "</tr>\n",
       "</table>\n",
       "<table class=\"simpletable\">\n",
       "<tr>\n",
       "        <td></td>          <th>coef</th>     <th>std err</th>      <th>z</th>      <th>P>|z|</th>  <th>[0.025</th>    <th>0.975]</th>  \n",
       "</tr>\n",
       "<tr>\n",
       "  <th>intercept</th>    <td>   -0.0882</td> <td>    0.676</td> <td>   -0.130</td> <td> 0.896</td> <td>   -1.413</td> <td>    1.236</td>\n",
       "</tr>\n",
       "<tr>\n",
       "  <th>remainder.L1</th> <td>    0.7597</td> <td>    0.057</td> <td>   13.310</td> <td> 0.000</td> <td>    0.648</td> <td>    0.872</td>\n",
       "</tr>\n",
       "</table>\n",
       "<table class=\"simpletable\">\n",
       "<caption>Roots</caption>\n",
       "<tr>\n",
       "    <td></td>   <th>            Real</th>  <th>         Imaginary</th> <th>         Modulus</th>  <th>        Frequency</th>\n",
       "</tr>\n",
       "<tr>\n",
       "  <th>AR.1</th> <td>           1.3164</td> <td>          +0.0000j</td> <td>           1.3164</td> <td>           0.0000</td>\n",
       "</tr>\n",
       "</table>"
      ],
      "text/plain": [
       "<class 'statsmodels.iolib.summary.Summary'>\n",
       "\"\"\"\n",
       "                            AutoReg Model Results                             \n",
       "==============================================================================\n",
       "Dep. Variable:              remainder   No. Observations:                  132\n",
       "Model:                     AutoReg(1)   Log Likelihood                -453.876\n",
       "Method:               Conditional MLE   S.D. of innovations              7.735\n",
       "Date:                Wed, 10 Nov 2021   AIC                              4.137\n",
       "Time:                        12:37:16   BIC                              4.203\n",
       "Sample:                    02-01-1949   HQIC                             4.164\n",
       "                         - 12-01-1959                                         \n",
       "================================================================================\n",
       "                   coef    std err          z      P>|z|      [0.025      0.975]\n",
       "--------------------------------------------------------------------------------\n",
       "intercept       -0.0882      0.676     -0.130      0.896      -1.413       1.236\n",
       "remainder.L1     0.7597      0.057     13.310      0.000       0.648       0.872\n",
       "                                    Roots                                    \n",
       "=============================================================================\n",
       "                  Real          Imaginary           Modulus         Frequency\n",
       "-----------------------------------------------------------------------------\n",
       "AR.1            1.3164           +0.0000j            1.3164            0.0000\n",
       "-----------------------------------------------------------------------------\n",
       "\"\"\""
      ]
     },
     "execution_count": 12,
     "metadata": {},
     "output_type": "execute_result"
    }
   ],
   "source": [
    "ar_model.summary()"
   ]
  },
  {
   "cell_type": "markdown",
   "metadata": {
    "slideshow": {
     "slide_type": "slide"
    }
   },
   "source": [
    "- Likelihood is a measure of the goodness of fit for your model to the data (similar to probability but not exactly and it is not bound by the 1 at the upper limit). \"How likely it is that your data coming from this process?\" Why is the log likelihood negative? \n",
    "\n",
    "https://stats.stackexchange.com/questions/132877/how-to-calculate-the-likelihood-function\n",
    "\n",
    "- P value is a measure of the probability of the observed value occuring randomly (the hypothesis that you are trying to reject). A small p value means that the value is not likely to have occured randomly, and hence is significant. The p value cut-off of 0.05 (5%) is typical. In the above the high P value for the intercept suggests that we should probably try to improve the model. Or rather the intercept value we find isn't necessarily going to help our model. \n",
    "\n",
    "https://statisticsbyjim.com/regression/interpret-coefficients-p-values-regression/\n",
    "\n",
    "- The values [0.025\t0.975] correspond to the 95% confidence intervals for both parameter values (intercept and slope). So 95% of possible values for the two coefficients are between these ranges.\n",
    "\n",
    "- In time series, the innovation is the difference between the observed value and the forecast based on the past. (S.D: standard deviation). So if you think in terms of the standard deviation, 7.7 actually seems like a small value.\n",
    "\n",
    "- AIC is the Akaike Information Criterion. **We want to minimise it** and this will happen for the smaller number of parameters and larger likelihood. \n",
    "     \n",
    "     $$AIC = 2k - 2log(L)$$\n",
    "\n",
    "- BIC is the Bayesian Information Criterion. It is very similar to AIC, but the penalty term for parameters is larger (logarithm of the number of observations used).\n",
    "\n",
    "     $$BIC = k ln(n) - 2log(L)$$\n",
    "\n",
    "\n",
    "- Root is the solution of the characteristic equation. They are the inverse roots of the AR polynomial above, either the roots of the characteristic equation need to be smaller than 1 or the roots of the polynomial needs to be larger than 1 for stationarity in an AR process."
   ]
  },
  {
   "cell_type": "markdown",
   "metadata": {
    "slideshow": {
     "slide_type": "skip"
    }
   },
   "source": [
    "https://socialsciences.mcmaster.ca/magee/761_762/other%20material/unit%20and%20char%20roots.pdf\n",
    "\n",
    "https://uh.edu/~bsorense/arma-intro2012.pdf\n",
    "\n",
    "http://www2.stat.duke.edu/~cr173/Sta444_Fa18/slides/Lec08/Lec08.pdf\n",
    "\n",
    "https://stats.stackexchange.com/questions/456191/how-ar-model-parameters-are-estimated"
   ]
  },
  {
   "cell_type": "markdown",
   "metadata": {
    "slideshow": {
     "slide_type": "slide"
    }
   },
   "source": [
    "## III. Let's wrap up!"
   ]
  }
 ],
 "metadata": {
  "celltoolbar": "Slideshow",
  "interpreter": {
   "hash": "3ceadbadefebc25e62a78ec4839c85decbc6a9636d8146466074efd65124ae94"
  },
  "kernelspec": {
   "display_name": "Python 3 (ipykernel)",
   "language": "python",
   "name": "python3"
  },
  "language_info": {
   "codemirror_mode": {
    "name": "ipython",
    "version": 3
   },
   "file_extension": ".py",
   "mimetype": "text/x-python",
   "name": "python",
   "nbconvert_exporter": "python",
   "pygments_lexer": "ipython3",
   "version": "3.8.8"
  }
 },
 "nbformat": 4,
 "nbformat_minor": 4
}
