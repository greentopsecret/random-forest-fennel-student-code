{
 "cells": [
  {
   "cell_type": "markdown",
   "id": "719bdb4e-1ab9-48fc-8fc3-915181d6f7b8",
   "metadata": {},
   "source": [
    "# 7.7. Drawing Maps 🌶"
   ]
  },
  {
   "cell_type": "code",
   "execution_count": null,
   "id": "d0095870-ac46-4842-8f28-e9c2268088e6",
   "metadata": {},
   "outputs": [],
   "source": [
    "# !pip install folium\n",
    "# !pip install geopy"
   ]
  },
  {
   "cell_type": "code",
   "execution_count": null,
   "id": "67470dec-ee5a-4d77-b69d-371ce20966d9",
   "metadata": {},
   "outputs": [],
   "source": [
    "import folium\n",
    "\n",
    "world_map=folium.Map()\n",
    "world_map"
   ]
  },
  {
   "cell_type": "code",
   "execution_count": null,
   "id": "26621fea-f6b4-4cd9-8694-e5063f149310",
   "metadata": {},
   "outputs": [],
   "source": [
    "berlin = folium.Map(location=[52.54871428219888, 13.41082039081814],\n",
    "                zoom_start=18,\n",
    "                width=600, height=600,\n",
    "                control_scale=True,\n",
    "                tiles='OpenStreetMap')\n",
    "berlin"
   ]
  },
  {
   "cell_type": "code",
   "execution_count": null,
   "id": "c02e4cae-3462-460f-b84a-702e176bb5cf",
   "metadata": {},
   "outputs": [],
   "source": [
    "from geopy.geocoders import Nominatim\n",
    "\n",
    "loc = Nominatim(user_agent=\"mymap\").geocode(\"Kopenhagener Str 72, 10437\")\n",
    "loc.address"
   ]
  },
  {
   "cell_type": "code",
   "execution_count": null,
   "id": "f40d7953-c08b-450b-8df5-64aa9ab4646c",
   "metadata": {},
   "outputs": [],
   "source": [
    "coord = loc.latitude, loc.longitude\n",
    "coord"
   ]
  },
  {
   "cell_type": "code",
   "execution_count": null,
   "id": "34c559e7-37a2-421e-be0a-51e79269ba8d",
   "metadata": {},
   "outputs": [],
   "source": [
    "spiced = folium.Marker(\n",
    "    coord, \n",
    "    popup='Weinladung',\n",
    "    icon=folium.Icon(icon='star', color='orange')\n",
    ")\n",
    "spiced.add_to(berlin)\n",
    "\n",
    "berlin.zoom_start = 15\n",
    "berlin"
   ]
  },
  {
   "cell_type": "code",
   "execution_count": null,
   "id": "130f79b7-1c35-4cd5-937d-3ec0f9613e8c",
   "metadata": {},
   "outputs": [],
   "source": [
    "# popup=folium.Popup(df['NAME'],parse_html=True)"
   ]
  },
  {
   "cell_type": "code",
   "execution_count": null,
   "id": "9e2146b7-2466-487f-bb76-bcc8a9eb777e",
   "metadata": {},
   "outputs": [],
   "source": [
    "from folium.features import CustomIcon\n",
    "\n",
    "atom = CustomIcon('https://i.fbcd.co/products/resized/resized-1500-1000/161fe8ff127f0fb83261bb459a7a3d128f32cb9a1d9d88a4c6140eb6ffb9b449.webp',\n",
    "                      icon_size=(100, 100))\n",
    "\n",
    "spiced = folium.Marker(coord, popup='Wineladung',\n",
    "                       icon=atom)\n",
    "spiced.add_to(berlin)\n",
    "\n",
    "berlin.zoom_start = 15\n",
    "berlin"
   ]
  },
  {
   "cell_type": "code",
   "execution_count": null,
   "id": "8e6241b8-cc94-45b1-8965-1dd64f89615a",
   "metadata": {},
   "outputs": [],
   "source": []
  }
 ],
 "metadata": {
  "kernelspec": {
   "display_name": "Python 3 (ipykernel)",
   "language": "python",
   "name": "python3"
  },
  "language_info": {
   "codemirror_mode": {
    "name": "ipython",
    "version": 3
   },
   "file_extension": ".py",
   "mimetype": "text/x-python",
   "name": "python",
   "nbconvert_exporter": "python",
   "pygments_lexer": "ipython3",
   "version": "3.8.8"
  }
 },
 "nbformat": 4,
 "nbformat_minor": 5
}
