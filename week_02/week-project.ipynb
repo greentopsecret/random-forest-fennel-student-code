{
 "cells": [
  {
   "cell_type": "code",
   "execution_count": 1,
   "id": "25c3fd25",
   "metadata": {},
   "outputs": [],
   "source": [
    "import pandas as pd\n",
    "from sklearn.compose import ColumnTransformer\n",
    "from sklearn.impute import SimpleImputer\n",
    "from sklearn.preprocessing import OneHotEncoder, MinMaxScaler\n",
    "from sklearn.preprocessing import KBinsDiscretizer\n",
    "from sklearn.model_selection import train_test_split\n",
    "from sklearn.preprocessing import FunctionTransformer\n",
    "from sklearn.preprocessing import Binarizer\n",
    "from sklearn.pipeline import make_pipeline\n",
    "from sklearn.linear_model import LogisticRegression"
   ]
  },
  {
   "cell_type": "code",
   "execution_count": 2,
   "id": "30eca51a",
   "metadata": {},
   "outputs": [],
   "source": [
    "df = pd.read_csv(\"../data/train.csv\", sep=\",\")"
   ]
  },
  {
   "cell_type": "code",
   "execution_count": 3,
   "id": "febe1d28",
   "metadata": {},
   "outputs": [],
   "source": [
    "X = df[['Pclass', 'Sex', 'Age', 'SibSp', 'Parch', 'Fare', 'Embarked', 'Cabin', 'Name']]\n",
    "y = df['Survived']\n",
    "X_train, X_test, y_train_real, y_test_real = train_test_split(X, y, test_size=0.2, random_state=151)"
   ]
  },
  {
   "cell_type": "code",
   "execution_count": 4,
   "id": "7d818904",
   "metadata": {},
   "outputs": [],
   "source": [
    "# df.loc[df['Age'].isna(), 'Age'] = df.groupby(by=['Sex', 'Pclass'])['Age'].transform('mean')\n",
    "# df"
   ]
  },
  {
   "cell_type": "code",
   "execution_count": 5,
   "id": "93eb4456",
   "metadata": {},
   "outputs": [],
   "source": [
    "def age_by_group(df):\n",
    "    df.loc[df['Age'].isna(), 'Age'] = df.groupby(by=['Sex', 'Pclass'])['Age'].transform('mean')\n",
    "    return df.copy(deep=True)"
   ]
  },
  {
   "cell_type": "code",
   "execution_count": 6,
   "id": "018a7ab2",
   "metadata": {},
   "outputs": [],
   "source": [
    "def cabin_to_deck(df):  \n",
    "    df.loc[df['Cabin'].notna(), 'Cabin'] = df[df['Cabin'].notna()]['Cabin'].astype(str).str[0]\n",
    "    return df.copy(deep=True)"
   ]
  },
  {
   "cell_type": "code",
   "execution_count": 7,
   "id": "82c0a938",
   "metadata": {},
   "outputs": [],
   "source": [
    "def add_family_size(df: pd.DataFrame):\n",
    "#     SibSp\n",
    "#     Parch\n",
    "    df.loc[(df['SibSp'] >= 5), 'family_tshirt_size'] = 'XL'\n",
    "    df.loc[(df['SibSp'] >= 3) & (df['SibSp'] < 5), 'family_tshirt_size'] = 'L'\n",
    "    df.loc[(df['SibSp'] == 2), 'family_tshirt_size'] = 'M'\n",
    "    df.loc[(df['SibSp'] == 1), 'family_tshirt_size'] = 'S'\n",
    "\n",
    "    return df.copy(deep=True)\n",
    "\n",
    "\n",
    "# add_family_size(X_train)"
   ]
  },
  {
   "cell_type": "code",
   "execution_count": 8,
   "id": "21626840",
   "metadata": {},
   "outputs": [],
   "source": [
    "# X_train['Fare'].isna().value_counts()"
   ]
  },
  {
   "cell_type": "code",
   "execution_count": 9,
   "id": "2de6ff4b",
   "metadata": {},
   "outputs": [],
   "source": [
    "pipeline = make_pipeline(\n",
    "        FunctionTransformer(age_by_group),\n",
    "        FunctionTransformer(cabin_to_deck),\n",
    "        FunctionTransformer(add_family_size),\n",
    "        ColumnTransformer([\n",
    "            ('quantile_age', KBinsDiscretizer(n_bins=3, strategy='quantile'), ['Age']),\n",
    "            ('quantile_fare', KBinsDiscretizer(n_bins=3, strategy='quantile'), ['Fare']),\n",
    "            ('ohe_and_sex', OneHotEncoder(sparse=False, handle_unknown='ignore'), ['Sex']),\n",
    "            ('ohe_deck', OneHotEncoder(sparse=False, handle_unknown='ignore'), ['Cabin']),\n",
    "            ('ohe_family_tshirt_size', OneHotEncoder(sparse=False, handle_unknown='ignore'), ['family_tshirt_size']),\n",
    "            ('do_nothing', 'passthrough', ['Pclass']),\n",
    "            ('family_with_kids', Binarizer(), ['Parch'])\n",
    "        ], remainder='drop'),\n",
    "    )"
   ]
  },
  {
   "cell_type": "code",
   "execution_count": 56,
   "id": "805dc4ed",
   "metadata": {},
   "outputs": [],
   "source": [
    "pipeline.fit(X_train)\n",
    "\n",
    "X_train_fe = pipeline.transform(X_train)\n",
    "\n",
    "# pd.DataFrame(X_train_fe)"
   ]
  },
  {
   "cell_type": "code",
   "execution_count": 58,
   "id": "4b249037",
   "metadata": {},
   "outputs": [
    {
     "data": {
      "image/png": "[encoded data removed]",
      "text/plain": [
       "<Figure size 432x288 with 2 Axes>"
      ]
     },
     "metadata": {
      "needs_background": "light"
     },
     "output_type": "display_data"
    }
   ],
   "source": [
    "import seaborn as sns\n",
    "\n",
    "df_train_fe = pd.DataFrame(X_train_fe).join(y_train_real)\n",
    "\n",
    "ax = sns.heatmap(\n",
    "    df_train_fe.corr(), \n",
    "    vmin=-1, vmax=1, center=0,\n",
    "    cmap=sns.diverging_palette(20, 220, n=200),\n",
    "    square=True\n",
    ")"
   ]
  },
  {
   "cell_type": "code",
   "execution_count": 11,
   "id": "8e35c56d",
   "metadata": {},
   "outputs": [
    {
     "data": {
      "text/plain": [
       "LogisticRegression()"
      ]
     },
     "execution_count": 11,
     "metadata": {},
     "output_type": "execute_result"
    }
   ],
   "source": [
    "m = LogisticRegression()\n",
    "m.fit(X_train_fe, y_train_real)\n",
    "# y_pred = m.predict(X_train_fe)"
   ]
  },
  {
   "cell_type": "markdown",
   "id": "b8b67d51",
   "metadata": {},
   "source": [
    "### Evaluate Classifiers"
   ]
  },
  {
   "cell_type": "code",
   "execution_count": 41,
   "id": "3f0210f3",
   "metadata": {},
   "outputs": [],
   "source": [
    "from sklearn import metrics\n",
    "# .metrics import confusion_matrix, ConfusionMatrixDisplay, accuracy_score, precision_score, plot_roc_curve\n",
    "import matplotlib.pyplot as plt\n",
    "# from sklearn.metrics import ConfusionMatrixDisplay\n",
    "from sklearn.model_selection import train_test_split\n",
    "from sklearn.svm import SVC\n",
    "# from sklearn.metrics import recall_score\n",
    "# from sklearn.metrics import f1_score"
   ]
  },
  {
   "cell_type": "code",
   "execution_count": 13,
   "id": "6b49fb2f",
   "metadata": {},
   "outputs": [],
   "source": [
    "X_test_fe = pipeline.transform(X_test)\n",
    "y_test_pred = m.predict(X_test_fe)"
   ]
  },
  {
   "cell_type": "code",
   "execution_count": 14,
   "id": "ac2ba39d",
   "metadata": {},
   "outputs": [],
   "source": [
    "# print('score train data: %0.4f' % m.score(X_train_fe, y_train_real))\n",
    "# print('score test data: %0.4f' % m.score(X_test_fe, y_test_real))"
   ]
  },
  {
   "cell_type": "code",
   "execution_count": 42,
   "id": "767f4f4b",
   "metadata": {},
   "outputs": [
    {
     "data": {
      "text/plain": [
       "array([[102,  12],\n",
       "       [ 26,  39]])"
      ]
     },
     "execution_count": 42,
     "metadata": {},
     "output_type": "execute_result"
    }
   ],
   "source": [
    "metrics.confusion_matrix(y_test_real, y_test_pred)"
   ]
  },
  {
   "cell_type": "code",
   "execution_count": 45,
   "id": "4612257a",
   "metadata": {},
   "outputs": [
    {
     "data": {
      "image/png": "[encoded data removed]",
      "text/plain": [
       "<Figure size 432x288 with 2 Axes>"
      ]
     },
     "metadata": {
      "needs_background": "light"
     },
     "output_type": "display_data"
    }
   ],
   "source": [
    "clf = SVC(random_state=0)\n",
    "clf.fit(X_train_fe, y_train_real)\n",
    "\n",
    "ConfusionMatrixDisplay.from_estimator(clf, X_test_fe, y_test_real)\n",
    "\n",
    "plt.show()"
   ]
  },
  {
   "cell_type": "code",
   "execution_count": 46,
   "id": "7d60fb37",
   "metadata": {},
   "outputs": [
    {
     "data": {
      "image/png": "[encoded data removed]",
      "text/plain": [
       "<Figure size 432x288 with 2 Axes>"
      ]
     },
     "metadata": {
      "needs_background": "light"
     },
     "output_type": "display_data"
    }
   ],
   "source": [
    "clf = SVC(random_state=0)\n",
    "clf.fit(X_train_fe, y_train_real)\n",
    "\n",
    "y_test_pred = clf.predict(X_test_fe)\n",
    "ConfusionMatrixDisplay.from_predictions(y_test_real, y_test_pred)\n",
    "\n",
    "plt.show()"
   ]
  },
  {
   "cell_type": "code",
   "execution_count": 47,
   "id": "e0eeca76",
   "metadata": {},
   "outputs": [
    {
     "data": {
      "image/png": "[encoded data removed]",
      "text/plain": [
       "<Figure size 432x288 with 2 Axes>"
      ]
     },
     "metadata": {
      "needs_background": "light"
     },
     "output_type": "display_data"
    }
   ],
   "source": [
    "clf = SVC(random_state=0)\n",
    "clf.fit(X_train_fe, y_train_real)\n",
    "\n",
    "y_test_pred = clf.predict(X_test_fe)\n",
    "cm = confusion_matrix(y_test_real, y_test_pred, labels=clf.classes_)\n",
    "disp = ConfusionMatrixDisplay(confusion_matrix=cm, display_labels=clf.classes_)\n",
    "disp.plot()\n",
    "\n",
    "plt.show()"
   ]
  },
  {
   "cell_type": "code",
   "execution_count": 48,
   "id": "5c36e248",
   "metadata": {},
   "outputs": [
    {
     "data": {
      "text/plain": [
       "0.7877094972067039"
      ]
     },
     "execution_count": 48,
     "metadata": {},
     "output_type": "execute_result"
    }
   ],
   "source": [
    "metrics.accuracy_score(y_test_real, y_test_pred)"
   ]
  },
  {
   "cell_type": "code",
   "execution_count": 49,
   "id": "0beb62f5",
   "metadata": {},
   "outputs": [
    {
     "data": {
      "text/plain": [
       "0.7647058823529411"
      ]
     },
     "execution_count": 49,
     "metadata": {},
     "output_type": "execute_result"
    }
   ],
   "source": [
    "metrics.precision_score(y_test_real, y_test_pred)"
   ]
  },
  {
   "cell_type": "code",
   "execution_count": 50,
   "id": "afffff27",
   "metadata": {},
   "outputs": [
    {
     "data": {
      "text/plain": [
       "0.6"
      ]
     },
     "execution_count": 50,
     "metadata": {},
     "output_type": "execute_result"
    }
   ],
   "source": [
    "metrics.recall_score(y_test_real, y_test_pred)"
   ]
  },
  {
   "cell_type": "code",
   "execution_count": 51,
   "id": "d25c33fb",
   "metadata": {},
   "outputs": [
    {
     "data": {
      "text/plain": [
       "0.6724137931034482"
      ]
     },
     "execution_count": 51,
     "metadata": {},
     "output_type": "execute_result"
    }
   ],
   "source": [
    "metrics.f1_score(y_test_real, y_test_pred)"
   ]
  },
  {
   "cell_type": "code",
   "execution_count": 54,
   "id": "73e19992",
   "metadata": {},
   "outputs": [
    {
     "name": "stderr",
     "output_type": "stream",
     "text": [
      "/usr/local/lib/python3.9/site-packages/sklearn/utils/deprecation.py:87: FutureWarning: Function plot_roc_curve is deprecated; Function `plot_roc_curve` is deprecated in 1.0 and will be removed in 1.2. Use one of the class methods: RocCurveDisplay.from_predictions or RocCurveDisplay.from_estimator.\n",
      "  warnings.warn(msg, category=FutureWarning)\n"
     ]
    },
    {
     "data": {
      "text/plain": [
       "<sklearn.metrics._plot.roc_curve.RocCurveDisplay at 0x1214e9040>"
      ]
     },
     "execution_count": 54,
     "metadata": {},
     "output_type": "execute_result"
    },
    {
     "data": {
      "image/png": "[encoded data removed]",
      "text/plain": [
       "<Figure size 432x288 with 1 Axes>"
      ]
     },
     "metadata": {
      "needs_background": "light"
     },
     "output_type": "display_data"
    }
   ],
   "source": [
    "metrics.plot_roc_curve(m, X_test_fe, y_test_pred)"
   ]
  },
  {
   "cell_type": "markdown",
   "id": "4e640942",
   "metadata": {},
   "source": [
    "### Submit predictions to Kaggle"
   ]
  },
  {
   "cell_type": "code",
   "execution_count": 59,
   "id": "3981ed36",
   "metadata": {},
   "outputs": [],
   "source": [
    "X_data_kaggle = pd.read_csv(\"../data/test.csv\", sep=\",\")\n",
    "X_test_kaggle = X_data_kaggle.loc[:, ['Pclass', 'Sex', 'Age', 'SibSp', 'Parch', 'Fare', 'Embarked', 'Cabin', 'Name']]\n",
    "# X_test_kaggle.isna().sum()"
   ]
  },
  {
   "cell_type": "code",
   "execution_count": 21,
   "id": "aec89619",
   "metadata": {},
   "outputs": [],
   "source": [
    "fare_mean = X_test_kaggle['Fare'].mean()\n",
    "X_test_kaggle['Fare'].fillna(fare_mean, inplace=True)"
   ]
  },
  {
   "cell_type": "code",
   "execution_count": 60,
   "id": "e618a9da",
   "metadata": {},
   "outputs": [],
   "source": [
    "# X_test_kaggle.isna().sum()"
   ]
  },
  {
   "cell_type": "code",
   "execution_count": 23,
   "id": "84485271",
   "metadata": {},
   "outputs": [],
   "source": [
    "X_test_kaggle_fe = pipeline.transform(X_test_kaggle)"
   ]
  },
  {
   "cell_type": "code",
   "execution_count": 61,
   "id": "6c55d9f2",
   "metadata": {},
   "outputs": [],
   "source": [
    "df_kaggle = pd.DataFrame({\n",
    "    \"PassengerId\": X_data_kaggle['PassengerId'],\n",
    "    \"Survived\": m.predict(X_test_kaggle_fe)\n",
    "})\n",
    "# df_kaggle"
   ]
  },
  {
   "cell_type": "code",
   "execution_count": 25,
   "id": "5de5f8af",
   "metadata": {},
   "outputs": [],
   "source": [
    "df_kaggle.to_csv(\"./output/titanic_predictions.csv\", index=False)"
   ]
  }
 ],
 "metadata": {
  "kernelspec": {
   "display_name": "Python 3 (ipykernel)",
   "language": "python",
   "name": "python3"
  },
  "language_info": {
   "codemirror_mode": {
    "name": "ipython",
    "version": 3
   },
   "file_extension": ".py",
   "mimetype": "text/x-python",
   "name": "python",
   "nbconvert_exporter": "python",
   "pygments_lexer": "ipython3",
   "version": "3.9.7"
  }
 },
 "nbformat": 4,
 "nbformat_minor": 5
}
