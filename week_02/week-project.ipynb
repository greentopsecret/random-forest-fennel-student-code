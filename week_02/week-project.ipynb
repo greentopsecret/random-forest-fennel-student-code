{
 "cells": [
  {
   "cell_type": "markdown",
   "id": "8dec7712",
   "metadata": {},
   "source": [
    "# Titanic - Machine Learning from Disaster"
   ]
  },
  {
   "cell_type": "markdown",
   "id": "4e4c01e2",
   "metadata": {},
   "source": [
    "### Summary\n",
    "* [Introduction](#Introduction)\n",
    "* [Data exploration](#Data-exploration)\n",
    "    * [Count of passengers split by sex and passenger's class](#Count-of-passengers-split-by-sex-and-passenger's-class)\n",
    "    * [Survival rate per passenger's class](#Survival-rate-per-passenger's-class)\n",
    "    * [Number of survived and non survived passengers](#Number-of-survived-and-non-survived-passengers)\n",
    "    * [Passengers age](#Passengers-age)\n",
    "    * [Pairplot](#Pairplot)\n",
    "* [Feature engineering](#Feature-engineering)\n",
    "* [Logistic regression](#Logistic-regression)  \n",
    "* [Decission tree](#Decission-tree)\n",
    "* [Random forest](#Random-forest)\n",
    "* [Ensemble models](#Ensemble-models)"
   ]
  },
  {
   "cell_type": "markdown",
   "id": "236debb3",
   "metadata": {},
   "source": [
    "## Introduction\n",
    "\n",
    "Solution for [Titanic - challenge](https://www.kaggle.com/c/titanic/overview). Data description can be found [here](https://www.kaggle.com/c/titanic/data)."
   ]
  },
  {
   "cell_type": "code",
   "execution_count": null,
   "id": "5d91642b",
   "metadata": {},
   "outputs": [],
   "source": [
    "# Import required packages\n",
    "import numpy as np\n",
    "import pandas as pd\n",
    "from sklearn.compose import ColumnTransformer\n",
    "from sklearn.impute import SimpleImputer\n",
    "from sklearn.preprocessing import OneHotEncoder, MinMaxScaler\n",
    "from sklearn.preprocessing import KBinsDiscretizer\n",
    "from sklearn.model_selection import train_test_split\n",
    "from sklearn.preprocessing import FunctionTransformer\n",
    "from sklearn.preprocessing import Binarizer\n",
    "from sklearn.pipeline import make_pipeline\n",
    "from sklearn.linear_model import LogisticRegression"
   ]
  },
  {
   "cell_type": "code",
   "execution_count": null,
   "id": "55b314a3",
   "metadata": {},
   "outputs": [],
   "source": [
    "# Global variables\n",
    "RANDOM_STATE = 42"
   ]
  },
  {
   "cell_type": "code",
   "execution_count": null,
   "id": "e2a6d4b2",
   "metadata": {},
   "outputs": [],
   "source": [
    "# load data\n",
    "df = pd.read_csv(\"../data/train.csv\", sep=\",\")\n",
    "df.head(5)"
   ]
  },
  {
   "cell_type": "markdown",
   "id": "b6de42af",
   "metadata": {},
   "source": [
    "### Split Train / Test (Validation) data"
   ]
  },
  {
   "cell_type": "code",
   "execution_count": null,
   "id": "2618c009",
   "metadata": {},
   "outputs": [],
   "source": [
    "X = df.drop(columns='Survived')\n",
    "y = df['Survived']\n",
    "X_train, X_test, y_train_true, y_test_true = train_test_split(X, y, test_size=0.2, random_state=RANDOM_STATE)"
   ]
  },
  {
   "cell_type": "markdown",
   "id": "cdf2e058",
   "metadata": {},
   "source": [
    "## Data exploration\n"
   ]
  },
  {
   "cell_type": "code",
   "execution_count": null,
   "id": "918cf6c8",
   "metadata": {},
   "outputs": [],
   "source": [
    "# pip install --no-input plotly.express"
   ]
  },
  {
   "cell_type": "code",
   "execution_count": null,
   "id": "3fbad4c7",
   "metadata": {},
   "outputs": [],
   "source": [
    "# pip freeze > requirements.txt"
   ]
  },
  {
   "cell_type": "code",
   "execution_count": null,
   "id": "ec4b0f0e",
   "metadata": {},
   "outputs": [],
   "source": [
    "import plotly.express as px\n",
    "import plotly.graph_objects as go"
   ]
  },
  {
   "cell_type": "markdown",
   "id": "b4affcad",
   "metadata": {},
   "source": [
    "### Number of survived and non survived passengers"
   ]
  },
  {
   "cell_type": "code",
   "execution_count": null,
   "id": "350f27a0",
   "metadata": {},
   "outputs": [],
   "source": [
    "tmp = pd.DataFrame(df.groupby(\"Survived\").size(), columns=[\"count\"]).reset_index()\n",
    "fig = px.pie(tmp, values='count', names={0: 'Non-survived', 1: 'Survived'}, title='Survived vs Not-survived')\n",
    "fig.show()"
   ]
  },
  {
   "cell_type": "markdown",
   "id": "a854a59e",
   "metadata": {},
   "source": [
    "### Count of passengers split by sex and passenger's class"
   ]
  },
  {
   "cell_type": "code",
   "execution_count": null,
   "id": "e996c272",
   "metadata": {},
   "outputs": [],
   "source": [
    "tmp = pd.DataFrame(df.groupby(by=[\"Pclass\", \"Sex\"]).size(), columns=[\"count\"]).reset_index()\n",
    "fig = px.bar(tmp, x=\"Pclass\", y=\"count\", color=\"Sex\", title=\"Count of passengers split by sex and passenger's class\")\n",
    "fig.show() \n",
    "# TODO: switch colors"
   ]
  },
  {
   "cell_type": "markdown",
   "id": "73b4d7c5",
   "metadata": {},
   "source": [
    "### Survival rate per passenger's class"
   ]
  },
  {
   "cell_type": "code",
   "execution_count": null,
   "id": "336b0471",
   "metadata": {},
   "outputs": [],
   "source": [
    "tmp = pd.DataFrame(df.groupby(by=[\"Pclass\", \"Sex\", \"Survived\"]).size(), columns=[\"count\"]).reset_index()\n",
    "tmp['total'] = tmp.groupby(by=[\"Pclass\", \"Sex\"])['count'].transform('sum')\n",
    "tmp['rate'] = tmp['count'] / tmp['total']\n",
    "\n",
    "male = tmp.loc[tmp['Sex'] == 'male']\n",
    "male_survived = male[male['Survived'] == 1]\n",
    "female = tmp.loc[tmp['Sex'] == 'female']\n",
    "female_survived = female[female['Survived'] == 1]"
   ]
  },
  {
   "cell_type": "code",
   "execution_count": null,
   "id": "eedc4c40",
   "metadata": {},
   "outputs": [],
   "source": [
    "# import plotly.graph_objects.layout as layout\n",
    "\n",
    "fig = go.Figure(data=[\n",
    "    go.Bar(name='Male', x=male_survived['Pclass'], y=male_survived['rate']),\n",
    "    go.Bar(name='Female', x=female_survived['Pclass'], y=female_survived['rate'])\n",
    "], layout=go.Layout(title='Survival rate per passenger\\'s class'))\n",
    "\n",
    "fig.update_layout(barmode='group')\n",
    "fig.show()"
   ]
  },
  {
   "cell_type": "markdown",
   "id": "3afa4a35",
   "metadata": {},
   "source": [
    "### Passengers age"
   ]
  },
  {
   "cell_type": "code",
   "execution_count": null,
   "id": "59e90f52",
   "metadata": {},
   "outputs": [],
   "source": [
    "fig = px.histogram(df, x=\"Age\", color=\"Survived\", title='Passengers age')\n",
    "fig.show()\n",
    "\n",
    "# TODO: change legend\n",
    "# TODO: increase bar width"
   ]
  },
  {
   "cell_type": "markdown",
   "id": "1284e503",
   "metadata": {},
   "source": [
    "### Pairplot"
   ]
  },
  {
   "cell_type": "code",
   "execution_count": null,
   "id": "1f5f344c",
   "metadata": {},
   "outputs": [],
   "source": [
    "import seaborn as sns\n",
    "\n",
    "tmp = df[['Survived', 'Pclass','Sex', 'Age', 'SibSp', 'Parch', 'Fare']]\n",
    "sns.pairplot(tmp, hue='Survived')"
   ]
  },
  {
   "cell_type": "markdown",
   "id": "b141e6ab",
   "metadata": {},
   "source": [
    "## Feature engineering"
   ]
  },
  {
   "cell_type": "code",
   "execution_count": null,
   "id": "90187c9f",
   "metadata": {},
   "outputs": [],
   "source": [
    "def cabin_to_deck_mapper(df: pd.DataFrame) -> pd.DataFrame:\n",
    "    df['Cabin'] = df['Cabin'].str[0].map({'A': 1,\n",
    "                                          'B': 2,\n",
    "                                          'C': 3,\n",
    "                                          'D': 4,\n",
    "                                          'E': 5,\n",
    "                                          'F': 6,\n",
    "                                          'G': 7,\n",
    "                                          'T': 8,\n",
    "                                          'Z': 9,\n",
    "                                          np.NAN: 9})\n",
    "\n",
    "    return df\n",
    "\n",
    "# TODO: add test"
   ]
  },
  {
   "cell_type": "code",
   "execution_count": null,
   "id": "773e7da2",
   "metadata": {},
   "outputs": [],
   "source": [
    "age_pipeline = make_pipeline(\n",
    "    SimpleImputer(strategy='mean'), # TODO: replace by mean-age-by-pclass\n",
    "    KBinsDiscretizer(n_bins=3, encode='onehot-dense', strategy='quantile')\n",
    ")"
   ]
  },
  {
   "cell_type": "code",
   "execution_count": null,
   "id": "804ac345",
   "metadata": {},
   "outputs": [],
   "source": [
    "fare_pipeline = make_pipeline(\n",
    "    SimpleImputer(strategy='mean'),\n",
    "    MinMaxScaler()\n",
    ")"
   ]
  },
  {
   "cell_type": "code",
   "execution_count": null,
   "id": "162a239c",
   "metadata": {},
   "outputs": [],
   "source": [
    "pipeline = ColumnTransformer([\n",
    "    ('age_transformer', age_pipeline, ['Age']),\n",
    "    ('sex_transformer', OneHotEncoder(sparse=False, handle_unknown='ignore'), ['Sex']),\n",
    "    ('fare_transformer', fare_pipeline, ['Fare']),\n",
    "    ('cabin_transformer', FunctionTransformer(cabin_to_deck_mapper), ['Cabin']),\n",
    "    ('pass_through', 'passthrough', ['Pclass', 'SibSp']),\n",
    "], remainder='drop')"
   ]
  },
  {
   "cell_type": "code",
   "execution_count": null,
   "id": "15e45105",
   "metadata": {},
   "outputs": [],
   "source": [
    "# Transform data\n",
    "pipeline.fit(X_train)\n",
    "X_train_fe = pipeline.transform(X_train)\n",
    "X_test_fe = pipeline.transform(X_test)"
   ]
  },
  {
   "cell_type": "markdown",
   "id": "5a39ec2f",
   "metadata": {},
   "source": [
    "## Logistic regression"
   ]
  },
  {
   "cell_type": "code",
   "execution_count": null,
   "id": "acdce155",
   "metadata": {},
   "outputs": [],
   "source": [
    "# Create and fit logistic regression classifier\n",
    "m1 = LogisticRegression()\n",
    "m1.fit(X_train_fe, y_train_true)\n",
    "\n",
    "# make predictions\n",
    "y_test_pred = m1.predict(X_test_fe)"
   ]
  },
  {
   "cell_type": "markdown",
   "id": "0057f18f",
   "metadata": {},
   "source": [
    "#### Calculate scores"
   ]
  },
  {
   "cell_type": "code",
   "execution_count": null,
   "id": "05a016a0",
   "metadata": {},
   "outputs": [],
   "source": [
    "from sklearn import metrics\n",
    "\n",
    "print(\"accuracy_score: %.4f\" % metrics.accuracy_score(y_test_true, y_test_pred))\n",
    "print(\"precision_score: %.4f\" % metrics.precision_score(y_test_true, y_test_pred))\n",
    "print(\"recall_score: %.4f\" % metrics.recall_score(y_test_true, y_test_pred))\n",
    "print(\"f1_score: %.4f\" % metrics.f1_score(y_test_true, y_test_pred))"
   ]
  },
  {
   "cell_type": "markdown",
   "id": "5eef0c95",
   "metadata": {},
   "source": [
    "#### Confussion matrics"
   ]
  },
  {
   "cell_type": "code",
   "execution_count": null,
   "id": "56b8d520",
   "metadata": {},
   "outputs": [],
   "source": [
    "import matplotlib.pyplot as plt\n",
    "\n",
    "metrics.ConfusionMatrixDisplay.from_estimator(m1, X_test_fe, y_test_true)\n",
    "plt.show()"
   ]
  },
  {
   "cell_type": "code",
   "execution_count": null,
   "id": "393d0910",
   "metadata": {},
   "outputs": [],
   "source": [
    "# TODO: add description and title\n",
    "metrics.RocCurveDisplay.from_estimator(m1, X_test_fe, y_test_true)"
   ]
  },
  {
   "cell_type": "markdown",
   "id": "dc04e12c",
   "metadata": {},
   "source": [
    "### Cross validation"
   ]
  },
  {
   "cell_type": "code",
   "execution_count": null,
   "id": "20d987c6",
   "metadata": {},
   "outputs": [],
   "source": [
    "from sklearn.model_selection import cross_validate\n",
    "\n",
    "cross_accuracy_log = cross_validate(m1, X_train_fe, y_train_true,\n",
    "                    cv=5,\n",
    "                    scoring='accuracy',\n",
    "                    return_train_score=True\n",
    ")"
   ]
  },
  {
   "cell_type": "code",
   "execution_count": null,
   "id": "b440ec79",
   "metadata": {},
   "outputs": [],
   "source": [
    "print(\"Cross-validation mean %.3f +- %.3f\" % (100 * cross_accuracy_log['train_score'].mean(), 100 * cross_accuracy_log['train_score'].std()))"
   ]
  },
  {
   "cell_type": "markdown",
   "id": "36b0b682",
   "metadata": {},
   "source": [
    "## Decission tree"
   ]
  },
  {
   "cell_type": "code",
   "execution_count": null,
   "id": "87f92936",
   "metadata": {},
   "outputs": [],
   "source": [
    "from sklearn.tree import DecisionTreeClassifier, plot_tree\n",
    "\n",
    "m2 = DecisionTreeClassifier(max_depth=5, min_samples_leaf=1)\n",
    "m2.fit(X_train_fe, y_train_true)\n",
    "\n",
    "# make predictions\n",
    "y_test_pred = m2.predict(X_test_fe)"
   ]
  },
  {
   "cell_type": "markdown",
   "id": "63e588e1",
   "metadata": {},
   "source": [
    "#### Calculate scores"
   ]
  },
  {
   "cell_type": "code",
   "execution_count": null,
   "id": "118c1144",
   "metadata": {},
   "outputs": [],
   "source": [
    "print(\"accuracy_score: %.4f\" % metrics.accuracy_score(y_test_true, y_test_pred))\n",
    "print(\"precision_score: %.4f\" % metrics.precision_score(y_test_true, y_test_pred))\n",
    "print(\"recall_score: %.4f\" % metrics.recall_score(y_test_true, y_test_pred))\n",
    "print(\"f1_score: %.4f\" % metrics.f1_score(y_test_true, y_test_pred))"
   ]
  },
  {
   "cell_type": "markdown",
   "id": "df178666",
   "metadata": {},
   "source": [
    "#### Confussion matrics"
   ]
  },
  {
   "cell_type": "code",
   "execution_count": null,
   "id": "0b07f76a",
   "metadata": {},
   "outputs": [],
   "source": [
    "metrics.ConfusionMatrixDisplay.from_estimator(m2, X_test_fe, y_test_true)\n",
    "plt.show()"
   ]
  },
  {
   "cell_type": "code",
   "execution_count": null,
   "id": "7da84bb9",
   "metadata": {},
   "outputs": [],
   "source": [
    "# TODO: add description and title\n",
    "metrics.RocCurveDisplay.from_estimator(m2, X_test_fe, y_test_true)"
   ]
  },
  {
   "cell_type": "code",
   "execution_count": null,
   "id": "3e1c0efe",
   "metadata": {},
   "outputs": [],
   "source": [
    "plt.figure(figsize=(30, 20))\n",
    "t = plot_tree(m2)\n",
    "# t = plot_tree(m, feature_names=['Age'], class_names=[...])\n",
    "# TODO: set feature names"
   ]
  },
  {
   "cell_type": "markdown",
   "id": "5ba07023",
   "metadata": {},
   "source": [
    "## Random forest"
   ]
  },
  {
   "cell_type": "code",
   "execution_count": null,
   "id": "aef0e6dd",
   "metadata": {},
   "outputs": [],
   "source": [
    "from sklearn.ensemble import RandomForestClassifier\n",
    "\n",
    "m3 = RandomForestClassifier(max_depth=5)\n",
    "m3.fit(X_train_fe, y_train_true)\n",
    "\n",
    "# make predictions\n",
    "y_test_pred = m3.predict(X_test_fe)"
   ]
  },
  {
   "cell_type": "markdown",
   "id": "d8aa804c",
   "metadata": {},
   "source": [
    "#### Calculate scores"
   ]
  },
  {
   "cell_type": "code",
   "execution_count": null,
   "id": "114e76c2",
   "metadata": {},
   "outputs": [],
   "source": [
    "print(\"accuracy_score: %.4f\" % metrics.accuracy_score(y_test_true, y_test_pred))\n",
    "print(\"precision_score: %.4f\" % metrics.precision_score(y_test_true, y_test_pred))\n",
    "print(\"recall_score: %.4f\" % metrics.recall_score(y_test_true, y_test_pred))\n",
    "print(\"f1_score: %.4f\" % metrics.f1_score(y_test_true, y_test_pred))"
   ]
  },
  {
   "cell_type": "markdown",
   "id": "a4594a80",
   "metadata": {},
   "source": [
    "#### Confussion matrics"
   ]
  },
  {
   "cell_type": "code",
   "execution_count": null,
   "id": "2850061b",
   "metadata": {},
   "outputs": [],
   "source": [
    "metrics.ConfusionMatrixDisplay.from_estimator(m3, X_test_fe, y_test_true)\n",
    "plt.show()"
   ]
  },
  {
   "cell_type": "code",
   "execution_count": null,
   "id": "16e23982",
   "metadata": {},
   "outputs": [],
   "source": [
    "# TODO: add description and title\n",
    "metrics.RocCurveDisplay.from_estimator(m3, X_test_fe, y_test_true)"
   ]
  },
  {
   "cell_type": "markdown",
   "id": "13e7d919",
   "metadata": {},
   "source": [
    "## Ensemble models"
   ]
  },
  {
   "cell_type": "code",
   "execution_count": null,
   "id": "845785c5",
   "metadata": {},
   "outputs": [],
   "source": [
    "from sklearn.ensemble import VotingClassifier\n",
    "\n",
    "models = [\n",
    "          ('logreg', m1),\n",
    "          ('tree', m2),\n",
    "          ('randomforest', m3)\n",
    "]\n",
    "model_ensemble = VotingClassifier(models)\n",
    "y_test_pred = model_ensemble.fit(X_train_fe, y_train_true)\n",
    "\n",
    "# make predictions\n",
    "y_test_pred = model_ensemble.predict(X_test_fe)"
   ]
  },
  {
   "cell_type": "markdown",
   "id": "d071e85b",
   "metadata": {},
   "source": [
    "#### Calculate scores"
   ]
  },
  {
   "cell_type": "code",
   "execution_count": null,
   "id": "653b1cac",
   "metadata": {},
   "outputs": [],
   "source": [
    "print(\"accuracy_score: %.4f\" % metrics.accuracy_score(y_test_true, y_test_pred))\n",
    "print(\"precision_score: %.4f\" % metrics.precision_score(y_test_true, y_test_pred))\n",
    "print(\"recall_score: %.4f\" % metrics.recall_score(y_test_true, y_test_pred))\n",
    "print(\"f1_score: %.4f\" % metrics.f1_score(y_test_true, y_test_pred))"
   ]
  },
  {
   "cell_type": "markdown",
   "id": "e4b54600",
   "metadata": {},
   "source": [
    "#### Confussion matrics"
   ]
  },
  {
   "cell_type": "code",
   "execution_count": null,
   "id": "279ef064",
   "metadata": {},
   "outputs": [],
   "source": [
    "metrics.ConfusionMatrixDisplay.from_estimator(model_ensemble, X_test_fe, y_test_true)\n",
    "plt.show()"
   ]
  },
  {
   "cell_type": "code",
   "execution_count": null,
   "id": "cabb84b3",
   "metadata": {},
   "outputs": [],
   "source": [
    "# TODO: add description and title\n",
    "metrics.RocCurveDisplay.from_estimator(m1, X_test_fe, y_test_true)"
   ]
  }
 ],
 "metadata": {
  "kernelspec": {
   "display_name": "Python 3 (ipykernel)",
   "language": "python",
   "name": "python3"
  },
  "language_info": {
   "codemirror_mode": {
    "name": "ipython",
    "version": 3
   },
   "file_extension": ".py",
   "mimetype": "text/x-python",
   "name": "python",
   "nbconvert_exporter": "python",
   "pygments_lexer": "ipython3",
   "version": "3.9.7"
  }
 },
 "nbformat": 4,
 "nbformat_minor": 5
}
