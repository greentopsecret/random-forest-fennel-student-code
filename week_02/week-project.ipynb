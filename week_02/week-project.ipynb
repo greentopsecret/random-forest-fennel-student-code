{
 "cells": [
  {
   "cell_type": "markdown",
   "id": "583ff2df",
   "metadata": {},
   "source": [
    "# Titanic - Machine Learning from Disaster"
   ]
  },
  {
   "cell_type": "markdown",
   "id": "b9ea04b0",
   "metadata": {},
   "source": [
    "### Summary\n",
    "* [Introduction](#Introduction)\n",
    "* [Data exploration](#Data-exploration)\n",
    "    * [Count of passengers split by sex and passenger's class](#Count-of-passengers-split-by-sex-and-passenger's-class)\n",
    "    * [Survival rate per passenger's class](#Survival-rate-per-passenger's-class)\n",
    "    * [Number of survived and non survived passengers](#Number-of-survived-and-non-survived-passengers)\n",
    "    * [Passengers age](#Passengers-age)\n",
    "* [Feature engineering](#Feature-engineering)\n",
    "* [Logistic regression](#Logistic-regression)  \n",
    "* [Decission tree](#Decission-tree)\n",
    "* [Random forest](#Random-forest)\n",
    "* [Ensemble Models](#Ensemble-Models)"
   ]
  },
  {
   "cell_type": "markdown",
   "id": "b4128db7",
   "metadata": {},
   "source": [
    "## Introduction\n",
    "\n",
    "Solution for [Titanic - challenge](https://www.kaggle.com/c/titanic/overview). Data description can be found [here](https://www.kaggle.com/c/titanic/data)."
   ]
  },
  {
   "cell_type": "code",
   "execution_count": null,
   "id": "2f562921",
   "metadata": {},
   "outputs": [],
   "source": [
    "# Import required packages\n",
    "import numpy as np\n",
    "import pandas as pd\n",
    "from sklearn.compose import ColumnTransformer\n",
    "from sklearn.impute import SimpleImputer\n",
    "from sklearn.preprocessing import OneHotEncoder, MinMaxScaler\n",
    "from sklearn.preprocessing import KBinsDiscretizer\n",
    "from sklearn.model_selection import train_test_split\n",
    "from sklearn.preprocessing import FunctionTransformer\n",
    "from sklearn.preprocessing import Binarizer\n",
    "from sklearn.pipeline import make_pipeline\n",
    "from sklearn.linear_model import LogisticRegression"
   ]
  },
  {
   "cell_type": "code",
   "execution_count": null,
   "id": "db0624ef",
   "metadata": {},
   "outputs": [],
   "source": [
    "# load data\n",
    "df = pd.read_csv(\"../data/train.csv\", sep=\",\")\n",
    "df.head(5)"
   ]
  },
  {
   "cell_type": "markdown",
   "id": "5af86495",
   "metadata": {},
   "source": [
    "### Split Train / Test (Validation) data"
   ]
  },
  {
   "cell_type": "code",
   "execution_count": null,
   "id": "2edf912e",
   "metadata": {},
   "outputs": [],
   "source": [
    "X = df.drop(columns='Survived')\n",
    "y = df['Survived']\n",
    "X_train, X_test, y_train_true, y_test_true = train_test_split(X, y, test_size=0.2, random_state=151)"
   ]
  },
  {
   "cell_type": "markdown",
   "id": "6b1e8b7d",
   "metadata": {},
   "source": [
    "## Data exploration\n"
   ]
  },
  {
   "cell_type": "code",
   "execution_count": null,
   "id": "5f021c57",
   "metadata": {},
   "outputs": [],
   "source": [
    "# pip install --no-input plotly.express"
   ]
  },
  {
   "cell_type": "code",
   "execution_count": null,
   "id": "305a2f4a",
   "metadata": {},
   "outputs": [],
   "source": [
    "# pip freeze > requirements.txt"
   ]
  },
  {
   "cell_type": "code",
   "execution_count": null,
   "id": "6c895f21",
   "metadata": {},
   "outputs": [],
   "source": [
    "import plotly.express as px\n",
    "import plotly.graph_objects as go"
   ]
  },
  {
   "cell_type": "markdown",
   "id": "b6eb1676",
   "metadata": {},
   "source": [
    "### Number of survived and non survived passengers"
   ]
  },
  {
   "cell_type": "code",
   "execution_count": null,
   "id": "760d6293",
   "metadata": {},
   "outputs": [],
   "source": [
    "tmp = pd.DataFrame(df.groupby(\"Survived\").size(), columns=[\"count\"]).reset_index()\n",
    "fig = px.pie(tmp, values='count', names={0: 'Non-survived', 1: 'Survived'}, title='Survived vs Not-survived')\n",
    "fig.show()"
   ]
  },
  {
   "cell_type": "markdown",
   "id": "789b16a0",
   "metadata": {},
   "source": [
    "### Count of passengers split by sex and passenger's class"
   ]
  },
  {
   "cell_type": "code",
   "execution_count": null,
   "id": "2d496f1f",
   "metadata": {},
   "outputs": [],
   "source": [
    "tmp = pd.DataFrame(df.groupby(by=[\"Pclass\", \"Sex\"]).size(), columns=[\"count\"]).reset_index()\n",
    "fig = px.bar(tmp, x=\"Pclass\", y=\"count\", color=\"Sex\", title=\"Count of passengers split by sex and passenger's class\")\n",
    "fig.show() \n",
    "# TODO: switch colors"
   ]
  },
  {
   "cell_type": "markdown",
   "id": "0b88e04e",
   "metadata": {},
   "source": [
    "### Survival rate per passenger's class"
   ]
  },
  {
   "cell_type": "code",
   "execution_count": null,
   "id": "e481930f",
   "metadata": {},
   "outputs": [],
   "source": [
    "tmp = pd.DataFrame(df.groupby(by=[\"Pclass\", \"Sex\", \"Survived\"]).size(), columns=[\"count\"]).reset_index()\n",
    "tmp['total'] = tmp.groupby(by=[\"Pclass\", \"Sex\"])['count'].transform('sum')\n",
    "tmp['rate'] = tmp['count'] / tmp['total']\n",
    "\n",
    "male = tmp.loc[tmp['Sex'] == 'male']\n",
    "male_survived = male[male['Survived'] == 1]\n",
    "female = tmp.loc[tmp['Sex'] == 'female']\n",
    "female_survived = female[female['Survived'] == 1]"
   ]
  },
  {
   "cell_type": "code",
   "execution_count": null,
   "id": "4209b813",
   "metadata": {},
   "outputs": [],
   "source": [
    "# import plotly.graph_objects.layout as layout\n",
    "\n",
    "fig = go.Figure(data=[\n",
    "    go.Bar(name='Male', x=male_survived['Pclass'], y=male_survived['rate']),\n",
    "    go.Bar(name='Female', x=female_survived['Pclass'], y=female_survived['rate'])\n",
    "], layout=go.Layout(title='Survival rate per passenger\\'s class'))\n",
    "\n",
    "fig.update_layout(barmode='group')\n",
    "fig.show()"
   ]
  },
  {
   "cell_type": "markdown",
   "id": "97357e18",
   "metadata": {},
   "source": [
    "### Passengers age"
   ]
  },
  {
   "cell_type": "code",
   "execution_count": null,
   "id": "8cdd37e5",
   "metadata": {},
   "outputs": [],
   "source": [
    "fig = px.histogram(df, x=\"Age\", color=\"Survived\", title='Passengers age')\n",
    "fig.show()\n",
    "\n",
    "# TODO: change legend\n",
    "# TODO: increase bar width"
   ]
  },
  {
   "cell_type": "markdown",
   "id": "a4e80807",
   "metadata": {},
   "source": [
    "## Feature engineering"
   ]
  },
  {
   "cell_type": "code",
   "execution_count": null,
   "id": "d069f1fb",
   "metadata": {},
   "outputs": [],
   "source": [
    "def cabin_to_deck_mapper(df: pd.DataFrame) -> pd.DataFrame:\n",
    "    df['Cabin'] = df['Cabin'].str[0].map({'A': 1,\n",
    "                                          'B': 2,\n",
    "                                          'C': 3,\n",
    "                                          'D': 4,\n",
    "                                          'E': 5,\n",
    "                                          'F': 6,\n",
    "                                          'G': 7,\n",
    "                                          'T': 8,\n",
    "                                          'Z': 9,\n",
    "                                          np.NAN: 9})\n",
    "\n",
    "    return df\n",
    "\n",
    "# TODO: add test"
   ]
  },
  {
   "cell_type": "code",
   "execution_count": null,
   "id": "74aa2902",
   "metadata": {},
   "outputs": [],
   "source": [
    "age_pipeline = make_pipeline(\n",
    "    SimpleImputer(strategy='mean'), # TODO: replace by mean-age-by-pclass\n",
    "    KBinsDiscretizer(n_bins=3, encode='onehot-dense', strategy='quantile')\n",
    ")"
   ]
  },
  {
   "cell_type": "code",
   "execution_count": null,
   "id": "8f437675",
   "metadata": {},
   "outputs": [],
   "source": [
    "fare_pipeline = make_pipeline(\n",
    "    SimpleImputer(strategy='mean'),\n",
    "    MinMaxScaler()\n",
    ")"
   ]
  },
  {
   "cell_type": "code",
   "execution_count": null,
   "id": "7c575929",
   "metadata": {},
   "outputs": [],
   "source": [
    "pipeline = ColumnTransformer([\n",
    "    ('age_transformer', age_pipeline, ['Age']),\n",
    "    ('sex_transformer', OneHotEncoder(sparse=False, handle_unknown='ignore'), ['Sex']),\n",
    "    ('fare_transformer', fare_pipeline, ['Fare']),\n",
    "    ('cabin_transformer', FunctionTransformer(cabin_to_deck_mapper), ['Cabin']),\n",
    "    ('pass_through', 'passthrough', ['Pclass', 'SibSp']),\n",
    "], remainder='drop')"
   ]
  },
  {
   "cell_type": "code",
   "execution_count": null,
   "id": "05816af3",
   "metadata": {},
   "outputs": [],
   "source": [
    "# Transform data\n",
    "pipeline.fit(X_train)\n",
    "X_train_fe = pipeline.transform(X_train)\n",
    "X_test_fe = pipeline.transform(X_test)"
   ]
  },
  {
   "cell_type": "markdown",
   "id": "9f1824b7",
   "metadata": {},
   "source": [
    "## Logistic regression"
   ]
  },
  {
   "cell_type": "code",
   "execution_count": null,
   "id": "37783b95",
   "metadata": {},
   "outputs": [],
   "source": [
    "# Create and fit logistic regression classifier\n",
    "m1 = LogisticRegression()\n",
    "m1.fit(X_train_fe, y_train_true)\n",
    "\n",
    "# make predictions\n",
    "y_test_pred = m1.predict(X_test_fe)"
   ]
  },
  {
   "cell_type": "markdown",
   "id": "0d34907e",
   "metadata": {},
   "source": [
    "#### Calculate scores"
   ]
  },
  {
   "cell_type": "code",
   "execution_count": null,
   "id": "3f72f4f1",
   "metadata": {},
   "outputs": [],
   "source": [
    "from sklearn import metrics\n",
    "\n",
    "print(\"precision_score: %.4f\" % metrics.accuracy_score(y_test_true, y_test_pred))\n",
    "print(\"precision_score: %.4f\" % metrics.precision_score(y_test_true, y_test_pred))\n",
    "print(\"recall_score: %.4f\" % metrics.recall_score(y_test_true, y_test_pred))\n",
    "print(\"f1_score: %.4f\" % metrics.f1_score(y_test_true, y_test_pred))"
   ]
  },
  {
   "cell_type": "markdown",
   "id": "a4cdb6cc",
   "metadata": {},
   "source": [
    "#### Confussion matrics"
   ]
  },
  {
   "cell_type": "code",
   "execution_count": null,
   "id": "fd1c5560",
   "metadata": {},
   "outputs": [],
   "source": [
    "import matplotlib.pyplot as plt\n",
    "\n",
    "metrics.ConfusionMatrixDisplay.from_estimator(m1, X_test_fe, y_test_true)\n",
    "plt.show()"
   ]
  },
  {
   "cell_type": "code",
   "execution_count": null,
   "id": "2c79f35c",
   "metadata": {},
   "outputs": [],
   "source": [
    "# TODO: add description and title\n",
    "metrics.RocCurveDisplay.from_estimator(m1, X_test_fe, y_test_true)"
   ]
  },
  {
   "cell_type": "markdown",
   "id": "3e636f75",
   "metadata": {},
   "source": [
    "## Decission tree"
   ]
  },
  {
   "cell_type": "code",
   "execution_count": null,
   "id": "a11a7e5d",
   "metadata": {},
   "outputs": [],
   "source": [
    "from sklearn.tree import DecisionTreeClassifier, plot_tree\n",
    "\n",
    "m2 = DecisionTreeClassifier(max_depth=5)\n",
    "m2.fit(X_train_fe, y_train_true)\n",
    "\n",
    "# make predictions\n",
    "y_test_pred = m2.predict(X_test_fe)"
   ]
  },
  {
   "cell_type": "markdown",
   "id": "61561d1f",
   "metadata": {},
   "source": [
    "#### Calculate scores"
   ]
  },
  {
   "cell_type": "code",
   "execution_count": null,
   "id": "12619702",
   "metadata": {},
   "outputs": [],
   "source": [
    "print(\"precision_score: %.4f\" % metrics.accuracy_score(y_test_true, y_test_pred))\n",
    "print(\"precision_score: %.4f\" % metrics.precision_score(y_test_true, y_test_pred))\n",
    "print(\"recall_score: %.4f\" % metrics.recall_score(y_test_true, y_test_pred))\n",
    "print(\"f1_score: %.4f\" % metrics.f1_score(y_test_true, y_test_pred))"
   ]
  },
  {
   "cell_type": "markdown",
   "id": "7611c0eb",
   "metadata": {},
   "source": [
    "#### Confussion matrics"
   ]
  },
  {
   "cell_type": "code",
   "execution_count": null,
   "id": "90c5ff5c",
   "metadata": {},
   "outputs": [],
   "source": [
    "metrics.ConfusionMatrixDisplay.from_estimator(m2, X_test_fe, y_test_true)\n",
    "plt.show()"
   ]
  },
  {
   "cell_type": "code",
   "execution_count": null,
   "id": "bb3270b9",
   "metadata": {},
   "outputs": [],
   "source": [
    "# TODO: add description and title\n",
    "metrics.RocCurveDisplay.from_estimator(m2, X_test_fe, y_test_true)"
   ]
  },
  {
   "cell_type": "code",
   "execution_count": null,
   "id": "c6812356",
   "metadata": {},
   "outputs": [],
   "source": [
    "plt.figure(figsize=(30, 20))\n",
    "t = plot_tree(m2)\n",
    "# t = plot_tree(m, feature_names=['Age'], class_names=[...])\n",
    "# TODO: set feature names"
   ]
  },
  {
   "cell_type": "markdown",
   "id": "44d17240",
   "metadata": {},
   "source": [
    "## Random forest"
   ]
  },
  {
   "cell_type": "code",
   "execution_count": null,
   "id": "5eb3f05e",
   "metadata": {},
   "outputs": [],
   "source": [
    "from sklearn.ensemble import RandomForestClassifier\n",
    "\n",
    "m3 = RandomForestClassifier(max_depth=5)\n",
    "m3.fit(X_train_fe, y_train_true)\n",
    "\n",
    "# make predictions\n",
    "y_test_pred = m3.predict(X_test_fe)"
   ]
  },
  {
   "cell_type": "markdown",
   "id": "c4bac802",
   "metadata": {},
   "source": [
    "#### Calculate scores"
   ]
  },
  {
   "cell_type": "code",
   "execution_count": null,
   "id": "ca112585",
   "metadata": {},
   "outputs": [],
   "source": [
    "print(\"precision_score: %.4f\" % metrics.accuracy_score(y_test_true, y_test_pred))\n",
    "print(\"precision_score: %.4f\" % metrics.precision_score(y_test_true, y_test_pred))\n",
    "print(\"recall_score: %.4f\" % metrics.recall_score(y_test_true, y_test_pred))\n",
    "print(\"f1_score: %.4f\" % metrics.f1_score(y_test_true, y_test_pred))"
   ]
  },
  {
   "cell_type": "markdown",
   "id": "0a1287a9",
   "metadata": {},
   "source": [
    "#### Confussion matrics"
   ]
  },
  {
   "cell_type": "code",
   "execution_count": null,
   "id": "e3bb6e42",
   "metadata": {},
   "outputs": [],
   "source": [
    "metrics.ConfusionMatrixDisplay.from_estimator(m3, X_test_fe, y_test_true)\n",
    "plt.show()"
   ]
  },
  {
   "cell_type": "code",
   "execution_count": null,
   "id": "3aca8636",
   "metadata": {},
   "outputs": [],
   "source": [
    "# TODO: add description and title\n",
    "metrics.RocCurveDisplay.from_estimator(m3, X_test_fe, y_test_true)"
   ]
  },
  {
   "cell_type": "markdown",
   "id": "f70b8cc2",
   "metadata": {},
   "source": [
    "## Ensemble Models"
   ]
  },
  {
   "cell_type": "code",
   "execution_count": null,
   "id": "985633ee",
   "metadata": {},
   "outputs": [],
   "source": [
    "from sklearn.ensemble import VotingClassifier\n",
    "\n",
    "models = [\n",
    "          ('logreg', m1),\n",
    "          ('tree', m2),\n",
    "          ('randomforest', m3)\n",
    "]\n",
    "model_ensemble = VotingClassifier(models)\n",
    "y_test_pred = model_ensemble.fit(X_train_fe, y_train_true)\n",
    "\n",
    "# make predictions\n",
    "y_test_pred = model_ensemble.predict(X_test_fe)"
   ]
  },
  {
   "cell_type": "markdown",
   "id": "76cfd80a",
   "metadata": {},
   "source": [
    "#### Calculate scores"
   ]
  },
  {
   "cell_type": "code",
   "execution_count": null,
   "id": "823acf58",
   "metadata": {},
   "outputs": [],
   "source": [
    "print(\"precision_score: %.4f\" % metrics.accuracy_score(y_test_true, y_test_pred))\n",
    "print(\"precision_score: %.4f\" % metrics.precision_score(y_test_true, y_test_pred))\n",
    "print(\"recall_score: %.4f\" % metrics.recall_score(y_test_true, y_test_pred))\n",
    "print(\"f1_score: %.4f\" % metrics.f1_score(y_test_true, y_test_pred))"
   ]
  },
  {
   "cell_type": "markdown",
   "id": "3c359c7c",
   "metadata": {},
   "source": [
    "#### Confussion matrics"
   ]
  },
  {
   "cell_type": "code",
   "execution_count": null,
   "id": "e132507a",
   "metadata": {},
   "outputs": [],
   "source": [
    "metrics.ConfusionMatrixDisplay.from_estimator(model_ensemble, X_test_fe, y_test_true)\n",
    "plt.show()"
   ]
  },
  {
   "cell_type": "code",
   "execution_count": null,
   "id": "330f0644",
   "metadata": {},
   "outputs": [],
   "source": [
    "# TODO: add description and title\n",
    "metrics.RocCurveDisplay.from_estimator(m1, X_test_fe, y_test_true)"
   ]
  }
 ],
 "metadata": {
  "kernelspec": {
   "display_name": "Python 3 (ipykernel)",
   "language": "python",
   "name": "python3"
  },
  "language_info": {
   "codemirror_mode": {
    "name": "ipython",
    "version": 3
   },
   "file_extension": ".py",
   "mimetype": "text/x-python",
   "name": "python",
   "nbconvert_exporter": "python",
   "pygments_lexer": "ipython3",
   "version": "3.9.7"
  }
 },
 "nbformat": 4,
 "nbformat_minor": 5
}
