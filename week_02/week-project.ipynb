{
 "cells": [
  {
   "cell_type": "markdown",
   "id": "dd6eedc1",
   "metadata": {},
   "source": [
    "# Titanic - Machine Learning from Disaster"
   ]
  },
  {
   "cell_type": "markdown",
   "id": "615c4cc8",
   "metadata": {},
   "source": [
    "### Summary\n",
    "* [Introduction](#Introduction)\n",
    "* [Data exploration](#Data-exploration)\n",
    "    * [Count of passengers split by sex and passenger's class](#Count-of-passengers-split-by-sex-and-passenger's-class)\n",
    "    * [Survival rate per passenger's class](#Survival-rate-per-passenger's-class)\n",
    "    * [Number of survived and non survived passengers](#Number-of-survived-and-non-survived-passengers)\n",
    "    * [Passengers age](#Passengers-age)\n",
    "    * [Pairplot](#Pairplot)\n",
    "* [Feature engineering](#Feature-engineering)\n",
    "* [Logistic regression](#Logistic-regression)  \n",
    "* [Decission tree](#Decission-tree)\n",
    "* [Random forest](#Random-forest)\n",
    "* [Ensemble models](#Ensemble-models)\n",
    "* [Kaggle submission](#Kaggle-submission)"
   ]
  },
  {
   "cell_type": "markdown",
   "id": "a1250350",
   "metadata": {},
   "source": [
    "## Introduction\n",
    "\n",
    "Solution for [Titanic - challenge](https://www.kaggle.com/c/titanic/overview). Data description can be found [here](https://www.kaggle.com/c/titanic/data)."
   ]
  },
  {
   "cell_type": "code",
   "execution_count": null,
   "id": "c92f4b93",
   "metadata": {},
   "outputs": [],
   "source": [
    "# Import required packages\n",
    "import numpy as np\n",
    "import pandas as pd\n",
    "from sklearn.compose import ColumnTransformer\n",
    "from sklearn.impute import SimpleImputer\n",
    "from sklearn.preprocessing import OneHotEncoder, MinMaxScaler, KBinsDiscretizer, FunctionTransformer\n",
    "from sklearn.model_selection import train_test_split\n",
    "from sklearn.pipeline import make_pipeline\n",
    "from sklearn.linear_model import LogisticRegression"
   ]
  },
  {
   "cell_type": "code",
   "execution_count": null,
   "id": "41638ea3",
   "metadata": {},
   "outputs": [],
   "source": [
    "# Global variables\n",
    "RANDOM_STATE = 42"
   ]
  },
  {
   "cell_type": "code",
   "execution_count": null,
   "id": "267260d0",
   "metadata": {},
   "outputs": [],
   "source": [
    "# load data\n",
    "df = pd.read_csv(\"../data/train.csv\", sep=\",\")\n",
    "df.head(5)"
   ]
  },
  {
   "cell_type": "markdown",
   "id": "566770c4",
   "metadata": {},
   "source": [
    "### Split Train / Test (Validation) data"
   ]
  },
  {
   "cell_type": "code",
   "execution_count": null,
   "id": "7b0b944a",
   "metadata": {},
   "outputs": [],
   "source": [
    "X = df.drop(columns='Survived')\n",
    "y = df['Survived']\n",
    "X_train, X_test, y_train_true, y_test_true = train_test_split(X, y, test_size=0.2, random_state=RANDOM_STATE)"
   ]
  },
  {
   "cell_type": "markdown",
   "id": "3a6a2fa1",
   "metadata": {},
   "source": [
    "## Data exploration\n"
   ]
  },
  {
   "cell_type": "code",
   "execution_count": null,
   "id": "3f74b6c7",
   "metadata": {},
   "outputs": [],
   "source": [
    "# pip install --no-input plotly.express"
   ]
  },
  {
   "cell_type": "code",
   "execution_count": null,
   "id": "7362a24b",
   "metadata": {},
   "outputs": [],
   "source": [
    "# pip freeze > requirements.txt"
   ]
  },
  {
   "cell_type": "code",
   "execution_count": null,
   "id": "064dd512",
   "metadata": {},
   "outputs": [],
   "source": [
    "import plotly.express as px\n",
    "import plotly.graph_objects as go"
   ]
  },
  {
   "cell_type": "markdown",
   "id": "9927ddb3",
   "metadata": {},
   "source": [
    "### Number of survived and non survived passengers"
   ]
  },
  {
   "cell_type": "code",
   "execution_count": null,
   "id": "22d3ec34",
   "metadata": {},
   "outputs": [],
   "source": [
    "tmp = pd.DataFrame(df.groupby(\"Survived\").size(), columns=[\"count\"]).reset_index()\n",
    "fig = px.pie(tmp, values='count', names={0: 'Non-survived', 1: 'Survived'}, title='Survived vs Not-survived')\n",
    "fig.show()"
   ]
  },
  {
   "cell_type": "markdown",
   "id": "bac27186",
   "metadata": {},
   "source": [
    "### Count of passengers split by sex and passenger's class"
   ]
  },
  {
   "cell_type": "code",
   "execution_count": null,
   "id": "91b5283a",
   "metadata": {},
   "outputs": [],
   "source": [
    "tmp = pd.DataFrame(df.groupby(by=[\"Pclass\", \"Sex\"]).size(), columns=[\"count\"]).reset_index()\n",
    "fig = px.bar(tmp, x=\"Pclass\", y=\"count\", color=\"Sex\", title=\"Count of passengers split by sex and passenger's class\")\n",
    "fig.show() \n",
    "# TODO: switch colors"
   ]
  },
  {
   "cell_type": "markdown",
   "id": "6077081d",
   "metadata": {},
   "source": [
    "### Survival rate per passenger's class"
   ]
  },
  {
   "cell_type": "code",
   "execution_count": null,
   "id": "31f6d32f",
   "metadata": {},
   "outputs": [],
   "source": [
    "tmp = pd.DataFrame(df.groupby(by=[\"Pclass\", \"Sex\", \"Survived\"]).size(), columns=[\"count\"]).reset_index()\n",
    "tmp['total'] = tmp.groupby(by=[\"Pclass\", \"Sex\"])['count'].transform('sum')\n",
    "tmp['rate'] = tmp['count'] / tmp['total']\n",
    "\n",
    "male = tmp.loc[tmp['Sex'] == 'male']\n",
    "male_survived = male[male['Survived'] == 1]\n",
    "female = tmp.loc[tmp['Sex'] == 'female']\n",
    "female_survived = female[female['Survived'] == 1]"
   ]
  },
  {
   "cell_type": "code",
   "execution_count": null,
   "id": "489cafc8",
   "metadata": {},
   "outputs": [],
   "source": [
    "# import plotly.graph_objects.layout as layout\n",
    "\n",
    "fig = go.Figure(data=[\n",
    "    go.Bar(name='Male', x=male_survived['Pclass'], y=male_survived['rate']),\n",
    "    go.Bar(name='Female', x=female_survived['Pclass'], y=female_survived['rate'])\n",
    "], layout=go.Layout(title='Survival rate per passenger\\'s class'))\n",
    "\n",
    "fig.update_layout(barmode='group')\n",
    "fig.show()"
   ]
  },
  {
   "cell_type": "markdown",
   "id": "9d58c552",
   "metadata": {},
   "source": [
    "### Passengers age"
   ]
  },
  {
   "cell_type": "code",
   "execution_count": null,
   "id": "af544127",
   "metadata": {},
   "outputs": [],
   "source": [
    "fig = px.histogram(df, x=\"Age\", color=\"Survived\", title='Passengers age')\n",
    "fig.show()\n",
    "\n",
    "# TODO: change legend\n",
    "# TODO: increase bar width"
   ]
  },
  {
   "cell_type": "markdown",
   "id": "193b3af5",
   "metadata": {},
   "source": [
    "### Pairplot"
   ]
  },
  {
   "cell_type": "code",
   "execution_count": null,
   "id": "9e948f76",
   "metadata": {},
   "outputs": [],
   "source": [
    "import seaborn as sns\n",
    "\n",
    "tmp = df[['Survived', 'Pclass','Sex', 'Age', 'SibSp', 'Parch', 'Fare']]\n",
    "sns.pairplot(tmp, hue='Survived')"
   ]
  },
  {
   "cell_type": "markdown",
   "id": "e91b4732",
   "metadata": {},
   "source": [
    "## Feature engineering"
   ]
  },
  {
   "cell_type": "code",
   "execution_count": null,
   "id": "6716c948",
   "metadata": {},
   "outputs": [],
   "source": [
    "def cabin_to_deck_mapper(d: pd.DataFrame) -> pd.DataFrame:\n",
    "    d['Cabin'] = d['Cabin'].str[0] == 'A'\n",
    "\n",
    "    return d"
   ]
  },
  {
   "cell_type": "code",
   "execution_count": null,
   "id": "1f1cf854",
   "metadata": {},
   "outputs": [],
   "source": [
    "# Simple test for cabin_to_deck_mapper function\n",
    "import pandas.testing as testing\n",
    "\n",
    "actual_input = pd.DataFrame([\n",
    "    ['A1'],\n",
    "    ['B2'],\n",
    "    ['C5'],\n",
    "    ['E9'],\n",
    "    [np.NAN],\n",
    "], index=[0, 1, 2, 3, 4], columns=['Cabin'])\n",
    "expected_output = pd.DataFrame([\n",
    "    [True],\n",
    "    [False],\n",
    "    [False],\n",
    "    [False],\n",
    "    [False],\n",
    "], index=[0, 1, 2, 3, 4], columns=['Cabin'])\n",
    "\n",
    "actual_output = cabin_to_deck_mapper(actual_input)\n",
    "\n",
    "testing.assert_frame_equal(expected_output, actual_output)"
   ]
  },
  {
   "cell_type": "code",
   "execution_count": null,
   "id": "37dc3e6b",
   "metadata": {},
   "outputs": [],
   "source": [
    "age_pipeline = make_pipeline(\n",
    "    SimpleImputer(strategy='mean'), # TODO: replace by mean-age-by-pclass\n",
    "    KBinsDiscretizer(n_bins=3, encode='onehot-dense', strategy='quantile')\n",
    ")"
   ]
  },
  {
   "cell_type": "code",
   "execution_count": null,
   "id": "b0184f0b",
   "metadata": {},
   "outputs": [],
   "source": [
    "fare_pipeline = make_pipeline(\n",
    "    SimpleImputer(strategy='mean'),\n",
    "    MinMaxScaler()\n",
    ")"
   ]
  },
  {
   "cell_type": "code",
   "execution_count": null,
   "id": "940332f4",
   "metadata": {},
   "outputs": [],
   "source": [
    "pipeline = ColumnTransformer([\n",
    "    ('age_transformer', age_pipeline, ['Age']),\n",
    "    ('sex_transformer', OneHotEncoder(sparse=False, handle_unknown='ignore'), ['Sex']),\n",
    "    ('fare_transformer', fare_pipeline, ['Fare']),\n",
    "    ('cabin_transformer', FunctionTransformer(cabin_to_deck_mapper), ['Cabin']),\n",
    "    ('pass_through', 'passthrough', ['Pclass', 'SibSp']),\n",
    "], remainder='drop')"
   ]
  },
  {
   "cell_type": "code",
   "execution_count": null,
   "id": "3e74ea83",
   "metadata": {},
   "outputs": [],
   "source": [
    "# Transform data\n",
    "pipeline.fit(X_train)\n",
    "X_train_fe = pipeline.transform(X_train)\n",
    "X_test_fe = pipeline.transform(X_test)"
   ]
  },
  {
   "cell_type": "markdown",
   "id": "a58a0fb9",
   "metadata": {},
   "source": [
    "## Logistic regression"
   ]
  },
  {
   "cell_type": "code",
   "execution_count": null,
   "id": "38816428",
   "metadata": {},
   "outputs": [],
   "source": [
    "# Create and fit logistic regression classifier\n",
    "m1 = LogisticRegression()\n",
    "m1.fit(X_train_fe, y_train_true)\n",
    "\n",
    "# make predictions\n",
    "y_test_pred = m1.predict(X_test_fe)"
   ]
  },
  {
   "cell_type": "markdown",
   "id": "481bc354",
   "metadata": {},
   "source": [
    "#### Calculate scores"
   ]
  },
  {
   "cell_type": "code",
   "execution_count": null,
   "id": "5b973236",
   "metadata": {},
   "outputs": [],
   "source": [
    "from sklearn import metrics\n",
    "\n",
    "print(\"accuracy_score: %.4f\" % metrics.accuracy_score(y_test_true, y_test_pred))\n",
    "print(\"precision_score: %.4f\" % metrics.precision_score(y_test_true, y_test_pred))\n",
    "print(\"recall_score: %.4f\" % metrics.recall_score(y_test_true, y_test_pred))\n",
    "print(\"f1_score: %.4f\" % metrics.f1_score(y_test_true, y_test_pred))"
   ]
  },
  {
   "cell_type": "markdown",
   "id": "ee523953",
   "metadata": {},
   "source": [
    "#### Confussion matrics"
   ]
  },
  {
   "cell_type": "code",
   "execution_count": null,
   "id": "94f252b9",
   "metadata": {},
   "outputs": [],
   "source": [
    "import matplotlib.pyplot as plt\n",
    "\n",
    "metrics.ConfusionMatrixDisplay.from_estimator(m1, X_test_fe, y_test_true)\n",
    "plt.show()"
   ]
  },
  {
   "cell_type": "code",
   "execution_count": null,
   "id": "4d3b5d3c",
   "metadata": {},
   "outputs": [],
   "source": [
    "# TODO: add description and title\n",
    "metrics.RocCurveDisplay.from_estimator(m1, X_test_fe, y_test_true)"
   ]
  },
  {
   "cell_type": "markdown",
   "id": "3e03f324",
   "metadata": {},
   "source": [
    "### Cross validation"
   ]
  },
  {
   "cell_type": "code",
   "execution_count": null,
   "id": "cc90c670",
   "metadata": {},
   "outputs": [],
   "source": [
    "from sklearn.model_selection import cross_validate\n",
    "\n",
    "cross_accuracy_log = cross_validate(m1, X_train_fe, y_train_true,\n",
    "                    cv=5,\n",
    "                    scoring='accuracy',\n",
    "                    return_train_score=True\n",
    ")"
   ]
  },
  {
   "cell_type": "code",
   "execution_count": null,
   "id": "3a648538",
   "metadata": {},
   "outputs": [],
   "source": [
    "print(\"Cross-validation mean %.3f +- %.3f\" % (100 * cross_accuracy_log['train_score'].mean(), 100 * cross_accuracy_log['train_score'].std()))"
   ]
  },
  {
   "cell_type": "markdown",
   "id": "f4ee181d",
   "metadata": {},
   "source": [
    "## Decission tree"
   ]
  },
  {
   "cell_type": "code",
   "execution_count": null,
   "id": "2dfc2810",
   "metadata": {},
   "outputs": [],
   "source": [
    "from sklearn.tree import DecisionTreeClassifier, plot_tree\n",
    "\n",
    "m2 = DecisionTreeClassifier(max_depth=5)\n",
    "m2.fit(X_train_fe, y_train_true)\n",
    "\n",
    "# make predictions\n",
    "y_test_pred = m2.predict(X_test_fe)"
   ]
  },
  {
   "cell_type": "markdown",
   "id": "180767d4",
   "metadata": {},
   "source": [
    "#### Calculate scores"
   ]
  },
  {
   "cell_type": "code",
   "execution_count": null,
   "id": "477c4c1e",
   "metadata": {},
   "outputs": [],
   "source": [
    "print(\"accuracy_score: %.4f\" % metrics.accuracy_score(y_test_true, y_test_pred))\n",
    "print(\"precision_score: %.4f\" % metrics.precision_score(y_test_true, y_test_pred))\n",
    "print(\"recall_score: %.4f\" % metrics.recall_score(y_test_true, y_test_pred))\n",
    "print(\"f1_score: %.4f\" % metrics.f1_score(y_test_true, y_test_pred))"
   ]
  },
  {
   "cell_type": "markdown",
   "id": "734d55ad",
   "metadata": {},
   "source": [
    "#### Confussion matrics"
   ]
  },
  {
   "cell_type": "code",
   "execution_count": null,
   "id": "75a0ec31",
   "metadata": {},
   "outputs": [],
   "source": [
    "metrics.ConfusionMatrixDisplay.from_estimator(m2, X_test_fe, y_test_true)\n",
    "plt.show()"
   ]
  },
  {
   "cell_type": "code",
   "execution_count": null,
   "id": "a7dc86ca",
   "metadata": {},
   "outputs": [],
   "source": [
    "# TODO: add description and title\n",
    "metrics.RocCurveDisplay.from_estimator(m2, X_test_fe, y_test_true)"
   ]
  },
  {
   "cell_type": "code",
   "execution_count": null,
   "id": "1e392f20",
   "metadata": {},
   "outputs": [],
   "source": [
    "plt.figure(figsize=(30, 20))\n",
    "t = plot_tree(m2)\n",
    "# t = plot_tree(m, feature_names=['Age'], class_names=[...])\n",
    "# TODO: set feature names"
   ]
  },
  {
   "cell_type": "markdown",
   "id": "f7af2287",
   "metadata": {},
   "source": [
    "## Random forest"
   ]
  },
  {
   "cell_type": "code",
   "execution_count": null,
   "id": "3521ea15",
   "metadata": {},
   "outputs": [],
   "source": [
    "from sklearn.ensemble import RandomForestClassifier\n",
    "\n",
    "m3 = RandomForestClassifier(max_depth=5)\n",
    "m3.fit(X_train_fe, y_train_true)\n",
    "\n",
    "# make predictions\n",
    "y_test_pred = m3.predict(X_test_fe)"
   ]
  },
  {
   "cell_type": "markdown",
   "id": "ef44f6a5",
   "metadata": {},
   "source": [
    "#### Calculate scores"
   ]
  },
  {
   "cell_type": "code",
   "execution_count": null,
   "id": "0f73ac9c",
   "metadata": {},
   "outputs": [],
   "source": [
    "print(\"accuracy_score: %.4f\" % metrics.accuracy_score(y_test_true, y_test_pred))\n",
    "print(\"precision_score: %.4f\" % metrics.precision_score(y_test_true, y_test_pred))\n",
    "print(\"recall_score: %.4f\" % metrics.recall_score(y_test_true, y_test_pred))\n",
    "print(\"f1_score: %.4f\" % metrics.f1_score(y_test_true, y_test_pred))"
   ]
  },
  {
   "cell_type": "markdown",
   "id": "0733c4c9",
   "metadata": {},
   "source": [
    "#### Confussion matrics"
   ]
  },
  {
   "cell_type": "code",
   "execution_count": null,
   "id": "62f5bddd",
   "metadata": {},
   "outputs": [],
   "source": [
    "metrics.ConfusionMatrixDisplay.from_estimator(m3, X_test_fe, y_test_true)\n",
    "plt.show()"
   ]
  },
  {
   "cell_type": "code",
   "execution_count": null,
   "id": "c33cc468",
   "metadata": {},
   "outputs": [],
   "source": [
    "# TODO: add description and title\n",
    "metrics.RocCurveDisplay.from_estimator(m3, X_test_fe, y_test_true)"
   ]
  },
  {
   "cell_type": "markdown",
   "id": "a9e04876",
   "metadata": {},
   "source": [
    "## Ensemble models"
   ]
  },
  {
   "cell_type": "code",
   "execution_count": null,
   "id": "d58356d7",
   "metadata": {},
   "outputs": [],
   "source": [
    "from sklearn.ensemble import VotingClassifier\n",
    "\n",
    "models = [\n",
    "          ('logreg', m1),\n",
    "          ('tree', m2),\n",
    "          ('randomforest', m3)\n",
    "]\n",
    "model_ensemble = VotingClassifier(models)\n",
    "y_test_pred = model_ensemble.fit(X_train_fe, y_train_true)\n",
    "\n",
    "# make predictions\n",
    "y_test_pred = model_ensemble.predict(X_test_fe)"
   ]
  },
  {
   "cell_type": "markdown",
   "id": "c1ec98d4",
   "metadata": {},
   "source": [
    "#### Calculate scores"
   ]
  },
  {
   "cell_type": "code",
   "execution_count": null,
   "id": "4c593132",
   "metadata": {},
   "outputs": [],
   "source": [
    "print(\"accuracy_score: %.4f\" % metrics.accuracy_score(y_test_true, y_test_pred))\n",
    "print(\"precision_score: %.4f\" % metrics.precision_score(y_test_true, y_test_pred))\n",
    "print(\"recall_score: %.4f\" % metrics.recall_score(y_test_true, y_test_pred))\n",
    "print(\"f1_score: %.4f\" % metrics.f1_score(y_test_true, y_test_pred))"
   ]
  },
  {
   "cell_type": "markdown",
   "id": "eb68c968",
   "metadata": {},
   "source": [
    "#### Confussion matrics"
   ]
  },
  {
   "cell_type": "code",
   "execution_count": null,
   "id": "df6c55ec",
   "metadata": {},
   "outputs": [],
   "source": [
    "metrics.ConfusionMatrixDisplay.from_estimator(model_ensemble, X_test_fe, y_test_true)\n",
    "plt.show()"
   ]
  },
  {
   "cell_type": "markdown",
   "id": "a0283f30",
   "metadata": {},
   "source": [
    "## Kaggle submission"
   ]
  },
  {
   "cell_type": "code",
   "execution_count": null,
   "id": "1d29eeb1",
   "metadata": {},
   "outputs": [],
   "source": [
    "X_data_kaggle = pd.read_csv(\"../data/test.csv\", sep=\",\")\n",
    "X_test_kaggle = X_data_kaggle.loc[:, ['Pclass', 'Sex', 'Age', 'SibSp', 'Parch', 'Fare', 'Embarked', 'Cabin', 'Name']]\n",
    "# X_test_kaggle.isna().sum()"
   ]
  },
  {
   "cell_type": "code",
   "execution_count": null,
   "id": "23366616",
   "metadata": {},
   "outputs": [],
   "source": [
    "fare_mean = X_test_kaggle['Fare'].mean()\n",
    "X_test_kaggle['Fare'].fillna(fare_mean, inplace=True)\n",
    "# X_test_kaggle.isna().sum()"
   ]
  },
  {
   "cell_type": "code",
   "execution_count": null,
   "id": "f5b55571",
   "metadata": {},
   "outputs": [],
   "source": [
    "X_test_kaggle_fe = pipeline.transform(X_test_kaggle)\n",
    "df_kaggle = pd.DataFrame({\n",
    "    \"PassengerId\": X_data_kaggle['PassengerId'],\n",
    "    \"Survived\": model_ensemble.predict(X_test_kaggle_fe)\n",
    "})"
   ]
  },
  {
   "cell_type": "code",
   "execution_count": null,
   "id": "1b1f0803",
   "metadata": {},
   "outputs": [],
   "source": [
    "df_kaggle.to_csv(\"./output/titanic_predictions.csv\", index=False)"
   ]
  },
  {
   "cell_type": "markdown",
   "id": "7583dd43",
   "metadata": {},
   "source": [
    "### Submission result"
   ]
  },
  {
   "cell_type": "markdown",
   "id": "9949015e",
   "metadata": {},
   "source": [
    "Submission score **0.77751**   \n",
    "position 4130 out of 13765 submissions"
   ]
  }
 ],
 "metadata": {
  "kernelspec": {
   "display_name": "Python 3 (ipykernel)",
   "language": "python",
   "name": "python3"
  },
  "language_info": {
   "codemirror_mode": {
    "name": "ipython",
    "version": 3
   },
   "file_extension": ".py",
   "mimetype": "text/x-python",
   "name": "python",
   "nbconvert_exporter": "python",
   "pygments_lexer": "ipython3",
   "version": "3.9.7"
  }
 },
 "nbformat": 4,
 "nbformat_minor": 5
}