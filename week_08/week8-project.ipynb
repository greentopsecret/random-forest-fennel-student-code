{
 "cells": [
  {
   "cell_type": "markdown",
   "id": "0c22bd94-a975-4301-9996-641fdcbd424a",
   "metadata": {},
   "source": [
    "# Project: Markov Simulation"
   ]
  },
  {
   "cell_type": "markdown",
   "id": "68b0ad8f-fb86-419a-976f-7a209727401f",
   "metadata": {},
   "source": [
    "## Business goals:  "
   ]
  },
  {
   "cell_type": "markdown",
   "id": "7de29b55-ed54-4a87-9286-88410cea918e",
   "metadata": {},
   "source": [
    "1. understand customer behavior  \n",
    "2. explain customer behavior to non-data staff  \n",
    "3. optimize staffing so that the queues do not get unnecessary long  "
   ]
  },
  {
   "cell_type": "markdown",
   "id": "d4c0e6ab-f035-4f99-b371-d47c0d490454",
   "metadata": {},
   "source": [
    "## Supermarket Area"
   ]
  },
  {
   "cell_type": "markdown",
   "id": "2854748a-4124-4df7-87c4-aae8aa355a1f",
   "metadata": {},
   "source": [
    "We are using the following model supermarket with six areas: entrance, fruit, spices, dairy, drinks and checkout.\n",
    "\n",
    "The customers can move between these areas freely. Sooner or later, they will enter the checkout area. Once they do, they are considered to have left the shop."
   ]
  },
  {
   "cell_type": "markdown",
   "id": "a2f4248c-fc0b-4587-89ea-9447520fe16f",
   "metadata": {},
   "source": [
    "![Drag Racing](./project/supermarket.png)"
   ]
  },
  {
   "cell_type": "markdown",
   "id": "72af9eed-2aae-45b2-a2f9-0078fc1bef19",
   "metadata": {},
   "source": [
    "## 8.1. Data Analysis"
   ]
  },
  {
   "cell_type": "markdown",
   "id": "af881848-e5b6-4575-babd-72a6843fb219",
   "metadata": {},
   "source": [
    "### Load data"
   ]
  },
  {
   "cell_type": "code",
   "execution_count": null,
   "id": "5fa0dde9-ea0a-4b89-84a7-9063fe604b2d",
   "metadata": {},
   "outputs": [],
   "source": [
    "import pandas as pd"
   ]
  },
  {
   "cell_type": "code",
   "execution_count": null,
   "id": "78851543-5136-4e95-b7e0-836ffeda1a55",
   "metadata": {},
   "outputs": [],
   "source": [
    "from os import listdir\n",
    "from os.path import isfile, join\n",
    "\n",
    "def load_data(i, path, files):\n",
    "    return pd.read_csv(os.path.join(path, files[i]), sep=';', parse_dates=['timestamp'])\n",
    "\n",
    "path = './project/data/'\n",
    "\n",
    "files = [f for f in listdir(path) if isfile(join(path, f))]\n",
    "\n",
    "# load first file\n",
    "df = load_data(0, path, files)\n",
    "\n",
    "# join data from all remaining files\n",
    "for i in range(1, len(files)):\n",
    "    \n",
    "    df_next = load_data(i, path, files)\n",
    "    \n",
    "    # change customer_no in order to keep customer uniqueness\n",
    "    df_next['customer_no'] = df_next['customer_no'] + len(df)\n",
    "\n",
    "    df = df.append(df_next)\n",
    "\n",
    "df"
   ]
  },
  {
   "cell_type": "code",
   "execution_count": null,
   "id": "b4d3080d-0d48-4e08-a0bb-431b6255c60c",
   "metadata": {},
   "outputs": [],
   "source": [
    "# the total number of customers in each section (no unique customers)\n",
    "df.groupby(by='location')['customer_no'].count()"
   ]
  },
  {
   "cell_type": "markdown",
   "id": "7f0c27d2-577c-4326-be3d-b62970c831e8",
   "metadata": {},
   "source": [
    "## Fill out missing counter time"
   ]
  },
  {
   "cell_type": "code",
   "execution_count": null,
   "id": "97582fb6-dd2f-4fb1-9f51-9d7c87160662",
   "metadata": {},
   "outputs": [],
   "source": [
    "# When the shop closes, the remaining customers are rushed through the checkout. \n",
    "# Their checkout is not recorded, so it may look as if they stay in the market forever."
   ]
  },
  {
   "cell_type": "code",
   "execution_count": null,
   "id": "4e86b44e-815a-4ba1-8a77-739164a833b3",
   "metadata": {},
   "outputs": [],
   "source": [
    "# df.iloc[25]['location']\n",
    "\n",
    "# def get_last_id(df):\n",
    "#     return df.index[-1]\n",
    "\n",
    "# df[:100].groupby('customer_no').agg({'location': get_last_id})"
   ]
  },
  {
   "cell_type": "code",
   "execution_count": null,
   "id": "7d26c3a8-0401-4f95-ac7a-bd1785e8545b",
   "metadata": {},
   "outputs": [],
   "source": [
    "# df.iloc[0:57]\n",
    "df[df['customer_no'] == 6]"
   ]
  },
  {
   "cell_type": "code",
   "execution_count": null,
   "id": "4f43ec1b-7e7a-4949-8f9f-44f51750d160",
   "metadata": {},
   "outputs": [],
   "source": [
    "# # df.pivot(columns=['location'], values=['timestamp'], index=['customer_no'])\n",
    "\n",
    "# def get_last(df):\n",
    "#     print(df)\n",
    "#     return df.index[[0, -1]]\n",
    "\n",
    "# df.iloc[0:56].pivot(index=['customer_no'], columns=['location'], values=['timestamp']) # df.iloc[0:57] will fail\n",
    "# df.iloc[0:57].groupby(['customer_no', 'location']).agg({'location': get_last})\n",
    "# df.iloc[0:57]"
   ]
  },
  {
   "cell_type": "code",
   "execution_count": null,
   "id": "d6804ee4-54ac-4c0c-bdb2-f7f13f516fcc",
   "metadata": {},
   "outputs": [],
   "source": [
    "# Calculate the total number of customers in each section over time\n",
    "\n",
    "# Display the number of customers at checkout over time"
   ]
  },
  {
   "cell_type": "code",
   "execution_count": null,
   "id": "88e9b815-1234-4466-8347-a7395b657b9c",
   "metadata": {},
   "outputs": [],
   "source": [
    "# The time each customer spent in the market\n",
    "visits = df.groupby(by='customer_no')['timestamp'].agg(['min', 'max'])\n",
    "visits['duration'] = visits['max'] - visits['min']\n",
    "visits.sort_values(by='duration', ascending=False)"
   ]
  },
  {
   "cell_type": "code",
   "execution_count": null,
   "id": "df0a1e5e-406f-4e21-b301-936c866617b3",
   "metadata": {},
   "outputs": [],
   "source": [
    "# Calculate the total number of customers in the supermarket over time."
   ]
  },
  {
   "cell_type": "code",
   "execution_count": null,
   "id": "735b68c6-6bec-46b6-b2b6-207e05e0c302",
   "metadata": {},
   "outputs": [],
   "source": [
    "# # Our business managers think that the first section customers visit follows a different pattern than the following ones. Plot the distribution of customers of their first visited section versus following sections (treat all sections visited after the first as “following”).\n",
    "\n",
    "# df.groupby(['customer_no']).agg({'location': [' -> '.join, 'count']})\n",
    "\n",
    "# df.groupby(['customer_no'])['location'].describe().sort_values(by='freq', ascending=False)"
   ]
  },
  {
   "cell_type": "code",
   "execution_count": null,
   "id": "ded6ab19-ab8f-40f7-9e0d-dd8ef93a4393",
   "metadata": {},
   "outputs": [],
   "source": [
    "# df.groupby(['customer_no'])['timestamp'].describe()\n",
    "# # .sort_values(by='freq', ascending=False)"
   ]
  },
  {
   "cell_type": "code",
   "execution_count": null,
   "id": "c0c45de9-fe91-4df8-8f81-f8de4635127f",
   "metadata": {},
   "outputs": [],
   "source": [
    "df[df['customer_no'] == 19854]"
   ]
  },
  {
   "cell_type": "markdown",
   "id": "3ff98abd-7814-49f6-852b-572758a16ff9",
   "metadata": {},
   "source": [
    "### Revenue Estimate"
   ]
  },
  {
   "cell_type": "markdown",
   "id": "c955a2fc-9367-476c-9f85-70df36ad3fc0",
   "metadata": {},
   "source": [
    "Estimate the total revenue for a customer using the following table:\n",
    "\n",
    "| section | revenue per minute |\n",
    "|---------|:--------------------:|\n",
    "| fruit   | 4€                 |\n",
    "| spices | 3€|\n",
    "| dairy | 5€ |\n",
    "| drinks | 6€ |\n",
    "\n",
    "Which is the most profitable section according to your data?"
   ]
  },
  {
   "cell_type": "raw",
   "id": "c1b54407-2c4b-4d79-9bc2-5560258dc215",
   "metadata": {},
   "source": []
  }
 ],
 "metadata": {
  "kernelspec": {
   "display_name": "Python 3 (ipykernel)",
   "language": "python",
   "name": "python3"
  },
  "language_info": {
   "codemirror_mode": {
    "name": "ipython",
    "version": 3
   },
   "file_extension": ".py",
   "mimetype": "text/x-python",
   "name": "python",
   "nbconvert_exporter": "python",
   "pygments_lexer": "ipython3",
   "version": "3.8.8"
  }
 },
 "nbformat": 4,
 "nbformat_minor": 5
}
