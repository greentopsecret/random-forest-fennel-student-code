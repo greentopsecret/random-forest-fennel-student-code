{
 "cells": [
  {
   "cell_type": "markdown",
   "id": "0c22bd94-a975-4301-9996-641fdcbd424a",
   "metadata": {},
   "source": [
    "# Project: Markov Simulation"
   ]
  },
  {
   "cell_type": "markdown",
   "id": "68b0ad8f-fb86-419a-976f-7a209727401f",
   "metadata": {},
   "source": [
    "## Business goals:  "
   ]
  },
  {
   "cell_type": "markdown",
   "id": "7de29b55-ed54-4a87-9286-88410cea918e",
   "metadata": {},
   "source": [
    "1. understand customer behavior  \n",
    "2. explain customer behavior to non-data staff  \n",
    "3. optimize staffing so that the queues do not get unnecessary long  "
   ]
  },
  {
   "cell_type": "markdown",
   "id": "d4c0e6ab-f035-4f99-b371-d47c0d490454",
   "metadata": {},
   "source": [
    "## Supermarket Area"
   ]
  },
  {
   "cell_type": "markdown",
   "id": "2854748a-4124-4df7-87c4-aae8aa355a1f",
   "metadata": {},
   "source": [
    "We are using the following model supermarket with six areas: entrance, fruit, spices, dairy, drinks and checkout.\n",
    "\n",
    "The customers can move between these areas freely. Sooner or later, they will enter the checkout area. Once they do, they are considered to have left the shop."
   ]
  },
  {
   "cell_type": "markdown",
   "id": "a2f4248c-fc0b-4587-89ea-9447520fe16f",
   "metadata": {},
   "source": [
    "![Drag Racing](./project/supermarket.png)"
   ]
  },
  {
   "cell_type": "markdown",
   "id": "72af9eed-2aae-45b2-a2f9-0078fc1bef19",
   "metadata": {},
   "source": [
    "## 8.1. Data Analysis"
   ]
  },
  {
   "cell_type": "markdown",
   "id": "af881848-e5b6-4575-babd-72a6843fb219",
   "metadata": {},
   "source": [
    "### Load data"
   ]
  },
  {
   "cell_type": "code",
   "execution_count": null,
   "id": "5fa0dde9-ea0a-4b89-84a7-9063fe604b2d",
   "metadata": {},
   "outputs": [],
   "source": [
    "import pandas as pd"
   ]
  },
  {
   "cell_type": "code",
   "execution_count": 1,
   "id": "78851543-5136-4e95-b7e0-836ffeda1a55",
   "metadata": {},
   "outputs": [
    {
     "data": {
      "application/javascript": [
       "\n",
       "        if (window._pyforest_update_imports_cell) { window._pyforest_update_imports_cell('import pandas as pd'); }\n",
       "    "
      ],
      "text/plain": [
       "<IPython.core.display.Javascript object>"
      ]
     },
     "metadata": {},
     "output_type": "display_data"
    },
    {
     "data": {
      "application/javascript": [
       "\n",
       "        if (window._pyforest_update_imports_cell) { window._pyforest_update_imports_cell('import os\\nimport pandas as pd'); }\n",
       "    "
      ],
      "text/plain": [
       "<IPython.core.display.Javascript object>"
      ]
     },
     "metadata": {},
     "output_type": "display_data"
    },
    {
     "data": {
      "application/javascript": [
       "\n",
       "        if (window._pyforest_update_imports_cell) { window._pyforest_update_imports_cell('import os\\nimport pandas as pd'); }\n",
       "    "
      ],
      "text/plain": [
       "<IPython.core.display.Javascript object>"
      ]
     },
     "metadata": {},
     "output_type": "display_data"
    },
    {
     "data": {
      "application/javascript": [
       "\n",
       "        if (window._pyforest_update_imports_cell) { window._pyforest_update_imports_cell('import os\\nimport pandas as pd'); }\n",
       "    "
      ],
      "text/plain": [
       "<IPython.core.display.Javascript object>"
      ]
     },
     "metadata": {},
     "output_type": "display_data"
    },
    {
     "data": {
      "application/javascript": [
       "\n",
       "        if (window._pyforest_update_imports_cell) { window._pyforest_update_imports_cell('import os\\nimport pandas as pd'); }\n",
       "    "
      ],
      "text/plain": [
       "<IPython.core.display.Javascript object>"
      ]
     },
     "metadata": {},
     "output_type": "display_data"
    },
    {
     "data": {
      "application/javascript": [
       "\n",
       "        if (window._pyforest_update_imports_cell) { window._pyforest_update_imports_cell('import os\\nimport pandas as pd'); }\n",
       "    "
      ],
      "text/plain": [
       "<IPython.core.display.Javascript object>"
      ]
     },
     "metadata": {},
     "output_type": "display_data"
    },
    {
     "data": {
      "application/javascript": [
       "\n",
       "        if (window._pyforest_update_imports_cell) { window._pyforest_update_imports_cell('import os\\nimport pandas as pd'); }\n",
       "    "
      ],
      "text/plain": [
       "<IPython.core.display.Javascript object>"
      ]
     },
     "metadata": {},
     "output_type": "display_data"
    },
    {
     "data": {
      "application/javascript": [
       "\n",
       "        if (window._pyforest_update_imports_cell) { window._pyforest_update_imports_cell('import os\\nimport pandas as pd'); }\n",
       "    "
      ],
      "text/plain": [
       "<IPython.core.display.Javascript object>"
      ]
     },
     "metadata": {},
     "output_type": "display_data"
    },
    {
     "data": {
      "application/javascript": [
       "\n",
       "        if (window._pyforest_update_imports_cell) { window._pyforest_update_imports_cell('import os\\nimport pandas as pd'); }\n",
       "    "
      ],
      "text/plain": [
       "<IPython.core.display.Javascript object>"
      ]
     },
     "metadata": {},
     "output_type": "display_data"
    },
    {
     "data": {
      "application/javascript": [
       "\n",
       "        if (window._pyforest_update_imports_cell) { window._pyforest_update_imports_cell('import os\\nimport pandas as pd'); }\n",
       "    "
      ],
      "text/plain": [
       "<IPython.core.display.Javascript object>"
      ]
     },
     "metadata": {},
     "output_type": "display_data"
    }
   ],
   "source": [
    "from os import listdir\n",
    "from os.path import isfile, join\n",
    "\n",
    "# def load_file(day):\n",
    "#     path = './project/data/'\n",
    "\n",
    "#     df = pd.read_csv(os.path.join(path, day + '.csv'), sep=';', parse_dates=['timestamp'])\n",
    "    \n",
    "#     # individual dataframes with new column added to represent the day\n",
    "#     df['day'] = day\n",
    "\n",
    "#     return df\n",
    "\n",
    "# df = load_file('monday').append(\n",
    "#         load_file('tuesday').append(\n",
    "#             load_file('wednesday').append(\n",
    "#                 load_file('thursday').append(\n",
    "#                     load_file('friday')\n",
    "#                 )\n",
    "#             )\n",
    "#         )\n",
    "# )\n",
    "# df\n",
    "def load_data(day):\n",
    "    path = './project/data/'\n",
    "    r = pd.read_csv(os.path.join(path, day + '.csv'), sep=';', parse_dates=['timestamp'], index_col=['timestamp'])\n",
    "    r['day'] = day\n",
    "\n",
    "#     r = r.head(3).copy().append(r.tail(3).copy()) # TODO: drop me\n",
    "\n",
    "    return r\n",
    "\n",
    "# files = [f for f in listdir(path) if isfile(join(path, f))]\n",
    "\n",
    "# load first file\n",
    "df = load_data('monday')\n",
    "\n",
    "# join data from all remaining files\n",
    "for file in ['tuesday', 'wednesday', 'thursday', 'friday']:\n",
    "\n",
    "    df_next = load_data(file)\n",
    "    df_next['customer_no'] = df_next['customer_no'] + df['customer_no'].max()\n",
    "\n",
    "    df = df.append(df_next)\n",
    "\n",
    "# df.reset_index(inplace=True, drop=True)\n",
    "# df"
   ]
  },
  {
   "cell_type": "code",
   "execution_count": null,
   "id": "664310db-355b-4dcf-b8a5-47c70f955dc9",
   "metadata": {},
   "outputs": [],
   "source": [
    "df[(df.index > '2019-09-02 21:48:00') & (df.index < '2019-09-03 07:07:00')].sort_values(by='timestamp')"
   ]
  },
  {
   "cell_type": "code",
   "execution_count": null,
   "id": "b4d3080d-0d48-4e08-a0bb-431b6255c60c",
   "metadata": {},
   "outputs": [],
   "source": [
    "# the total number of customers in each section (no unique customers)\n",
    "df.groupby(by='location')['customer_no'].count()"
   ]
  },
  {
   "cell_type": "markdown",
   "id": "7f0c27d2-577c-4326-be3d-b62970c831e8",
   "metadata": {},
   "source": [
    "## Fill out missing counter time"
   ]
  },
  {
   "cell_type": "code",
   "execution_count": null,
   "id": "97582fb6-dd2f-4fb1-9f51-9d7c87160662",
   "metadata": {},
   "outputs": [],
   "source": [
    "# When the shop closes, the remaining customers are rushed through the checkout. \n",
    "# Their checkout is not recorded, so it may look as if they stay in the market forever.\n",
    "\n",
    "# TODO: fill out missing counter rows"
   ]
  },
  {
   "cell_type": "code",
   "execution_count": null,
   "id": "4e86b44e-815a-4ba1-8a77-739164a833b3",
   "metadata": {},
   "outputs": [],
   "source": [
    "# df.iloc[25]['location']\n",
    "\n",
    "# def get_last_id(df):\n",
    "#     return df.index[-1]\n",
    "\n",
    "# df[:100].groupby('customer_no').agg({'location': get_last_id})"
   ]
  },
  {
   "cell_type": "code",
   "execution_count": null,
   "id": "7d26c3a8-0401-4f95-ac7a-bd1785e8545b",
   "metadata": {},
   "outputs": [],
   "source": [
    "# df.iloc[0:57]\n",
    "df[df['customer_no'] == 6]"
   ]
  },
  {
   "cell_type": "code",
   "execution_count": null,
   "id": "4f43ec1b-7e7a-4949-8f9f-44f51750d160",
   "metadata": {},
   "outputs": [],
   "source": [
    "# # df.pivot(columns=['location'], values=['timestamp'], index=['customer_no'])\n",
    "\n",
    "# def get_last(df):\n",
    "#     print(df)\n",
    "#     return df.index[[0, -1]]\n",
    "\n",
    "# df.iloc[0:56].pivot(index=['customer_no'], columns=['location'], values=['timestamp']) # df.iloc[0:57] will fail\n",
    "# df.iloc[0:57].groupby(['customer_no', 'location']).agg({'location': get_last})\n",
    "# df.iloc[0:57]"
   ]
  },
  {
   "cell_type": "code",
   "execution_count": null,
   "id": "d6804ee4-54ac-4c0c-bdb2-f7f13f516fcc",
   "metadata": {},
   "outputs": [],
   "source": [
    "# Calculate the total number of customers in each section over time\n",
    "\n",
    "# Display the number of customers at checkout over time"
   ]
  },
  {
   "cell_type": "code",
   "execution_count": null,
   "id": "88e9b815-1234-4466-8347-a7395b657b9c",
   "metadata": {},
   "outputs": [],
   "source": [
    "# The time each customer spent in the market\n",
    "# visits = df.groupby(by='customer_no').index.agg(['min', 'max']) # TODO: find out how to aggregate by index value\n",
    "# visits['duration'] = visits['max'] - visits['min']\n",
    "# visits.sort_values(by='duration', ascending=False)"
   ]
  },
  {
   "cell_type": "code",
   "execution_count": null,
   "id": "df0a1e5e-406f-4e21-b301-936c866617b3",
   "metadata": {},
   "outputs": [],
   "source": [
    "# Calculate the total number of customers in the supermarket over time."
   ]
  },
  {
   "cell_type": "code",
   "execution_count": null,
   "id": "735b68c6-6bec-46b6-b2b6-207e05e0c302",
   "metadata": {},
   "outputs": [],
   "source": [
    "# # Our business managers think that the first section customers visit follows a different pattern than the following ones. Plot the distribution of customers of their first visited section versus following sections (treat all sections visited after the first as “following”).\n",
    "\n",
    "# df.groupby(['customer_no']).agg({'location': [' -> '.join, 'count']})\n",
    "\n",
    "# df.groupby(['customer_no'])['location'].describe().sort_values(by='freq', ascending=False)"
   ]
  },
  {
   "cell_type": "code",
   "execution_count": null,
   "id": "ded6ab19-ab8f-40f7-9e0d-dd8ef93a4393",
   "metadata": {},
   "outputs": [],
   "source": [
    "# df.groupby(['customer_no'])['timestamp'].describe()\n",
    "# # .sort_values(by='freq', ascending=False)"
   ]
  },
  {
   "cell_type": "code",
   "execution_count": null,
   "id": "02871e49-cf63-46df-b2e1-1a9f52fa8148",
   "metadata": {},
   "outputs": [],
   "source": []
  },
  {
   "cell_type": "code",
   "execution_count": null,
   "id": "c983a800-97c7-4781-9c55-bea47ca25de8",
   "metadata": {},
   "outputs": [],
   "source": [
    "### Probabilities plot"
   ]
  },
  {
   "cell_type": "code",
   "execution_count": null,
   "id": "55b4bf83-635e-4130-b27a-0659ee0f92d5",
   "metadata": {},
   "outputs": [],
   "source": [
    "# # initial_state = np.array([0.4, 0.6])  # e.g. cold, hot\n",
    "# initial_state = []\n",
    "# for column in crosstab.columns:\n",
    "#     initial_state.append(int(column == 'entrance'))"
   ]
  },
  {
   "cell_type": "code",
   "execution_count": null,
   "id": "eb5738a2-3f3b-4911-ab84-ee1909f04183",
   "metadata": {},
   "outputs": [],
   "source": [
    "# state = initial_state\n",
    "# lines = pd.DataFrame([state], columns=crosstab.columns)\n",
    "# for i in range(0,20):\n",
    "#     state = np.dot(state, crosstab.values)\n",
    "#     lines = lines.append(pd.DataFrame([state], columns=crosstab.columns))\n",
    "# lines = lines.reset_index()\n",
    "# del lines['index']\n",
    "# lines = lines.transpose()\n",
    "# lines"
   ]
  },
  {
   "cell_type": "code",
   "execution_count": null,
   "id": "8e006b04-3721-4539-b524-7a03bb9c9352",
   "metadata": {},
   "outputs": [],
   "source": [
    "# for i in range(len(lines.columns)):\n",
    "#     print('i: %d;  %0.4f' % (i, lines[i].sum()))"
   ]
  },
  {
   "cell_type": "code",
   "execution_count": null,
   "id": "4400ae90-3964-4572-b9d2-185c7b3b8cff",
   "metadata": {},
   "outputs": [],
   "source": [
    "# tmp = lines.transpose()\n",
    "# for column in tmp.columns:\n",
    "#     print('Column: %s, Sum: %0.2f' % (column, tmp[column].sum()))"
   ]
  },
  {
   "cell_type": "code",
   "execution_count": null,
   "id": "ce8843c9-2a1f-4ef4-8fa5-1b152d0f643f",
   "metadata": {},
   "outputs": [],
   "source": [
    "# tmp = lines.melt(value_vars=range(0, len(lines.columns)), var_name='step', ignore_index=False).reset_index().rename(columns={'index': 'section'})\n",
    "# tmp"
   ]
  },
  {
   "cell_type": "code",
   "execution_count": null,
   "id": "e142fd01-0f13-4c0e-a1cf-34bd2e599912",
   "metadata": {},
   "outputs": [],
   "source": [
    "# fig = px.line(tmp, x=\"step\", y=\"value\", color='section').show()"
   ]
  },
  {
   "cell_type": "markdown",
   "id": "3ff98abd-7814-49f6-852b-572758a16ff9",
   "metadata": {},
   "source": [
    "### Revenue Estimate"
   ]
  },
  {
   "cell_type": "markdown",
   "id": "c955a2fc-9367-476c-9f85-70df36ad3fc0",
   "metadata": {},
   "source": [
    "Estimate the total revenue for a customer using the following table:\n",
    "\n",
    "| section | revenue per minute |\n",
    "|---------|:--------------------:|\n",
    "| fruit   | 4€                 |\n",
    "| spices | 3€|\n",
    "| dairy | 5€ |\n",
    "| drinks | 6€ |\n",
    "\n",
    "Which is the most profitable section according to your data?"
   ]
  },
  {
   "cell_type": "markdown",
   "id": "f04b071c-f802-4f06-a819-7513aaf40bb9",
   "metadata": {},
   "source": [
    "## 8.2. Markov Chains"
   ]
  },
  {
   "cell_type": "markdown",
   "id": "64ddd94c-9c58-43bf-a083-a1fcba3674c2",
   "metadata": {},
   "source": [
    "### Transition Probabilities"
   ]
  },
  {
   "cell_type": "code",
   "execution_count": 2,
   "id": "fdeab1e2-3024-4f89-889e-4dba88c14295",
   "metadata": {},
   "outputs": [
    {
     "data": {
      "text/html": [
       "<div>\n",
       "<style scoped>\n",
       "    .dataframe tbody tr th:only-of-type {\n",
       "        vertical-align: middle;\n",
       "    }\n",
       "\n",
       "    .dataframe tbody tr th {\n",
       "        vertical-align: top;\n",
       "    }\n",
       "\n",
       "    .dataframe thead th {\n",
       "        text-align: right;\n",
       "    }\n",
       "</style>\n",
       "<table border=\"1\" class=\"dataframe\">\n",
       "  <thead>\n",
       "    <tr style=\"text-align: right;\">\n",
       "      <th></th>\n",
       "      <th>customer_no</th>\n",
       "      <th>timestamp</th>\n",
       "      <th>location</th>\n",
       "      <th>day</th>\n",
       "      <th>location_before</th>\n",
       "    </tr>\n",
       "  </thead>\n",
       "  <tbody>\n",
       "    <tr>\n",
       "      <th>0</th>\n",
       "      <td>3532</td>\n",
       "      <td>2019-09-04 13:20:00</td>\n",
       "      <td>fruit</td>\n",
       "      <td>wednesday</td>\n",
       "      <td>entrance</td>\n",
       "    </tr>\n",
       "    <tr>\n",
       "      <th>1</th>\n",
       "      <td>3532</td>\n",
       "      <td>2019-09-04 13:21:00</td>\n",
       "      <td>dairy</td>\n",
       "      <td>wednesday</td>\n",
       "      <td>fruit</td>\n",
       "    </tr>\n",
       "    <tr>\n",
       "      <th>2</th>\n",
       "      <td>3532</td>\n",
       "      <td>2019-09-04 13:22:00</td>\n",
       "      <td>drinks</td>\n",
       "      <td>wednesday</td>\n",
       "      <td>dairy</td>\n",
       "    </tr>\n",
       "    <tr>\n",
       "      <th>3</th>\n",
       "      <td>3532</td>\n",
       "      <td>2019-09-04 13:23:00</td>\n",
       "      <td>drinks</td>\n",
       "      <td>wednesday</td>\n",
       "      <td>drinks</td>\n",
       "    </tr>\n",
       "    <tr>\n",
       "      <th>4</th>\n",
       "      <td>3532</td>\n",
       "      <td>2019-09-04 13:24:00</td>\n",
       "      <td>drinks</td>\n",
       "      <td>wednesday</td>\n",
       "      <td>drinks</td>\n",
       "    </tr>\n",
       "    <tr>\n",
       "      <th>5</th>\n",
       "      <td>3532</td>\n",
       "      <td>2019-09-04 13:25:00</td>\n",
       "      <td>drinks</td>\n",
       "      <td>wednesday</td>\n",
       "      <td>drinks</td>\n",
       "    </tr>\n",
       "    <tr>\n",
       "      <th>6</th>\n",
       "      <td>3532</td>\n",
       "      <td>2019-09-04 13:26:00</td>\n",
       "      <td>checkout</td>\n",
       "      <td>wednesday</td>\n",
       "      <td>drinks</td>\n",
       "    </tr>\n",
       "    <tr>\n",
       "      <th>7</th>\n",
       "      <td>3685</td>\n",
       "      <td>2019-09-04 14:48:00</td>\n",
       "      <td>fruit</td>\n",
       "      <td>wednesday</td>\n",
       "      <td>entrance</td>\n",
       "    </tr>\n",
       "    <tr>\n",
       "      <th>8</th>\n",
       "      <td>3685</td>\n",
       "      <td>2019-09-04 14:49:00</td>\n",
       "      <td>fruit</td>\n",
       "      <td>wednesday</td>\n",
       "      <td>fruit</td>\n",
       "    </tr>\n",
       "    <tr>\n",
       "      <th>9</th>\n",
       "      <td>3685</td>\n",
       "      <td>2019-09-04 14:50:00</td>\n",
       "      <td>dairy</td>\n",
       "      <td>wednesday</td>\n",
       "      <td>fruit</td>\n",
       "    </tr>\n",
       "    <tr>\n",
       "      <th>10</th>\n",
       "      <td>3685</td>\n",
       "      <td>2019-09-04 14:51:00</td>\n",
       "      <td>spices</td>\n",
       "      <td>wednesday</td>\n",
       "      <td>dairy</td>\n",
       "    </tr>\n",
       "    <tr>\n",
       "      <th>11</th>\n",
       "      <td>3685</td>\n",
       "      <td>2019-09-04 14:52:00</td>\n",
       "      <td>dairy</td>\n",
       "      <td>wednesday</td>\n",
       "      <td>spices</td>\n",
       "    </tr>\n",
       "    <tr>\n",
       "      <th>12</th>\n",
       "      <td>3685</td>\n",
       "      <td>2019-09-04 14:53:00</td>\n",
       "      <td>checkout</td>\n",
       "      <td>wednesday</td>\n",
       "      <td>dairy</td>\n",
       "    </tr>\n",
       "  </tbody>\n",
       "</table>\n",
       "</div>"
      ],
      "text/plain": [
       "    customer_no           timestamp  location        day location_before\n",
       "0          3532 2019-09-04 13:20:00     fruit  wednesday        entrance\n",
       "1          3532 2019-09-04 13:21:00     dairy  wednesday           fruit\n",
       "2          3532 2019-09-04 13:22:00    drinks  wednesday           dairy\n",
       "3          3532 2019-09-04 13:23:00    drinks  wednesday          drinks\n",
       "4          3532 2019-09-04 13:24:00    drinks  wednesday          drinks\n",
       "5          3532 2019-09-04 13:25:00    drinks  wednesday          drinks\n",
       "6          3532 2019-09-04 13:26:00  checkout  wednesday          drinks\n",
       "7          3685 2019-09-04 14:48:00     fruit  wednesday        entrance\n",
       "8          3685 2019-09-04 14:49:00     fruit  wednesday           fruit\n",
       "9          3685 2019-09-04 14:50:00     dairy  wednesday           fruit\n",
       "10         3685 2019-09-04 14:51:00    spices  wednesday           dairy\n",
       "11         3685 2019-09-04 14:52:00     dairy  wednesday          spices\n",
       "12         3685 2019-09-04 14:53:00  checkout  wednesday           dairy"
      ]
     },
     "execution_count": 2,
     "metadata": {},
     "output_type": "execute_result"
    }
   ],
   "source": [
    "# find customers who visited several different sections\n",
    "tmp = df.groupby('customer_no')['customer_no'].count()\n",
    "tmp[(tmp > 3) & (tmp <6)].sample(n=3)\n",
    "tmp = df[(df['customer_no'] == 3532) | (df['customer_no'] == 3685)].copy()\n",
    "\n",
    "transitions = tmp.groupby(by=['customer_no']).resample('1T').pad().drop(columns=['customer_no']).reset_index()\n",
    "transitions['location_before'] = transitions.groupby(by=['customer_no', 'day'])['location'].shift(fill_value='entrance')\n",
    "transitions"
   ]
  },
  {
   "cell_type": "code",
   "execution_count": null,
   "id": "49033883-b7bd-4275-b099-83743a8c0fd3",
   "metadata": {},
   "outputs": [],
   "source": [
    "# new df with column timestamp representing differences in first and last timestamp in the grouped table, ie. time spent in shop in minutes\n",
    "# this is the time spent in the shop for each customer:\n",
    "time_in_market = df.groupby(['customer_no'])[['timestamp']].last() - df.groupby(['customer_no'])[['timestamp']].first()\n",
    "time_in_market"
   ]
  },
  {
   "cell_type": "code",
   "execution_count": null,
   "id": "68e1b1d1-37a5-4f65-a693-54b388451f31",
   "metadata": {},
   "outputs": [],
   "source": [
    "# dummy column added :\n",
    "time_in_market['counter'] = 1\n",
    "\n",
    "# count the frequencies of the times spent in the shop:\n",
    "time_in_market.groupby('timestamp').count().head()"
   ]
  },
  {
   "cell_type": "code",
   "execution_count": null,
   "id": "b715ffb1-218e-4cbe-b025-a1d5b2f6928b",
   "metadata": {},
   "outputs": [],
   "source": [
    "# Plot frequency distribution:\n",
    "time_in_market.groupby('timestamp').count().plot()"
   ]
  },
  {
   "cell_type": "code",
   "execution_count": null,
   "id": "a96edc5f-68c7-49e1-a64e-de991400d5d5",
   "metadata": {},
   "outputs": [],
   "source": [
    "# df[(df['timestamp'] > '2019-09-02 21:48:00') & (df['timestamp'] < '2019-09-03 07:07:00')].sort_values(by='timestamp')"
   ]
  },
  {
   "cell_type": "code",
   "execution_count": null,
   "id": "728a736f-1efc-4a18-965b-6fc0c1cb4a45",
   "metadata": {},
   "outputs": [],
   "source": [
    "df.groupby(by=['timestamp', 'customer_no']).last().reset_index().sort_values(by=['customer_no'])"
   ]
  },
  {
   "cell_type": "code",
   "execution_count": null,
   "id": "39980c9d-b095-481c-a9dc-8e973ca2896a",
   "metadata": {},
   "outputs": [],
   "source": [
    "df.groupby(by=['customer_no', 'day'])['location'].shift(1).dropna()"
   ]
  },
  {
   "cell_type": "code",
   "execution_count": null,
   "id": "cbb93314-04db-4794-860d-e5186f0c0143",
   "metadata": {},
   "outputs": [],
   "source": [
    "_ = df.groupby(by=['timestamp', 'customer_no', 'day'])['location'].last().reset_index()\n",
    "_[_['timestamp'] > '2019-09-02 21:49:00']\n",
    "# _['before'] = _['location'].shift(1)\n",
    "# _['after'] = _['location']\n",
    "# _[_['before'].isna()]"
   ]
  },
  {
   "cell_type": "code",
   "execution_count": null,
   "id": "56b97d7c-e77c-4e58-b5b4-f42def000dc3",
   "metadata": {},
   "outputs": [],
   "source": [
    "# build a transition for an every minute\n",
    "transitions = df.groupby(by=['timestamp', 'customer_no'])['location'].last().reset_index()\n",
    "transitions['before'] = transitions['location'].shift(1)\n",
    "transitions['before'].fillna('entrance', inplace=True)\n",
    "transitions['after'] = transitions['location']\n",
    "del transitions['location']\n",
    "transitions[transitions['before'] == 'entrance']\n",
    "\n",
    "# transitions = pd.DataFrame()\n",
    "# transitions['customer_no'] = tmp['customer_no']\n",
    "# transitions['before'] = tmp['location'].shift(1)\n",
    "# transitions['after'] = tmp['location']\n",
    "# transitions['before'].fillna('entrance', inplace=True)\n",
    "# transitions"
   ]
  },
  {
   "cell_type": "code",
   "execution_count": null,
   "id": "46bc1426-2e15-4ac1-b6c4-480b449a500d",
   "metadata": {},
   "outputs": [],
   "source": [
    "crosstab = pd.crosstab(transitions['before'], transitions['after'], normalize=0)\n",
    "# crosstab['entrance'] = 0\n",
    "values = dict(zip(crosstab.columns, [0] * len(crosstab.columns)))\n",
    "crosstab = crosstab.reindex(sorted(crosstab.columns), axis=1)\n",
    "crosstab = crosstab.reindex(sorted(crosstab.index), axis=0)\n",
    "crosstab"
   ]
  },
  {
   "cell_type": "code",
   "execution_count": null,
   "id": "cd790a22-1be9-4a92-9d12-b471e25fcbc8",
   "metadata": {},
   "outputs": [],
   "source": [
    "crosstab.sum()"
   ]
  },
  {
   "cell_type": "code",
   "execution_count": null,
   "id": "948c7eef-9760-44e4-87ae-cd7e2a422619",
   "metadata": {},
   "outputs": [],
   "source": [
    "crosstab.transpose()"
   ]
  },
  {
   "cell_type": "code",
   "execution_count": null,
   "id": "e76afeb2-aafb-457d-8a15-950793d6d542",
   "metadata": {},
   "outputs": [],
   "source": [
    "crosstab.transpose().sum()"
   ]
  },
  {
   "cell_type": "markdown",
   "id": "fbcdc1e0-c296-469b-9814-b4d4d5ff867a",
   "metadata": {},
   "source": [
    "### Probabilities plot"
   ]
  },
  {
   "cell_type": "code",
   "execution_count": null,
   "id": "6c1a4342-3c74-4b1d-adaa-821f0a91580a",
   "metadata": {},
   "outputs": [],
   "source": [
    "# initial_state = np.array([0.4, 0.6])  # e.g. cold, hot\n",
    "initial_state = []\n",
    "for column in crosstab.columns:\n",
    "    initial_state.append(int(column == 'entrance'))"
   ]
  },
  {
   "cell_type": "code",
   "execution_count": null,
   "id": "ee03ca8b-fb42-4745-9c07-f7ae2254b37d",
   "metadata": {},
   "outputs": [],
   "source": [
    "state = initial_state\n",
    "lines = pd.DataFrame([state], columns=crosstab.columns)\n",
    "for i in range(0,20):\n",
    "    state = np.dot(state, crosstab.values)\n",
    "    lines = lines.append(pd.DataFrame([state], columns=crosstab.columns))\n",
    "lines = lines.reset_index()\n",
    "del lines['index']\n",
    "lines = lines.transpose()\n",
    "lines"
   ]
  },
  {
   "cell_type": "code",
   "execution_count": null,
   "id": "2a495f81-498e-451a-8f73-f185fe60be9c",
   "metadata": {},
   "outputs": [],
   "source": [
    "for i in range(len(lines.columns)):\n",
    "    print('i: %d;  %0.4f' % (i, lines[i].sum()))"
   ]
  },
  {
   "cell_type": "code",
   "execution_count": null,
   "id": "0d477161-5979-4fd8-b03c-bc936d68308b",
   "metadata": {},
   "outputs": [],
   "source": [
    "tmp = lines.transpose()\n",
    "for column in tmp.columns:\n",
    "    print('Column: %s, Sum: %0.2f' % (column, tmp[column].sum()))"
   ]
  },
  {
   "cell_type": "code",
   "execution_count": null,
   "id": "61e3e0b4-503a-4659-afa9-562715653958",
   "metadata": {},
   "outputs": [],
   "source": [
    "tmp = lines.melt(value_vars=range(0, len(lines.columns)), var_name='step', ignore_index=False).reset_index().rename(columns={'index': 'section'})\n",
    "tmp"
   ]
  },
  {
   "cell_type": "code",
   "execution_count": null,
   "id": "1e915e92-0903-48d3-beeb-028596dbf69a",
   "metadata": {},
   "outputs": [],
   "source": [
    "px.line(tmp, x=\"step\", y=\"value\", color='section').show()"
   ]
  },
  {
   "cell_type": "markdown",
   "id": "e2244fc5-d007-4f91-9aa0-37aca817deab",
   "metadata": {},
   "source": [
    "### MC-Simulation"
   ]
  },
  {
   "cell_type": "code",
   "execution_count": null,
   "id": "5fc7bcac-87ee-4bb2-b098-8fea3b19e190",
   "metadata": {},
   "outputs": [],
   "source": []
  },
  {
   "cell_type": "code",
   "execution_count": null,
   "id": "d9bb4c73-6a18-4f6f-befd-7eeb7aae8ccb",
   "metadata": {},
   "outputs": [],
   "source": []
  },
  {
   "cell_type": "code",
   "execution_count": null,
   "id": "6ed231ea-dca2-4300-9666-facc03421f74",
   "metadata": {},
   "outputs": [],
   "source": []
  },
  {
   "cell_type": "code",
   "execution_count": null,
   "id": "d743f70b-9a64-4b73-a74f-e65ed0ca8f39",
   "metadata": {},
   "outputs": [],
   "source": []
  },
  {
   "cell_type": "code",
   "execution_count": null,
   "id": "07c653ac-cafa-4d63-927a-7a0a01d68b36",
   "metadata": {},
   "outputs": [],
   "source": []
  },
  {
   "cell_type": "code",
   "execution_count": null,
   "id": "3ac75c20-5f49-4365-b4f4-ded191635764",
   "metadata": {},
   "outputs": [],
   "source": []
  },
  {
   "cell_type": "code",
   "execution_count": null,
   "id": "14fbcd1a-37ba-4153-b51b-8f51d5326c13",
   "metadata": {},
   "outputs": [],
   "source": [
    "demo_transitions = np.array([[0.75, 0.4], [0.25, 0.6]])\n",
    "demo_transitions"
   ]
  },
  {
   "cell_type": "code",
   "execution_count": null,
   "id": "9b8ffb64-7344-4add-94a6-327735c0a2d6",
   "metadata": {},
   "outputs": [],
   "source": [
    "demo_state0 = np.array([1, 0])\n",
    "demo_state0"
   ]
  },
  {
   "cell_type": "code",
   "execution_count": null,
   "id": "6f76bb13-d48b-49cd-8188-f48f38131c9b",
   "metadata": {},
   "outputs": [],
   "source": [
    "demo_state1 = np.dot(demo_transitions, demo_state0)\n",
    "demo_state1"
   ]
  },
  {
   "cell_type": "code",
   "execution_count": null,
   "id": "5ba25e09-9455-4312-b6b2-a392b7b505d8",
   "metadata": {},
   "outputs": [],
   "source": [
    "state2 = np.dot(demo_transitions, demo_state1)\n",
    "state2"
   ]
  },
  {
   "cell_type": "code",
   "execution_count": null,
   "id": "65da0aa5-877d-45f6-ab68-bd8f3263db98",
   "metadata": {},
   "outputs": [],
   "source": []
  },
  {
   "cell_type": "code",
   "execution_count": null,
   "id": "11f07a83-516c-4e04-952a-869e660bb872",
   "metadata": {},
   "outputs": [],
   "source": []
  },
  {
   "cell_type": "code",
   "execution_count": null,
   "id": "1bfebb74-d7c8-42eb-bb9e-d1b23c79bd56",
   "metadata": {},
   "outputs": [],
   "source": []
  },
  {
   "cell_type": "code",
   "execution_count": null,
   "id": "2baf7d4d-d0da-40bc-a22b-0fb737125f78",
   "metadata": {},
   "outputs": [],
   "source": []
  },
  {
   "cell_type": "code",
   "execution_count": null,
   "id": "d641304b-64ab-42b6-a484-008d9c3d86f2",
   "metadata": {},
   "outputs": [],
   "source": []
  },
  {
   "cell_type": "code",
   "execution_count": null,
   "id": "f4e14d54-8fb4-48a3-a054-fdeac6e1c2d3",
   "metadata": {},
   "outputs": [],
   "source": []
  },
  {
   "cell_type": "code",
   "execution_count": null,
   "id": "b37d02bb-a0c8-4ec5-bd0d-91b6b47333cf",
   "metadata": {},
   "outputs": [],
   "source": []
  },
  {
   "cell_type": "code",
   "execution_count": null,
   "id": "0608dcd9-1a45-4f58-8d1d-72aae38900c7",
   "metadata": {},
   "outputs": [],
   "source": []
  },
  {
   "cell_type": "code",
   "execution_count": null,
   "id": "a885fe39-5f66-4dca-8cfd-49fe3bbdaa0c",
   "metadata": {},
   "outputs": [],
   "source": []
  },
  {
   "cell_type": "code",
   "execution_count": null,
   "id": "36cc18ed-38c3-4994-af94-31deababeed7",
   "metadata": {},
   "outputs": [],
   "source": []
  },
  {
   "cell_type": "code",
   "execution_count": null,
   "id": "1ef91bcd-925e-4c55-bdff-21a03561651b",
   "metadata": {},
   "outputs": [],
   "source": [
    "ex = np.array([0.4, 0.6])\n",
    "ex, type(ex)"
   ]
  },
  {
   "cell_type": "code",
   "execution_count": null,
   "id": "0c234352-fd26-4885-b5c8-69063c2aae08",
   "metadata": {},
   "outputs": [],
   "source": [
    "a = np.array([[1, 0],\n",
    "              [0, 1]])\n",
    "b = np.array([[4, 1],\n",
    "              [2, 2]])\n",
    "np.dot(a, b)"
   ]
  },
  {
   "cell_type": "code",
   "execution_count": null,
   "id": "df7aa81e-f8e0-4f30-99c3-4bea2bf091c7",
   "metadata": {},
   "outputs": [],
   "source": []
  },
  {
   "cell_type": "code",
   "execution_count": null,
   "id": "957bd3f6-fbef-4c29-aa77-6a3184d75ce2",
   "metadata": {},
   "outputs": [],
   "source": []
  },
  {
   "cell_type": "code",
   "execution_count": null,
   "id": "a97f773d-75d9-4ff3-963f-ea983869e6a0",
   "metadata": {},
   "outputs": [],
   "source": []
  },
  {
   "cell_type": "code",
   "execution_count": null,
   "id": "cce44ddc-7c4e-4710-87d2-b4b9fe155415",
   "metadata": {},
   "outputs": [],
   "source": []
  },
  {
   "cell_type": "code",
   "execution_count": null,
   "id": "da4b4bcb-19b9-4d63-aa03-6388538257ee",
   "metadata": {},
   "outputs": [],
   "source": []
  },
  {
   "cell_type": "code",
   "execution_count": null,
   "id": "7a78cd51-1cb2-4c3c-aeb5-646dcd0d76ae",
   "metadata": {},
   "outputs": [],
   "source": []
  },
  {
   "cell_type": "code",
   "execution_count": null,
   "id": "bdbcf000-7dd5-42d0-8137-50be5c73a035",
   "metadata": {},
   "outputs": [],
   "source": []
  },
  {
   "cell_type": "code",
   "execution_count": null,
   "id": "13fc8b1d-9bda-4be6-a5fa-5d64074ac125",
   "metadata": {},
   "outputs": [],
   "source": [
    "import time\n",
    "import datetime\n",
    "datetime.datetime.strptime(\"01-12-2011\", \"%d-%m-%Y\")"
   ]
  },
  {
   "cell_type": "code",
   "execution_count": null,
   "id": "e73bd322-7da7-4f48-b83d-9191420b1dd3",
   "metadata": {},
   "outputs": [],
   "source": [
    "np.datetime64('2005-02-25 18:25:01')"
   ]
  },
  {
   "cell_type": "code",
   "execution_count": null,
   "id": "40c7c3bd-0342-4e11-a401-c2df603d4eda",
   "metadata": {},
   "outputs": [],
   "source": [
    "_ = pd.DataFrame({\n",
    "    'start': [\n",
    "        np.datetime64('2005-02-25 18:23:01'),\n",
    "        np.datetime64('2005-02-25 18:25:01'),\n",
    "        np.datetime64('2005-02-25 18:25:01'),\n",
    "        np.datetime64('2005-02-25 18:32:01'),\n",
    "    ],\n",
    "    'end': [\n",
    "        np.datetime64('2005-02-25 18:25:01'),\n",
    "        np.datetime64('2005-02-25 18:35:01'),\n",
    "        np.datetime64('2005-02-25 18:32:01'),\n",
    "        np.datetime64('2005-02-25 18:38:01'),\n",
    "    ],\n",
    "    'location': [\n",
    "        'section1',\n",
    "        'section1',\n",
    "        'section2',\n",
    "        'section2',\n",
    "    ]\n",
    "}, index=[0, 1, 2, 3])"
   ]
  },
  {
   "cell_type": "code",
   "execution_count": null,
   "id": "372ab458-62ea-4864-92f5-5816c4cbb18c",
   "metadata": {
    "tags": []
   },
   "outputs": [],
   "source": [
    "_['delta'] = _['end'] - _['start']\n",
    "_"
   ]
  },
  {
   "cell_type": "code",
   "execution_count": null,
   "id": "45772abc-e8b2-4d59-b9fd-4c68a788100e",
   "metadata": {},
   "outputs": [],
   "source": []
  },
  {
   "cell_type": "code",
   "execution_count": null,
   "id": "706330bc-9c56-49de-a09a-79a3742f67e0",
   "metadata": {},
   "outputs": [],
   "source": [
    "_.index = _['start']\n",
    "_.groupby('location').resample('1T').pad()"
   ]
  },
  {
   "cell_type": "code",
   "execution_count": null,
   "id": "f189c8c2-1538-424b-bc13-d647d72ef2a7",
   "metadata": {},
   "outputs": [],
   "source": []
  },
  {
   "cell_type": "code",
   "execution_count": null,
   "id": "c7bd89e4-a468-44e9-9055-f9b518dc694d",
   "metadata": {},
   "outputs": [],
   "source": []
  },
  {
   "cell_type": "code",
   "execution_count": null,
   "id": "d7b21315-d385-4225-841d-33f090f9bb94",
   "metadata": {},
   "outputs": [],
   "source": []
  },
  {
   "cell_type": "code",
   "execution_count": null,
   "id": "7db4e328-af7e-4ed1-8ff0-e8478a7ed2a2",
   "metadata": {},
   "outputs": [],
   "source": []
  },
  {
   "cell_type": "code",
   "execution_count": null,
   "id": "27bae58d-e7d1-41c3-b8a2-cea18ceca5db",
   "metadata": {},
   "outputs": [],
   "source": []
  },
  {
   "cell_type": "code",
   "execution_count": null,
   "id": "c68fd273-8ff7-41d4-b074-04ef653a2606",
   "metadata": {},
   "outputs": [],
   "source": []
  },
  {
   "cell_type": "code",
   "execution_count": null,
   "id": "62161cac-730e-4469-9457-97a0e673a410",
   "metadata": {},
   "outputs": [],
   "source": []
  },
  {
   "cell_type": "code",
   "execution_count": null,
   "id": "44437259-1056-4c5d-9ee7-f5ec8b968c8b",
   "metadata": {
    "tags": []
   },
   "outputs": [],
   "source": [
    "type(_['delta'][0])"
   ]
  },
  {
   "cell_type": "code",
   "execution_count": null,
   "id": "9e6076c4-dade-4ffc-b9fe-979af9155646",
   "metadata": {
    "tags": []
   },
   "outputs": [],
   "source": [
    "full_idx = pd.date_range(start=_['start'].min(), end=_['end'].max(), freq='01T')\n",
    "full_idx"
   ]
  },
  {
   "cell_type": "code",
   "execution_count": null,
   "id": "b4fc00d8-ca3f-4c71-b12f-d272cba18493",
   "metadata": {
    "tags": []
   },
   "outputs": [],
   "source": [
    "# df = df.apply(lambda group: group.reindex(full_idx, method='nearest')) \n",
    "# #  .groupby('location', as_index=False)  \n",
    "# #  .apply(lambda group: group.reindex(full_idx, method='nearest')) \n",
    "# #  .reset_index(level=0, drop=True) \n",
    "# #  .sort_index() "
   ]
  },
  {
   "cell_type": "code",
   "execution_count": null,
   "id": "ea3867f1-5caf-4737-87ac-98c76fcddeec",
   "metadata": {},
   "outputs": [],
   "source": []
  },
  {
   "cell_type": "code",
   "execution_count": null,
   "id": "a35c621c-1aa8-42ab-9e13-ce2a268f3c93",
   "metadata": {},
   "outputs": [],
   "source": []
  },
  {
   "cell_type": "code",
   "execution_count": null,
   "id": "9ba794e8-b147-4f55-a490-08d59fadfc26",
   "metadata": {},
   "outputs": [],
   "source": [
    "data = {'datetime' : pd.date_range(start='1/15/2018',\n",
    "                                  end='02/14/2018', \n",
    "                                  freq='D')\\\n",
    "                     .append(pd.date_range(start='1/15/2018',\n",
    "                                           end='02/14/2018',\n",
    "                                           freq='D')),\n",
    "        'house' : ['house1' for i in range(31)] + ['house2' for i in range(31)],\n",
    "        'readvalue' : [0.5 + 0.5*np.sin(2*np.pi/30*i) for i in range(31)] + [0.5 + 0.5*np.cos(2*np.pi/30*i) for i in range(31)]}"
   ]
  },
  {
   "cell_type": "code",
   "execution_count": null,
   "id": "42c3240a-50da-4dea-a78d-345e9975039b",
   "metadata": {},
   "outputs": [],
   "source": [
    "# Randomly drop half the reads\n",
    "import random\n",
    "\n",
    "df0 = pd.DataFrame(data, columns = ('datetime', \n",
    "                                    'house', \n",
    "                                    'readvalue'))\n",
    "\n",
    "random.seed(42)\n",
    "df0 = df0.drop(random.sample(range(df0.shape[0]),\n",
    "                             k=int(df0.shape[0]/2)))\n",
    "df0"
   ]
  },
  {
   "cell_type": "code",
   "execution_count": null,
   "id": "00ac1447-5639-4b34-a3c0-4006d61a8703",
   "metadata": {},
   "outputs": [],
   "source": []
  },
  {
   "cell_type": "code",
   "execution_count": null,
   "id": "e654d906-3216-4ecf-be9d-bcd2ec68d93e",
   "metadata": {},
   "outputs": [],
   "source": []
  },
  {
   "cell_type": "code",
   "execution_count": null,
   "id": "84b9a82e-5127-4d04-bcd7-74ab12397beb",
   "metadata": {},
   "outputs": [],
   "source": []
  },
  {
   "cell_type": "code",
   "execution_count": null,
   "id": "2340f1b0-f121-45fb-aeab-665ba9d9cad9",
   "metadata": {},
   "outputs": [],
   "source": []
  },
  {
   "cell_type": "code",
   "execution_count": null,
   "id": "e090fac3-6d05-49b8-bf67-12d15d5d3df2",
   "metadata": {},
   "outputs": [],
   "source": []
  },
  {
   "cell_type": "code",
   "execution_count": null,
   "id": "b17c7f2e-2aa6-41fc-9a2d-5b02e93d766f",
   "metadata": {},
   "outputs": [],
   "source": []
  },
  {
   "cell_type": "code",
   "execution_count": null,
   "id": "96a493a5-0ee2-45c1-b402-0c23f70a38bc",
   "metadata": {},
   "outputs": [],
   "source": []
  },
  {
   "cell_type": "code",
   "execution_count": null,
   "id": "899f7e80-baeb-45ed-bfc5-d88afd8dc1e0",
   "metadata": {},
   "outputs": [],
   "source": []
  },
  {
   "cell_type": "code",
   "execution_count": null,
   "id": "d22f65af-8e63-439f-ab62-1ba58a274299",
   "metadata": {},
   "outputs": [],
   "source": []
  },
  {
   "cell_type": "code",
   "execution_count": null,
   "id": "6dd28ae9-b01a-4e27-8f5b-ae53cbbfb1aa",
   "metadata": {},
   "outputs": [],
   "source": []
  },
  {
   "cell_type": "code",
   "execution_count": null,
   "id": "2c90c776-75a6-43be-a82b-4f344a5aaaf6",
   "metadata": {},
   "outputs": [],
   "source": []
  },
  {
   "cell_type": "code",
   "execution_count": null,
   "id": "ad396b9e-2eda-41b0-a134-bcf1ae42eb5e",
   "metadata": {},
   "outputs": [],
   "source": []
  },
  {
   "cell_type": "code",
   "execution_count": null,
   "id": "d88e7936-786f-4281-abe3-842db5e35fc9",
   "metadata": {},
   "outputs": [],
   "source": [
    "def load_file(day):\n",
    "    path = './project/data/'\n",
    "\n",
    "    df = pd.read_csv(os.path.join(path, day + '.csv'), sep=';', parse_dates=['timestamp'])\n",
    "    \n",
    "    # individual dataframes with new column added to represent the day\n",
    "    df['day'] = day\n",
    "\n",
    "    return df\n",
    "\n",
    "# dfs appended into one big df\n",
    "total = load_file('monday').append(load_file('tuesday').append(load_file('wednesday').append(load_file('thursday').append(load_file('friday')))))\n",
    "\n",
    "# new df with non-datetime index\n",
    "time_ = total.reset_index()\n",
    "\n",
    "#new df with column timestamp representing differences in first and last timestamp in the grouped table, ie. time spent in shop in minutes\n",
    "# this is the time spent in the shop for each customer:\n",
    "time_in_market = time_.groupby(['customer_no', 'day'])[['timestamp']].last() - time_.groupby(['customer_no', 'day'])[['timestamp']].first()\n",
    "time_in_market"
   ]
  },
  {
   "cell_type": "code",
   "execution_count": null,
   "id": "96e8eb86-52f3-4015-8f5a-8fb32f4583c5",
   "metadata": {},
   "outputs": [],
   "source": [
    "# dummy column added :\n",
    "time_in_market['counter'] = 1\n",
    "\n",
    "# count number of customers at every second (count the frequencies of the times spent in the shop):\n",
    "time_in_market.groupby('timestamp').count().head()"
   ]
  },
  {
   "cell_type": "code",
   "execution_count": null,
   "id": "900c1540-a747-4139-8b42-4f51496698c3",
   "metadata": {},
   "outputs": [],
   "source": [
    "# Plot frequency distribution:\n",
    "# time_in_market.groupby('timestamp').count().plot()\n",
    "_ = time_in_market.groupby('timestamp').count().reset_index()\n",
    "_['minutes'] = _['timestamp'].dt.total_seconds() / 60\n",
    "px.line(_, x=\"minutes\", y=\"counter\").show()"
   ]
  },
  {
   "cell_type": "code",
   "execution_count": null,
   "id": "2ef85a45-8d2e-4751-b1d7-68ab7138d345",
   "metadata": {},
   "outputs": [],
   "source": [
    "listdir('./project/data/')"
   ]
  },
  {
   "cell_type": "code",
   "execution_count": null,
   "id": "963ba52d-fdc5-4d6f-b197-e71e24083995",
   "metadata": {},
   "outputs": [],
   "source": []
  }
 ],
 "metadata": {
  "kernelspec": {
   "display_name": "Python 3 (ipykernel)",
   "language": "python",
   "name": "python3"
  },
  "language_info": {
   "codemirror_mode": {
    "name": "ipython",
    "version": 3
   },
   "file_extension": ".py",
   "mimetype": "text/x-python",
   "name": "python",
   "nbconvert_exporter": "python",
   "pygments_lexer": "ipython3",
   "version": "3.8.8"
  }
 },
 "nbformat": 4,
 "nbformat_minor": 5
}
