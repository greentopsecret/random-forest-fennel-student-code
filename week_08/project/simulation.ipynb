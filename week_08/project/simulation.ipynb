{
 "cells": [
  {
   "cell_type": "markdown",
   "id": "bbf5e913-c49a-4e3f-839f-170d3640ecfc",
   "metadata": {},
   "source": [
    "### TODOs"
   ]
  },
  {
   "cell_type": "markdown",
   "id": "03939c34-1fe9-42e7-b116-122248d744c1",
   "metadata": {},
   "source": [
    "- [x] Increase charts size\n",
    "- [ ] Make notes for the presentation\n",
    "- [x] Data analysis: simulate real entrance frequency\n",
    "- [ ] Data analysis: plot time in a section\n",
    "- [x] Package simulation as a class\n",
    "- [ ] Plotly instead of pandas plots"
   ]
  },
  {
   "cell_type": "markdown",
   "id": "0c22bd94-a975-4301-9996-641fdcbd424a",
   "metadata": {},
   "source": [
    "# Project: Monte Carlo Markov Chain Simulation"
   ]
  },
  {
   "cell_type": "markdown",
   "id": "68b0ad8f-fb86-419a-976f-7a209727401f",
   "metadata": {},
   "source": [
    "## Business goals:  "
   ]
  },
  {
   "cell_type": "markdown",
   "id": "7de29b55-ed54-4a87-9286-88410cea918e",
   "metadata": {},
   "source": [
    "1. understand customer behavior  \n",
    "2. explain customer behavior to non-data staff  \n",
    "3. optimize staffing so that the queues do not get unnecessary long  "
   ]
  },
  {
   "cell_type": "markdown",
   "id": "d4c0e6ab-f035-4f99-b371-d47c0d490454",
   "metadata": {},
   "source": [
    "## Supermarket Area"
   ]
  },
  {
   "cell_type": "markdown",
   "id": "2854748a-4124-4df7-87c4-aae8aa355a1f",
   "metadata": {},
   "source": [
    "We are using the following model supermarket with six areas: entrance, fruit, spices, dairy, drinks and checkout.\n",
    "\n",
    "The customers can move between these areas freely. Sooner or later, they will enter the checkout area. Once they do, they are considered to have left the shop."
   ]
  },
  {
   "cell_type": "markdown",
   "id": "a2f4248c-fc0b-4587-89ea-9447520fe16f",
   "metadata": {},
   "source": [
    "![Drag Racing](./supermarket.png)"
   ]
  },
  {
   "cell_type": "markdown",
   "id": "01b2fb55-c381-466b-9a44-69431843f018",
   "metadata": {},
   "source": [
    "### Load packages"
   ]
  },
  {
   "cell_type": "code",
   "execution_count": 1,
   "id": "e59ff4f8-4af5-49bd-bc87-84569e0f841d",
   "metadata": {},
   "outputs": [],
   "source": [
    "import pandas as pd\n",
    "import os\n",
    "import numpy as np\n",
    "import matplotlib.pyplot as plt\n",
    "\n",
    "plt.rcParams['figure.figsize'] = (12, 8)"
   ]
  },
  {
   "cell_type": "markdown",
   "id": "2e9c1f96-859d-4c64-a2c1-6d1dcfab884b",
   "metadata": {},
   "source": [
    "### Load data"
   ]
  },
  {
   "cell_type": "code",
   "execution_count": 2,
   "id": "a7bc561d-7331-4934-899f-abfe6ec1678b",
   "metadata": {},
   "outputs": [],
   "source": [
    "def load_day_data(day):\n",
    "    return load_data(os.path.join('./data/', day + '.csv'))\n",
    "\n",
    "def load_data(path):\n",
    "    return pd.read_csv(path, sep=';', parse_dates=['timestamp'], index_col=['timestamp'])\n",
    "\n",
    "df = load_day_data('monday')\n",
    "for file in ['tuesday', 'wednesday', 'thursday', 'friday']:\n",
    "    df_next = load_day_data(file)\n",
    "    df_next['customer_no'] = df_next['customer_no'] + df['customer_no'].max()\n",
    "    df = df.append(df_next)\n",
    "\n",
    "# df"
   ]
  },
  {
   "cell_type": "markdown",
   "id": "0fb8f62b-8b60-4b3d-8fb3-212371b7d006",
   "metadata": {},
   "source": [
    "### Enrich data"
   ]
  },
  {
   "cell_type": "code",
   "execution_count": 3,
   "id": "b8331f17-63f8-469a-af4d-a016ed75403d",
   "metadata": {},
   "outputs": [],
   "source": [
    "def resample_transitions(df):\n",
    "    df_full = df.groupby(by=['customer_no']).resample('1T').pad().drop(columns=['customer_no']).reset_index()\n",
    "    df_full['location_before'] = df_full.groupby(by=['customer_no'])['location'].shift(fill_value='entrance')\n",
    "\n",
    "    # When the shop closes, the remaining customers are rushed through the checkout. \n",
    "    # Their checkout is not recorded, so it may look as if they stay in the market forever.\n",
    "    # Here we add last transition for such customers\n",
    "    last_locations = df_full.groupby(by='customer_no')[['timestamp', 'location']].last()\n",
    "    missing_checkouts = last_locations[last_locations['location'] != 'checkout'].copy()\n",
    "    missing_checkouts['timestamp'] = missing_checkouts['timestamp'] + pd.Timedelta(minutes=1)\n",
    "    missing_checkouts['location_before'] = missing_checkouts['location']\n",
    "    missing_checkouts['location'] = 'checkout'\n",
    "    missing_checkouts.reset_index(inplace=True)\n",
    "\n",
    "    return df_full.append(missing_checkouts)\n",
    "\n",
    "df_full = resample_transitions(df)\n",
    "# df_full"
   ]
  },
  {
   "cell_type": "markdown",
   "id": "d50cab6a-6593-4f99-abec-f5f4c060c384",
   "metadata": {},
   "source": [
    "## Data analysis"
   ]
  },
  {
   "cell_type": "markdown",
   "id": "2cf2d052-2980-49c5-9e43-221aafd53f3e",
   "metadata": {},
   "source": [
    "### When customers enter the supermarket?"
   ]
  },
  {
   "cell_type": "code",
   "execution_count": 4,
   "id": "ecc06618-089f-43b5-9b8e-52c3f7ca7dbd",
   "metadata": {},
   "outputs": [
    {
     "data": {
      "image/png": "[encoded data removed]",
      "text/plain": [
       "<Figure size 864x576 with 1 Axes>"
      ]
     },
     "metadata": {
      "needs_background": "light"
     },
     "output_type": "display_data"
    }
   ],
   "source": [
    "def show_new_customers_per_hour(df):\n",
    "    \"\"\" plots daily avg distribution customers entering the store per hour \"\"\"\n",
    "    days_cnt = len(df.index.day.unique())\n",
    "    tmp = df.reset_index().groupby('customer_no')[['timestamp']].min()\n",
    "    tmp['counter'] = 1 / days_cnt\n",
    "    tmp.groupby([tmp['timestamp'].dt.hour])[['counter']].sum().plot.bar()\n",
    "\n",
    "show_new_customers_per_hour(df)"
   ]
  },
  {
   "cell_type": "markdown",
   "id": "3c0bcd51-1724-4e2e-9a38-367cc8b43361",
   "metadata": {},
   "source": [
    "### How many customers are in store?"
   ]
  },
  {
   "cell_type": "code",
   "execution_count": 5,
   "id": "947b2be9-2bd4-40f9-b800-5f592320452e",
   "metadata": {},
   "outputs": [
    {
     "data": {
      "image/png": "[encoded data removed]",
      "text/plain": [
       "<Figure size 864x576 with 1 Axes>"
      ]
     },
     "metadata": {
      "needs_background": "light"
     },
     "output_type": "display_data"
    }
   ],
   "source": [
    "def show_number_of_customers_in_store(df):\n",
    "    days_cnt = len(df.index.day.unique())\n",
    "    tmp = df.reset_index()\n",
    "    tmp['counter'] = 1 / days_cnt\n",
    "    tmp.groupby([tmp['timestamp'].dt.hour])[['counter']].sum().plot.bar()\n",
    "    \n",
    "show_number_of_customers_in_store(df)"
   ]
  },
  {
   "cell_type": "markdown",
   "id": "99c3052b-3a18-4bf7-b3d1-4a8d304e5730",
   "metadata": {},
   "source": [
    "### How long users spend in the supermarket?"
   ]
  },
  {
   "cell_type": "code",
   "execution_count": 6,
   "id": "dee44433-d0ac-43ca-90ff-8653cb4d8809",
   "metadata": {},
   "outputs": [
    {
     "data": {
      "image/png": "[encoded data removed]",
      "text/plain": [
       "<Figure size 864x576 with 1 Axes>"
      ]
     },
     "metadata": {
      "needs_background": "light"
     },
     "output_type": "display_data"
    }
   ],
   "source": [
    "def plot_time_in_supermarket(df):\n",
    "    g = df.reset_index().groupby(['customer_no'])[['timestamp']]\n",
    "    time_in_market = g.last() - g.first()\n",
    "    time_in_market['counter'] = 1\n",
    "    time_in_market.groupby(['timestamp']).count().plot()\n",
    "\n",
    "plot_time_in_supermarket(df_full)"
   ]
  },
  {
   "cell_type": "markdown",
   "id": "57578509-fca0-4116-8c57-17404e273a1d",
   "metadata": {},
   "source": [
    "### Probabilities plot"
   ]
  },
  {
   "cell_type": "markdown",
   "id": "d428754b-c270-4fbd-bce5-134f05fbc792",
   "metadata": {},
   "source": [
    "what are the chances to be in a specific section?"
   ]
  },
  {
   "cell_type": "code",
   "execution_count": 7,
   "id": "7e45f49b-9b20-4f54-a5c2-5228df1d3811",
   "metadata": {},
   "outputs": [],
   "source": [
    "def build_transitions_matrix(df_full):\n",
    "    crosstab = pd.crosstab(df_full['location_before'], df_full['location'], normalize=0)\n",
    "    crosstab['entrance'] = 0\n",
    "    values = dict(zip(crosstab.columns, [1, 0, 0, 0, 0, 0]))\n",
    "    crosstab = crosstab.append(pd.DataFrame(values, index=['checkout']))\n",
    "    crosstab = crosstab.reindex(sorted(crosstab.columns), axis=1)\n",
    "    crosstab = crosstab.reindex(sorted(crosstab.index), axis=0)\n",
    "\n",
    "    return crosstab\n",
    "\n",
    "crosstab = build_transitions_matrix(df_full)\n",
    "# crosstab"
   ]
  },
  {
   "cell_type": "code",
   "execution_count": 8,
   "id": "f13e3693-85ab-42b8-a80f-822206dc08f8",
   "metadata": {},
   "outputs": [
    {
     "data": {
      "image/png": "[encoded data removed]",
      "text/plain": [
       "<Figure size 864x576 with 1 Axes>"
      ]
     },
     "metadata": {
      "needs_background": "light"
     },
     "output_type": "display_data"
    }
   ],
   "source": [
    "def show_step_probabilities_plot(crosstab):\n",
    "    initial_state = []\n",
    "    for column in crosstab.columns:\n",
    "        initial_state.append(int(column == 'entrance'))\n",
    "\n",
    "    state = initial_state\n",
    "    lines = pd.DataFrame([state], columns=crosstab.columns)\n",
    "    for i in range(0,20):\n",
    "        state = np.dot(state, crosstab.values)\n",
    "        lines = lines.append(pd.DataFrame([state], columns=crosstab.columns))\n",
    "    lines = lines.reset_index()\n",
    "    del lines['index']\n",
    "    lines.plot.bar(stacked=True)\n",
    "\n",
    "\n",
    "show_step_probabilities_plot(crosstab)"
   ]
  },
  {
   "cell_type": "markdown",
   "id": "09dcc7eb-1fca-437b-bdee-6c4d444fd4b9",
   "metadata": {},
   "source": [
    "### How many sections customer visited before leaving the supermarket?"
   ]
  },
  {
   "cell_type": "code",
   "execution_count": 9,
   "id": "f8ef0670-890a-47e6-89d1-f7001e68fa3e",
   "metadata": {},
   "outputs": [],
   "source": [
    "# TODO"
   ]
  },
  {
   "cell_type": "markdown",
   "id": "9f7e2e85-65f9-442c-8c41-269442fc14bb",
   "metadata": {},
   "source": [
    "### Revenue Estimate"
   ]
  },
  {
   "cell_type": "code",
   "execution_count": 10,
   "id": "221f2f67-9694-477c-9fee-0e6eda2c4c11",
   "metadata": {},
   "outputs": [],
   "source": [
    "# TODO"
   ]
  },
  {
   "cell_type": "markdown",
   "id": "4b2fc565-f229-4c74-84c4-531a30c6dc9e",
   "metadata": {},
   "source": [
    "## Markov chain"
   ]
  },
  {
   "cell_type": "markdown",
   "id": "16e0c9e4-4f3c-4e81-9001-1be2b84522d0",
   "metadata": {},
   "source": [
    "### Transitions matrix"
   ]
  },
  {
   "cell_type": "code",
   "execution_count": 11,
   "id": "f4e158b3-9213-407c-a866-8c0e5a54d2a1",
   "metadata": {},
   "outputs": [
    {
     "data": {
      "text/html": [
       "<div>\n",
       "<style scoped>\n",
       "    .dataframe tbody tr th:only-of-type {\n",
       "        vertical-align: middle;\n",
       "    }\n",
       "\n",
       "    .dataframe tbody tr th {\n",
       "        vertical-align: top;\n",
       "    }\n",
       "\n",
       "    .dataframe thead th {\n",
       "        text-align: right;\n",
       "    }\n",
       "</style>\n",
       "<table border=\"1\" class=\"dataframe\">\n",
       "  <thead>\n",
       "    <tr style=\"text-align: right;\">\n",
       "      <th></th>\n",
       "      <th>checkout</th>\n",
       "      <th>dairy</th>\n",
       "      <th>drinks</th>\n",
       "      <th>entrance</th>\n",
       "      <th>fruit</th>\n",
       "      <th>spices</th>\n",
       "    </tr>\n",
       "  </thead>\n",
       "  <tbody>\n",
       "    <tr>\n",
       "      <th>checkout</th>\n",
       "      <td>1.000000</td>\n",
       "      <td>0.000000</td>\n",
       "      <td>0.000000</td>\n",
       "      <td>0</td>\n",
       "      <td>0.000000</td>\n",
       "      <td>0.000000</td>\n",
       "    </tr>\n",
       "    <tr>\n",
       "      <th>dairy</th>\n",
       "      <td>0.103466</td>\n",
       "      <td>0.736750</td>\n",
       "      <td>0.058569</td>\n",
       "      <td>0</td>\n",
       "      <td>0.049848</td>\n",
       "      <td>0.051367</td>\n",
       "    </tr>\n",
       "    <tr>\n",
       "      <th>drinks</th>\n",
       "      <td>0.215710</td>\n",
       "      <td>0.010899</td>\n",
       "      <td>0.598499</td>\n",
       "      <td>0</td>\n",
       "      <td>0.087909</td>\n",
       "      <td>0.086983</td>\n",
       "    </tr>\n",
       "    <tr>\n",
       "      <th>entrance</th>\n",
       "      <td>0.000000</td>\n",
       "      <td>0.287576</td>\n",
       "      <td>0.153526</td>\n",
       "      <td>0</td>\n",
       "      <td>0.377435</td>\n",
       "      <td>0.181464</td>\n",
       "    </tr>\n",
       "    <tr>\n",
       "      <th>fruit</th>\n",
       "      <td>0.201605</td>\n",
       "      <td>0.095924</td>\n",
       "      <td>0.054847</td>\n",
       "      <td>0</td>\n",
       "      <td>0.596947</td>\n",
       "      <td>0.050677</td>\n",
       "    </tr>\n",
       "    <tr>\n",
       "      <th>spices</th>\n",
       "      <td>0.150685</td>\n",
       "      <td>0.193214</td>\n",
       "      <td>0.163109</td>\n",
       "      <td>0</td>\n",
       "      <td>0.090953</td>\n",
       "      <td>0.402039</td>\n",
       "    </tr>\n",
       "  </tbody>\n",
       "</table>\n",
       "</div>"
      ],
      "text/plain": [
       "          checkout     dairy    drinks  entrance     fruit    spices\n",
       "checkout  1.000000  0.000000  0.000000         0  0.000000  0.000000\n",
       "dairy     0.103466  0.736750  0.058569         0  0.049848  0.051367\n",
       "drinks    0.215710  0.010899  0.598499         0  0.087909  0.086983\n",
       "entrance  0.000000  0.287576  0.153526         0  0.377435  0.181464\n",
       "fruit     0.201605  0.095924  0.054847         0  0.596947  0.050677\n",
       "spices    0.150685  0.193214  0.163109         0  0.090953  0.402039"
      ]
     },
     "execution_count": 11,
     "metadata": {},
     "output_type": "execute_result"
    }
   ],
   "source": [
    "crosstab = build_transitions_matrix(df_full)\n",
    "crosstab.to_csv('./output/transition_matrix.csv', sep=';')\n",
    "crosstab"
   ]
  },
  {
   "cell_type": "markdown",
   "id": "52861e59-bc56-4ef6-bbe8-fc08670314ae",
   "metadata": {},
   "source": [
    "### Monte carlo simulations"
   ]
  },
  {
   "cell_type": "markdown",
   "id": "7b3b8f35-d4f5-419e-ab64-85bd99e923ef",
   "metadata": {},
   "source": [
    "#### Simulation 1"
   ]
  },
  {
   "cell_type": "code",
   "execution_count": 12,
   "id": "207e675d-82aa-40f4-8d24-5379a39986a3",
   "metadata": {},
   "outputs": [],
   "source": [
    "from mcmc_simulator import McmcSimulator"
   ]
  },
  {
   "cell_type": "code",
   "execution_count": 14,
   "id": "5053e16f-4902-4593-b32c-6fcefc398e3b",
   "metadata": {},
   "outputs": [],
   "source": [
    "matrix=pd.read_csv('./output/transition_matrix.csv', index_col=0, sep=';')\n",
    "\n",
    "simulation1_file = './output/simulation-1.csv'\n",
    "\n",
    "McmcSimulator.run(\n",
    "    matrix,\n",
    "    output_file=simulation1_file,\n",
    "    customers_per_minute=lambda clock: 1 # one customer per minute\n",
    ")"
   ]
  },
  {
   "cell_type": "code",
   "execution_count": 15,
   "id": "ccc64c34-1858-4449-8c49-280975326fa3",
   "metadata": {},
   "outputs": [],
   "source": [
    "df_s1 = load_data(simulation1_file)\n",
    "df_s1_full = resample_transitions(df_s1)"
   ]
  },
  {
   "cell_type": "code",
   "execution_count": 16,
   "id": "dac241e2-331e-460a-b123-2c16969e24f0",
   "metadata": {},
   "outputs": [
    {
     "data": {
      "image/png": "[encoded data removed]",
      "text/plain": [
       "<Figure size 864x576 with 1 Axes>"
      ]
     },
     "metadata": {
      "needs_background": "light"
     },
     "output_type": "display_data"
    }
   ],
   "source": [
    "show_number_of_customers_in_store(df_s1)\n",
    "# df_s1"
   ]
  },
  {
   "cell_type": "code",
   "execution_count": 17,
   "id": "c73dd150-81db-4156-b059-a03a01d6b71e",
   "metadata": {},
   "outputs": [
    {
     "data": {
      "image/png": "[encoded data removed]",
      "text/plain": [
       "<Figure size 864x576 with 1 Axes>"
      ]
     },
     "metadata": {
      "needs_background": "light"
     },
     "output_type": "display_data"
    }
   ],
   "source": [
    "plot_time_in_supermarket(df_s1_full)"
   ]
  },
  {
   "cell_type": "markdown",
   "id": "5c1aebfa-fe28-4191-9760-f63c7bd0a436",
   "metadata": {},
   "source": [
    "#### Simulation 2"
   ]
  },
  {
   "cell_type": "code",
   "execution_count": 18,
   "id": "64ee7acc-f50b-4d58-a500-62b99464e74f",
   "metadata": {},
   "outputs": [],
   "source": [
    "from clock import Clock\n",
    "\n",
    "def real_customers_distribution(clock: Clock) -> int:\n",
    "    \"\"\"\n",
    "    this function returns number of customers that enter the store every minute\n",
    "    this number depends on the hour and may vary from minute to minute\n",
    "    \"\"\"\n",
    "    d = {\n",
    "        7: 98, # customers per hour\n",
    "        8: 141,\n",
    "        9: 91,\n",
    "        10: 79,\n",
    "        11: 67,\n",
    "        12: 79,\n",
    "        13: 106,\n",
    "        14: 97,\n",
    "        15: 80,\n",
    "        16: 107,\n",
    "        17: 113,\n",
    "        18: 130,\n",
    "        19: 150,\n",
    "        20: 96,\n",
    "        21: 56\n",
    "    }\n",
    "    \n",
    "    return np.random.poisson(d[clock.hour] / 60, 1)[0]\n",
    "    \n",
    "# cb(Clock('2021-11-18 09:00:00'))"
   ]
  },
  {
   "cell_type": "code",
   "execution_count": 20,
   "id": "6c59645b-34f4-4a64-884b-4cca72255a8f",
   "metadata": {},
   "outputs": [],
   "source": [
    "simulation2_file = './output/simulation-2.csv'\n",
    "\n",
    "McmcSimulator.run(\n",
    "    matrix,\n",
    "    output_file=simulation2_file,\n",
    "    customers_per_minute=real_customers_distribution\n",
    ")"
   ]
  },
  {
   "cell_type": "code",
   "execution_count": 21,
   "id": "a631b337-31a5-4e10-968d-b671cac423f4",
   "metadata": {},
   "outputs": [],
   "source": [
    "df_s2 = load_data(simulation2_file)\n",
    "df_s2_full = resample_transitions(df_s2)"
   ]
  },
  {
   "cell_type": "code",
   "execution_count": 22,
   "id": "033f17b3-bdfe-4b5b-b6cf-9f5dc98ac932",
   "metadata": {},
   "outputs": [
    {
     "data": {
      "image/png": "[encoded data removed]",
      "text/plain": [
       "<Figure size 864x576 with 1 Axes>"
      ]
     },
     "metadata": {
      "needs_background": "light"
     },
     "output_type": "display_data"
    }
   ],
   "source": [
    "show_number_of_customers_in_store(df_s2)"
   ]
  },
  {
   "cell_type": "code",
   "execution_count": 23,
   "id": "da54eb01-16d2-4938-8b80-b94c07b24391",
   "metadata": {},
   "outputs": [
    {
     "data": {
      "image/png": "[encoded data removed]",
      "text/plain": [
       "<Figure size 864x576 with 1 Axes>"
      ]
     },
     "metadata": {
      "needs_background": "light"
     },
     "output_type": "display_data"
    }
   ],
   "source": [
    "plot_time_in_supermarket(df_s2_full)"
   ]
  },
  {
   "cell_type": "code",
   "execution_count": null,
   "id": "128bfc7e-77f5-4c92-873b-66df18c5c739",
   "metadata": {},
   "outputs": [],
   "source": []
  },
  {
   "cell_type": "code",
   "execution_count": null,
   "id": "96fc6e61-4a3b-479b-afdf-6746081bd2a0",
   "metadata": {},
   "outputs": [],
   "source": []
  },
  {
   "cell_type": "code",
   "execution_count": null,
   "id": "31e6cefe-d5ec-4ba0-8c75-84b9169a9c5f",
   "metadata": {},
   "outputs": [],
   "source": []
  },
  {
   "cell_type": "code",
   "execution_count": null,
   "id": "4ec77266-67ca-4430-850c-af151a72c224",
   "metadata": {},
   "outputs": [],
   "source": []
  },
  {
   "cell_type": "code",
   "execution_count": null,
   "id": "fae98dbb-be60-4229-8775-649738a0e6e3",
   "metadata": {},
   "outputs": [],
   "source": []
  },
  {
   "cell_type": "code",
   "execution_count": null,
   "id": "a860e44b-3605-4748-be13-15b06fc92756",
   "metadata": {},
   "outputs": [],
   "source": []
  }
 ],
 "metadata": {
  "kernelspec": {
   "display_name": "Python 3 (ipykernel)",
   "language": "python",
   "name": "python3"
  },
  "language_info": {
   "codemirror_mode": {
    "name": "ipython",
    "version": 3
   },
   "file_extension": ".py",
   "mimetype": "text/x-python",
   "name": "python",
   "nbconvert_exporter": "python",
   "pygments_lexer": "ipython3",
   "version": "3.9.7"
  }
 },
 "nbformat": 4,
 "nbformat_minor": 5
}
