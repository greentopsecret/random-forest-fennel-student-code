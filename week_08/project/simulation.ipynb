{
 "cells": [
  {
   "cell_type": "markdown",
   "id": "0c22bd94-a975-4301-9996-641fdcbd424a",
   "metadata": {},
   "source": [
    "# Project: Monte Carlo Markov Chain Simulation"
   ]
  },
  {
   "cell_type": "markdown",
   "id": "68b0ad8f-fb86-419a-976f-7a209727401f",
   "metadata": {},
   "source": [
    "## Business goals:  "
   ]
  },
  {
   "cell_type": "markdown",
   "id": "7de29b55-ed54-4a87-9286-88410cea918e",
   "metadata": {},
   "source": [
    "1. understand customer behavior  \n",
    "2. explain customer behavior to non-data staff  \n",
    "3. optimize staffing so that the queues do not get unnecessary long  "
   ]
  },
  {
   "cell_type": "markdown",
   "id": "d4c0e6ab-f035-4f99-b371-d47c0d490454",
   "metadata": {},
   "source": [
    "## Supermarket Area"
   ]
  },
  {
   "cell_type": "markdown",
   "id": "2854748a-4124-4df7-87c4-aae8aa355a1f",
   "metadata": {},
   "source": [
    "We are using the following model supermarket with six areas: entrance, fruit, spices, dairy, drinks and checkout.\n",
    "\n",
    "The customers can move between these areas freely. Sooner or later, they will enter the checkout area. Once they do, they are considered to have left the shop."
   ]
  },
  {
   "cell_type": "markdown",
   "id": "a2f4248c-fc0b-4587-89ea-9447520fe16f",
   "metadata": {},
   "source": [
    "![Drag Racing](./supermarket.png)"
   ]
  },
  {
   "cell_type": "markdown",
   "id": "2e9c1f96-859d-4c64-a2c1-6d1dcfab884b",
   "metadata": {},
   "source": [
    "### Load data"
   ]
  },
  {
   "cell_type": "code",
   "execution_count": 12,
   "id": "a7bc561d-7331-4934-899f-abfe6ec1678b",
   "metadata": {},
   "outputs": [
    {
     "data": {
      "application/javascript": [
       "\n",
       "        if (window._pyforest_update_imports_cell) { window._pyforest_update_imports_cell('import os\\nimport pandas as pd'); }\n",
       "    "
      ],
      "text/plain": [
       "<IPython.core.display.Javascript object>"
      ]
     },
     "metadata": {},
     "output_type": "display_data"
    },
    {
     "data": {
      "application/javascript": [
       "\n",
       "        if (window._pyforest_update_imports_cell) { window._pyforest_update_imports_cell('import os\\nimport pandas as pd'); }\n",
       "    "
      ],
      "text/plain": [
       "<IPython.core.display.Javascript object>"
      ]
     },
     "metadata": {},
     "output_type": "display_data"
    },
    {
     "data": {
      "application/javascript": [
       "\n",
       "        if (window._pyforest_update_imports_cell) { window._pyforest_update_imports_cell('import os\\nimport pandas as pd'); }\n",
       "    "
      ],
      "text/plain": [
       "<IPython.core.display.Javascript object>"
      ]
     },
     "metadata": {},
     "output_type": "display_data"
    },
    {
     "data": {
      "application/javascript": [
       "\n",
       "        if (window._pyforest_update_imports_cell) { window._pyforest_update_imports_cell('import os\\nimport pandas as pd'); }\n",
       "    "
      ],
      "text/plain": [
       "<IPython.core.display.Javascript object>"
      ]
     },
     "metadata": {},
     "output_type": "display_data"
    },
    {
     "data": {
      "application/javascript": [
       "\n",
       "        if (window._pyforest_update_imports_cell) { window._pyforest_update_imports_cell('import os\\nimport pandas as pd'); }\n",
       "    "
      ],
      "text/plain": [
       "<IPython.core.display.Javascript object>"
      ]
     },
     "metadata": {},
     "output_type": "display_data"
    },
    {
     "data": {
      "application/javascript": [
       "\n",
       "        if (window._pyforest_update_imports_cell) { window._pyforest_update_imports_cell('import os\\nimport pandas as pd'); }\n",
       "    "
      ],
      "text/plain": [
       "<IPython.core.display.Javascript object>"
      ]
     },
     "metadata": {},
     "output_type": "display_data"
    },
    {
     "data": {
      "application/javascript": [
       "\n",
       "        if (window._pyforest_update_imports_cell) { window._pyforest_update_imports_cell('import os\\nimport pandas as pd'); }\n",
       "    "
      ],
      "text/plain": [
       "<IPython.core.display.Javascript object>"
      ]
     },
     "metadata": {},
     "output_type": "display_data"
    },
    {
     "data": {
      "application/javascript": [
       "\n",
       "        if (window._pyforest_update_imports_cell) { window._pyforest_update_imports_cell('import os\\nimport pandas as pd'); }\n",
       "    "
      ],
      "text/plain": [
       "<IPython.core.display.Javascript object>"
      ]
     },
     "metadata": {},
     "output_type": "display_data"
    },
    {
     "data": {
      "application/javascript": [
       "\n",
       "        if (window._pyforest_update_imports_cell) { window._pyforest_update_imports_cell('import os\\nimport pandas as pd'); }\n",
       "    "
      ],
      "text/plain": [
       "<IPython.core.display.Javascript object>"
      ]
     },
     "metadata": {},
     "output_type": "display_data"
    },
    {
     "data": {
      "application/javascript": [
       "\n",
       "        if (window._pyforest_update_imports_cell) { window._pyforest_update_imports_cell('import os\\nimport pandas as pd'); }\n",
       "    "
      ],
      "text/plain": [
       "<IPython.core.display.Javascript object>"
      ]
     },
     "metadata": {},
     "output_type": "display_data"
    }
   ],
   "source": [
    "from os import listdir\n",
    "from os.path import isfile, join\n",
    "\n",
    "def load_data(day):\n",
    "    path = './data/'\n",
    "    r = pd.read_csv(os.path.join(path, day + '.csv'), sep=';', parse_dates=['timestamp'], index_col=['timestamp'])\n",
    "    return r\n",
    "\n",
    "df = load_data('monday')\n",
    "for file in ['tuesday', 'wednesday', 'thursday', 'friday']:\n",
    "    df_next = load_data(file)\n",
    "    df_next['customer_no'] = df_next['customer_no'] + df['customer_no'].max()\n",
    "    df = df.append(df_next)\n",
    "\n",
    "# df"
   ]
  },
  {
   "cell_type": "markdown",
   "id": "d50cab6a-6593-4f99-abec-f5f4c060c384",
   "metadata": {},
   "source": [
    "## Data analysis"
   ]
  },
  {
   "cell_type": "markdown",
   "id": "2cf2d052-2980-49c5-9e43-221aafd53f3e",
   "metadata": {},
   "source": [
    "### When customers enter the supermarket?"
   ]
  },
  {
   "cell_type": "code",
   "execution_count": 45,
   "id": "947b2be9-2bd4-40f9-b800-5f592320452e",
   "metadata": {},
   "outputs": [
    {
     "data": {
      "image/png": "[encoded data removed]",
      "text/plain": [
       "<Figure size 432x288 with 1 Axes>"
      ]
     },
     "metadata": {
      "needs_background": "light"
     },
     "output_type": "display_data"
    }
   ],
   "source": [
    "def show_enter_time_distribution(df):\n",
    "    tmp = df.reset_index()\n",
    "    tmp['cnt'] = 1\n",
    "    tmp.groupby([tmp['timestamp'].dt.hour])[['cnt']].count().plot.line()\n",
    "    \n",
    "show_enter_time_distribution(df)"
   ]
  },
  {
   "cell_type": "markdown",
   "id": "99c3052b-3a18-4bf7-b3d1-4a8d304e5730",
   "metadata": {},
   "source": [
    "### How long users spend in the supermarket?"
   ]
  },
  {
   "cell_type": "code",
   "execution_count": null,
   "id": "dee44433-d0ac-43ca-90ff-8653cb4d8809",
   "metadata": {},
   "outputs": [],
   "source": []
  },
  {
   "cell_type": "markdown",
   "id": "57578509-fca0-4116-8c57-17404e273a1d",
   "metadata": {},
   "source": [
    "### Probabilities plot"
   ]
  },
  {
   "cell_type": "markdown",
   "id": "d428754b-c270-4fbd-bce5-134f05fbc792",
   "metadata": {},
   "source": [
    "what are the chances to be in a specific section?"
   ]
  },
  {
   "cell_type": "code",
   "execution_count": null,
   "id": "f13e3693-85ab-42b8-a80f-822206dc08f8",
   "metadata": {},
   "outputs": [],
   "source": []
  },
  {
   "cell_type": "markdown",
   "id": "9f7e2e85-65f9-442c-8c41-269442fc14bb",
   "metadata": {},
   "source": [
    "### Revenue Estimate"
   ]
  },
  {
   "cell_type": "code",
   "execution_count": null,
   "id": "221f2f67-9694-477c-9fee-0e6eda2c4c11",
   "metadata": {},
   "outputs": [],
   "source": []
  },
  {
   "cell_type": "markdown",
   "id": "4b2fc565-f229-4c74-84c4-531a30c6dc9e",
   "metadata": {},
   "source": [
    "## Marov chain"
   ]
  },
  {
   "cell_type": "markdown",
   "id": "16e0c9e4-4f3c-4e81-9001-1be2b84522d0",
   "metadata": {},
   "source": [
    "### Transitions matrix"
   ]
  },
  {
   "cell_type": "markdown",
   "id": "52861e59-bc56-4ef6-bbe8-fc08670314ae",
   "metadata": {},
   "source": [
    "### Monte carlo simulations"
   ]
  },
  {
   "cell_type": "markdown",
   "id": "7b3b8f35-d4f5-419e-ab64-85bd99e923ef",
   "metadata": {},
   "source": [
    "#### Simpulation 1"
   ]
  },
  {
   "cell_type": "markdown",
   "id": "5c1aebfa-fe28-4191-9760-f63c7bd0a436",
   "metadata": {},
   "source": [
    "#### Simpulation 2"
   ]
  },
  {
   "cell_type": "markdown",
   "id": "64811599-3085-422a-a723-a07e19ee83db",
   "metadata": {},
   "source": [
    "#### Simpulation 3"
   ]
  },
  {
   "cell_type": "code",
   "execution_count": null,
   "id": "a860e44b-3605-4748-be13-15b06fc92756",
   "metadata": {},
   "outputs": [],
   "source": []
  }
 ],
 "metadata": {
  "kernelspec": {
   "display_name": "Python 3 (ipykernel)",
   "language": "python",
   "name": "python3"
  },
  "language_info": {
   "codemirror_mode": {
    "name": "ipython",
    "version": 3
   },
   "file_extension": ".py",
   "mimetype": "text/x-python",
   "name": "python",
   "nbconvert_exporter": "python",
   "pygments_lexer": "ipython3",
   "version": "3.8.8"
  }
 },
 "nbformat": 4,
 "nbformat_minor": 5
}
