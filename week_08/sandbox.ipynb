{
 "cells": [
  {
   "cell_type": "markdown",
   "id": "0c22bd94-a975-4301-9996-641fdcbd424a",
   "metadata": {},
   "source": [
    "# Project: Monte Carlo Markov Chain Simulation"
   ]
  },
  {
   "cell_type": "markdown",
   "id": "68b0ad8f-fb86-419a-976f-7a209727401f",
   "metadata": {},
   "source": [
    "## Business goals:  "
   ]
  },
  {
   "cell_type": "markdown",
   "id": "7de29b55-ed54-4a87-9286-88410cea918e",
   "metadata": {},
   "source": [
    "1. understand customer behavior  \n",
    "2. explain customer behavior to non-data staff  \n",
    "3. optimize staffing so that the queues do not get unnecessary long  "
   ]
  },
  {
   "cell_type": "markdown",
   "id": "d4c0e6ab-f035-4f99-b371-d47c0d490454",
   "metadata": {},
   "source": [
    "## Supermarket Area"
   ]
  },
  {
   "cell_type": "markdown",
   "id": "2854748a-4124-4df7-87c4-aae8aa355a1f",
   "metadata": {},
   "source": [
    "We are using the following model supermarket with six areas: entrance, fruit, spices, dairy, drinks and checkout.\n",
    "\n",
    "The customers can move between these areas freely. Sooner or later, they will enter the checkout area. Once they do, they are considered to have left the shop."
   ]
  },
  {
   "cell_type": "markdown",
   "id": "a2f4248c-fc0b-4587-89ea-9447520fe16f",
   "metadata": {},
   "source": [
    "![Drag Racing](./project/supermarket.png)"
   ]
  },
  {
   "cell_type": "markdown",
   "id": "72af9eed-2aae-45b2-a2f9-0078fc1bef19",
   "metadata": {},
   "source": [
    "## 8.1. Data Analysis"
   ]
  },
  {
   "cell_type": "markdown",
   "id": "af881848-e5b6-4575-babd-72a6843fb219",
   "metadata": {},
   "source": [
    "### Load data"
   ]
  },
  {
   "cell_type": "code",
   "execution_count": null,
   "id": "5fa0dde9-ea0a-4b89-84a7-9063fe604b2d",
   "metadata": {},
   "outputs": [],
   "source": [
    "import pandas as pd"
   ]
  },
  {
   "cell_type": "code",
   "execution_count": null,
   "id": "78851543-5136-4e95-b7e0-836ffeda1a55",
   "metadata": {},
   "outputs": [],
   "source": [
    "from os import listdir\n",
    "from os.path import isfile, join\n",
    "\n",
    "# def load_file(day):\n",
    "#     path = './project/data/'\n",
    "\n",
    "#     df = pd.read_csv(os.path.join(path, day + '.csv'), sep=';', parse_dates=['timestamp'])\n",
    "    \n",
    "#     # individual dataframes with new column added to represent the day\n",
    "#     df['day'] = day\n",
    "\n",
    "#     return df\n",
    "\n",
    "# df = load_file('monday').append(\n",
    "#         load_file('tuesday').append(\n",
    "#             load_file('wednesday').append(\n",
    "#                 load_file('thursday').append(\n",
    "#                     load_file('friday')\n",
    "#                 )\n",
    "#             )\n",
    "#         )\n",
    "# )\n",
    "# df\n",
    "def load_data(day):\n",
    "    path = './project/data/'\n",
    "    r = pd.read_csv(os.path.join(path, day + '.csv'), sep=';', parse_dates=['timestamp'], index_col=['timestamp'])\n",
    "#     r['day'] = day\n",
    "\n",
    "#     r = r.head(3).copy().append(r.tail(3).copy()) # TODO: drop me\n",
    "\n",
    "    return r\n",
    "\n",
    "# files = [f for f in listdir(path) if isfile(join(path, f))]\n",
    "\n",
    "# load first file\n",
    "df = load_data('monday')\n",
    "\n",
    "# join data from all remaining files\n",
    "for file in ['tuesday', 'wednesday', 'thursday', 'friday']:\n",
    "\n",
    "    df_next = load_data(file)\n",
    "    df_next['customer_no'] = df_next['customer_no'] + df['customer_no'].max()\n",
    "\n",
    "    df = df.append(df_next)\n",
    "\n",
    "# df.reset_index(inplace=True, drop=True)\n",
    "# df"
   ]
  },
  {
   "cell_type": "code",
   "execution_count": null,
   "id": "664310db-355b-4dcf-b8a5-47c70f955dc9",
   "metadata": {},
   "outputs": [],
   "source": [
    "df[(df.index > '2019-09-02 21:48:00') & (df.index < '2019-09-03 07:07:00')].sort_values(by='timestamp')"
   ]
  },
  {
   "cell_type": "code",
   "execution_count": null,
   "id": "b4d3080d-0d48-4e08-a0bb-431b6255c60c",
   "metadata": {},
   "outputs": [],
   "source": [
    "# the total number of customers in each section (no unique customers)\n",
    "df.groupby(by='location')['customer_no'].count()"
   ]
  },
  {
   "cell_type": "markdown",
   "id": "7f0c27d2-577c-4326-be3d-b62970c831e8",
   "metadata": {},
   "source": [
    "## Fill out missing counter time"
   ]
  },
  {
   "cell_type": "code",
   "execution_count": null,
   "id": "97582fb6-dd2f-4fb1-9f51-9d7c87160662",
   "metadata": {},
   "outputs": [],
   "source": [
    "# When the shop closes, the remaining customers are rushed through the checkout. \n",
    "# Their checkout is not recorded, so it may look as if they stay in the market forever.\n",
    "\n",
    "# TODO: fill out missing counter rows"
   ]
  },
  {
   "cell_type": "code",
   "execution_count": null,
   "id": "7d26c3a8-0401-4f95-ac7a-bd1785e8545b",
   "metadata": {},
   "outputs": [],
   "source": [
    "# df.iloc[0:57]\n",
    "df[df['customer_no'] == 6]"
   ]
  },
  {
   "cell_type": "code",
   "execution_count": null,
   "id": "d6804ee4-54ac-4c0c-bdb2-f7f13f516fcc",
   "metadata": {},
   "outputs": [],
   "source": [
    "# Calculate the total number of customers in each section over time\n",
    "\n",
    "# Display the number of customers at checkout over time"
   ]
  },
  {
   "cell_type": "code",
   "execution_count": null,
   "id": "88e9b815-1234-4466-8347-a7395b657b9c",
   "metadata": {},
   "outputs": [],
   "source": [
    "# The time each customer spent in the market\n",
    "# visits = df.groupby(by='customer_no').index.agg(['min', 'max']) # TODO: find out how to aggregate by index value\n",
    "# visits['duration'] = visits['max'] - visits['min']\n",
    "# visits.sort_values(by='duration', ascending=False)"
   ]
  },
  {
   "cell_type": "code",
   "execution_count": null,
   "id": "df0a1e5e-406f-4e21-b301-936c866617b3",
   "metadata": {},
   "outputs": [],
   "source": [
    "# Calculate the total number of customers in the supermarket over time."
   ]
  },
  {
   "cell_type": "code",
   "execution_count": null,
   "id": "735b68c6-6bec-46b6-b2b6-207e05e0c302",
   "metadata": {},
   "outputs": [],
   "source": [
    "# # Our business managers think that the first section customers visit follows a different pattern than the following ones. Plot the distribution of customers of their first visited section versus following sections (treat all sections visited after the first as “following”).\n",
    "\n",
    "# df.groupby(['customer_no']).agg({'location': [' -> '.join, 'count']})\n",
    "\n",
    "# df.groupby(['customer_no'])['location'].describe().sort_values(by='freq', ascending=False)"
   ]
  },
  {
   "cell_type": "code",
   "execution_count": null,
   "id": "ded6ab19-ab8f-40f7-9e0d-dd8ef93a4393",
   "metadata": {},
   "outputs": [],
   "source": [
    "# df.groupby(['customer_no'])['timestamp'].describe()\n",
    "# # .sort_values(by='freq', ascending=False)"
   ]
  },
  {
   "cell_type": "code",
   "execution_count": null,
   "id": "02871e49-cf63-46df-b2e1-1a9f52fa8148",
   "metadata": {},
   "outputs": [],
   "source": []
  },
  {
   "cell_type": "code",
   "execution_count": null,
   "id": "c983a800-97c7-4781-9c55-bea47ca25de8",
   "metadata": {},
   "outputs": [],
   "source": [
    "### Probabilities plot"
   ]
  },
  {
   "cell_type": "code",
   "execution_count": null,
   "id": "55b4bf83-635e-4130-b27a-0659ee0f92d5",
   "metadata": {},
   "outputs": [],
   "source": [
    "# # initial_state = np.array([0.4, 0.6])  # e.g. cold, hot\n",
    "# initial_state = []\n",
    "# for column in crosstab.columns:\n",
    "#     initial_state.append(int(column == 'entrance'))"
   ]
  },
  {
   "cell_type": "code",
   "execution_count": null,
   "id": "eb5738a2-3f3b-4911-ab84-ee1909f04183",
   "metadata": {},
   "outputs": [],
   "source": [
    "# state = initial_state\n",
    "# lines = pd.DataFrame([state], columns=crosstab.columns)\n",
    "# for i in range(0,20):\n",
    "#     state = np.dot(state, crosstab.values)\n",
    "#     lines = lines.append(pd.DataFrame([state], columns=crosstab.columns))\n",
    "# lines = lines.reset_index()\n",
    "# del lines['index']\n",
    "# lines = lines.transpose()\n",
    "# lines"
   ]
  },
  {
   "cell_type": "code",
   "execution_count": null,
   "id": "8e006b04-3721-4539-b524-7a03bb9c9352",
   "metadata": {},
   "outputs": [],
   "source": [
    "# for i in range(len(lines.columns)):\n",
    "#     print('i: %d;  %0.4f' % (i, lines[i].sum()))"
   ]
  },
  {
   "cell_type": "code",
   "execution_count": null,
   "id": "4400ae90-3964-4572-b9d2-185c7b3b8cff",
   "metadata": {},
   "outputs": [],
   "source": [
    "# tmp = lines.transpose()\n",
    "# for column in tmp.columns:\n",
    "#     print('Column: %s, Sum: %0.2f' % (column, tmp[column].sum()))"
   ]
  },
  {
   "cell_type": "code",
   "execution_count": null,
   "id": "ce8843c9-2a1f-4ef4-8fa5-1b152d0f643f",
   "metadata": {},
   "outputs": [],
   "source": [
    "# tmp = lines.melt(value_vars=range(0, len(lines.columns)), var_name='step', ignore_index=False).reset_index().rename(columns={'index': 'section'})\n",
    "# tmp"
   ]
  },
  {
   "cell_type": "code",
   "execution_count": null,
   "id": "e142fd01-0f13-4c0e-a1cf-34bd2e599912",
   "metadata": {},
   "outputs": [],
   "source": [
    "# fig = px.line(tmp, x=\"step\", y=\"value\", color='section').show()"
   ]
  },
  {
   "cell_type": "markdown",
   "id": "3ff98abd-7814-49f6-852b-572758a16ff9",
   "metadata": {},
   "source": [
    "### Revenue Estimate"
   ]
  },
  {
   "cell_type": "markdown",
   "id": "c955a2fc-9367-476c-9f85-70df36ad3fc0",
   "metadata": {},
   "source": [
    "Estimate the total revenue for a customer using the following table:\n",
    "\n",
    "| section | revenue per minute |\n",
    "|---------|:--------------------:|\n",
    "| fruit   | 4€                 |\n",
    "| spices | 3€|\n",
    "| dairy | 5€ |\n",
    "| drinks | 6€ |\n",
    "\n",
    "Which is the most profitable section according to your data?"
   ]
  },
  {
   "cell_type": "markdown",
   "id": "f04b071c-f802-4f06-a819-7513aaf40bb9",
   "metadata": {},
   "source": [
    "## 8.2. Markov Chains"
   ]
  },
  {
   "cell_type": "markdown",
   "id": "64ddd94c-9c58-43bf-a083-a1fcba3674c2",
   "metadata": {},
   "source": [
    "### Transition Probabilities"
   ]
  },
  {
   "cell_type": "code",
   "execution_count": null,
   "id": "472a6ebb-bc23-4aa6-8e31-ee2980f4be82",
   "metadata": {},
   "outputs": [],
   "source": [
    "# # find customers who visited several different sections\n",
    "# tmp = df.groupby('customer_no')['customer_no'].count()\n",
    "# tmp[(tmp > 3) & (tmp <6)].sample(n=3)\n",
    "# tmp = df[(df['customer_no'] == 3532) | (df['customer_no'] == 3685)].copy()\n",
    "# tmp = df\n",
    "# # tmp"
   ]
  },
  {
   "cell_type": "code",
   "execution_count": null,
   "id": "cd2ea87f-3192-4444-8d29-bd122a9207e5",
   "metadata": {},
   "outputs": [],
   "source": [
    "transitions = df.groupby(by=['customer_no']).resample('1T').pad().drop(columns=['customer_no']).reset_index()\n",
    "transitions['location_before'] = transitions.groupby(by=['customer_no'])['location'].shift(fill_value='entrance')\n",
    "transitions"
   ]
  },
  {
   "cell_type": "code",
   "execution_count": null,
   "id": "b41b5fab-3a67-456f-8568-04c72f49182e",
   "metadata": {},
   "outputs": [],
   "source": [
    "# When the shop closes, the remaining customers are rushed through the checkout. \n",
    "# Their checkout is not recorded, so it may look as if they stay in the market forever.\n",
    "# Here we add last transition for such customers\n",
    "\n",
    "last_locations = transitions.groupby(by='customer_no')[['timestamp', 'location']].last()\n",
    "missing_checkouts = last_locations[last_locations['location'] != 'checkout'].copy()\n",
    "missing_checkouts['timestamp'] = missing_checkouts['timestamp'] + pd.Timedelta(minutes=1)\n",
    "missing_checkouts['location_before'] = missing_checkouts['location']\n",
    "missing_checkouts['location'] = 'checkout'\n",
    "missing_checkouts.reset_index(inplace=True)\n",
    "\n",
    "transitions = transitions.append(missing_checkouts)"
   ]
  },
  {
   "cell_type": "code",
   "execution_count": null,
   "id": "46bc1426-2e15-4ac1-b6c4-480b449a500d",
   "metadata": {},
   "outputs": [],
   "source": [
    "crosstab = pd.crosstab(transitions['location_before'], transitions['location'], normalize=0)\n",
    "# crosstab['entrance'] = 0\n",
    "values = dict(zip(crosstab.columns, [0] * len(crosstab.columns)))\n",
    "crosstab = crosstab.reindex(sorted(crosstab.columns), axis=1)\n",
    "crosstab = crosstab.reindex(sorted(crosstab.index), axis=0)\n",
    "# crosstab.index.name = None\n",
    "# crosstab.columns.name = None\n",
    "\n",
    "crosstab"
   ]
  },
  {
   "cell_type": "code",
   "execution_count": null,
   "id": "14909033-6aad-4b5c-b82d-8525e184e843",
   "metadata": {},
   "outputs": [],
   "source": [
    "# pd.DataFrame(crosstab.to_dict())"
   ]
  },
  {
   "cell_type": "code",
   "execution_count": null,
   "id": "cdf1ef4e-6627-4291-8515-91d236a7bd03",
   "metadata": {},
   "outputs": [],
   "source": [
    "crosstab.to_csv('./output/transition_matrix.csv', sep=';')"
   ]
  },
  {
   "cell_type": "code",
   "execution_count": null,
   "id": "c44c6a87-814c-4c35-9ca3-459ba547c5ee",
   "metadata": {},
   "outputs": [],
   "source": [
    "ar = np.arange(24)\n",
    "ar.reshape(6, -1)"
   ]
  },
  {
   "cell_type": "markdown",
   "id": "d96790bf-895d-46fd-a798-21d8b34d1dda",
   "metadata": {},
   "source": [
    "    ### How long users spend in the store?"
   ]
  },
  {
   "cell_type": "code",
   "execution_count": null,
   "id": "0bf90b68-8a24-4f2f-a539-a0113bb7ec11",
   "metadata": {},
   "outputs": [],
   "source": [
    "df"
   ]
  },
  {
   "cell_type": "code",
   "execution_count": null,
   "id": "49033883-b7bd-4275-b099-83743a8c0fd3",
   "metadata": {},
   "outputs": [],
   "source": [
    "# new df with column timestamp representing differences in first and last timestamp in the grouped table, ie. time spent in shop in minutes\n",
    "# this is the time spent in the shop for each customer:\n",
    "g = df.reset_index().groupby(['customer_no'])[['timestamp']]\n",
    "time_in_market = g.last() - g.first()\n",
    "time_in_market"
   ]
  },
  {
   "cell_type": "code",
   "execution_count": null,
   "id": "68e1b1d1-37a5-4f65-a693-54b388451f31",
   "metadata": {},
   "outputs": [],
   "source": [
    "# dummy column added :\n",
    "time_in_market['counter'] = 1\n",
    "\n",
    "# count the frequencies of the times spent in the shop:\n",
    "time_in_market.groupby('timestamp').count().head()"
   ]
  },
  {
   "cell_type": "code",
   "execution_count": null,
   "id": "b715ffb1-218e-4cbe-b025-a1d5b2f6928b",
   "metadata": {},
   "outputs": [],
   "source": [
    "# Plot frequency distribution:\n",
    "time_in_market.groupby('timestamp').count().plot()"
   ]
  },
  {
   "cell_type": "code",
   "execution_count": null,
   "id": "a96edc5f-68c7-49e1-a64e-de991400d5d5",
   "metadata": {},
   "outputs": [],
   "source": [
    "# df[(df['timestamp'] > '2019-09-02 21:48:00') & (df['timestamp'] < '2019-09-03 07:07:00')].sort_values(by='timestamp')"
   ]
  },
  {
   "cell_type": "code",
   "execution_count": null,
   "id": "728a736f-1efc-4a18-965b-6fc0c1cb4a45",
   "metadata": {},
   "outputs": [],
   "source": [
    "df.groupby(by=['timestamp', 'customer_no']).last().reset_index().sort_values(by=['customer_no'])"
   ]
  },
  {
   "cell_type": "code",
   "execution_count": null,
   "id": "39980c9d-b095-481c-a9dc-8e973ca2896a",
   "metadata": {},
   "outputs": [],
   "source": [
    "df.groupby(by=['customer_no'])['location'].shift(1).dropna()"
   ]
  },
  {
   "cell_type": "code",
   "execution_count": null,
   "id": "cbb93314-04db-4794-860d-e5186f0c0143",
   "metadata": {},
   "outputs": [],
   "source": [
    "_ = df.groupby(by=['timestamp', 'customer_no'])['location'].last().reset_index()\n",
    "_[_['timestamp'] > '2019-09-02 21:49:00']\n",
    "# _['before'] = _['location'].shift(1)\n",
    "# _['after'] = _['location']\n",
    "# _[_['before'].isna()]"
   ]
  },
  {
   "cell_type": "code",
   "execution_count": null,
   "id": "56b97d7c-e77c-4e58-b5b4-f42def000dc3",
   "metadata": {},
   "outputs": [],
   "source": [
    "# # build a transition for an every minute\n",
    "# transitions = df.groupby(by=['timestamp', 'customer_no'])['location'].last().reset_index()\n",
    "# transitions['before'] = transitions['location'].shift(1)\n",
    "# transitions['before'].fillna('entrance', inplace=True)\n",
    "# transitions['after'] = transitions['location']\n",
    "# del transitions['location']\n",
    "# transitions\n",
    "# # transitions[transitions['before'] == 'entrance']\n",
    "\n",
    "# # transitions = pd.DataFrame()\n",
    "# # transitions['customer_no'] = tmp['customer_no']\n",
    "# # transitions['before'] = tmp['location'].shift(1)\n",
    "# # transitions['after'] = tmp['location']\n",
    "# # transitions['before'].fillna('entrance', inplace=True)\n",
    "# # transitions"
   ]
  },
  {
   "cell_type": "code",
   "execution_count": null,
   "id": "fb6fd7c0-7194-4adb-a8bf-383b6ada4915",
   "metadata": {},
   "outputs": [],
   "source": [
    "# transitions[transitions['location_before'] == 'checkout']"
   ]
  },
  {
   "cell_type": "markdown",
   "id": "fbcdc1e0-c296-469b-9814-b4d4d5ff867a",
   "metadata": {},
   "source": [
    "### Probabilities plot"
   ]
  },
  {
   "cell_type": "code",
   "execution_count": null,
   "id": "6c1a4342-3c74-4b1d-adaa-821f0a91580a",
   "metadata": {},
   "outputs": [],
   "source": [
    "# initial_state = np.array([0.4, 0.6])  # e.g. cold, hot\n",
    "initial_state = []\n",
    "for column in crosstab.columns:\n",
    "    initial_state.append(int(column == 'entrance'))"
   ]
  },
  {
   "cell_type": "code",
   "execution_count": null,
   "id": "ee03ca8b-fb42-4745-9c07-f7ae2254b37d",
   "metadata": {},
   "outputs": [],
   "source": [
    "state = initial_state\n",
    "lines = pd.DataFrame([state], columns=crosstab.columns)\n",
    "for i in range(0,20):\n",
    "    state = np.dot(state, crosstab.values)\n",
    "    lines = lines.append(pd.DataFrame([state], columns=crosstab.columns))\n",
    "lines = lines.reset_index()\n",
    "del lines['index']\n",
    "lines = lines.transpose()\n",
    "lines"
   ]
  },
  {
   "cell_type": "code",
   "execution_count": null,
   "id": "2a495f81-498e-451a-8f73-f185fe60be9c",
   "metadata": {},
   "outputs": [],
   "source": [
    "for i in range(len(lines.columns)):\n",
    "    print('i: %d;  %0.4f' % (i, lines[i].sum()))"
   ]
  },
  {
   "cell_type": "code",
   "execution_count": null,
   "id": "0d477161-5979-4fd8-b03c-bc936d68308b",
   "metadata": {},
   "outputs": [],
   "source": [
    "tmp = lines.transpose()\n",
    "for column in tmp.columns:\n",
    "    print('Column: %s, Sum: %0.2f' % (column, tmp[column].sum()))"
   ]
  },
  {
   "cell_type": "code",
   "execution_count": null,
   "id": "61e3e0b4-503a-4659-afa9-562715653958",
   "metadata": {},
   "outputs": [],
   "source": [
    "tmp = lines.melt(value_vars=range(0, len(lines.columns)), var_name='step', ignore_index=False).reset_index().rename(columns={'index': 'section'})\n",
    "tmp"
   ]
  },
  {
   "cell_type": "code",
   "execution_count": null,
   "id": "1e915e92-0903-48d3-beeb-028596dbf69a",
   "metadata": {},
   "outputs": [],
   "source": [
    "px.line(tmp, x=\"step\", y=\"value\", color='section').show()"
   ]
  },
  {
   "cell_type": "markdown",
   "id": "e2244fc5-d007-4f91-9aa0-37aca817deab",
   "metadata": {},
   "source": [
    "### MC-Simulation"
   ]
  },
  {
   "cell_type": "code",
   "execution_count": null,
   "id": "5fc7bcac-87ee-4bb2-b098-8fea3b19e190",
   "metadata": {},
   "outputs": [],
   "source": [
    "from customer import Customer\n",
    "from supermarket import Supermarket\n",
    "# from clock import Clock\n",
    "import datetime"
   ]
  },
  {
   "cell_type": "code",
   "execution_count": null,
   "id": "d9bb4c73-6a18-4f6f-befd-7eeb7aae8ccb",
   "metadata": {},
   "outputs": [],
   "source": [
    "customer1 = Customer(1, supermarket.get_entrance_section(), transitions)\n",
    "customer2 = Customer(2, supermarket.get_entrance_section(), transitions)\n",
    "customer3 = Customer(3, supermarket.get_entrance_section(), transitions)\n",
    "\n",
    "# dt = datetime.datetime.strptime('2021-11-18 09:00:00', '%Y-%m-%d %H:%M:%S')\n",
    "clock = Clock(current_time='2021-11-18 09:00:00')\n",
    "\n",
    "supermarket = Supermarket(clock)\n",
    "supermarket.add_new_customers((customer1, customer2, customer3))\n",
    "\n",
    "for i in range(10):\n",
    "    supermarket.next_minute()\n",
    "    \n",
    "supermarket.output('./output/transitions.csv')\n",
    "    \n",
    "    \n"
   ]
  },
  {
   "cell_type": "code",
   "execution_count": null,
   "id": "6ed231ea-dca2-4300-9666-facc03421f74",
   "metadata": {},
   "outputs": [],
   "source": [
    "[\"aaaaa\"] + [\"bbbb\", \"cccc\"]"
   ]
  },
  {
   "cell_type": "code",
   "execution_count": null,
   "id": "12d1e71e-763e-4297-bef8-19ed281c7ca9",
   "metadata": {},
   "outputs": [],
   "source": []
  },
  {
   "cell_type": "code",
   "execution_count": null,
   "id": "00c09caa-59e3-4fd4-9434-e0061244a8d1",
   "metadata": {},
   "outputs": [],
   "source": []
  },
  {
   "cell_type": "code",
   "execution_count": null,
   "id": "cec28043-f2e3-4f1a-ac3a-79c9f1653095",
   "metadata": {},
   "outputs": [],
   "source": []
  },
  {
   "cell_type": "code",
   "execution_count": null,
   "id": "c0782081-ee8c-4843-869b-22011dd1c2cf",
   "metadata": {},
   "outputs": [],
   "source": []
  },
  {
   "cell_type": "code",
   "execution_count": null,
   "id": "f6a33afc-bed1-4abe-ac90-a29ea621d702",
   "metadata": {},
   "outputs": [],
   "source": [
    "crosstab.to_dict()"
   ]
  },
  {
   "cell_type": "code",
   "execution_count": null,
   "id": "d743f70b-9a64-4b73-a74f-e65ed0ca8f39",
   "metadata": {},
   "outputs": [],
   "source": [
    "_ = pd.read_csv('./output/transition_matrix.csv', index_col=0)\n",
    "_dict = _.to_dict(orient='index')\n",
    "list(_dict.keys())\n",
    "\n"
   ]
  },
  {
   "cell_type": "code",
   "execution_count": null,
   "id": "07c653ac-cafa-4d63-927a-7a0a01d68b36",
   "metadata": {},
   "outputs": [],
   "source": []
  },
  {
   "cell_type": "code",
   "execution_count": null,
   "id": "3ac75c20-5f49-4365-b4f4-ded191635764",
   "metadata": {},
   "outputs": [],
   "source": [
    "# Data\n",
    "data = [(1,2,3),\n",
    "        (4,5,6),\n",
    "        (7,8,9)];\n",
    "\n",
    "\n",
    "# Create a DataFrame       \n",
    "_ = pd.DataFrame(data, index=(\"R1\", \"R2\", \"R3\"), columns=(\"C1\", \"C2\", \"C3\"));\n",
    "\n",
    "print(\"Contents of the DataFrame:\");\n",
    "print(_);\n",
    "\n",
    " \n",
    "\n",
    "# Convert the DataFrame to Series\n",
    "_dict = _.to_dict(orient='index');\n",
    "\n",
    "print(\"DataFrame as a dictionary:\");\n",
    "print(_dict);\n",
    "\n",
    "pd.DataFrame.from_records(_dict['data'], columns=_dict['columns'])"
   ]
  },
  {
   "cell_type": "code",
   "execution_count": null,
   "id": "65da0aa5-877d-45f6-ab68-bd8f3263db98",
   "metadata": {},
   "outputs": [],
   "source": []
  },
  {
   "cell_type": "code",
   "execution_count": null,
   "id": "11f07a83-516c-4e04-952a-869e660bb872",
   "metadata": {},
   "outputs": [],
   "source": []
  },
  {
   "cell_type": "code",
   "execution_count": null,
   "id": "1bfebb74-d7c8-42eb-bb9e-d1b23c79bd56",
   "metadata": {},
   "outputs": [],
   "source": []
  },
  {
   "cell_type": "code",
   "execution_count": null,
   "id": "7a78cd51-1cb2-4c3c-aeb5-646dcd0d76ae",
   "metadata": {},
   "outputs": [],
   "source": []
  },
  {
   "cell_type": "code",
   "execution_count": null,
   "id": "bdbcf000-7dd5-42d0-8137-50be5c73a035",
   "metadata": {},
   "outputs": [],
   "source": []
  },
  {
   "cell_type": "code",
   "execution_count": null,
   "id": "f189c8c2-1538-424b-bc13-d647d72ef2a7",
   "metadata": {},
   "outputs": [],
   "source": []
  },
  {
   "cell_type": "code",
   "execution_count": null,
   "id": "c7bd89e4-a468-44e9-9055-f9b518dc694d",
   "metadata": {},
   "outputs": [],
   "source": []
  },
  {
   "cell_type": "code",
   "execution_count": null,
   "id": "d7b21315-d385-4225-841d-33f090f9bb94",
   "metadata": {},
   "outputs": [],
   "source": []
  },
  {
   "cell_type": "code",
   "execution_count": null,
   "id": "7db4e328-af7e-4ed1-8ff0-e8478a7ed2a2",
   "metadata": {},
   "outputs": [],
   "source": []
  },
  {
   "cell_type": "code",
   "execution_count": null,
   "id": "27bae58d-e7d1-41c3-b8a2-cea18ceca5db",
   "metadata": {},
   "outputs": [],
   "source": []
  },
  {
   "cell_type": "code",
   "execution_count": null,
   "id": "c68fd273-8ff7-41d4-b074-04ef653a2606",
   "metadata": {},
   "outputs": [],
   "source": []
  },
  {
   "cell_type": "code",
   "execution_count": null,
   "id": "62161cac-730e-4469-9457-97a0e673a410",
   "metadata": {},
   "outputs": [],
   "source": []
  },
  {
   "cell_type": "code",
   "execution_count": null,
   "id": "00ac1447-5639-4b34-a3c0-4006d61a8703",
   "metadata": {},
   "outputs": [],
   "source": []
  },
  {
   "cell_type": "code",
   "execution_count": null,
   "id": "e654d906-3216-4ecf-be9d-bcd2ec68d93e",
   "metadata": {},
   "outputs": [],
   "source": []
  },
  {
   "cell_type": "code",
   "execution_count": null,
   "id": "84b9a82e-5127-4d04-bcd7-74ab12397beb",
   "metadata": {},
   "outputs": [],
   "source": []
  },
  {
   "cell_type": "code",
   "execution_count": null,
   "id": "2340f1b0-f121-45fb-aeab-665ba9d9cad9",
   "metadata": {},
   "outputs": [],
   "source": []
  },
  {
   "cell_type": "code",
   "execution_count": null,
   "id": "e090fac3-6d05-49b8-bf67-12d15d5d3df2",
   "metadata": {},
   "outputs": [],
   "source": []
  },
  {
   "cell_type": "code",
   "execution_count": null,
   "id": "b17c7f2e-2aa6-41fc-9a2d-5b02e93d766f",
   "metadata": {},
   "outputs": [],
   "source": []
  },
  {
   "cell_type": "code",
   "execution_count": null,
   "id": "96a493a5-0ee2-45c1-b402-0c23f70a38bc",
   "metadata": {},
   "outputs": [],
   "source": []
  },
  {
   "cell_type": "code",
   "execution_count": null,
   "id": "899f7e80-baeb-45ed-bfc5-d88afd8dc1e0",
   "metadata": {},
   "outputs": [],
   "source": []
  },
  {
   "cell_type": "code",
   "execution_count": null,
   "id": "d22f65af-8e63-439f-ab62-1ba58a274299",
   "metadata": {},
   "outputs": [],
   "source": []
  },
  {
   "cell_type": "code",
   "execution_count": null,
   "id": "6dd28ae9-b01a-4e27-8f5b-ae53cbbfb1aa",
   "metadata": {},
   "outputs": [],
   "source": []
  },
  {
   "cell_type": "code",
   "execution_count": null,
   "id": "2c90c776-75a6-43be-a82b-4f344a5aaaf6",
   "metadata": {},
   "outputs": [],
   "source": []
  },
  {
   "cell_type": "code",
   "execution_count": null,
   "id": "ad396b9e-2eda-41b0-a134-bcf1ae42eb5e",
   "metadata": {},
   "outputs": [],
   "source": []
  },
  {
   "cell_type": "code",
   "execution_count": null,
   "id": "d88e7936-786f-4281-abe3-842db5e35fc9",
   "metadata": {},
   "outputs": [],
   "source": [
    "# # def load_file(day):\n",
    "# #     path = './project/data/'\n",
    "\n",
    "# #     df = pd.read_csv(os.path.join(path, day + '.csv'), sep=';', parse_dates=['timestamp'])\n",
    "    \n",
    "# #     # individual dataframes with new column added to represent the day\n",
    "# # #     df['day'] = day\n",
    "\n",
    "# #     return df\n",
    "\n",
    "# # # dfs appended into one big df\n",
    "# # total = load_file('monday').append(load_file('tuesday').append(load_file('wednesday').append(load_file('thursday').append(load_file('friday')))))\n",
    "\n",
    "# # # new df with non-datetime index\n",
    "# # time_ = total.reset_index()\n",
    "\n",
    "# # new df with column timestamp representing differences in first and last timestamp in the grouped table, ie. time spent in shop in minutes\n",
    "# # this is the time spent in the shop for each customer:\n",
    "\n",
    "# g = df.reset_index().groupby(['customer_no'])[['timestamp']]\n",
    "# time_in_market = g.last() - g.first()\n",
    "# time_in_market"
   ]
  },
  {
   "cell_type": "code",
   "execution_count": null,
   "id": "96e8eb86-52f3-4015-8f5a-8fb32f4583c5",
   "metadata": {},
   "outputs": [],
   "source": [
    "# new df with column timestamp representing differences in first and last timestamp in the grouped table, ie. time spent in shop in minutes\n",
    "# # this is the time spent in the shop for each customer:\n",
    "\n",
    "g = df.reset_index().groupby(['customer_no'])[['timestamp']]\n",
    "time_in_market = g.last() - g.first()\n",
    "\n",
    "# dummy column added :\n",
    "time_in_market['counter'] = 1\n",
    "\n",
    "# count number of customers at every second (count the frequencies of the times spent in the shop):\n",
    "time_in_market.groupby('timestamp').count().head()"
   ]
  },
  {
   "cell_type": "code",
   "execution_count": null,
   "id": "900c1540-a747-4139-8b42-4f51496698c3",
   "metadata": {},
   "outputs": [],
   "source": [
    "# Plot frequency distribution:\n",
    "# time_in_market.groupby('timestamp').count().plot()\n",
    "_ = time_in_market.groupby('timestamp').count().reset_index()\n",
    "_['minutes'] = _['timestamp'].dt.total_seconds() / 60\n",
    "px.line(_, x=\"minutes\", y=\"counter\").show()"
   ]
  },
  {
   "cell_type": "code",
   "execution_count": null,
   "id": "963ba52d-fdc5-4d6f-b197-e71e24083995",
   "metadata": {},
   "outputs": [],
   "source": []
  },
  {
   "cell_type": "code",
   "execution_count": null,
   "id": "bc69ce05-450a-4294-b111-6fb3f2710f68",
   "metadata": {},
   "outputs": [],
   "source": []
  },
  {
   "cell_type": "code",
   "execution_count": null,
   "id": "9887fb67-3371-425c-8adc-6921688f843d",
   "metadata": {},
   "outputs": [],
   "source": []
  },
  {
   "cell_type": "code",
   "execution_count": null,
   "id": "03d08294-9ed6-42e7-8cb1-e067ff9287b1",
   "metadata": {},
   "outputs": [],
   "source": []
  },
  {
   "cell_type": "code",
   "execution_count": null,
   "id": "bf1684b9-4288-421a-964a-08a383187567",
   "metadata": {},
   "outputs": [],
   "source": []
  },
  {
   "cell_type": "code",
   "execution_count": null,
   "id": "da2b5be2-f137-4c69-820e-27a43e6657e7",
   "metadata": {},
   "outputs": [],
   "source": []
  },
  {
   "cell_type": "code",
   "execution_count": null,
   "id": "dba7e5ac-c222-4090-a302-7b38ab4bd411",
   "metadata": {},
   "outputs": [],
   "source": []
  },
  {
   "cell_type": "code",
   "execution_count": null,
   "id": "d83f1485-9caa-4072-a865-2c4535264b1d",
   "metadata": {},
   "outputs": [],
   "source": []
  },
  {
   "cell_type": "code",
   "execution_count": null,
   "id": "c1ea0960-fedc-48b9-af2c-0c6dc2a845c6",
   "metadata": {},
   "outputs": [],
   "source": []
  },
  {
   "cell_type": "code",
   "execution_count": null,
   "id": "039af4f8-1746-441c-9d89-709c2dfb9af3",
   "metadata": {},
   "outputs": [],
   "source": []
  },
  {
   "cell_type": "code",
   "execution_count": null,
   "id": "afe30852-68a8-4905-80a8-297d86fc7de6",
   "metadata": {},
   "outputs": [],
   "source": [
    "import numpy as np\n",
    "\n",
    "mylist = [[1, 2, 3], [4, 5, 6], [7, 8, 9], [10, 11, 12]]\n",
    "\n",
    "def my_function(list_of_lists):\n",
    "    inc = lambda i:i+1\n",
    "    \n",
    "\n",
    "    for _list in list_of_lists:\n",
    "        yield list(map(inc, _list))\n",
    "    \n",
    "    return []\n",
    "\n",
    "# my_function(mylist) should return [[2, 3, 4], [5, 6, 7], [8, 9, 10], [11, 12, 13]]\n",
    "\n",
    "# #You can time it by using the ipython magic function %timeit\n",
    "# %timeit my_function(mylist)\n",
    "list(my_function(mylist))"
   ]
  },
  {
   "cell_type": "code",
   "execution_count": null,
   "id": "9d8a610e-4d29-485e-b6dd-b267599f0bd5",
   "metadata": {},
   "outputs": [],
   "source": []
  },
  {
   "cell_type": "code",
   "execution_count": null,
   "id": "ac3fe3b8-d73b-46f1-be3c-d6decf7c1e68",
   "metadata": {},
   "outputs": [],
   "source": []
  }
 ],
 "metadata": {
  "kernelspec": {
   "display_name": "Python 3 (ipykernel)",
   "language": "python",
   "name": "python3"
  },
  "language_info": {
   "codemirror_mode": {
    "name": "ipython",
    "version": 3
   },
   "file_extension": ".py",
   "mimetype": "text/x-python",
   "name": "python",
   "nbconvert_exporter": "python",
   "pygments_lexer": "ipython3",
   "version": "3.8.8"
  }
 },
 "nbformat": 4,
 "nbformat_minor": 5
}
