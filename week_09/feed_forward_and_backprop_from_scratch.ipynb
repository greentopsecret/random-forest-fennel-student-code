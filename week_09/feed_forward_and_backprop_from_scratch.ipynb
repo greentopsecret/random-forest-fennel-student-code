{
 "cells": [
  {
   "cell_type": "markdown",
   "metadata": {},
   "source": [
    "# Feed-forward and backprop from scratch"
   ]
  },
  {
   "cell_type": "markdown",
   "metadata": {},
   "source": [
    "### Take-home messages"
   ]
  },
  {
   "cell_type": "markdown",
   "metadata": {},
   "source": [
    "* You can think of feed-forward NN as many interconnected logistic regressions.\n",
    "* Shapes are important! If something isn't working, check that shapes makes sense.\n",
    "* Weight matrix for the layer l has the shape ($N_{l-1}+1, N_l$).\n",
    "* Log loss is a good loss function.\n",
    "* Backprop is gradient descent on steroids.\n",
    "* Two-neuron hidden layer has linear decision boundary."
   ]
  },
  {
   "cell_type": "markdown",
   "metadata": {},
   "source": [
    "### Feed-forward"
   ]
  },
  {
   "cell_type": "markdown",
   "metadata": {},
   "source": [
    "<div>\n",
    "<img src=\"feedforward.png\" width=\"500\"/>\n",
    "</div>"
   ]
  },
  {
   "cell_type": "code",
   "execution_count": 1,
   "metadata": {},
   "outputs": [],
   "source": [
    "# !pip install sklearn"
   ]
  },
  {
   "cell_type": "code",
   "execution_count": 2,
   "metadata": {},
   "outputs": [],
   "source": [
    "import matplotlib.pyplot as plt\n",
    "import numpy as np"
   ]
  },
  {
   "cell_type": "markdown",
   "metadata": {},
   "source": [
    "#### Step 1: Create training data"
   ]
  },
  {
   "cell_type": "code",
   "execution_count": 3,
   "metadata": {},
   "outputs": [],
   "source": [
    "from sklearn.datasets import make_moons"
   ]
  },
  {
   "cell_type": "code",
   "execution_count": 4,
   "metadata": {},
   "outputs": [],
   "source": [
    "X, y = make_moons(n_samples=50, noise=0.15, random_state=42)"
   ]
  },
  {
   "cell_type": "markdown",
   "metadata": {},
   "source": [
    "#### Step 2: Take a look at the data"
   ]
  },
  {
   "cell_type": "code",
   "execution_count": 5,
   "metadata": {},
   "outputs": [
    {
     "data": {
      "text/plain": [
       "<matplotlib.collections.PathCollection at 0x7f8263f34eb0>"
      ]
     },
     "execution_count": 5,
     "metadata": {},
     "output_type": "execute_result"
    },
    {
     "data": {
      "image/png": "[encoded data removed]",
      "text/plain": [
       "<Figure size 432x288 with 1 Axes>"
      ]
     },
     "metadata": {
      "needs_background": "light"
     },
     "output_type": "display_data"
    }
   ],
   "source": [
    "plt.scatter(X[:,0], X[:,1], c=y)"
   ]
  },
  {
   "cell_type": "markdown",
   "metadata": {},
   "source": [
    "#### Step 3: Add a bias (parameter b) column to X"
   ]
  },
  {
   "cell_type": "code",
   "execution_count": 6,
   "metadata": {},
   "outputs": [
    {
     "data": {
      "text/plain": [
       "50"
      ]
     },
     "execution_count": 6,
     "metadata": {},
     "output_type": "execute_result"
    }
   ],
   "source": [
    "X.shape[0]"
   ]
  },
  {
   "cell_type": "code",
   "execution_count": 7,
   "metadata": {},
   "outputs": [],
   "source": [
    "def add_bias(X):\n",
    "    return np.hstack([X, np.ones((X.shape[0], 1))])"
   ]
  },
  {
   "cell_type": "code",
   "execution_count": 8,
   "metadata": {},
   "outputs": [],
   "source": [
    "X = add_bias(X)"
   ]
  },
  {
   "cell_type": "markdown",
   "metadata": {},
   "source": [
    "#### Step 4: calculate the sigmoid activation function"
   ]
  },
  {
   "cell_type": "markdown",
   "metadata": {},
   "source": [
    "$$ \\sigma(x) = \\frac{1}{1+e^{-x}} $$"
   ]
  },
  {
   "cell_type": "code",
   "execution_count": 9,
   "metadata": {},
   "outputs": [],
   "source": [
    "def sigmoid(x):\n",
    "    return 1/(1+np.exp(-x))"
   ]
  },
  {
   "cell_type": "code",
   "execution_count": 10,
   "metadata": {},
   "outputs": [],
   "source": [
    "a = np.array([-10.0, -1.0, 0.0, 1.0, 10.0])\n",
    "expected = np.array([0.0, 0.27, 0.5, 0.73, 1.0])\n",
    "assert np.all(sigmoid(a).round(2) == expected)"
   ]
  },
  {
   "cell_type": "markdown",
   "metadata": {},
   "source": [
    "#### Step 5: Initialize the weights"
   ]
  },
  {
   "cell_type": "code",
   "execution_count": 11,
   "metadata": {},
   "outputs": [],
   "source": [
    "n_neurons = 2"
   ]
  },
  {
   "cell_type": "code",
   "execution_count": 12,
   "metadata": {},
   "outputs": [],
   "source": [
    "w = []\n",
    "w.append(np.random.randn(X.shape[1], n_neurons)) # between innput and hidden\n",
    "w.append(np.random.randn(n_neurons+1, 1)) # between hidden and output"
   ]
  },
  {
   "cell_type": "code",
   "execution_count": 13,
   "metadata": {},
   "outputs": [
    {
     "data": {
      "text/plain": [
       "[array([[-1.0705992 , -0.15272083],\n",
       "        [ 1.28510852, -1.05293078],\n",
       "        [-1.20730911, -0.66100005]]),\n",
       " array([[ 1.09944049],\n",
       "        [ 0.56071046],\n",
       "        [-1.86262014]])]"
      ]
     },
     "execution_count": 13,
     "metadata": {},
     "output_type": "execute_result"
    }
   ],
   "source": [
    "w"
   ]
  },
  {
   "cell_type": "markdown",
   "metadata": {},
   "source": [
    "#### Step 6: Put it all together"
   ]
  },
  {
   "cell_type": "code",
   "execution_count": 14,
   "metadata": {},
   "outputs": [],
   "source": [
    "def feed_forward(X, weights):\n",
    "\n",
    "    \"\"\"\n",
    "    1. Multiply the input matrix X (shape of (50, 3))\n",
    "       with the weights of the first layer (shape of (3, 2)),\n",
    "       resulting in the matrix of the shape (50, 2)\n",
    "    \"\"\"\n",
    "    step1 = np.dot(X, weights[0]) \n",
    "\n",
    "    \"\"\"    \n",
    "    2. Apply the sigmoid function on the result,\n",
    "       preserving the shape (50, 2) \n",
    "    \"\"\"\n",
    "    step2 = sigmoid(step1)\n",
    "    \n",
    "    \"\"\"    \n",
    "    3. Append an extra column of ones to the result (i.e. the bias),\n",
    "       resulting in the shape (50, 3)\n",
    "    \"\"\"\n",
    "    step3 = add_bias(step2)\n",
    "\n",
    "    \"\"\"    \n",
    "    4. Multiply the output of the previous step (shape of (50, 3))\n",
    "       with the weights of the second (i.e. outer) layer (shape of (3, 1)),\n",
    "       resulting in the shape (50, 1)\n",
    "    \"\"\"\n",
    "    step4 = np.dot(step3, weights[1])\n",
    "    \n",
    "    \"\"\"    \n",
    "    5. Apply the sigmoid function on the result, shape remains (50, 1)\n",
    "    \"\"\"\n",
    "    step5 = sigmoid(step4)\n",
    "    \n",
    "    \"\"\"    \n",
    "    6. Return all intermediate results (i.e. anything that\n",
    "       an activation function outputs).\n",
    "    \"\"\"\n",
    "\n",
    "    return step2, step5"
   ]
  },
  {
   "cell_type": "code",
   "execution_count": 15,
   "metadata": {},
   "outputs": [],
   "source": [
    "out1, out2 = feed_forward(X, w)\n",
    "assert out1.shape == (50, 2)\n",
    "assert out2.shape == (50, 1)\n",
    "\n",
    "Xref = np.array([[1.0, 2.0, 1.0]])\n",
    "whidden = np.array([[1.0, 2.0, 0.0],\n",
    "                 [-1.0, -2.0, 0.0]\n",
    "                    ]).T\n",
    "wout = np.array([[1.0, -1.0, 0.5]]).T\n",
    "\n",
    "out1, out2 = feed_forward(Xref, [whidden, wout])\n",
    "assert np.all(out1.round(2) == np.array([[0.99, 0.01]]))\n",
    "assert np.all(out2.round(2) == np.array([[0.82]]))"
   ]
  },
  {
   "cell_type": "markdown",
   "metadata": {},
   "source": [
    "### Backpropagation"
   ]
  },
  {
   "cell_type": "markdown",
   "metadata": {},
   "source": [
    "Brief gradient descent recap:\n",
    "* To find the optimal model we need:\n",
    "    * A measure of how well our model is doing — _loss function_\n",
    "    * A way to get from a bad model to a good model — _optimization algorithm_\n",
    "* In linear regression:\n",
    "    * Loss function is _MSE_\n",
    "    * Optimization algorithm is _gradient descent_\n",
    "* Here:\n",
    "    * Loss function is _log loss_\n",
    "    * Optimization algorithm is (basically) gradient (stochastic gradient descent / batch gradient descent)\n",
    "* Gradient descent:\n",
    "    $$ w_{new} = w_{old} - \\alpha \\nabla L(w) $$"
   ]
  },
  {
   "cell_type": "markdown",
   "metadata": {},
   "source": [
    "<div>\n",
    "<img src=\"neuron_w_backprop.png\" width=\"500\"/>\n",
    "</div>"
   ]
  },
  {
   "cell_type": "markdown",
   "metadata": {},
   "source": [
    "**Let's talk about loss function!**"
   ]
  },
  {
   "cell_type": "markdown",
   "metadata": {},
   "source": [
    "* Here we'll use log loss as a loss function:\n",
    "$$ loss = -(y_{true} log(y_{pred}) + (1-y_{true}) log(1-y_{pred})) $$"
   ]
  },
  {
   "cell_type": "markdown",
   "metadata": {},
   "source": [
    "#### Step 1: Run feed-forward and make sure it works"
   ]
  },
  {
   "cell_type": "markdown",
   "metadata": {},
   "source": [
    "Check!"
   ]
  },
  {
   "cell_type": "markdown",
   "metadata": {},
   "source": [
    "#### Step 2: Write a Loss Function"
   ]
  },
  {
   "cell_type": "markdown",
   "metadata": {},
   "source": [
    "##### 2a: Log-loss"
   ]
  },
  {
   "cell_type": "markdown",
   "metadata": {},
   "source": [
    "$$ loss = -(y_{true} log(y_{pred}) + (1-y_{true}) log(1-y_{pred})) $$"
   ]
  },
  {
   "cell_type": "code",
   "execution_count": 16,
   "metadata": {},
   "outputs": [],
   "source": [
    "def log_loss(ytrue, ypred):\n",
    "    loss = -(ytrue*np.log(ypred)+(1-ytrue)*np.log(1-ypred)) \n",
    "    return loss"
   ]
  },
  {
   "cell_type": "code",
   "execution_count": 17,
   "metadata": {},
   "outputs": [],
   "source": [
    "ytrue = np.array([0.0, 0.0, 1.0, 1.0])\n",
    "ypred = np.array([0.01, 0.99, 0.01, 0.99])\n",
    "expected = np.array([0.01, 4.61, 4.61, 0.01])\n",
    "assert np.all(log_loss(ytrue, ypred).round(2) == expected)"
   ]
  },
  {
   "cell_type": "markdown",
   "metadata": {},
   "source": [
    "##### 2b: Log-loss derivative"
   ]
  },
  {
   "cell_type": "markdown",
   "metadata": {},
   "source": [
    "$$ loss' = -(\\frac{y_{true}}{y_{pred}}-\\frac{1-y_{true}}{1-y_{pred}}) $$"
   ]
  },
  {
   "cell_type": "code",
   "execution_count": 18,
   "metadata": {},
   "outputs": [],
   "source": [
    "def log_loss_deriv(ytrue, ypred):\n",
    "    loss_deriv = -(ytrue/ypred - (1-ytrue)/(1-ypred))\n",
    "    return loss_deriv"
   ]
  },
  {
   "cell_type": "code",
   "execution_count": 19,
   "metadata": {},
   "outputs": [],
   "source": [
    "a = np.array([0.5, 0.3, 0.99, 0.2])\n",
    "b = np.array([0.4, 0.2, 0.10, 0.3])\n",
    "expected = np.array([-0.42, -0.62, -9.89, 0.48])\n",
    "assert np.all(log_loss_deriv(a, b).round(2) == expected)"
   ]
  },
  {
   "cell_type": "markdown",
   "metadata": {},
   "source": [
    "##### Extra — 2c: Sigmoid derivative"
   ]
  },
  {
   "cell_type": "markdown",
   "metadata": {},
   "source": [
    "$$ \\sigma' = \\sigma (1-\\sigma) $$"
   ]
  },
  {
   "cell_type": "code",
   "execution_count": 20,
   "metadata": {},
   "outputs": [],
   "source": [
    "def sigmoid_deriv(x):\n",
    "    return sigmoid(x)*(1-sigmoid(x))"
   ]
  },
  {
   "cell_type": "markdown",
   "metadata": {},
   "source": [
    "#### Step 3: Calculate initial loss"
   ]
  },
  {
   "cell_type": "code",
   "execution_count": 21,
   "metadata": {},
   "outputs": [],
   "source": [
    "out1, out2 = feed_forward(X, w)\n",
    "ytrue = y.reshape(-1, 1)"
   ]
  },
  {
   "cell_type": "code",
   "execution_count": 22,
   "metadata": {},
   "outputs": [],
   "source": [
    "loss = log_loss(ytrue, out2)"
   ]
  },
  {
   "cell_type": "code",
   "execution_count": 23,
   "metadata": {},
   "outputs": [
    {
     "name": "stdout",
     "output_type": "stream",
     "text": [
      "[0.2380125] [0] [0.27182513]\n",
      "[0.1722752] [1] [1.7586621]\n",
      "[0.18543585] [1] [1.68504626]\n",
      "[0.15937737] [1] [1.83648046]\n",
      "[0.26122281] [0] [0.3027589]\n",
      "[0.15660052] [1] [1.85405715]\n",
      "[0.19608603] [1] [1.62920179]\n",
      "[0.21894307] [1] [1.51894355]\n",
      "[0.1806694] [1] [1.71108645]\n",
      "[0.23770348] [0] [0.27141967]\n",
      "[0.22605756] [0] [0.25625778]\n",
      "[0.17591014] [0] [0.1934757]\n",
      "[0.16736817] [1] [1.78755925]\n",
      "[0.20121718] [0] [0.22466619]\n",
      "[0.17487102] [0] [0.19221557]\n",
      "[0.19056105] [0] [0.21141393]\n",
      "[0.16742599] [1] [1.78721385]\n",
      "[0.15617792] [1] [1.85675941]\n",
      "[0.15608228] [1] [1.85737195]\n",
      "[0.25427536] [0] [0.29339886]\n",
      "[0.19115838] [0] [0.21215216]\n",
      "[0.25591848] [0] [0.29560469]\n",
      "[0.22945234] [0] [0.26065377]\n",
      "[0.1765889] [1] [1.73393085]\n",
      "[0.18259362] [1] [1.70049228]\n",
      "[0.17177568] [0] [0.18847124]\n",
      "[0.16279249] [1] [1.81527895]\n",
      "[0.19763442] [1] [1.62133633]\n",
      "[0.1742043] [1] [1.74752652]\n",
      "[0.18594676] [0] [0.20572952]\n",
      "[0.19253402] [1] [1.6474824]\n",
      "[0.2162996] [0] [0.24372848]\n",
      "[0.17250863] [1] [1.75730802]\n",
      "[0.17149515] [0] [0.18813259]\n",
      "[0.26520055] [0] [0.30815767]\n",
      "[0.16799938] [0] [0.1839221]\n",
      "[0.16431591] [1] [1.8059644]\n",
      "[0.17460251] [1] [1.74524324]\n",
      "[0.2322424] [0] [0.26428121]\n",
      "[0.17021818] [1] [1.77067425]\n",
      "[0.24769168] [0] [0.28460904]\n",
      "[0.26624516] [0] [0.30958031]\n",
      "[0.25782277] [0] [0.29816721]\n",
      "[0.15587834] [1] [1.85867943]\n",
      "[0.26023002] [0] [0.30141599]\n",
      "[0.19328302] [0] [0.21478238]\n",
      "[0.1615195] [1] [1.8231294]\n",
      "[0.24592852] [0] [0.28226811]\n",
      "[0.18528662] [1] [1.68585138]\n",
      "[0.16787855] [1] [1.78451447]\n"
     ]
    },
    {
     "data": {
      "text/plain": [
       "[None,\n",
       " None,\n",
       " None,\n",
       " None,\n",
       " None,\n",
       " None,\n",
       " None,\n",
       " None,\n",
       " None,\n",
       " None,\n",
       " None,\n",
       " None,\n",
       " None,\n",
       " None,\n",
       " None,\n",
       " None,\n",
       " None,\n",
       " None,\n",
       " None,\n",
       " None,\n",
       " None,\n",
       " None,\n",
       " None,\n",
       " None,\n",
       " None,\n",
       " None,\n",
       " None,\n",
       " None,\n",
       " None,\n",
       " None,\n",
       " None,\n",
       " None,\n",
       " None,\n",
       " None,\n",
       " None,\n",
       " None,\n",
       " None,\n",
       " None,\n",
       " None,\n",
       " None,\n",
       " None,\n",
       " None,\n",
       " None,\n",
       " None,\n",
       " None,\n",
       " None,\n",
       " None,\n",
       " None,\n",
       " None,\n",
       " None]"
      ]
     },
     "execution_count": 23,
     "metadata": {},
     "output_type": "execute_result"
    }
   ],
   "source": [
    "[print(a, b, c) for (a, b, c) in zip(out2, ytrue, loss)]"
   ]
  },
  {
   "cell_type": "markdown",
   "metadata": {},
   "source": [
    "#### Step 4: Write a backpropagation function"
   ]
  },
  {
   "cell_type": "markdown",
   "metadata": {},
   "source": [
    "Fill in the blanks of the following function, which transcribes the equations from earlier (equations A - E) to run one iteration of the backpropagation algorithm. It takes in a handful of arguments:\n",
    "* the initial weights,\n",
    "* the outputs from the feed-forward process (i.e. both the hidden output and the final output),\n",
    "* the true labels,\n",
    "* the input data,\n",
    "* and the learning rates (we’ll have a separate learning rate for each layer of the network).\n",
    "\n",
    "The function (representing a single iteration of the backpropagation algorithm), should return the modified hidden weights and the modified outer weights."
   ]
  },
  {
   "cell_type": "code",
   "execution_count": 24,
   "metadata": {},
   "outputs": [],
   "source": [
    "def backprop(weights,\n",
    "             output1,\n",
    "             output2,\n",
    "             ytrue,\n",
    "             X_input,\n",
    "             LR):\n",
    "\n",
    "    wH = weights[0]\n",
    "    wO = weights[1]\n",
    "\n",
    "    '''EQUATION A:'''\n",
    "    error = log_loss_deriv(___ , ___)\n",
    "\n",
    "    '''EQUATION B:'''\n",
    "    # don't forget the bias!\n",
    "    hidden_out_with_bias = add_bias(___)\n",
    "    # derivative of the sigmoid function with respect to the\n",
    "    # hidden output * weights\n",
    "    sig_deriv_1 = sigmoid_deriv( ___ )\n",
    "\n",
    "    y_grad = sig_deriv_1 * error\n",
    "\n",
    "    '''EQUATION C:'''\n",
    "    delta_wo = -np.dot( ___.T, hidden_out_with_bias ) * LR\n",
    "\n",
    "    #and finally, old weights + delta weights -> new weights!\n",
    "    wO_new = wO + ___.T\n",
    "\n",
    "    '''EQUATION D:'''\n",
    "    sig_deriv_2 = sigmoid_deriv( ___ )\n",
    "    #exclude the bias (last column) of the outer weights,\n",
    "    #since it is not backpropagated!\n",
    "    H_grad = ___  * np.dot(y_grad , ___[:-1].T)\n",
    "\n",
    "    '''EQUATION E:'''\n",
    "    delta_wH = -np.___(H_grad.T, ___ ) * ___\n",
    "    #old weights + delta weights -> new weights!\n",
    "    wH_new = wH + ___.T\n",
    "\n",
    "    # new hidden weights, new output weights\n",
    "    return ___, ___"
   ]
  },
  {
   "cell_type": "code",
   "execution_count": 25,
   "metadata": {},
   "outputs": [],
   "source": [
    "def backprop(weights,\n",
    "             output1,\n",
    "             output2,\n",
    "             ytrue,\n",
    "             X_input,\n",
    "             LR):\n",
    "\n",
    "    wH = weights[0]\n",
    "    wO = weights[1]\n",
    "\n",
    "    '''EQUATION A:'''\n",
    "    error = log_loss_deriv(ytrue, output2)\n",
    "    \n",
    "    '''EQUATION B:'''\n",
    "    #don't forget the bias!\n",
    "    hidden_out_with_bias = add_bias(output1)\n",
    "    #derivative of the sigmoid function with respect to the\n",
    "    #hidden output * weights\n",
    "    sig_deriv_1 = sigmoid_deriv(hidden_out_with_bias.dot(wO))\n",
    "    y_grad = sig_deriv_1 * error\n",
    "\n",
    "    '''EQUATION C:'''\n",
    "    delta_wO = -np.dot(y_grad.T, hidden_out_with_bias) * LR\n",
    "\n",
    "    #and finally, old weights + delta weights -> new weights!\n",
    "    wO_new = wO + delta_wO.T\n",
    "\n",
    "    '''EQUATION D:'''\n",
    "    sig_deriv_2 = sigmoid_deriv(X_input.dot(wH))\n",
    "    #exclude the bias (last column) of the outer weights,\n",
    "    #since it is not backpropagated!\n",
    "    H_grad = sig_deriv_2 * np.dot(y_grad , wO[:-1].T)\n",
    "    \n",
    "    '''EQUATION E:'''\n",
    "    delta_wH = -np.dot(H_grad.T, X_input) * LR\n",
    "    #old weights + delta weights -> new weights!\n",
    "    wH_new = wH + delta_wH.T\n",
    "    \n",
    "    # new hidden weights, new output weights\n",
    "    return wH_new, wO_new"
   ]
  },
  {
   "cell_type": "markdown",
   "metadata": {},
   "source": [
    "#### Step 5: Run the Backpropagation Algorithm"
   ]
  },
  {
   "cell_type": "markdown",
   "metadata": {},
   "source": [
    "Run your backpropagation algorithm in a loop! Inside the loop:\n",
    "* Run your feed-forward function with the X data and the starting weights (which are initially random!).\n",
    "* Collect the total sum of the log-loss values into a list, so we can track them over time.\n",
    "* Run your backprop function to get the modified weights.\n",
    "* At the end of the loop, make your modified weights the new weights for the next cycle."
   ]
  },
  {
   "cell_type": "code",
   "execution_count": 26,
   "metadata": {},
   "outputs": [
    {
     "ename": "AttributeError",
     "evalue": "'int' object has no attribute 'sum'",
     "output_type": "error",
     "traceback": [
      "\u001b[0;31m---------------------------------------------------------------------------\u001b[0m",
      "\u001b[0;31mAttributeError\u001b[0m                            Traceback (most recent call last)",
      "\u001b[0;32m/var/folders/mb/xqr44lqn1nv2_cy87gj4m2100000gn/T/ipykernel_35435/3763745368.py\u001b[0m in \u001b[0;36m<module>\u001b[0;34m\u001b[0m\n\u001b[1;32m     13\u001b[0m \u001b[0;32mfor\u001b[0m \u001b[0mi\u001b[0m \u001b[0;32min\u001b[0m \u001b[0mrange\u001b[0m\u001b[0;34m(\u001b[0m\u001b[0;36m1000\u001b[0m\u001b[0;34m)\u001b[0m\u001b[0;34m:\u001b[0m\u001b[0;34m\u001b[0m\u001b[0;34m\u001b[0m\u001b[0m\n\u001b[1;32m     14\u001b[0m     \u001b[0mout1\u001b[0m\u001b[0;34m,\u001b[0m \u001b[0mout2\u001b[0m \u001b[0;34m=\u001b[0m \u001b[0mfeed_forward\u001b[0m\u001b[0;34m(\u001b[0m\u001b[0mX\u001b[0m\u001b[0;34m,\u001b[0m \u001b[0mweights\u001b[0m\u001b[0;34m)\u001b[0m\u001b[0;34m\u001b[0m\u001b[0;34m\u001b[0m\u001b[0m\n\u001b[0;32m---> 15\u001b[0;31m     \u001b[0mLOSS_VEC\u001b[0m\u001b[0;34m.\u001b[0m\u001b[0mappend\u001b[0m\u001b[0;34m(\u001b[0m\u001b[0m___\u001b[0m\u001b[0;34m.\u001b[0m\u001b[0msum\u001b[0m\u001b[0;34m(\u001b[0m\u001b[0;34m)\u001b[0m\u001b[0;34m)\u001b[0m\u001b[0;34m\u001b[0m\u001b[0;34m\u001b[0m\u001b[0m\n\u001b[0m\u001b[1;32m     16\u001b[0m     \u001b[0mnew_weights\u001b[0m \u001b[0;34m=\u001b[0m \u001b[0mbackprop\u001b[0m\u001b[0;34m(\u001b[0m\u001b[0m___\u001b[0m\u001b[0;34m,\u001b[0m \u001b[0m___\u001b[0m\u001b[0;34m,\u001b[0m \u001b[0m___\u001b[0m\u001b[0;34m,\u001b[0m \u001b[0m___\u001b[0m\u001b[0;34m,\u001b[0m \u001b[0m___\u001b[0m\u001b[0;34m,\u001b[0m \u001b[0m___\u001b[0m\u001b[0;34m)\u001b[0m\u001b[0;34m\u001b[0m\u001b[0;34m\u001b[0m\u001b[0m\n\u001b[1;32m     17\u001b[0m     \u001b[0mweights\u001b[0m \u001b[0;34m=\u001b[0m \u001b[0m___\u001b[0m\u001b[0;34m\u001b[0m\u001b[0;34m\u001b[0m\u001b[0m\n",
      "\u001b[0;31mAttributeError\u001b[0m: 'int' object has no attribute 'sum'"
     ]
    }
   ],
   "source": [
    "# setup\n",
    "X, y = make_moons(n_samples=200, noise=0.1, random_state=42)\n",
    "X = add_bias(X)\n",
    "y = y.reshape(-1, 1)\n",
    "weights = [\n",
    "   np.random.normal(size=(3, 2)),\n",
    "   np.random.normal(size=(3, 1))\n",
    "]\n",
    "\n",
    "# train\n",
    "LOSS_VEC = []\n",
    "\n",
    "for i in range(1000):\n",
    "    out1, out2 = feed_forward(X, weights)\n",
    "    LOSS_VEC.append(___.sum())\n",
    "    new_weights = backprop(___, ___, ___, ___, ___, ___)\n",
    "    weights = ___"
   ]
  },
  {
   "cell_type": "code",
   "execution_count": 27,
   "metadata": {},
   "outputs": [],
   "source": [
    "# - increase the number of neurons to see how the performance of your NN changes\n",
    "# - change the value for learning rate in backprop to see how your model performance changes\n",
    "\n",
    "LR = 0.01\n",
    "n_neurons = 5\n",
    "X, y = make_moons(n_samples=200, noise=0.2, random_state=42)\n",
    "X = add_bias(X)\n",
    "y = y.reshape(-1, 1)\n",
    "weights = [\n",
    "   np.random.randn(3, n_neurons),\n",
    "   np.random.randn(n_neurons+1, 1)\n",
    "]\n",
    "\n",
    "# train\n",
    "LOSS_VEC = []\n",
    "\n",
    "for i in range(1000):\n",
    "    out1, out2 = feed_forward(X, weights)\n",
    "    LOSS_VEC.append(log_loss(y, out2).sum())\n",
    "    new_weights = backprop(weights, out1, out2, y, X, LR)\n",
    "    weights = new_weights"
   ]
  },
  {
   "cell_type": "markdown",
   "metadata": {},
   "source": [
    "#### Step 6: Plot results"
   ]
  },
  {
   "cell_type": "markdown",
   "metadata": {},
   "source": [
    "##### 6a: Plot loss function"
   ]
  },
  {
   "cell_type": "code",
   "execution_count": 28,
   "metadata": {},
   "outputs": [
    {
     "data": {
      "text/plain": [
       "[<matplotlib.lines.Line2D at 0x7f826419a9d0>]"
      ]
     },
     "execution_count": 28,
     "metadata": {},
     "output_type": "execute_result"
    },
    {
     "data": {
      "image/png": "[encoded data removed]",
      "text/plain": [
       "<Figure size 432x288 with 1 Axes>"
      ]
     },
     "metadata": {
      "needs_background": "light"
     },
     "output_type": "display_data"
    }
   ],
   "source": [
    "plt.plot(LOSS_VEC)"
   ]
  },
  {
   "cell_type": "markdown",
   "metadata": {},
   "source": [
    "##### 6b: Plot decision boundary"
   ]
  },
  {
   "cell_type": "code",
   "execution_count": 29,
   "metadata": {},
   "outputs": [],
   "source": [
    "# create a grid of values\n",
    "x = np.linspace(-3, 3, 200)\n",
    "X_vis = np.array([(x1, x2) for x1 in x for x2 in x])\n",
    "# add the bias column\n",
    "X_vis = add_bias(X_vis)\n",
    "\n",
    "# calculate the (random) predictions\n",
    "_, y_pred = feed_forward(X_vis, weights)"
   ]
  },
  {
   "cell_type": "code",
   "execution_count": 30,
   "metadata": {},
   "outputs": [],
   "source": [
    "# reshape the predictions for visualization\n",
    "Z = y_pred.reshape((len(x), len(x)), order='F')"
   ]
  },
  {
   "cell_type": "code",
   "execution_count": 31,
   "metadata": {},
   "outputs": [
    {
     "data": {
      "text/plain": [
       "<matplotlib.collections.PathCollection at 0x7f8263eef670>"
      ]
     },
     "execution_count": 31,
     "metadata": {},
     "output_type": "execute_result"
    },
    {
     "data": {
      "image/png": "[encoded data removed]",
      "text/plain": [
       "<Figure size 432x288 with 2 Axes>"
      ]
     },
     "metadata": {
      "needs_background": "light"
     },
     "output_type": "display_data"
    }
   ],
   "source": [
    "# draw a contour plot\n",
    "fig,ax=plt.subplots(1,1)\n",
    "cp = ax.contourf(x, x, Z, alpha=0.8, cmap='coolwarm')\n",
    "ax.contour(x, x, Z, levels=[0.5])\n",
    "fig.colorbar(cp) # Add a colorbar to a plot\n",
    "\n",
    "# draw the original data\n",
    "X, y = make_moons(n_samples=200, noise=0.1, random_state=42)\n",
    "ax.scatter(X[:,0], X[:,1], c=y, cmap='coolwarm')"
   ]
  },
  {
   "cell_type": "code",
   "execution_count": null,
   "metadata": {},
   "outputs": [],
   "source": []
  }
 ],
 "metadata": {
  "kernelspec": {
   "display_name": "Python 3 (ipykernel)",
   "language": "python",
   "name": "python3"
  },
  "language_info": {
   "codemirror_mode": {
    "name": "ipython",
    "version": 3
   },
   "file_extension": ".py",
   "mimetype": "text/x-python",
   "name": "python",
   "nbconvert_exporter": "python",
   "pygments_lexer": "ipython3",
   "version": "3.8.8"
  }
 },
 "nbformat": 4,
 "nbformat_minor": 4
}
