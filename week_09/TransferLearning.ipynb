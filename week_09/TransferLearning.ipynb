{
 "cells": [
  {
   "cell_type": "markdown",
   "metadata": {
    "colab_type": "text",
    "id": "S4obUluXRUAP"
   },
   "source": [
    "## Photo Transfer Learning"
   ]
  },
  {
   "cell_type": "code",
   "execution_count": 2,
   "metadata": {
    "colab": {
     "base_uri": "https://localhost:8080/",
     "height": 83
    },
    "colab_type": "code",
    "id": "g0YXLsMK_bXn",
    "outputId": "c5669e78-0b14-4c65-c96c-9b5e7f7ed772"
   },
   "outputs": [],
   "source": [
    "import pandas as pd\n",
    "import numpy as np\n",
    "from PIL import Image\n",
    "import tensorflow as tf\n",
    "from matplotlib import pyplot as plt\n",
    "from tensorflow.keras import backend as K\n",
    "from tensorflow.keras.models import Sequential\n",
    "from tensorflow.keras.layers import Flatten, Dense, Dropout, Conv2D, BatchNormalization, MaxPool2D"
   ]
  },
  {
   "cell_type": "markdown",
   "metadata": {},
   "source": [
    "#### Read annotation of photographs"
   ]
  },
  {
   "cell_type": "code",
   "execution_count": 2,
   "metadata": {},
   "outputs": [
    {
     "data": {
      "text/plain": [
       "(598, 2)"
      ]
     },
     "execution_count": 2,
     "metadata": {},
     "output_type": "execute_result"
    }
   ],
   "source": [
    "df = pd.read_csv('photos.csv')\n",
    "df.shape"
   ]
  },
  {
   "cell_type": "code",
   "execution_count": 4,
   "metadata": {},
   "outputs": [
    {
     "data": {
      "text/html": [
       "<div>\n",
       "<style scoped>\n",
       "    .dataframe tbody tr th:only-of-type {\n",
       "        vertical-align: middle;\n",
       "    }\n",
       "\n",
       "    .dataframe tbody tr th {\n",
       "        vertical-align: top;\n",
       "    }\n",
       "\n",
       "    .dataframe thead th {\n",
       "        text-align: right;\n",
       "    }\n",
       "</style>\n",
       "<table border=\"1\" class=\"dataframe\">\n",
       "  <thead>\n",
       "    <tr style=\"text-align: right;\">\n",
       "      <th></th>\n",
       "      <th>file</th>\n",
       "      <th>score</th>\n",
       "    </tr>\n",
       "  </thead>\n",
       "  <tbody>\n",
       "    <tr>\n",
       "      <th>0</th>\n",
       "      <td>./Arbeit/Genesilico/trainings/project_manageme...</td>\n",
       "      <td>2</td>\n",
       "    </tr>\n",
       "    <tr>\n",
       "      <th>1</th>\n",
       "      <td>./Urlaub/2008_Canarife/CIMG1815.JPG</td>\n",
       "      <td>4</td>\n",
       "    </tr>\n",
       "    <tr>\n",
       "      <th>2</th>\n",
       "      <td>./Urlaub/2017_08_Gdynia/20170805_115159.jpg</td>\n",
       "      <td>5</td>\n",
       "    </tr>\n",
       "  </tbody>\n",
       "</table>\n",
       "</div>"
      ],
      "text/plain": [
       "                                                file  score\n",
       "0  ./Arbeit/Genesilico/trainings/project_manageme...      2\n",
       "1                ./Urlaub/2008_Canarife/CIMG1815.JPG      4\n",
       "2        ./Urlaub/2017_08_Gdynia/20170805_115159.jpg      5"
      ]
     },
     "execution_count": 4,
     "metadata": {},
     "output_type": "execute_result"
    }
   ],
   "source": [
    "df.head(3)"
   ]
  },
  {
   "cell_type": "markdown",
   "metadata": {},
   "source": [
    "#### Helper functions for image preprocessing"
   ]
  },
  {
   "cell_type": "code",
   "execution_count": 5,
   "metadata": {},
   "outputs": [],
   "source": [
    "def anzeigen(fotos, labels=None):\n",
    "    plt.figure(figsize=(15,12))\n",
    "    for i in range(3):\n",
    "        ax = plt.subplot(1, 3, i + 1)\n",
    "        plt.imshow(fotos[i])\n",
    "        if labels is not None:\n",
    "            plt.title(labels[i])\n",
    "        plt.axis(\"off\")"
   ]
  },
  {
   "cell_type": "code",
   "execution_count": 6,
   "metadata": {},
   "outputs": [],
   "source": [
    "def image_to_array(fn):\n",
    "    \"\"\"Load image and convert it to (224,224,3)\"\"\"\n",
    "    im = Image.open(fn).convert('RGB')\n",
    "    if im.size[0] > im.size[1]: # breiter als hoch\n",
    "        target = (224, int(im.size[1] * 224 / im.size[0]))\n",
    "    else:\n",
    "        target = (int(im.size[0] * 224 / im.size[1]), 224)\n",
    "    im = im.resize(target)\n",
    "    a = np.zeros((224, 224, 3), np.uint8) + 127\n",
    "    xs, ys = im.size\n",
    "    x = (224 - xs) // 2\n",
    "    y = (224 - ys) // 2\n",
    "    a[y:y+ys, x:x+xs] = np.array(im)\n",
    "    return a"
   ]
  },
  {
   "cell_type": "code",
   "execution_count": 7,
   "metadata": {},
   "outputs": [],
   "source": [
    "def bilder_laden(df):\n",
    "    images = []\n",
    "    for i, row in df.iterrows():\n",
    "        a = image_to_array(row['file'])\n",
    "        images.append(a)\n",
    "    return images"
   ]
  },
  {
   "cell_type": "code",
   "execution_count": null,
   "metadata": {},
   "outputs": [],
   "source": [
    "gute = df[df['score'] >= 7].sample(3)\n",
    "anzeigen(bilder_laden(gute))"
   ]
  },
  {
   "cell_type": "code",
   "execution_count": null,
   "metadata": {},
   "outputs": [],
   "source": [
    "schlechte = df[df['score'] <= 2].sample(3)\n",
    "anzeigen(bilder_laden(schlechte))"
   ]
  },
  {
   "cell_type": "markdown",
   "metadata": {},
   "source": [
    "## Run pretrained model"
   ]
  },
  {
   "cell_type": "code",
   "execution_count": 10,
   "metadata": {},
   "outputs": [],
   "source": [
    "from tensorflow.keras.preprocessing import image\n",
    "from tensorflow.keras.applications.mobilenet import preprocess_input\n",
    "from tensorflow.keras.applications import MobileNet\n",
    "from tensorflow.keras.applications.mobilenet import decode_predictions\n",
    "from pprint import pprint"
   ]
  },
  {
   "cell_type": "code",
   "execution_count": 11,
   "metadata": {},
   "outputs": [
    {
     "data": {
      "text/plain": [
       "(598, 224, 224, 3)"
      ]
     },
     "execution_count": 11,
     "metadata": {},
     "output_type": "execute_result"
    }
   ],
   "source": [
    "X = np.array(bilder_laden(df))\n",
    "X = X / 255.0\n",
    "X.shape"
   ]
  },
  {
   "cell_type": "code",
   "execution_count": 12,
   "metadata": {},
   "outputs": [],
   "source": [
    "m = MobileNet(input_shape=(224, 224, 3))\n",
    "m.compile(optimizer='rmsprop', loss='categorical_crossentropy',\n",
    "           metrics=['accuracy'])\n",
    "p = m.predict(X)"
   ]
  },
  {
   "cell_type": "code",
   "execution_count": 13,
   "metadata": {},
   "outputs": [
    {
     "data": {
      "text/plain": [
       "(598, 1000)"
      ]
     },
     "execution_count": 13,
     "metadata": {},
     "output_type": "execute_result"
    }
   ],
   "source": [
    "p.shape"
   ]
  },
  {
   "cell_type": "code",
   "execution_count": 14,
   "metadata": {},
   "outputs": [],
   "source": [
    "def get_labels(ypred):\n",
    "    labels, probs = [], []\n",
    "    for row in decode_predictions(ypred, 1):\n",
    "        _, label, prob = row[0]\n",
    "        labels.append(label)\n",
    "        probs.append(prob)\n",
    "    return labels, probs"
   ]
  },
  {
   "cell_type": "code",
   "execution_count": 15,
   "metadata": {},
   "outputs": [],
   "source": [
    "df['label'], df['prob'] = get_labels(p)\n",
    "df['data'] = list(X)\n",
    "df['caption'] = df['label'] + ' : ' + df['prob'].round(2).astype(str)"
   ]
  },
  {
   "cell_type": "markdown",
   "metadata": {},
   "source": [
    "#### Look at some annotations from the 1000 classes"
   ]
  },
  {
   "cell_type": "code",
   "execution_count": 16,
   "metadata": {},
   "outputs": [],
   "source": [
    "best = df.sort_values(by='prob', ascending=False)\n",
    "best = best[best['score'] > 4]"
   ]
  },
  {
   "cell_type": "code",
   "execution_count": null,
   "metadata": {},
   "outputs": [],
   "source": [
    "show = best.iloc[:50].sample(3)\n",
    "anzeigen(show['data'].values, show['caption'].values)"
   ]
  },
  {
   "cell_type": "markdown",
   "metadata": {},
   "source": [
    "## Vector Transform"
   ]
  },
  {
   "cell_type": "code",
   "execution_count": 30,
   "metadata": {},
   "outputs": [],
   "source": [
    "base_model = MobileNet(\n",
    "    include_top=False, # remove the top dense layers\n",
    "    input_shape=(224,224,3),\n",
    "    pooling='avg' # average pooling transforms 4d tensor to 2d feature matrix\n",
    ")"
   ]
  },
  {
   "cell_type": "code",
   "execution_count": 31,
   "metadata": {
    "colab": {},
    "colab_type": "code",
    "id": "sw6xxktG2Ior"
   },
   "outputs": [],
   "source": [
    "Xfeatures = base_model.predict(X)"
   ]
  },
  {
   "cell_type": "code",
   "execution_count": 32,
   "metadata": {
    "colab": {},
    "colab_type": "code",
    "id": "LQJop9Yq0iF_"
   },
   "outputs": [
    {
     "data": {
      "text/plain": [
       "(598, 1024)"
      ]
     },
     "execution_count": 32,
     "metadata": {},
     "output_type": "execute_result"
    }
   ],
   "source": [
    "Xfeatures.shape # hidden output of some layer in MobileNet (the last CNN or the last pooling)"
   ]
  },
  {
   "cell_type": "code",
   "execution_count": null,
   "metadata": {},
   "outputs": [],
   "source": []
  },
  {
   "cell_type": "markdown",
   "metadata": {},
   "source": [
    "## Ridge\n",
    "*use the hidden output as input for a second model*"
   ]
  },
  {
   "cell_type": "code",
   "execution_count": 34,
   "metadata": {},
   "outputs": [],
   "source": [
    "from sklearn.linear_model import Ridge\n",
    "from sklearn.model_selection import train_test_split, cross_val_score"
   ]
  },
  {
   "cell_type": "code",
   "execution_count": 35,
   "metadata": {},
   "outputs": [],
   "source": [
    "y = df['score']"
   ]
  },
  {
   "cell_type": "code",
   "execution_count": 36,
   "metadata": {},
   "outputs": [
    {
     "data": {
      "text/plain": [
       "array([0.56055973, 0.64293249, 0.6409235 , 0.60428243, 0.68649899])"
      ]
     },
     "execution_count": 36,
     "metadata": {},
     "output_type": "execute_result"
    }
   ],
   "source": [
    "m = Ridge(alpha=700.0)\n",
    "cross_val_score(m, Xfeatures, y, cv=5)  # R^2"
   ]
  },
  {
   "cell_type": "code",
   "execution_count": 37,
   "metadata": {},
   "outputs": [
    {
     "data": {
      "text/plain": [
       "Ridge(alpha=700.0)"
      ]
     },
     "execution_count": 37,
     "metadata": {},
     "output_type": "execute_result"
    }
   ],
   "source": [
    "m.fit(Xfeatures, y)"
   ]
  },
  {
   "cell_type": "markdown",
   "metadata": {},
   "source": [
    "## Prediction on all images (14000+)"
   ]
  },
  {
   "cell_type": "code",
   "execution_count": 38,
   "metadata": {},
   "outputs": [],
   "source": [
    "import os\n",
    "import random\n",
    "\n",
    "def is_image(fn):\n",
    "    if fn[-3:].lower() in ['png', 'jpg', 'gif']:\n",
    "        return True\n",
    "\n",
    "def get_random_image():\n",
    "    for path, _, files in os.walk('.'):\n",
    "        for fn in files:\n",
    "            if not is_image(fn): continue\n",
    "            # sample\n",
    "            if random.randint(1, 1000) > 1:\n",
    "                continue\n",
    "            a = image_to_array(os.path.join(path, fn))\n",
    "            return a"
   ]
  },
  {
   "cell_type": "code",
   "execution_count": 39,
   "metadata": {},
   "outputs": [
    {
     "data": {
      "image/png": "[encoded data removed]",
      "text/plain": [
       "<PIL.Image.Image image mode=RGB size=224x224 at 0x7F8C54554370>"
      ]
     },
     "execution_count": 39,
     "metadata": {},
     "output_type": "execute_result"
    }
   ],
   "source": [
    "a = get_random_image()\n",
    "Image.fromarray(a)"
   ]
  },
  {
   "cell_type": "code",
   "execution_count": 40,
   "metadata": {},
   "outputs": [
    {
     "data": {
      "text/plain": [
       "5.505242"
      ]
     },
     "execution_count": 40,
     "metadata": {},
     "output_type": "execute_result"
    }
   ],
   "source": [
    "a = a / 255.0\n",
    "a = a.reshape(1, 224, 224, 3)\n",
    "\n",
    "Xpred = base_model.predict(a) # CNN -> ,1024\n",
    "m.predict(Xpred)[0]           # Ridge"
   ]
  },
  {
   "cell_type": "markdown",
   "metadata": {},
   "source": [
    "## Find 3 good Photos"
   ]
  },
  {
   "cell_type": "code",
   "execution_count": null,
   "metadata": {},
   "outputs": [],
   "source": [
    "result = []\n",
    "while len(result) < 3:\n",
    "    im = get_random_image()\n",
    "    a = im / 255.0\n",
    "    a = a.reshape(1, 224, 224, 3)\n",
    "\n",
    "    Xpred = base_model.predict(a)\n",
    "    if m.predict(Xpred)[0] > 7.0: #<2.0:#\n",
    "        result.append(im)\n",
    "        \n",
    "anzeigen(result)"
   ]
  },
  {
   "cell_type": "markdown",
   "metadata": {},
   "source": [
    "### Find 3 bad photos"
   ]
  },
  {
   "cell_type": "code",
   "execution_count": null,
   "metadata": {},
   "outputs": [],
   "source": [
    "result = []\n",
    "while len(result) < 3:\n",
    "    im = get_random_image()\n",
    "    a = im / 255.0\n",
    "    a = a.reshape(1, 224, 224, 3)\n",
    "\n",
    "    Xpred = base_model.predict(a)\n",
    "    if m.predict(Xpred)[0] < 5.0: #<2.0:#\n",
    "        result.append(im)\n",
    "        \n",
    "anzeigen(result)"
   ]
  },
  {
   "cell_type": "code",
   "execution_count": null,
   "metadata": {},
   "outputs": [],
   "source": []
  },
  {
   "cell_type": "code",
   "execution_count": null,
   "metadata": {},
   "outputs": [],
   "source": []
  }
 ],
 "metadata": {
  "colab": {
   "collapsed_sections": [],
   "name": "Keras.ipynb",
   "provenance": []
  },
  "kernelspec": {
   "display_name": "Python 3",
   "language": "python",
   "name": "python3"
  },
  "language_info": {
   "codemirror_mode": {
    "name": "ipython",
    "version": 3
   },
   "file_extension": ".py",
   "mimetype": "text/x-python",
   "name": "python",
   "nbconvert_exporter": "python",
   "pygments_lexer": "ipython3",
   "version": "3.8.10"
  }
 },
 "nbformat": 4,
 "nbformat_minor": 1
}
