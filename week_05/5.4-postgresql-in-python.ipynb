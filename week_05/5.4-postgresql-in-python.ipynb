{
 "cells": [
  {
   "cell_type": "code",
   "execution_count": null,
   "id": "dbaf82f9",
   "metadata": {},
   "outputs": [],
   "source": [
    "# # # !pip install sqlalchemy\n",
    "# # # !pip install psycopg2-binary\n",
    "# # # !pip install Flask-SQLAlchemy\n",
    "# # # !pip3 install sqlalchemy\n",
    "# # # !pip3 install psycopg2-binary\n",
    "# # # !pip3 install Flask-SQLAlchemy\n",
    "\n",
    "# !conda install -y sqlalchemy\n",
    "# !conda install -y psycopg2-binary\n",
    "\n",
    "# !conda install -y sqlalchemy\n",
    "# !conda install -y psycopg2-binary\n",
    "# !conda install -y Flask-SQLAlchemy\n",
    "\n",
    "# !pip install python-dotenv\n",
    "\n",
    "import os"
   ]
  },
  {
   "cell_type": "code",
   "execution_count": null,
   "id": "2b1f8bc0-deef-493e-9c71-69b66196e8dd",
   "metadata": {},
   "outputs": [],
   "source": [
    "from dotenv import load_dotenv\n",
    "load_dotenv()"
   ]
  },
  {
   "cell_type": "code",
   "execution_count": null,
   "id": "97e44dad",
   "metadata": {},
   "outputs": [],
   "source": [
    "host = 'localhost'\n",
    "port = 5432\n",
    "database = 'northwind'\n",
    "user = os.getenv('POSTGRES_USER')\n",
    "password = os.getenv('POSTGRES_PASSWORD') # set in .env file\n",
    "password = 'changeme'\n",
    "uri = f'postgresql://{user}:{password}@{host}:{port}/{database}'"
   ]
  },
  {
   "cell_type": "code",
   "execution_count": null,
   "id": "0a5d830a",
   "metadata": {},
   "outputs": [],
   "source": [
    "from sqlalchemy import create_engine\n",
    "\n",
    "engine = create_engine(uri, echo=False)"
   ]
  },
  {
   "cell_type": "code",
   "execution_count": null,
   "id": "b466f6a5-8271-49d8-bcc8-bd7451e9809b",
   "metadata": {},
   "outputs": [],
   "source": [
    "import pandas as pd\n",
    "\n",
    "query = 'SELECT c.\"categoryID\", c.\"categoryName\", c.\"description\" FROM categories AS c;'\n",
    "\n",
    "df = pd.read_sql(query, engine)\n",
    "df.head()"
   ]
  },
  {
   "cell_type": "code",
   "execution_count": null,
   "id": "dbcb4c9e-1579-488e-a3b3-bf63807cff60",
   "metadata": {},
   "outputs": [],
   "source": [
    "from sqlalchemy import Table\n",
    "from sqlalchemy import inspect\n",
    "from sqlalchemy import MetaData\n",
    "\n",
    "def drop_table_if_exists(table_name):\n",
    "    if inspect(engine).has_table(table_name):\n",
    "        logging.info(f'Deleting {table_name} table')\n",
    "        table = Table(table_name, metadata, autoload_with=engine)\n",
    "        table.drop()\n",
    "    \n",
    "drop_table_if_exists('all_penguins_clean')"
   ]
  },
  {
   "cell_type": "code",
   "execution_count": null,
   "id": "683b18f4-988d-4123-bc4b-d950e4acbf69",
   "metadata": {},
   "outputs": [],
   "source": [
    "ratings = pd.read_csv('../data/all_penguins_clean.csv')\n",
    "ratings.to_sql('all_penguins_clean', engine, method='multi', chunksize=1000)"
   ]
  },
  {
   "cell_type": "code",
   "execution_count": null,
   "id": "5274e504-715e-4b51-bee1-9e4f3274bedd",
   "metadata": {},
   "outputs": [],
   "source": []
  }
 ],
 "metadata": {
  "kernelspec": {
   "display_name": "Python 3 (ipykernel)",
   "language": "python",
   "name": "python3"
  },
  "language_info": {
   "codemirror_mode": {
    "name": "ipython",
    "version": 3
   },
   "file_extension": ".py",
   "mimetype": "text/x-python",
   "name": "python",
   "nbconvert_exporter": "python",
   "pygments_lexer": "ipython3",
   "version": "3.9.7"
  }
 },
 "nbformat": 4,
 "nbformat_minor": 5
}
