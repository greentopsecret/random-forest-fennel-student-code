{
 "cells": [
  {
   "cell_type": "code",
   "execution_count": null,
   "id": "dbaf82f9",
   "metadata": {},
   "outputs": [],
   "source": [
    "# # # !pip install sqlalchemy\n",
    "# # # !pip install psycopg2-binary\n",
    "# # # !pip install Flask-SQLAlchemy\n",
    "# # # !pip3 install sqlalchemy\n",
    "# # # !pip3 install psycopg2-binary\n",
    "# # # !pip3 install Flask-SQLAlchemy\n",
    "\n",
    "# !conda install -y sqlalchemy\n",
    "# !conda install -y psycopg2-binary\n",
    "\n",
    "# !conda install -y sqlalchemy\n",
    "# !conda install -y psycopg2-binary\n",
    "# !conda install -y Flask-SQLAlchemy\n",
    "\n",
    "# !pip install python-dotenv"
   ]
  },
  {
   "cell_type": "code",
   "execution_count": null,
   "id": "2b1f8bc0-deef-493e-9c71-69b66196e8dd",
   "metadata": {},
   "outputs": [],
   "source": [
    "import os\n",
    "from dotenv import load_dotenv\n",
    "load_dotenv()"
   ]
  },
  {
   "cell_type": "code",
   "execution_count": null,
   "id": "d76e77a2-bc0f-4a79-acb7-870a51c7904d",
   "metadata": {},
   "outputs": [],
   "source": [
    "os.getenv('PATH')"
   ]
  },
  {
   "cell_type": "code",
   "execution_count": null,
   "id": "6280410e-8fcd-4278-818f-a24171614f8e",
   "metadata": {},
   "outputs": [],
   "source": [
    "os.getenv('POSTGRES_USER')"
   ]
  },
  {
   "cell_type": "code",
   "execution_count": null,
   "id": "97e44dad",
   "metadata": {},
   "outputs": [],
   "source": [
    "host = 'database-1.ctshzzzgs2pl.eu-central-1.rds.amazonaws.com' # 'localhost'\n",
    "port = 5432\n",
    "database = 'country_vaccinations' # 'northwind'\n",
    "# user = 'postgres' # os.getenv('POSTGRES_USER')\n",
    "# password = 'random-forest-fennel' # os.getenv('POSTGRES_PASSWORD') # set in .env file\n",
    "user = os.getenv('POSTGRES_USER')\n",
    "password = os.getenv('POSTGRES_PASSWORD') # set in .env file\n",
    "# password = 'changeme'\n",
    "uri = f'postgresql://{user}:{password}@{host}:{port}/{database}'\n",
    "uri"
   ]
  },
  {
   "cell_type": "code",
   "execution_count": null,
   "id": "878aa87a-49d7-46af-8377-d99853ea1e58",
   "metadata": {},
   "outputs": [],
   "source": [
    "from sqlalchemy import create_engine\n",
    "\n",
    "engine = create_engine(uri, echo=False)"
   ]
  },
  {
   "cell_type": "code",
   "execution_count": null,
   "id": "dbcb4c9e-1579-488e-a3b3-bf63807cff60",
   "metadata": {},
   "outputs": [],
   "source": [
    "from sqlalchemy import Table\n",
    "from sqlalchemy import inspect\n",
    "from sqlalchemy import MetaData\n",
    "\n",
    "def drop_table_if_exists(table_name):\n",
    "    if inspect(engine).has_table(table_name):\n",
    "        table = Table(table_name, MetaData(engine), autoload_with=engine)\n",
    "        table.drop()"
   ]
  },
  {
   "cell_type": "code",
   "execution_count": null,
   "id": "9bf11cc3-a0e4-4bad-a935-ada7dadc5217",
   "metadata": {},
   "outputs": [],
   "source": [
    "import pandas as pd\n",
    "\n",
    "# reload tables from csv files\n",
    "data_dir= './var/data/country_vaccinations/'\n",
    "files = os.listdir(data_dir)\n",
    "for file in files:\n",
    "    full_path = data_dir + file\n",
    "    table_name = file.split('.')[0]\n",
    "    ext = file.split('.')[1]\n",
    "    if ext == 'csv':\n",
    "        print('from %s file -> to \"%s\" table' % (full_path, table_name))\n",
    "        drop_table_if_exists(table_name)\n",
    "        df = pd.read_csv(full_path, index_col=0)\n",
    "        df.to_sql(table_name, engine)"
   ]
  },
  {
   "cell_type": "markdown",
   "id": "694fe115-71c7-4abe-b938-fea9919c8a3f",
   "metadata": {},
   "source": [
    "## 5. Analyze The Northwind Dataset"
   ]
  },
  {
   "cell_type": "code",
   "execution_count": null,
   "id": "c957bc96-79da-4c69-9ecb-819f0f4673c7",
   "metadata": {},
   "outputs": [],
   "source": [
    "# Get the names and the quantities in stock for each product.\n",
    "query = 'SELECT p.\"productName\", p.\"unitsInStock\" FROM products AS p;'\n",
    "df = pd.read_sql(query, engine)\n",
    "df.head()"
   ]
  },
  {
   "cell_type": "code",
   "execution_count": null,
   "id": "df27ebf3-007a-4330-92da-1e07ada2bdeb",
   "metadata": {},
   "outputs": [],
   "source": [
    "# Get a list of current products (Product ID and name).\n",
    "query = 'SELECT p.\"productID\", p.\"productName\" FROM products AS p;'\n",
    "df = pd.read_sql(query, engine)\n",
    "df.head()"
   ]
  },
  {
   "cell_type": "code",
   "execution_count": null,
   "id": "ea66b99a-4be8-48cc-8b01-643634ba04a2",
   "metadata": {},
   "outputs": [],
   "source": [
    "# Get a list of the most and least expensive products (name and unit price).\n",
    "limit = 3\n",
    "products_max = pd.read_sql(\n",
    "    ('SELECT p.\"productName\", p.\"unitPrice\" FROM products AS p ORDER BY p.\"unitPrice\" DESC LIMIT %d;' % limit), engine)\n",
    "products_min = pd.read_sql(\n",
    "    ('SELECT p.\"productName\", p.\"unitPrice\" FROM products AS p ORDER BY p.\"unitPrice\" ASC LIMIT %d;' % limit), engine)\n",
    "df = pd.concat([products_max, products_min], ignore_index=True)\n",
    "df\n",
    "\n"
   ]
  },
  {
   "cell_type": "code",
   "execution_count": null,
   "id": "4a322cfb-5a4c-44d9-b802-07e1b78f6f0b",
   "metadata": {},
   "outputs": [],
   "source": [
    "# Get products that cost less than $20.\n",
    "products = pd.read_sql(\n",
    "    ('SELECT p.\"productName\", p.\"unitPrice\" FROM products AS p WHERE p.\"unitPrice\" > %d ORDER BY p.\"unitPrice\" ASC;' % 20), engine)\n",
    "products.head()"
   ]
  },
  {
   "cell_type": "code",
   "execution_count": null,
   "id": "844ab64a-6ba1-45b6-8fb0-f6197492bb4e",
   "metadata": {},
   "outputs": [],
   "source": [
    "# Get products that cost between $15 and $25.\n",
    "products = pd.read_sql(\n",
    "    ('SELECT p.\"productName\", p.\"unitPrice\" FROM products AS p WHERE p.\"unitPrice\" BETWEEN %d AND %d ORDER BY p.\"unitPrice\" ASC;' % (15, 25)), engine)\n",
    "products.head()"
   ]
  },
  {
   "cell_type": "code",
   "execution_count": null,
   "id": "a26fd14f-4816-4d33-b0d3-4b28556943f4",
   "metadata": {},
   "outputs": [],
   "source": [
    "# Get products above average price.\n",
    "avg_price = pd.read_sql(('SELECT AVG(p.\"unitPrice\") AS avg_price FROM products AS p'), engine).loc[0, 'avg_price']\n",
    "print('avg_price', avg_price)\n",
    "products = pd.read_sql(\n",
    "    ('SELECT p.\"productName\", p.\"unitPrice\" FROM products AS p WHERE p.\"unitPrice\" > %d ORDER BY p.\"unitPrice\" ASC;' % avg_price), engine)\n",
    "products.head()"
   ]
  },
  {
   "cell_type": "code",
   "execution_count": null,
   "id": "1788dae4-c7aa-4704-bac1-dec3b0c559ad",
   "metadata": {},
   "outputs": [],
   "source": [
    "# Find the ten most expensive products.\n",
    "query = 'SELECT p.* FROM products AS p ORDER BY p.\"unitPrice\" DESC LIMIT 10;'\n",
    "df = pd.read_sql(query, engine)\n",
    "df.head()"
   ]
  },
  {
   "cell_type": "code",
   "execution_count": null,
   "id": "2407f2d4-d9ed-44a7-acd8-4b7a39a6db4d",
   "metadata": {},
   "outputs": [],
   "source": [
    "# Get a list of discontinued products (Product ID and name).\n",
    "query = 'SELECT p.* FROM products AS p WHERE p.\"discontinued\" = 1;'\n",
    "df = pd.read_sql(query, engine)\n",
    "df.head()"
   ]
  },
  {
   "cell_type": "code",
   "execution_count": null,
   "id": "19358879-859a-4ec6-8435-cd503f2ada22",
   "metadata": {},
   "outputs": [],
   "source": [
    "# Count current and discontinued products. ??? @TODO: ask what is \"current product\"\n",
    "query = 'SELECT COUNT(p.\"discontinued\"), p.\"discontinued\" FROM products AS p GROUP BY p.\"discontinued\";'\n",
    "df = pd.read_sql(query, engine)\n",
    "df.head()"
   ]
  },
  {
   "cell_type": "code",
   "execution_count": null,
   "id": "9a5cd9a7-779e-402d-9a4a-c312a976a91c",
   "metadata": {},
   "outputs": [],
   "source": [
    "# Find products with less units in stock than the quantity on order.\n",
    "query = 'SELECT p.\"productID\", p.\"unitsInStock\", p.* FROM products AS p WHERE p.\"unitsInStock\" < p.\"unitsOnOrder\";'\n",
    "df = pd.read_sql(query, engine)\n",
    "df.head()"
   ]
  },
  {
   "cell_type": "code",
   "execution_count": null,
   "id": "9fa78341-1cdb-4a50-ac4c-17c3e1db71a1",
   "metadata": {
    "tags": []
   },
   "outputs": [],
   "source": [
    "# Find the customer who had the highest order amount\n",
    "query = \"\"\"\n",
    "SELECT \n",
    "    c.\"customerID\", \n",
    "    c.\"companyName\", \n",
    "    c.\"contactName\", \n",
    "    c.\"contactTitle\", \n",
    "    o.\"orderID\", \n",
    "    SUM(od.\"unitPrice\") AS \"orderPrice\"\n",
    "FROM orders AS o\n",
    "    INNER JOIN order_details AS od\n",
    "        USING (\"orderID\")\n",
    "    INNER JOIN customers AS c\n",
    "        USING (\"customerID\" )\n",
    "GROUP BY o.\"orderID\", c.\"companyName\", c.\"contactName\", c.\"contactTitle\", c.\"customerID\"\n",
    "ORDER BY \"orderPrice\" DESC\n",
    "LIMIT 1\n",
    ";\n",
    "\"\"\"\n",
    "df = pd.read_sql(query, engine)\n",
    "df.head()"
   ]
  },
  {
   "cell_type": "code",
   "execution_count": null,
   "id": "027dc915-369f-4252-83a1-7f43db152868",
   "metadata": {},
   "outputs": [],
   "source": [
    "# Get orders for a given employee and the according customer\n",
    "query = 'SELECT c.* FROM customers AS c;'\n",
    "df = pd.read_sql(query, engine)\n",
    "df.head()"
   ]
  },
  {
   "cell_type": "code",
   "execution_count": null,
   "id": "fb940e3b-e727-407a-8d1f-c0cc51c9d016",
   "metadata": {},
   "outputs": [],
   "source": [
    "# Find the hiring age of each employee\n",
    "query = 'SELECT c.* FROM customers AS c;'\n",
    "df = pd.read_sql(query, engine)\n",
    "df.head()"
   ]
  },
  {
   "cell_type": "code",
   "execution_count": null,
   "id": "795ffe3d-64ae-41f1-a8bc-34905af63edb",
   "metadata": {},
   "outputs": [],
   "source": [
    "# Create views and/or named queries for some of these queries\n",
    "query = 'SELECT c.* FROM customers AS c;'\n",
    "df = pd.read_sql(query, engine)\n",
    "df.head()"
   ]
  },
  {
   "cell_type": "markdown",
   "id": "39f88366-7a8d-4c45-9850-07bc355232b0",
   "metadata": {},
   "source": [
    "# Large countries - lesson exercises"
   ]
  },
  {
   "cell_type": "code",
   "execution_count": null,
   "id": "b3f60099-273e-4350-bf0e-d6bd29b8ad88",
   "metadata": {},
   "outputs": [],
   "source": [
    "table_name = 'large_countries'\n",
    "\n",
    "drop_table_if_exists(table_name)\n",
    "df = pd.read_csv('./var/data/large_countries_2015.csv', index_col=0)\n",
    "df.to_sql(table_name, engine)"
   ]
  },
  {
   "cell_type": "code",
   "execution_count": null,
   "id": "9cb2d33b-ea5d-4109-aae7-324451b53359",
   "metadata": {},
   "outputs": [],
   "source": []
  }
 ],
 "metadata": {
  "kernelspec": {
   "display_name": "Python 3 (ipykernel)",
   "language": "python",
   "name": "python3"
  },
  "language_info": {
   "codemirror_mode": {
    "name": "ipython",
    "version": 3
   },
   "file_extension": ".py",
   "mimetype": "text/x-python",
   "name": "python",
   "nbconvert_exporter": "python",
   "pygments_lexer": "ipython3",
   "version": "3.9.7"
  }
 },
 "nbformat": 4,
 "nbformat_minor": 5
}
