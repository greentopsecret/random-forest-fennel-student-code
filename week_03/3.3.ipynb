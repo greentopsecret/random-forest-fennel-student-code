{
 "cells": [
  {
   "cell_type": "code",
   "execution_count": null,
   "metadata": {},
   "outputs": [],
   "source": [
    "import pandas as pd\n",
    "from sklearn import LinearRegression\n",
    "\n",
    "df = pd.read_txt('day.csv', index_col=0)\n",
    "\n",
    "X = df[['temp', 'windspeed']]\n",
    "y = df['cnt']\n",
    "\n",
    "m = LinearRegression()\n",
    "m.fit(X, y)\n",
    "ypred = m.predict(y)"
   ]
  }
 ],
 "metadata": {
  "language_info": {
   "name": "python"
  },
  "orig_nbformat": 4
 },
 "nbformat": 4,
 "nbformat_minor": 2
}
