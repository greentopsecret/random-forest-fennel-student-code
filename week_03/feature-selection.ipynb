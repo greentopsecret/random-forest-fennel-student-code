{
 "cells": [
  {
   "cell_type": "code",
   "execution_count": 2,
   "metadata": {},
   "outputs": [
    {
     "name": "stdout",
     "output_type": "stream",
     "text": [
      "                                 OLS Regression Results                                \n",
      "=======================================================================================\n",
      "Dep. Variable:                      y   R-squared (uncentered):                   0.892\n",
      "Model:                            OLS   Adj. R-squared (uncentered):              0.892\n",
      "Method:                 Least Squares   F-statistic:                          2.137e+04\n",
      "Date:                Thu, 14 Oct 2021   Prob (F-statistic):                        0.00\n",
      "Time:                        15:05:14   Log-Likelihood:                         -24087.\n",
      "No. Observations:               20640   AIC:                                  4.819e+04\n",
      "Df Residuals:                   20632   BIC:                                  4.825e+04\n",
      "Df Model:                           8                                                  \n",
      "Covariance Type:            nonrobust                                                  \n",
      "==============================================================================\n",
      "                 coef    std err          t      P>|t|      [0.025      0.975]\n",
      "------------------------------------------------------------------------------\n",
      "MedInc         0.5135      0.004    120.594      0.000       0.505       0.522\n",
      "HouseAge       0.0157      0.000     33.727      0.000       0.015       0.017\n",
      "AveRooms      -0.1825      0.006    -29.673      0.000      -0.195      -0.170\n",
      "AveBedrms      0.8651      0.030     28.927      0.000       0.806       0.924\n",
      "Population  7.792e-06   5.09e-06      1.530      0.126   -2.19e-06    1.78e-05\n",
      "AveOccup      -0.0047      0.001     -8.987      0.000      -0.006      -0.004\n",
      "Latitude      -0.0639      0.004    -17.826      0.000      -0.071      -0.057\n",
      "Longitude     -0.0164      0.001    -14.381      0.000      -0.019      -0.014\n",
      "==============================================================================\n",
      "Omnibus:                     4353.392   Durbin-Watson:                   0.909\n",
      "Prob(Omnibus):                  0.000   Jarque-Bera (JB):            14087.489\n",
      "Skew:                           1.069   Prob(JB):                         0.00\n",
      "Kurtosis:                       6.436   Cond. No.                     1.03e+04\n",
      "==============================================================================\n",
      "\n",
      "Notes:\n",
      "[1] R² is computed without centering (uncentered) since the model does not contain a constant.\n",
      "[2] Standard Errors assume that the covariance matrix of the errors is correctly specified.\n",
      "[3] The condition number is large, 1.03e+04. This might indicate that there are\n",
      "strong multicollinearity or other numerical problems.\n"
     ]
    }
   ],
   "source": [
    "from sklearn.datasets import fetch_california_housing\n",
    "import pandas as pd\n",
    "from statsmodels.api import OLS \n",
    "\n",
    "california = fetch_california_housing()\n",
    "\n",
    "X = pd.DataFrame(california['data'], columns = california['feature_names'])\n",
    "y = pd.Series(california['target'])\n",
    "\n",
    "mod = OLS(y, X)\n",
    "\n",
    "res = mod.fit()\n",
    "\n",
    "print(res.summary())"
   ]
  },
  {
   "cell_type": "code",
   "execution_count": null,
   "metadata": {},
   "outputs": [],
   "source": []
  }
 ],
 "metadata": {
  "interpreter": {
   "hash": "a36b59b37c4637ddb9c5034a0d11c20b9896a7105f0fa82c25b07f146a9279b2"
  },
  "kernelspec": {
   "display_name": "Python 3.7.11 64-bit ('jupyter_docs': conda)",
   "name": "python3"
  },
  "language_info": {
   "codemirror_mode": {
    "name": "ipython",
    "version": 3
   },
   "file_extension": ".py",
   "mimetype": "text/x-python",
   "name": "python",
   "nbconvert_exporter": "python",
   "pygments_lexer": "ipython3",
   "version": "3.7.11"
  },
  "orig_nbformat": 4
 },
 "nbformat": 4,
 "nbformat_minor": 2
}
