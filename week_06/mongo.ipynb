{
 "cells": [
  {
   "cell_type": "code",
   "execution_count": null,
   "id": "bf3c67ca-c4fe-4c47-a2a9-cc23da75ea34",
   "metadata": {},
   "outputs": [],
   "source": [
    "# pip install pymongo"
   ]
  },
  {
   "cell_type": "code",
   "execution_count": null,
   "id": "a669a130-b6fe-4977-99cc-e82894e5ae78",
   "metadata": {},
   "outputs": [],
   "source": [
    "import pymongo\n",
    "from bson.objectid import ObjectId"
   ]
  },
  {
   "cell_type": "code",
   "execution_count": null,
   "id": "1cd725d6-e0dd-43a6-a719-e8407c798510",
   "metadata": {},
   "outputs": [],
   "source": [
    "host = 'localhost'\n",
    "port = 27017\n",
    "username = None\n",
    "password = None\n",
    "dbname = 'immobot-pipeline'\n",
    "collection_name = 'ebay_ads'\n",
    "client = pymongo.MongoClient(host=host, port=port, username=username, password=password)\n",
    "collection = client[dbname].get_collection(collection_name)\n",
    "collection"
   ]
  },
  {
   "cell_type": "code",
   "execution_count": null,
   "id": "6be77fcb-2492-4753-8f1d-74f9cfd4d2a2",
   "metadata": {},
   "outputs": [],
   "source": [
    "collection.find({'internal_id': {'$gt': '1919704805'}})[0]"
   ]
  },
  {
   "cell_type": "code",
   "execution_count": null,
   "id": "fe146eea-9cb3-4753-9e7e-f7e6078aef02",
   "metadata": {},
   "outputs": [],
   "source": [
    "filter = {'_id': {'$gt': ObjectId('61810effc1aac7b3c9ed8d4a')}}\n",
    "ads = collection.find(filter)\n",
    "# ads = collection.find({})"
   ]
  },
  {
   "cell_type": "code",
   "execution_count": null,
   "id": "c0aeda5e-6550-4caf-ae8f-657d7a5b9682",
   "metadata": {},
   "outputs": [],
   "source": [
    "collection.count_documents({'_id': {'$gt': ObjectId('61810effc1aac7b3c9ed8d4a')}})"
   ]
  },
  {
   "cell_type": "code",
   "execution_count": null,
   "id": "05553cfa-1d27-4364-b281-4e967990005a",
   "metadata": {},
   "outputs": [],
   "source": [
    "# import locale\n",
    "import re\n",
    "\n",
    "# locale.setlocale(locale.LC_ALL, 'de_DE')\n",
    "# money = \"$6,150,593.22\"\n",
    "money = \"1.350 €\"\n",
    "# locale.atof(money.strip(\"€\"))\n",
    "\n",
    "re.sub(r'[^\\d]', '', money)"
   ]
  },
  {
   "cell_type": "code",
   "execution_count": null,
   "id": "a4efd8cc-65a5-4258-a70a-c5c5d78d93bb",
   "metadata": {},
   "outputs": [],
   "source": [
    "import pandas as pd\n",
    "import re\n",
    "\n",
    "# ads = collection.find({'_id': {'$gt': ObjectId('61810effc1aac7b3c9ed8d4a')}})\n",
    "\n",
    "ads = []\n",
    "for ad in collection.find(filter):\n",
    "    ad['_id'] = str(ad['_id'])\n",
    "    ad['price_raw'] = ad['price']\n",
    "#     print(ad)\n",
    "    if re.search(r'Zu verschenken', ad['price']):\n",
    "        ad['price_comment'] = 'give away'\n",
    "    elif re.search(r' VB', ad['price']):\n",
    "        ad['price_comment'] = 'negotiation'\n",
    "    else:\n",
    "        ad['price_comment'] = ''\n",
    "    price = re.sub(r'[^\\d]', '', ad['price'])\n",
    "    ad['price'] = int(price) if price else 0\n",
    "    ads.append(ad)\n",
    "\n",
    "pd.DataFrame(ads)"
   ]
  },
  {
   "cell_type": "code",
   "execution_count": null,
   "id": "21645f92-115b-4134-9ee0-5b7a13439c99",
   "metadata": {},
   "outputs": [],
   "source": [
    "host = 'localhost'\n",
    "port = 5432\n",
    "database = 'immobot-pipeline'\n",
    "user = 'week6rff-pipeline-user'\n",
    "password = 'week6rff-pipeline-password'\n",
    "# user = os.getenv('POSTGRES_USER')\n",
    "# password = os.getenv('POSTGRES_PASSWORD') # set in .env file\n",
    "# password = 'changeme'\n",
    "uri = f'postgresql://{user}:{password}@{host}:{port}/{database}'\n",
    "uri"
   ]
  },
  {
   "cell_type": "code",
   "execution_count": null,
   "id": "705b4551-461f-47d9-8e38-c7afb2a5fd46",
   "metadata": {},
   "outputs": [],
   "source": [
    "from sqlalchemy import create_engine\n",
    "\n",
    "engine = create_engine(uri, echo=False)"
   ]
  },
  {
   "cell_type": "code",
   "execution_count": null,
   "id": "ff81764a-cc02-4bdc-9472-0be9c6b96c84",
   "metadata": {},
   "outputs": [],
   "source": [
    "# df.to_sql('ads', engine)"
   ]
  },
  {
   "cell_type": "code",
   "execution_count": null,
   "id": "e9243152-392e-4d23-85fe-919fa3fa4608",
   "metadata": {},
   "outputs": [],
   "source": [
    "query_tmpl = \"INSERT INTO ads (%s) VALUES (%s)\"\n",
    "\n",
    "from sqlalchemy import insert\n",
    "from sqlalchemy import Table\n",
    "from sqlalchemy import MetaData\n",
    "\n",
    "\n",
    "# colors = [cm(1) if c < 0 else cm(0)\n",
    "#               for c in coef[interesting_coefficients]]\n",
    "\n",
    "table = Table('ads', MetaData(engine), autoload_with=engine)\n",
    "\n",
    "for ad in ads:\n",
    "#     values = ','.join(['\\'' + str(v) + '\\'' for v in ad.values()])\n",
    "#     keys = ','.join(['\"' + str(v) + '\"' for v in ad.keys()])\n",
    "    with engine.connect() as conn:\n",
    "#         query = query_tmpl % (keys, values)\n",
    "#         print(query)\n",
    "#         result = conn.execute(query)\n",
    "#         print(result)\n",
    "\n",
    "        stmt = insert(table).values(ad)\n",
    "        result = conn.execute(stmt)\n",
    "        print(result)\n",
    "#         conn.commit()"
   ]
  },
  {
   "cell_type": "code",
   "execution_count": null,
   "id": "69247dc1-091c-49a0-af85-eda4307d1fde",
   "metadata": {},
   "outputs": [],
   "source": []
  }
 ],
 "metadata": {
  "kernelspec": {
   "display_name": "Python 3 (ipykernel)",
   "language": "python",
   "name": "python3"
  },
  "language_info": {
   "codemirror_mode": {
    "name": "ipython",
    "version": 3
   },
   "file_extension": ".py",
   "mimetype": "text/x-python",
   "name": "python",
   "nbconvert_exporter": "python",
   "pygments_lexer": "ipython3",
   "version": "3.9.7"
  }
 },
 "nbformat": 4,
 "nbformat_minor": 5
}
